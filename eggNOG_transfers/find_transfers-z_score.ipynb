{
 "cells": [
  {
   "cell_type": "code",
   "execution_count": 1,
   "metadata": {},
   "outputs": [
    {
     "name": "stdout",
     "output_type": "stream",
     "text": [
      "/work/eggNOG\n"
     ]
    }
   ],
   "source": [
    "import pandas as pd\n",
    "import ete3\n",
    "import re\n",
    "import community\n",
    "import networkx as nx\n",
    "import itertools\n",
    "import numpy as np\n",
    "from sklearn import manifold\n",
    "from scipy.spatial.distance import squareform\n",
    "from matplotlib import pyplot as plt\n",
    "import seaborn as sns\n",
    "from scipy.spatial.distance import pdist\n",
    "import igraph as ig\n",
    "import plotly\n",
    "import chart_studio.plotly as ptl\n",
    "import plotly.graph_objects as go\n",
    "import colorlover as cl\n",
    "from IPython.display import HTML\n",
    "import multiprocessing\n",
    "import pickle as pkl\n",
    "import random\n",
    "from sklearn import mixture\n",
    "\n",
    "ptl.sign_in('lthiberiol', 'm15ikp59lt')\n",
    "ncbi = ete3.NCBITaxa()\n",
    "%cd /work/eggNOG/"
   ]
  },
  {
   "cell_type": "code",
   "execution_count": 2,
   "metadata": {},
   "outputs": [],
   "source": [
    "sampled_genomes = pd.read_csv('/work/kelsey/genomes.tab',\n",
    "                              sep='\\t',\n",
    "                              index_col=0)"
   ]
  },
  {
   "cell_type": "code",
   "execution_count": 3,
   "metadata": {},
   "outputs": [],
   "source": [
    "lineages = pd.DataFrame()\n",
    "for taxid in sampled_genomes.species_taxid.unique():\n",
    "    if pd.isna(taxid):\n",
    "        continue\n",
    "    lineages = lineages.append({tax_rank: tmp_taxid \n",
    "                                 for tmp_taxid, tax_rank in ncbi.get_rank(ncbi.get_lineage(taxid)).items()},\n",
    "                                ignore_index=True)\n",
    "lineages = lineages.reindex(columns=['class', 'family',  'genus', 'phylum',\n",
    "                                     'order', 'species', 'superkingdom']).copy()\n",
    "lineages = lineages.query('superkingdom == 2').copy()"
   ]
  },
  {
   "cell_type": "code",
   "execution_count": 4,
   "metadata": {},
   "outputs": [],
   "source": [
    "eggNOG_sample = pd.read_csv('e5.bacteria.taxid_info.tsv',\n",
    "                            sep='\\t',\n",
    "                            comment='#',\n",
    "                            names=['Taxid', 'Sci.Name', 'Rank', 'Named Lineage', 'Taxid Lineage'],\n",
    "                            header=None,\n",
    "                            index_col=0)"
   ]
  },
  {
   "cell_type": "code",
   "execution_count": null,
   "metadata": {
    "scrolled": true
   },
   "outputs": [
    {
     "name": "stderr",
     "output_type": "stream",
     "text": [
      "/Users/thiberio/anaconda2/envs/py37/lib/python3.7/site-packages/ete3/ncbi_taxonomy/ncbiquery.py:240: UserWarning:\n",
      "\n",
      "taxid 1344012 was translated into 480813\n",
      "\n",
      "/Users/thiberio/anaconda2/envs/py37/lib/python3.7/site-packages/ete3/ncbi_taxonomy/ncbiquery.py:240: UserWarning:\n",
      "\n",
      "taxid 443255 was translated into 1901\n",
      "\n",
      "/Users/thiberio/anaconda2/envs/py37/lib/python3.7/site-packages/ete3/ncbi_taxonomy/ncbiquery.py:240: UserWarning:\n",
      "\n",
      "taxid 1525715 was translated into 1545044\n",
      "\n",
      "/Users/thiberio/anaconda2/envs/py37/lib/python3.7/site-packages/ete3/ncbi_taxonomy/ncbiquery.py:240: UserWarning:\n",
      "\n",
      "taxid 861530 was translated into 29382\n",
      "\n",
      "/Users/thiberio/anaconda2/envs/py37/lib/python3.7/site-packages/ete3/ncbi_taxonomy/ncbiquery.py:240: UserWarning:\n",
      "\n",
      "taxid 1317118 was translated into 1379903\n",
      "\n",
      "/Users/thiberio/anaconda2/envs/py37/lib/python3.7/site-packages/ete3/ncbi_taxonomy/ncbiquery.py:240: UserWarning:\n",
      "\n",
      "taxid 67281 was translated into 67351\n",
      "\n",
      "/Users/thiberio/anaconda2/envs/py37/lib/python3.7/site-packages/ete3/ncbi_taxonomy/ncbiquery.py:240: UserWarning:\n",
      "\n",
      "taxid 1353531 was translated into 1708715\n",
      "\n",
      "/Users/thiberio/anaconda2/envs/py37/lib/python3.7/site-packages/ete3/ncbi_taxonomy/ncbiquery.py:240: UserWarning:\n",
      "\n",
      "taxid 1288963 was translated into 1232681\n",
      "\n",
      "/Users/thiberio/anaconda2/envs/py37/lib/python3.7/site-packages/ete3/ncbi_taxonomy/ncbiquery.py:240: UserWarning:\n",
      "\n",
      "taxid 1345697 was translated into 1921421\n",
      "\n",
      "/Users/thiberio/anaconda2/envs/py37/lib/python3.7/site-packages/ete3/ncbi_taxonomy/ncbiquery.py:240: UserWarning:\n",
      "\n",
      "taxid 1552758 was translated into 1885902\n",
      "\n",
      "/Users/thiberio/anaconda2/envs/py37/lib/python3.7/site-packages/ete3/ncbi_taxonomy/ncbiquery.py:240: UserWarning:\n",
      "\n",
      "taxid 469595 was translated into 1639133\n",
      "\n",
      "/Users/thiberio/anaconda2/envs/py37/lib/python3.7/site-packages/ete3/ncbi_taxonomy/ncbiquery.py:240: UserWarning:\n",
      "\n",
      "taxid 469596 was translated into 100884\n",
      "\n",
      "/Users/thiberio/anaconda2/envs/py37/lib/python3.7/site-packages/ete3/ncbi_taxonomy/ncbiquery.py:240: UserWarning:\n",
      "\n",
      "taxid 1434929 was translated into 1820025\n",
      "\n",
      "/Users/thiberio/anaconda2/envs/py37/lib/python3.7/site-packages/ete3/ncbi_taxonomy/ncbiquery.py:240: UserWarning:\n",
      "\n",
      "taxid 1104325 was translated into 1158600\n",
      "\n",
      "/Users/thiberio/anaconda2/envs/py37/lib/python3.7/site-packages/ete3/ncbi_taxonomy/ncbiquery.py:240: UserWarning:\n",
      "\n",
      "taxid 911239 was translated into 122355\n",
      "\n",
      "/Users/thiberio/anaconda2/envs/py37/lib/python3.7/site-packages/ete3/ncbi_taxonomy/ncbiquery.py:240: UserWarning:\n",
      "\n",
      "taxid 265729 was translated into 246786\n",
      "\n",
      "/Users/thiberio/anaconda2/envs/py37/lib/python3.7/site-packages/ete3/ncbi_taxonomy/ncbiquery.py:240: UserWarning:\n",
      "\n",
      "taxid 1122931 was translated into 1203610\n",
      "\n",
      "/Users/thiberio/anaconda2/envs/py37/lib/python3.7/site-packages/ete3/ncbi_taxonomy/ncbiquery.py:240: UserWarning:\n",
      "\n",
      "taxid 1118055 was translated into 33037\n",
      "\n",
      "/Users/thiberio/anaconda2/envs/py37/lib/python3.7/site-packages/ete3/ncbi_taxonomy/ncbiquery.py:240: UserWarning:\n",
      "\n",
      "taxid 1219084 was translated into 1123384\n",
      "\n",
      "/Users/thiberio/anaconda2/envs/py37/lib/python3.7/site-packages/ete3/ncbi_taxonomy/ncbiquery.py:240: UserWarning:\n",
      "\n",
      "taxid 667632 was translated into 863227\n",
      "\n",
      "/Users/thiberio/anaconda2/envs/py37/lib/python3.7/site-packages/ete3/ncbi_taxonomy/ncbiquery.py:240: UserWarning:\n",
      "\n",
      "taxid 1166016 was translated into 1905730\n",
      "\n",
      "/Users/thiberio/anaconda2/envs/py37/lib/python3.7/site-packages/ete3/ncbi_taxonomy/ncbiquery.py:240: UserWarning:\n",
      "\n",
      "taxid 1408427 was translated into 1094555\n",
      "\n",
      "/Users/thiberio/anaconda2/envs/py37/lib/python3.7/site-packages/ete3/ncbi_taxonomy/ncbiquery.py:240: UserWarning:\n",
      "\n",
      "taxid 520709 was translated into 1530123\n",
      "\n",
      "/Users/thiberio/anaconda2/envs/py37/lib/python3.7/site-packages/ete3/ncbi_taxonomy/ncbiquery.py:240: UserWarning:\n",
      "\n",
      "taxid 1336249 was translated into 1367849\n",
      "\n",
      "/Users/thiberio/anaconda2/envs/py37/lib/python3.7/site-packages/ete3/ncbi_taxonomy/ncbiquery.py:240: UserWarning:\n",
      "\n",
      "taxid 684949 was translated into 317577\n",
      "\n",
      "/Users/thiberio/anaconda2/envs/py37/lib/python3.7/site-packages/ete3/ncbi_taxonomy/ncbiquery.py:240: UserWarning:\n",
      "\n",
      "taxid 1333507 was translated into 1938600\n",
      "\n",
      "/Users/thiberio/anaconda2/envs/py37/lib/python3.7/site-packages/ete3/ncbi_taxonomy/ncbiquery.py:240: UserWarning:\n",
      "\n",
      "taxid 595593 was translated into 656366\n",
      "\n",
      "/Users/thiberio/anaconda2/envs/py37/lib/python3.7/site-packages/ete3/ncbi_taxonomy/ncbiquery.py:240: UserWarning:\n",
      "\n",
      "taxid 796940 was translated into 796937\n",
      "\n",
      "/Users/thiberio/anaconda2/envs/py37/lib/python3.7/site-packages/ete3/ncbi_taxonomy/ncbiquery.py:240: UserWarning:\n",
      "\n",
      "taxid 1267535 was translated into 639034\n",
      "\n",
      "/Users/thiberio/anaconda2/envs/py37/lib/python3.7/site-packages/ete3/ncbi_taxonomy/ncbiquery.py:240: UserWarning:\n",
      "\n",
      "taxid 644968 was translated into 694327\n",
      "\n",
      "/Users/thiberio/anaconda2/envs/py37/lib/python3.7/site-packages/ete3/ncbi_taxonomy/ncbiquery.py:240: UserWarning:\n",
      "\n",
      "taxid 710686 was translated into 212767\n",
      "\n",
      "/Users/thiberio/anaconda2/envs/py37/lib/python3.7/site-packages/ete3/ncbi_taxonomy/ncbiquery.py:240: UserWarning:\n",
      "\n",
      "taxid 97139 was translated into 2044587\n",
      "\n",
      "/Users/thiberio/anaconda2/envs/py37/lib/python3.7/site-packages/ete3/ncbi_taxonomy/ncbiquery.py:240: UserWarning:\n",
      "\n",
      "taxid 1449126 was translated into 1712410\n",
      "\n",
      "/Users/thiberio/anaconda2/envs/py37/lib/python3.7/site-packages/ete3/ncbi_taxonomy/ncbiquery.py:240: UserWarning:\n",
      "\n",
      "taxid 876044 was translated into 2518989\n",
      "\n",
      "/Users/thiberio/anaconda2/envs/py37/lib/python3.7/site-packages/ete3/ncbi_taxonomy/ncbiquery.py:240: UserWarning:\n",
      "\n",
      "taxid 1458427 was translated into 1458425\n",
      "\n",
      "/Users/thiberio/anaconda2/envs/py37/lib/python3.7/site-packages/ete3/ncbi_taxonomy/ncbiquery.py:240: UserWarning:\n",
      "\n",
      "taxid 1408813 was translated into 947309\n",
      "\n",
      "/Users/thiberio/anaconda2/envs/py37/lib/python3.7/site-packages/ete3/ncbi_taxonomy/ncbiquery.py:240: UserWarning:\n",
      "\n",
      "taxid 1220582 was translated into 1368415\n",
      "\n"
     ]
    }
   ],
   "source": [
    "eggNOG_lineage = pd.DataFrame()\n",
    "for taxid in eggNOG_sample.index.unique():\n",
    "    if pd.isna(taxid):\n",
    "        continue\n",
    "    tmp = pd.Series({tax_rank: tmp_taxid \n",
    "                     for tmp_taxid, tax_rank in ncbi.get_rank(ncbi.get_lineage(taxid)).items()})\n",
    "    tmp.name = taxid\n",
    "    eggNOG_lineage = eggNOG_lineage.append(tmp)\n",
    "\n",
    "eggNOG_lineage = eggNOG_lineage.reindex(columns=['class', 'family',  'genus', 'phylum',\n",
    "                                                 'order', 'species', 'superkingdom']).copy()\n",
    "eggNOG_lineage = eggNOG_lineage.query('superkingdom == 2').copy()\n",
    "\n",
    "eggNOG_target_phyla = eggNOG_lineage[eggNOG_lineage.phylum.isin(lineages.phylum.unique())]"
   ]
  },
  {
   "cell_type": "code",
   "execution_count": null,
   "metadata": {},
   "outputs": [],
   "source": [
    "eggNOG_groups = pd.read_csv('2_members.tsv',\n",
    "                            sep='\\t',\n",
    "                            header=None,\n",
    "                            usecols=[1,2,3,4],\n",
    "                            names=['group_id', 'num_proteins', 'num_taxa', 'members'])\n",
    "\n",
    "tmp           = eggNOG_groups.members.map(lambda cell: [int(taxid) \n",
    "                                                        for taxid in re.findall('(\\d+)\\.(?:[^,]+)', cell)])\n",
    "tmp.name      = 'taxa'\n",
    "eggNOG_groups = eggNOG_groups.join(tmp)"
   ]
  },
  {
   "cell_type": "code",
   "execution_count": null,
   "metadata": {},
   "outputs": [],
   "source": [
    "def get_phyla_overlap(taxa):\n",
    "    #taxids = [int(_) for _ in taxa]\n",
    "    group_phyla = set(eggNOG_lineage.loc[taxa, 'phylum'].unique())\n",
    "    overlapped_phyla = group_phyla.intersection(lineages.phylum.unique())\n",
    "    return(overlapped_phyla)\n",
    "\n",
    "eggNOG_target_groups = eggNOG_groups[eggNOG_groups.taxa.map(lambda cell: \n",
    "                                                            True if len(get_phyla_overlap(cell)) > 1 \n",
    "                                                            else False)]"
   ]
  },
  {
   "cell_type": "code",
   "execution_count": null,
   "metadata": {},
   "outputs": [],
   "source": [
    "eggNOG_trees = pd.read_csv('2_trees.tsv',\n",
    "                           sep='\\t',\n",
    "                           header=None,\n",
    "                           usecols=[1,2,3],\n",
    "                           index_col=0,\n",
    "                           names=['group_id', 'fast', 'tree'])\n",
    "eggNOG_trees = eggNOG_trees.reindex(index=eggNOG_target_groups.group_id)"
   ]
  },
  {
   "cell_type": "code",
   "execution_count": null,
   "metadata": {},
   "outputs": [],
   "source": [
    "def get_patristic_distances(group_id):\n",
    "    tree = ete3.Tree(eggNOG_trees.loc[group_id, 'tree'])\n",
    "    \n",
    "    edge_data = []\n",
    "    for node in tree.traverse():\n",
    "        if node.is_leaf():\n",
    "            continue\n",
    "        \n",
    "        child1, child2 = node.get_children()\n",
    "        child1_distance_to_root = pd.Series(index=child1.get_leaf_names(),\n",
    "                                            data =[node.get_distance(leaf)\n",
    "                                                   for leaf in child1.get_leaves()])\n",
    "        child2_distance_to_root = pd.Series(index=child2.get_leaf_names(),\n",
    "                                            data =[node.get_distance(leaf)\n",
    "                                                   for leaf in child2.get_leaves()])\n",
    "\n",
    "        for leaf1, leaf2 in itertools.product(child1_distance_to_root.index,\n",
    "                                              child2_distance_to_root.index):\n",
    "            edge_data.append([leaf1,\n",
    "                               leaf2,\n",
    "                               child1_distance_to_root[leaf1] + child2_distance_to_root[leaf2]])\n",
    "    \n",
    "    tmp_df = pd.DataFrame(columns=['leaf1', 'leaf2', 'distance'],\n",
    "                          data   =edge_data)\n",
    "\n",
    "    iiq = np.percentile(tmp_df.distance, 75) - np.percentile(tmp_df.distance, 25)\n",
    "    tmp_df['standardized_distance'] = (tmp_df.distance - tmp_df.distance.median()) / iiq\n",
    "    \n",
    "    return(tmp_df)\n",
    "#%timeit edges = get_patristic_distances(eggNOG_trees.loc['2Z7HP', 'tree'])\n",
    "#1.04 s ± 4.15 ms per loop (mean ± std. dev. of 7 runs, 1 loop each)"
   ]
  },
  {
   "cell_type": "code",
   "execution_count": null,
   "metadata": {},
   "outputs": [],
   "source": [
    "def get_std_patristic_distances(group_id):\n",
    "    tree = ete3.Tree(eggNOG_trees.loc[group_id, 'tree'])\n",
    "\n",
    "    leaf_names = []\n",
    "    for count, node in enumerate(tree.traverse()):\n",
    "        if node.is_leaf():\n",
    "            leaf_names.append(node.name)\n",
    "        else:\n",
    "            node.name = 'node_%i' % count\n",
    "\n",
    "    edges = []\n",
    "    for node in tree.traverse():\n",
    "        if not node.is_leaf():\n",
    "            for child in node.get_children():\n",
    "                edges.append((node.name, child.name, child.dist))\n",
    "\n",
    "    graph  = ig.Graph.TupleList(edges=edges, directed=False, weights=True)\n",
    "    matrix = np.array(graph.shortest_paths(source=leaf_names, target=leaf_names, weights='weight'))\n",
    "\n",
    "    taxids = [int(leaf.split('.')[0]) for leaf in leaf_names]\n",
    "    phyla  = eggNOG_lineage.loc[taxids, 'phylum'].values.astype(int)\n",
    "\n",
    "    triu_indices   = np.triu_indices_from(matrix, k=1)\n",
    "    df = pd.DataFrame()\n",
    "    df['phylum1']  = phyla[triu_indices[0]]\n",
    "    df['phylum2']  = phyla[triu_indices[1]]\n",
    "    df['distance'] = matrix[triu_indices]\n",
    "\n",
    "    iiq = np.percentile(df.distance, 75) - np.percentile(df.distance, 25)\n",
    "    df['standardized_distance'] = (df.distance - df.distance.median()) / iiq\n",
    "\n",
    "    std_distances = df.query('(phylum1==200795 and phylum2==1117) or \\\n",
    "                              (phylum2==200795 and phylum1==1117)').standardized_distance\n",
    "    \n",
    "    return(std_distances.values)"
   ]
  },
  {
   "cell_type": "code",
   "execution_count": null,
   "metadata": {},
   "outputs": [],
   "source": [
    "eggNOG_chloroflexi = eggNOG_lineage.query('phylum==200795').index\n",
    "eggNOG_cyano       = eggNOG_lineage.query('phylum==1117'  ).index\n",
    "\n",
    "chloroflexi_count = eggNOG_target_groups.taxa.map(lambda x: len(eggNOG_chloroflexi.intersection(set(x))))\n",
    "cyano_count       = eggNOG_target_groups.taxa.map(lambda x: len(eggNOG_cyano.intersection(set(x))))"
   ]
  },
  {
   "cell_type": "code",
   "execution_count": null,
   "metadata": {},
   "outputs": [],
   "source": [
    "# groups interesting to test distances between cyano and chloroflexi\n",
    "test_groups = eggNOG_target_groups[(chloroflexi_count>=10) & (cyano_count>=70)]"
   ]
  },
  {
   "cell_type": "code",
   "execution_count": 14,
   "metadata": {},
   "outputs": [
    {
     "data": {
      "text/html": [
       "<div>\n",
       "<style scoped>\n",
       "    .dataframe tbody tr th:only-of-type {\n",
       "        vertical-align: middle;\n",
       "    }\n",
       "\n",
       "    .dataframe tbody tr th {\n",
       "        vertical-align: top;\n",
       "    }\n",
       "\n",
       "    .dataframe thead th {\n",
       "        text-align: right;\n",
       "    }\n",
       "</style>\n",
       "<table border=\"1\" class=\"dataframe\">\n",
       "  <thead>\n",
       "    <tr style=\"text-align: right;\">\n",
       "      <th></th>\n",
       "      <th>group_id</th>\n",
       "      <th>num_proteins</th>\n",
       "      <th>num_taxa</th>\n",
       "      <th>members</th>\n",
       "      <th>taxa</th>\n",
       "    </tr>\n",
       "  </thead>\n",
       "  <tbody>\n",
       "    <tr>\n",
       "      <th>659</th>\n",
       "      <td>2Z832</td>\n",
       "      <td>120</td>\n",
       "      <td>120</td>\n",
       "      <td>102125.Xen7305DRAFT_00015630,102129.Lepto7375D...</td>\n",
       "      <td>[102125, 102129, 102232, 103690, 1089550, 1094...</td>\n",
       "    </tr>\n",
       "    <tr>\n",
       "      <th>202326</th>\n",
       "      <td>COG0001</td>\n",
       "      <td>4694</td>\n",
       "      <td>3218</td>\n",
       "      <td>1000565.METUNv1_01136,1000565.METUNv1_03305,10...</td>\n",
       "      <td>[1000565, 1000565, 1001240, 1001530, 1001585, ...</td>\n",
       "    </tr>\n",
       "    <tr>\n",
       "      <th>202327</th>\n",
       "      <td>COG0002</td>\n",
       "      <td>3957</td>\n",
       "      <td>3641</td>\n",
       "      <td>1000565.METUNv1_02881,1001240.GY21_06330,10015...</td>\n",
       "      <td>[1000565, 1001240, 1001530, 1001585, 100226, 1...</td>\n",
       "    </tr>\n",
       "    <tr>\n",
       "      <th>202328</th>\n",
       "      <td>COG0003</td>\n",
       "      <td>2423</td>\n",
       "      <td>1167</td>\n",
       "      <td>100226.SCO2128,100226.SCO3577,100226.SCO3578,1...</td>\n",
       "      <td>[100226, 100226, 100226, 1002339, 1003195, 100...</td>\n",
       "    </tr>\n",
       "    <tr>\n",
       "      <th>202329</th>\n",
       "      <td>COG0004</td>\n",
       "      <td>5256</td>\n",
       "      <td>3336</td>\n",
       "      <td>1000565.METUNv1_00694,1000565.METUNv1_03320,10...</td>\n",
       "      <td>[1000565, 1000565, 1001240, 1001530, 1001585, ...</td>\n",
       "    </tr>\n",
       "  </tbody>\n",
       "</table>\n",
       "</div>"
      ],
      "text/plain": [
       "       group_id  num_proteins  num_taxa  \\\n",
       "659       2Z832           120       120   \n",
       "202326  COG0001          4694      3218   \n",
       "202327  COG0002          3957      3641   \n",
       "202328  COG0003          2423      1167   \n",
       "202329  COG0004          5256      3336   \n",
       "\n",
       "                                                  members  \\\n",
       "659     102125.Xen7305DRAFT_00015630,102129.Lepto7375D...   \n",
       "202326  1000565.METUNv1_01136,1000565.METUNv1_03305,10...   \n",
       "202327  1000565.METUNv1_02881,1001240.GY21_06330,10015...   \n",
       "202328  100226.SCO2128,100226.SCO3577,100226.SCO3578,1...   \n",
       "202329  1000565.METUNv1_00694,1000565.METUNv1_03320,10...   \n",
       "\n",
       "                                                     taxa  \n",
       "659     [102125, 102129, 102232, 103690, 1089550, 1094...  \n",
       "202326  [1000565, 1000565, 1001240, 1001530, 1001585, ...  \n",
       "202327  [1000565, 1001240, 1001530, 1001585, 100226, 1...  \n",
       "202328  [100226, 100226, 100226, 1002339, 1003195, 100...  \n",
       "202329  [1000565, 1000565, 1001240, 1001530, 1001585, ...  "
      ]
     },
     "execution_count": 14,
     "metadata": {},
     "output_type": "execute_result"
    }
   ],
   "source": [
    "test_groups.head()"
   ]
  },
  {
   "cell_type": "code",
   "execution_count": null,
   "metadata": {},
   "outputs": [],
   "source": [
    "if os.path.isfile('standardized_distances.pkl'):\n",
    "    os.remove('standardized_distances.pkl')\n",
    "\n",
    "for position in range(0, test_groups.shape[0], 20):\n",
    "    print(position)\n",
    "    pool      = multiprocessing.Pool(processes=10)\n",
    "    distances = pool.map(get_std_patristic_distances, test_groups.group_id.values[position:position+20])\n",
    "\n",
    "    with open('standardized_distances.pkl', 'ab') as out:\n",
    "        pkl.dump(distances, out)"
   ]
  },
  {
   "cell_type": "code",
   "execution_count": null,
   "metadata": {},
   "outputs": [],
   "source": [
    "fig, ax = plt.subplots(figsize=(50, 5))\n",
    "ax.boxplot(distances,\n",
    "           showfliers=False);"
   ]
  },
  {
   "cell_type": "code",
   "execution_count": null,
   "metadata": {},
   "outputs": [],
   "source": [
    "def get_std_patristic_distances(group_id):\n",
    "    tree = ete3.Tree(eggNOG_trees.loc[group_id, 'tree'])\n",
    "\n",
    "    leaf_names = []\n",
    "    for count, node in enumerate(tree.traverse()):\n",
    "        if node.is_leaf():\n",
    "            leaf_names.append(node.name)\n",
    "        else:\n",
    "            node.name = 'node_%i' % count\n",
    "\n",
    "    nodes         = []\n",
    "    children      = []\n",
    "    branch_length = []\n",
    "    for node in tree.traverse():\n",
    "        if not node.is_leaf():\n",
    "            for child in node.get_children():\n",
    "                nodes.append(         node.name)\n",
    "                children.append(     child.name)\n",
    "                branch_length.append(child.dist)\n",
    "\n",
    "    branch_length_df                  = pd.DataFrame()\n",
    "    branch_length_df['node']          = nodes\n",
    "    branch_length_df['child']         = children\n",
    "    branch_length_df['branch_length'] = branch_length\n",
    "\n",
    "    graph  = ig.Graph.TupleList(edges=branch_length_df[['node', \n",
    "                                                        'child', \n",
    "                                                        'branch_length']].itertuples(index=False), \n",
    "                                directed=False, \n",
    "                                weights=True)\n",
    "    matrix = np.array(graph.shortest_paths(source=leaf_names, target=leaf_names, weights='weight'))\n",
    "\n",
    "    taxids = [int(leaf.split('.')[0]) for leaf in leaf_names]\n",
    "    phyla  = eggNOG_lineage.loc[taxids, 'phylum'].values.astype(int)\n",
    "\n",
    "    triu_indices   = np.triu_indices_from(matrix, k=1)\n",
    "    df = pd.DataFrame()\n",
    "    df['phylum1']  = phyla[triu_indices[0]]\n",
    "    df['phylum2']  = phyla[triu_indices[1]]\n",
    "    df['distance'] = matrix[triu_indices]\n",
    "    \n",
    "    df = df[(df.phylum1!=1224) & (df.phylum2!=1224)]\n",
    "    intra_phylum_distances = df.loc[df.phylum1==df.phylum2, 'distance']\n",
    "    \n",
    "    intra_phylum_df = df[df.phylum1==df.phylum2]\n",
    "    inter_phylum_df = df[df.phylum1!=df.phylum2]\n",
    "    \n",
    "    cyano_VS_chloroflexi = inter_phylum_df.loc[(inter_phylum_df.phylum1.isin([200795, 1117])) & \\\n",
    "                                               (inter_phylum_df.phylum2.isin([200795, 1117])),\n",
    "                                               'distance'].values\n",
    "\n",
    "    intra_cyanobacteria = intra_phylum_df.loc[intra_phylum_df.phylum1 == 1117,   'distance'].values\n",
    "    hypothesis          = mannwhitneyu(intra_cyanobacteria, cyano_VS_chloroflexi, alternative='less')\n",
    "    if hypothesis.pvalue > 0.05:\n",
    "        return(None)\n",
    "    \n",
    "    intra_chloroflexi   = intra_phylum_df.loc[intra_phylum_df.phylum1 == 200795, 'distance'].values\n",
    "    hypothesis          = mannwhitneyu(intra_chloroflexi, cyano_VS_chloroflexi, alternative='less')\n",
    "    if hypothesis.pvalue > 0.05:\n",
    "        return(None)\n",
    "    \n",
    "    with open('chloroflexi_cyano_dists/%s.pkl' % group_id, 'wb') as out:\n",
    "        pkl.dump(cyano_VS_chloroflexi/np.median(df.distance), out)\n",
    "    \n",
    "    return(group_id)"
   ]
  },
  {
   "cell_type": "code",
   "execution_count": 15,
   "metadata": {},
   "outputs": [],
   "source": [
    "#\n",
    "# test clustering instead of gmm\n",
    "\n",
    "tree = ete3.Tree(eggNOG_trees.loc['COG0058', 'tree'])\n",
    "\n",
    "leaf_names = []\n",
    "for count, node in enumerate(tree.traverse()):\n",
    "    if node.is_leaf():\n",
    "        leaf_names.append(node.name)\n",
    "    else:\n",
    "        node.name = 'node_%i' % count\n",
    "leaf_names = np.array(leaf_names)\n",
    "        \n",
    "nodes         = []\n",
    "children      = []\n",
    "branch_length = []\n",
    "for node in tree.traverse():\n",
    "    if not node.is_leaf():\n",
    "        for child in node.get_children():\n",
    "            nodes.append(         node.name)\n",
    "            children.append(     child.name)\n",
    "            branch_length.append(child.dist)\n",
    "\n",
    "branch_length_df                  = pd.DataFrame()\n",
    "branch_length_df['node']          = nodes\n",
    "branch_length_df['child']         = children\n",
    "branch_length_df['branch_length'] = branch_length\n",
    "\n",
    "graph  = ig.Graph.TupleList(edges=branch_length_df[['node', \n",
    "                                                    'child', \n",
    "                                                    'branch_length']].itertuples(index=False), \n",
    "                            directed=False, \n",
    "                            weights=True)\n",
    "matrix = np.array(graph.shortest_paths(source=leaf_names, target=leaf_names, weights='weight'))\n",
    "\n",
    "taxids = np.array([int(leaf.split('.')[0]) for leaf in leaf_names])\n",
    "phyla  = eggNOG_lineage.loc[taxids, 'phylum'].values.astype(int)\n",
    "\n",
    "triu_indices   = np.triu_indices_from(matrix, k=1)\n",
    "df = pd.DataFrame()\n",
    "df['phylum1']  = phyla[triu_indices[0]]\n",
    "df['phylum2']  = phyla[triu_indices[1]]\n",
    "df['sequence1'] = leaf_names[triu_indices[0]]\n",
    "df['sequence2'] = leaf_names[triu_indices[1]]\n",
    "df['distance']  = matrix[triu_indices]\n",
    "df['inverse_dist'] = np.e**np.negative(df.distance)\n",
    "\n",
    "intra_phylum_df = df.loc[df.phylum1==df.phylum2]\n",
    "inter_phylum_df = df.loc[df.phylum1!=df.phylum2]"
   ]
  },
  {
   "cell_type": "code",
   "execution_count": 16,
   "metadata": {},
   "outputs": [],
   "source": [
    "mds = manifold.MDS(n_components=2, dissimilarity='precomputed', random_state=12345, n_jobs=5)"
   ]
  },
  {
   "cell_type": "code",
   "execution_count": 27,
   "metadata": {},
   "outputs": [],
   "source": [
    "df['inverse_dist'] = np.e**np.negative(df.distance)\n",
    "wg  = ig.Graph.TupleList(edges=df[['sequence1', \n",
    "                                   'sequence2', \n",
    "                                   'inverse_dist']].itertuples(index=False), \n",
    "                                   directed=False, \n",
    "                                   weights=True)\n",
    "nodes = np.asarray([n['name'] for n in wg.vs()])"
   ]
  },
  {
   "cell_type": "code",
   "execution_count": 55,
   "metadata": {},
   "outputs": [],
   "source": [
    "clusters = wg.community_multilevel(weights='weight')"
   ]
  },
  {
   "cell_type": "code",
   "execution_count": 20,
   "metadata": {},
   "outputs": [],
   "source": [
    "style = np.zeros(wg.vcount())\n",
    "style[phyla==1224] = 1"
   ]
  },
  {
   "cell_type": "code",
   "execution_count": 19,
   "metadata": {},
   "outputs": [],
   "source": [
    "coords = mds.fit_transform(matrix)"
   ]
  },
  {
   "cell_type": "code",
   "execution_count": 30,
   "metadata": {},
   "outputs": [],
   "source": [
    "node_color  = np.asarray(clusters.membership)\n",
    "    \n",
    "proteo_trace = go.Scatter(\n",
    "    x        =coords[:, 0][phyla==1224], \n",
    "    y        =coords[:, 1][phyla==1224],\n",
    "    text     =nodes[phyla==1224],\n",
    "    mode     ='markers',\n",
    "    name     ='proteo',\n",
    "    hoverinfo='text',\n",
    "    opacity  =0.7,\n",
    "    marker   =dict(showscale   =True,\n",
    "                   colorscale  ='Rainbow',\n",
    "                   reversescale=True,\n",
    "                   symbol      ='circle',\n",
    "                   color       =node_color[phyla==1224],\n",
    "                   size        =10,\n",
    "                   line_width  =1,\n",
    "                   line_color  ='white')\n",
    ")\n",
    "no_proteo_trace = go.Scatter(\n",
    "    x        =coords[:, 0][phyla!=1224], \n",
    "    y        =coords[:, 1][phyla!=1224],\n",
    "    text     =nodes[phyla==1224],\n",
    "    mode     ='markers',\n",
    "    name     ='Non-proteo',\n",
    "    hoverinfo='text',\n",
    "    opacity  =0.7,\n",
    "    marker   =dict(showscale   =True,\n",
    "                   colorscale  ='Rainbow',\n",
    "                   reversescale=True,\n",
    "                   symbol      ='circle',\n",
    "                   color       =node_color[phyla!=1224],\n",
    "                   size        =10,\n",
    "                   line_width  =1,\n",
    "                   line_color  ='white')\n",
    ")"
   ]
  },
  {
   "cell_type": "code",
   "execution_count": 33,
   "metadata": {},
   "outputs": [
    {
     "data": {
      "text/plain": [
       "'yeah.html'"
      ]
     },
     "execution_count": 33,
     "metadata": {},
     "output_type": "execute_result"
    }
   ],
   "source": [
    "fig = go.Figure(data=[no_proteo_trace, proteo_trace], # here is important to add edges first so they don't cover nodes\n",
    "                layout=go.Layout(template          ='simple_white',\n",
    "                                 title             ='protein similarity network',\n",
    "                                 titlefont_size    =16,\n",
    "                                 showlegend        =True,\n",
    "                                 legend_orientation='h',\n",
    "                                 hovermode         ='closest',\n",
    "                                 margin            =dict(b=20,\n",
    "                                                         l=5,\n",
    "                                                         r=5,\n",
    "                                                         t=40),\n",
    "                                 xaxis             =dict(showgrid     =False,\n",
    "                                                         zeroline     =False,\n",
    "                                                         showticklabels=False),\n",
    "                                 yaxis             =dict(showgrid      =False, \n",
    "                                                         zeroline      =False, \n",
    "                                                         showticklabels=False))\n",
    "                )\n",
    "\n",
    "plotly.offline.plot(fig, 'Evol network', filename='yeah.html', config={'scrollZoom': True})"
   ]
  },
  {
   "cell_type": "code",
   "execution_count": 45,
   "metadata": {},
   "outputs": [],
   "source": [
    "proteo_df = intra_phylum_df[intra_phylum_df.phylum1==1224].copy()\n",
    "\n",
    "proteo_graph  = ig.Graph.TupleList(edges=proteo_df[['sequence1', \n",
    "                                                    'sequence2', \n",
    "                                                    'inverse_dist']].itertuples(index=False), \n",
    "                                   directed=False, \n",
    "                                   weights=True)\n",
    "nodes = [n['name'] for n in proteo_graph.vs()]"
   ]
  },
  {
   "cell_type": "code",
   "execution_count": 64,
   "metadata": {},
   "outputs": [],
   "source": [
    "proteo_clusters = proteo_graph.community_multilevel(weights='weight')"
   ]
  },
  {
   "cell_type": "code",
   "execution_count": 47,
   "metadata": {},
   "outputs": [],
   "source": [
    "proteo_matrix = squareform(proteo_df.distance)\n",
    "proteo_coords = mds.fit_transform(proteo_matrix)"
   ]
  },
  {
   "cell_type": "code",
   "execution_count": 50,
   "metadata": {},
   "outputs": [
    {
     "data": {
      "text/plain": [
       "(1301, 2)"
      ]
     },
     "execution_count": 50,
     "metadata": {},
     "output_type": "execute_result"
    }
   ],
   "source": [
    "proteo_coords.shape"
   ]
  },
  {
   "cell_type": "code",
   "execution_count": 52,
   "metadata": {},
   "outputs": [],
   "source": [
    "node_color  = np.asarray(clusters.membership)\n",
    "    \n",
    "proteo_trace = go.Scatter(\n",
    "    x        =proteo_coords[:, 0], \n",
    "    y        =proteo_coords[:, 1],\n",
    "    text     =nodes,\n",
    "    mode     ='markers',\n",
    "    name     ='Proteins',\n",
    "    hoverinfo='text',\n",
    "    opacity  =0.7,\n",
    "    marker   =dict(showscale   =True,\n",
    "                   colorscale  ='Rainbow',\n",
    "                   reversescale=True,\n",
    "                   symbol      ='circle',\n",
    "                   color       =clusters.membership,\n",
    "                   size        =10,\n",
    "                   line_width  =1,\n",
    "                   line_color  ='white')\n",
    ")"
   ]
  },
  {
   "cell_type": "code",
   "execution_count": 53,
   "metadata": {},
   "outputs": [
    {
     "data": {
      "text/plain": [
       "'yeah_within_proteo.html'"
      ]
     },
     "execution_count": 53,
     "metadata": {},
     "output_type": "execute_result"
    }
   ],
   "source": [
    "fig = go.Figure(data=[proteo_trace], # here is important to add edges first so they don't cover nodes\n",
    "                layout=go.Layout(template          ='simple_white',\n",
    "                                 title             ='protein similarity network',\n",
    "                                 titlefont_size    =16,\n",
    "                                 showlegend        =True,\n",
    "                                 legend_orientation='h',\n",
    "                                 hovermode         ='closest',\n",
    "                                 margin            =dict(b=20,\n",
    "                                                         l=5,\n",
    "                                                         r=5,\n",
    "                                                         t=40),\n",
    "                                 xaxis             =dict(showgrid     =False,\n",
    "                                                         zeroline     =False,\n",
    "                                                         showticklabels=False),\n",
    "                                 yaxis             =dict(showgrid      =False, \n",
    "                                                         zeroline      =False, \n",
    "                                                         showticklabels=False))\n",
    "                )\n",
    "\n",
    "plotly.offline.plot(fig, 'Evol network', filename='yeah_within_proteo.html', config={'scrollZoom': True})"
   ]
  },
  {
   "cell_type": "code",
   "execution_count": 59,
   "metadata": {},
   "outputs": [],
   "source": [
    "subg = wg.subgraph(nodes)"
   ]
  },
  {
   "cell_type": "code",
   "execution_count": 111,
   "metadata": {},
   "outputs": [],
   "source": [
    "for i, j in zip(proteo_graph.vs(), subg.vs()):\n",
    "    if i['name'] != j['name']:\n",
    "        print('fuck')"
   ]
  },
  {
   "cell_type": "code",
   "execution_count": 101,
   "metadata": {},
   "outputs": [
    {
     "data": {
      "text/plain": [
       "0.625862266506322"
      ]
     },
     "execution_count": 101,
     "metadata": {},
     "output_type": "execute_result"
    }
   ],
   "source": [
    "wcluster = np.array(clusters.membership)\n",
    "ig.compare_communities(proteo_clusters.membership, wcluster[phyla==1224], method='vi')"
   ]
  },
  {
   "cell_type": "code",
   "execution_count": 132,
   "metadata": {},
   "outputs": [
    {
     "data": {
      "text/html": [
       "<div>\n",
       "<style scoped>\n",
       "    .dataframe tbody tr th:only-of-type {\n",
       "        vertical-align: middle;\n",
       "    }\n",
       "\n",
       "    .dataframe tbody tr th {\n",
       "        vertical-align: top;\n",
       "    }\n",
       "\n",
       "    .dataframe thead th {\n",
       "        text-align: right;\n",
       "    }\n",
       "</style>\n",
       "<table border=\"1\" class=\"dataframe\">\n",
       "  <thead>\n",
       "    <tr style=\"text-align: right;\">\n",
       "      <th></th>\n",
       "      <th>phylum1</th>\n",
       "      <th>phylum2</th>\n",
       "      <th>sequence1</th>\n",
       "      <th>sequence2</th>\n",
       "      <th>distance</th>\n",
       "      <th>inverse_dist</th>\n",
       "      <th>seq1_proteo_cluster</th>\n",
       "      <th>seq2_proteo_cluster</th>\n",
       "      <th>seq1_wg_cluster</th>\n",
       "      <th>seq2_wg_cluster</th>\n",
       "    </tr>\n",
       "  </thead>\n",
       "  <tbody>\n",
       "    <tr>\n",
       "      <th>19469</th>\n",
       "      <td>1224</td>\n",
       "      <td>1224</td>\n",
       "      <td>335543.Sfum_1198</td>\n",
       "      <td>589865.DaAHT2_1036</td>\n",
       "      <td>3.545197</td>\n",
       "      <td>0.028863</td>\n",
       "      <td>1</td>\n",
       "      <td>1</td>\n",
       "      <td>2</td>\n",
       "      <td>2</td>\n",
       "    </tr>\n",
       "    <tr>\n",
       "      <th>19470</th>\n",
       "      <td>1224</td>\n",
       "      <td>1224</td>\n",
       "      <td>335543.Sfum_1198</td>\n",
       "      <td>1167006.UWK_02122</td>\n",
       "      <td>3.724721</td>\n",
       "      <td>0.024120</td>\n",
       "      <td>1</td>\n",
       "      <td>1</td>\n",
       "      <td>2</td>\n",
       "      <td>2</td>\n",
       "    </tr>\n",
       "    <tr>\n",
       "      <th>19471</th>\n",
       "      <td>1224</td>\n",
       "      <td>1224</td>\n",
       "      <td>335543.Sfum_1198</td>\n",
       "      <td>1452718.JBOY01000183_gene1303</td>\n",
       "      <td>11.710156</td>\n",
       "      <td>0.000008</td>\n",
       "      <td>1</td>\n",
       "      <td>1</td>\n",
       "      <td>2</td>\n",
       "      <td>0</td>\n",
       "    </tr>\n",
       "    <tr>\n",
       "      <th>19475</th>\n",
       "      <td>1224</td>\n",
       "      <td>1224</td>\n",
       "      <td>335543.Sfum_1198</td>\n",
       "      <td>338969.Rfer_3895</td>\n",
       "      <td>3.242421</td>\n",
       "      <td>0.039069</td>\n",
       "      <td>1</td>\n",
       "      <td>1</td>\n",
       "      <td>2</td>\n",
       "      <td>2</td>\n",
       "    </tr>\n",
       "    <tr>\n",
       "      <th>19484</th>\n",
       "      <td>1224</td>\n",
       "      <td>1224</td>\n",
       "      <td>335543.Sfum_1198</td>\n",
       "      <td>387092.NIS_0944</td>\n",
       "      <td>4.023884</td>\n",
       "      <td>0.017883</td>\n",
       "      <td>1</td>\n",
       "      <td>1</td>\n",
       "      <td>2</td>\n",
       "      <td>2</td>\n",
       "    </tr>\n",
       "  </tbody>\n",
       "</table>\n",
       "</div>"
      ],
      "text/plain": [
       "       phylum1  phylum2         sequence1                      sequence2  \\\n",
       "19469     1224     1224  335543.Sfum_1198             589865.DaAHT2_1036   \n",
       "19470     1224     1224  335543.Sfum_1198              1167006.UWK_02122   \n",
       "19471     1224     1224  335543.Sfum_1198  1452718.JBOY01000183_gene1303   \n",
       "19475     1224     1224  335543.Sfum_1198               338969.Rfer_3895   \n",
       "19484     1224     1224  335543.Sfum_1198                387092.NIS_0944   \n",
       "\n",
       "        distance  inverse_dist  seq1_proteo_cluster  seq2_proteo_cluster  \\\n",
       "19469   3.545197      0.028863                    1                    1   \n",
       "19470   3.724721      0.024120                    1                    1   \n",
       "19471  11.710156      0.000008                    1                    1   \n",
       "19475   3.242421      0.039069                    1                    1   \n",
       "19484   4.023884      0.017883                    1                    1   \n",
       "\n",
       "       seq1_wg_cluster  seq2_wg_cluster  \n",
       "19469                2                2  \n",
       "19470                2                2  \n",
       "19471                2                0  \n",
       "19475                2                2  \n",
       "19484                2                2  "
      ]
     },
     "execution_count": 132,
     "metadata": {},
     "output_type": "execute_result"
    }
   ],
   "source": [
    "proteo_df.head()"
   ]
  },
  {
   "cell_type": "code",
   "execution_count": 131,
   "metadata": {},
   "outputs": [],
   "source": [
    "proteo_cluster_map = {i['name']:j for i, j in zip(proteo_graph.vs(), proteo_clusters.membership)}\n",
    "proteo_df['seq1_proteo_cluster'] = proteo_df.sequence1.apply(lambda x: proteo_cluster_map[x])\n",
    "proteo_df['seq2_proteo_cluster'] = proteo_df.sequence2.apply(lambda x: proteo_cluster_map[x])\n",
    "\n",
    "wg_cluster_map = {i['name']:j for i, j in zip(wg.vs(), clusters.membership)}\n",
    "proteo_df['seq1_wg_cluster'] = proteo_df.sequence1.apply(lambda x: wg_cluster_map[x])\n",
    "proteo_df['seq2_wg_cluster'] = proteo_df.sequence2.apply(lambda x: wg_cluster_map[x])"
   ]
  },
  {
   "cell_type": "code",
   "execution_count": 139,
   "metadata": {},
   "outputs": [
    {
     "data": {
      "text/plain": [
       "<matplotlib.axes._subplots.AxesSubplot at 0x1b1eb30898>"
      ]
     },
     "execution_count": 139,
     "metadata": {},
     "output_type": "execute_result"
    },
    {
     "data": {
      "image/png": "[encoded data removed]",
      "text/plain": [
       "<Figure size 3000x1500 with 2 Axes>"
      ]
     },
     "metadata": {
      "needs_background": "light"
     },
     "output_type": "display_data"
    }
   ],
   "source": [
    "fig, axs = plt.subplots(nrows=2, figsize=(10, 5), dpi=300)\n",
    "\n",
    "sns.kdeplot(proteo_df.loc[proteo_df.seq1_proteo_cluster==proteo_df.seq2_proteo_cluster, 'distance'], label='proteo only', shade=True, ax=axs[0])\n",
    "sns.kdeplot(proteo_df.loc[proteo_df.seq1_wg_cluster==proteo_df.seq2_wg_cluster, 'distance'], label='whole graph', shade=True, ax=axs[0])\n",
    "\n",
    "sns.kdeplot(proteo_df.loc[proteo_df.seq1_proteo_cluster!=proteo_df.seq2_proteo_cluster, 'distance'], label='proteo only', shade=True, ax=axs[1])\n",
    "sns.kdeplot(proteo_df.loc[proteo_df.seq1_wg_cluster!=proteo_df.seq2_wg_cluster, 'distance'], label='whole graph', shade=True, ax=axs[1])"
   ]
  },
  {
   "cell_type": "code",
   "execution_count": null,
   "metadata": {},
   "outputs": [],
   "source": []
  },
  {
   "cell_type": "code",
   "execution_count": null,
   "metadata": {},
   "outputs": [],
   "source": []
  },
  {
   "cell_type": "code",
   "execution_count": null,
   "metadata": {},
   "outputs": [],
   "source": []
  },
  {
   "cell_type": "code",
   "execution_count": null,
   "metadata": {},
   "outputs": [],
   "source": []
  },
  {
   "cell_type": "code",
   "execution_count": null,
   "metadata": {},
   "outputs": [],
   "source": []
  },
  {
   "cell_type": "code",
   "execution_count": null,
   "metadata": {},
   "outputs": [],
   "source": []
  },
  {
   "cell_type": "code",
   "execution_count": null,
   "metadata": {},
   "outputs": [],
   "source": []
  },
  {
   "cell_type": "code",
   "execution_count": null,
   "metadata": {},
   "outputs": [],
   "source": [
    "fig, ax = plt.subplots(figsize=(10,10), dpi=200)\n",
    "sns.scatterplot(x=proteo_coords[:, 0], y=proteo_coords[:, 1], hue=['cluster_%i' %n for n in yeah.membership], ax=ax);"
   ]
  },
  {
   "cell_type": "code",
   "execution_count": null,
   "metadata": {},
   "outputs": [],
   "source": [
    "fig, axs = plt.subplots(nrows=10, sharex=True, figsize=(10, 10), dpi=300)\n",
    "for i, j, k in zip(names, arrays, axs):\n",
    "    print(i)\n",
    "    sns.distplot(j, kde=False, label='mode_%i' %_, ax=k)\n",
    "    k.fill_between([np.median(j)], [k.get_ylim()[0]], [k.get_ylim()[1]], color='r')\n",
    "    k.fill_between([np.percentile(j, 75)], [k.get_ylim()[0]], [k.get_ylim()[1]], color='g')\n",
    "    k.fill_between([np.percentile(j, 25)], [k.get_ylim()[0]], [k.get_ylim()[1]], color='g')\n",
    "\n",
    "    #fig.tight_layout()\n",
    "    #fig.savefig('dpgmm_test.png')"
   ]
  },
  {
   "cell_type": "code",
   "execution_count": null,
   "metadata": {},
   "outputs": [],
   "source": [
    "1/10, 1/5"
   ]
  },
  {
   "cell_type": "code",
   "execution_count": null,
   "metadata": {},
   "outputs": [],
   "source": [
    "1/np.e**-10, 1/np.e**-5"
   ]
  },
  {
   "cell_type": "code",
   "execution_count": null,
   "metadata": {},
   "outputs": [],
   "source": [
    "bic = []\n",
    "for n in range(1, 6):\n",
    "    gmm = mixture.GaussianMixture(n_components=n, covariance_type='full')\n",
    "    gmm.fit(subsample.reshape(-1, 1))\n",
    "    bic.append(gmm.bic(subsample.reshape(-1, 1)))\n",
    "bic"
   ]
  },
  {
   "cell_type": "code",
   "execution_count": null,
   "metadata": {},
   "outputs": [],
   "source": [
    "%%timeit\n",
    "bic = []\n",
    "for n in range(1, 6):\n",
    "    gmm = mixture.BayesianGaussianMixture(n_components=n, covariance_type='full')\n",
    "    gmm.fit(subsample.reshape(-1, 1))\n",
    "    #bic.append(gmm.bic(subsample.reshape(-1, 1)))"
   ]
  },
  {
   "cell_type": "code",
   "execution_count": null,
   "metadata": {},
   "outputs": [],
   "source": [
    "fig, axs = plt.subplots(nrows=10, sharex=True, figsize=(10, 10))\n",
    "for i, j, k in zip(names, arrays, axs):\n",
    "    print(i)\n",
    "    subsample = np.array(random.sample(j[:, 0].tolist(), 10000))\n",
    "    \n",
    "    bic = []\n",
    "    lowest_bic = np.infty\n",
    "    for _ in range(1, 6):\n",
    "        gmm = mixture.GaussianMixture(n_components=_,\n",
    "                                      covariance_type='full', \n",
    "                                      max_iter=100).fit(subsample.reshape(-1, 1))\n",
    "        gmm.fit(subsample.reshape(-1, 1))\n",
    "        bic.append(gmm.bic(subsample.reshape(-1, 1)))\n",
    "        if bic[-1] < lowest_bic:\n",
    "            lowest_bic = bic[-1]\n",
    "            best_gmm = gmm\n",
    "        \n",
    "    modes = gmm.predict(j)\n",
    "\n",
    "    for _ in set(modes):\n",
    "        sns.distplot(j[modes==_, 0], kde=False, label='mode_%i' %_, ax=k)\n",
    "\n",
    "    #fig.tight_layout()\n",
    "    #fig.savefig('dpgmm_test.png')"
   ]
  },
  {
   "cell_type": "code",
   "execution_count": null,
   "metadata": {},
   "outputs": [],
   "source": [
    "fig, axs = plt.subplots(nrows=10, sharex=True, figsize=(10, 10))\n",
    "for i, j, k in zip(names, arrays, axs):\n",
    "    print(i)\n",
    "    subsample = np.array(random.sample(j[:, 0].tolist(), 10000))\n",
    "    \n",
    "    gmm = mixture.GaussianMixture(n_components=2,\n",
    "                                          covariance_type='full', \n",
    "                                          max_iter=1_00).fit(subsample.reshape(-1, 1))\n",
    "    modes = gmm.predict(j)\n",
    "    for _ in set(modes):\n",
    "        sns.distplot(j[modes==_, 0], kde=False, label='mode_%i' %_, ax=k)\n",
    "\n",
    "    #fig.tight_layout()\n",
    "    #fig.savefig('dpgmm_test.png')"
   ]
  },
  {
   "cell_type": "code",
   "execution_count": null,
   "metadata": {},
   "outputs": [],
   "source": [
    "sub = df[(df.phylum1!=1224) & (df.phylum2!=1224)]"
   ]
  },
  {
   "cell_type": "code",
   "execution_count": null,
   "metadata": {},
   "outputs": [],
   "source": [
    "intra_phylum_df = sub.loc[sub.phylum1==sub.phylum2]\n",
    "inter_phylum_df = sub.loc[sub.phylum1!=sub.phylum2]"
   ]
  },
  {
   "cell_type": "code",
   "execution_count": null,
   "metadata": {},
   "outputs": [],
   "source": [
    "intra_phylum_df.distance.median()"
   ]
  },
  {
   "cell_type": "code",
   "execution_count": null,
   "metadata": {},
   "outputs": [],
   "source": [
    "fig, ax = plt.subplots(figsize=(10, 5), dpi=150)\n",
    "sns.kdeplot(intra_phylum_df.distance, shade=True, label='intra', ax=ax)\n",
    "sns.kdeplot(inter_phylum_df.distance, shade=True, label='inter', ax=ax)"
   ]
  },
  {
   "cell_type": "code",
   "execution_count": null,
   "metadata": {},
   "outputs": [],
   "source": [
    "cyano_VS_chloroflexi = inter_phylum_df.loc[(inter_phylum_df.phylum1.isin([200795, 1117])) & \\\n",
    "                                           (inter_phylum_df.phylum2.isin([200795, 1117])),\n",
    "                                           'distance'].values\n",
    "\n",
    "intra_cyanobacteria = intra_phylum_df.loc[intra_phylum_df.phylum1 == 1117,   'distance'].values\n",
    "\n",
    "intra_chloroflexi   = intra_phylum_df.loc[intra_phylum_df.phylum1 == 200795, 'distance'].values"
   ]
  },
  {
   "cell_type": "code",
   "execution_count": null,
   "metadata": {},
   "outputs": [],
   "source": [
    "fig, ax = plt.subplots(figsize=(10, 5), dpi=150)\n",
    "sns.kdeplot(cyano_VS_chloroflexi, shade=True, label='inter', ax=ax)\n",
    "sns.kdeplot(intra_cyanobacteria, shade=True, label='intra-cyano', ax=ax)\n",
    "sns.kdeplot(intra_chloroflexi, shade=True, label='intra-chloro', ax=ax)"
   ]
  },
  {
   "cell_type": "code",
   "execution_count": null,
   "metadata": {},
   "outputs": [],
   "source": [
    "from scipy.stats import ttest_ind, skew, kurtosis\n",
    "import os"
   ]
  },
  {
   "cell_type": "code",
   "execution_count": null,
   "metadata": {},
   "outputs": [],
   "source": [
    "skew(intra_cyanobacteria)"
   ]
  },
  {
   "cell_type": "code",
   "execution_count": null,
   "metadata": {},
   "outputs": [],
   "source": [
    "kurtosis(intra_cyanobacteria)"
   ]
  },
  {
   "cell_type": "code",
   "execution_count": null,
   "metadata": {},
   "outputs": [],
   "source": [
    "kurtosis(intra_cyanobacteria) - (skew(intra_cyanobacteria)**2)"
   ]
  },
  {
   "cell_type": "code",
   "execution_count": null,
   "metadata": {},
   "outputs": [],
   "source": [
    "mannwhitneyu(intra_cyanobacteria, cyano_VS_chloroflexi, alternative='less')"
   ]
  },
  {
   "cell_type": "code",
   "execution_count": null,
   "metadata": {},
   "outputs": [],
   "source": [
    "a.pvalue"
   ]
  },
  {
   "cell_type": "code",
   "execution_count": null,
   "metadata": {},
   "outputs": [],
   "source": [
    "ttest_ind(intra_phylum_distances, inter_phylum_distances, equal_var=False)"
   ]
  },
  {
   "cell_type": "code",
   "execution_count": null,
   "metadata": {},
   "outputs": [],
   "source": [
    "get_std_patristic_distances('COG0001')"
   ]
  },
  {
   "cell_type": "code",
   "execution_count": null,
   "metadata": {},
   "outputs": [],
   "source": [
    "pool      = multiprocessing.Pool(processes=10, maxtasksperchild=3)\n",
    "distances = pool.map(get_std_patristic_distances, random.sample(test_groups.group_id.to_list(), 100))"
   ]
  },
  {
   "cell_type": "code",
   "execution_count": null,
   "metadata": {},
   "outputs": [],
   "source": [
    "condensed_matrices = [pkl.load(open('chloroflexi_cyano_dists/%s.pkl' % group_id, 'rb')).values\n",
    "                      for group_id in distances]"
   ]
  },
  {
   "cell_type": "code",
   "execution_count": null,
   "metadata": {},
   "outputs": [],
   "source": [
    "condensed_matrices = []\n",
    "groups = []\n",
    "for filename in os.listdir('chloroflexi_cyano_dists/'):\n",
    "    if not filename.endswith('.pkl'):\n",
    "        continue\n",
    "    condensed_matrices.append(pkl.load(open('chloroflexi_cyano_dists/%s' % filename, 'rb')))\n",
    "    groups.append(filename.replace('.pkl', ''))"
   ]
  },
  {
   "cell_type": "code",
   "execution_count": null,
   "metadata": {},
   "outputs": [],
   "source": [
    "quartile1 = []\n",
    "quartile3 = []\n",
    "medians   = []\n",
    "for _ in condensed_matrices:\n",
    "    medians.append(np.median(_))\n",
    "    quartile1.append(np.percentile(_, 25))\n",
    "    quartile3.append(np.percentile(_, 75))"
   ]
  },
  {
   "cell_type": "code",
   "execution_count": null,
   "metadata": {},
   "outputs": [],
   "source": [
    "fig, axs = plt.subplots(nrows=3, figsize=(10, 5), dpi=300, sharex=True)\n",
    "sns.distplot(quartile1, ax=axs[0])\n",
    "sns.distplot(medians,   ax=axs[1])\n",
    "sns.distplot(quartile3, ax=axs[2]);"
   ]
  },
  {
   "cell_type": "code",
   "execution_count": null,
   "metadata": {},
   "outputs": [],
   "source": [
    "test_groups.shape"
   ]
  },
  {
   "cell_type": "code",
   "execution_count": null,
   "metadata": {},
   "outputs": [],
   "source": [
    "fig, axs = plt.subplots(figsize=(50, 20), nrows=4, sharey=False, dpi=300)\n",
    "\n",
    "lower_thresh = np.mean(quartile1) - np.std(quartile1)\n",
    "upper_thresh = np.mean(quartile3) + np.std(quartile3)\n",
    "\n",
    "for ax, position in zip(axs, range(0, len(groups), 50)):\n",
    "    ax.fill_between(range(0, 52), y1=upper_thresh, y2=lower_thresh, alpha=0.1, color='r')\n",
    "    ax.boxplot(condensed_matrices[position:position+50],\n",
    "               showfliers=False);\n",
    "    ax.set_xticklabels(groups[position:position+50], rotation=45, ha='center');\n",
    "fig.tight_layout()\n",
    "    \n",
    "fig.savefig('chloroVScyano-sample.pdf')"
   ]
  },
  {
   "cell_type": "code",
   "execution_count": null,
   "metadata": {},
   "outputs": [],
   "source": [
    "get_std_patristic_distances('COG0499')"
   ]
  },
  {
   "cell_type": "code",
   "execution_count": null,
   "metadata": {},
   "outputs": [],
   "source": [
    "eggNOG_groups.head()"
   ]
  },
  {
   "cell_type": "code",
   "execution_count": null,
   "metadata": {},
   "outputs": [],
   "source": [
    "sahH = pkl.load(open('chloroflexi_cyano_dists/COG0499.pkl', 'rb'))"
   ]
  },
  {
   "cell_type": "code",
   "execution_count": null,
   "metadata": {},
   "outputs": [],
   "source": [
    "fig, ax = plt.subplots(dpi=300)\n",
    "ax.boxplot(sahH, showfliers=False);\n",
    "ax.fill_between(range(0, 3), y1=upper_thresh, y2=lower_thresh, alpha=0.1, color='r')\n",
    "ax.set_xticklabels(['sahH'], rotation=45, ha='center');\n",
    "fig.savefig('sahH.pdf')"
   ]
  },
  {
   "cell_type": "code",
   "execution_count": null,
   "metadata": {},
   "outputs": [],
   "source": [
    "ax.get_xlim()"
   ]
  },
  {
   "cell_type": "code",
   "execution_count": null,
   "metadata": {},
   "outputs": [],
   "source": [
    "def visualize_in_figTree(group_id):\n",
    "    tree = ete3.Tree(eggNOG_trees.loc[group_id, 'tree'], format=0)\n",
    "    \n",
    "    out  = open('%s.figTree' % group_id, 'w')\n",
    "    out.write(\"#NEXUS\\nbegin taxa;\\n\\tdimensions ntax=%i;\\n\\ttaxlabels\\n\" %len(tree))\n",
    "    \n",
    "    for node in tree.traverse():\n",
    "        if node.is_leaf():\n",
    "            taxid, locus_tag = node.name.split('.')\n",
    "            try:\n",
    "                lineage = {j: i for i, j in ncbi.get_rank(ncbi.get_lineage(taxid)).items()}\n",
    "            except ValueError:\n",
    "                out.write('\\t%s\\n' %(node.name))\n",
    "                continue\n",
    "            else:\n",
    "                lineage_names = ncbi.get_taxid_translator(lineage.values())\n",
    "\n",
    "            out.write('\\t%s ' %(node.name))\n",
    "            comment = []\n",
    "            for rank in ['class', 'phylum', 'order', 'family', 'species']:\n",
    "                if rank in lineage:\n",
    "                    comment.append('tax_%s=\"%s\"' %(rank, lineage_names[lineage[rank]]))\n",
    "            out.write('[&%s]\\n' %' '.join(comment))\n",
    "\n",
    "    newick_text = tree.write(format=0)\n",
    "    out.write(';\\nend;\\n')\n",
    "    out.write('begin trees;\\n\\ttree tree_1 = [&R] %s\\nend;' %newick_text)\n",
    "    out.close()"
   ]
  },
  {
   "cell_type": "code",
   "execution_count": null,
   "metadata": {},
   "outputs": [],
   "source": [
    "visualize_in_figTree('COG0019')"
   ]
  },
  {
   "cell_type": "code",
   "execution_count": null,
   "metadata": {},
   "outputs": [],
   "source": []
  },
  {
   "cell_type": "code",
   "execution_count": null,
   "metadata": {},
   "outputs": [],
   "source": []
  },
  {
   "cell_type": "code",
   "execution_count": null,
   "metadata": {},
   "outputs": [],
   "source": []
  },
  {
   "cell_type": "code",
   "execution_count": null,
   "metadata": {},
   "outputs": [],
   "source": []
  },
  {
   "cell_type": "code",
   "execution_count": null,
   "metadata": {},
   "outputs": [],
   "source": []
  },
  {
   "cell_type": "code",
   "execution_count": null,
   "metadata": {},
   "outputs": [],
   "source": []
  },
  {
   "cell_type": "code",
   "execution_count": null,
   "metadata": {},
   "outputs": [],
   "source": []
  },
  {
   "cell_type": "code",
   "execution_count": null,
   "metadata": {},
   "outputs": [],
   "source": []
  },
  {
   "cell_type": "code",
   "execution_count": null,
   "metadata": {},
   "outputs": [],
   "source": [
    "%%timeit\n",
    "tree = ete3.Tree(eggNOG_trees.loc['COG0001', 'tree'])\n",
    "\n",
    "leaf_names = []\n",
    "for count, node in enumerate(tree.traverse()):\n",
    "    if node.is_leaf():\n",
    "        leaf_names.append(node.name)\n",
    "    else:\n",
    "        node.name = 'node_%i' % count\n",
    "\n",
    "edges      = []\n",
    "for node in tree.traverse():\n",
    "    if node.is_leaf():\n",
    "        continue\n",
    "    for child in node.get_children():\n",
    "        edges.append((node.name, child.name, child.dist))\n",
    "\n",
    "graph  = ig.Graph.TupleList(edges=edges, directed=False, weights=True)\n",
    "matrix = np.array(graph.shortest_paths(source=leaf_names, target=leaf_names, weights='weight'))\n",
    "df     = pd.DataFrame(columns=leaf_names, index=leaf_names, data=matrix)"
   ]
  },
  {
   "cell_type": "code",
   "execution_count": null,
   "metadata": {},
   "outputs": [],
   "source": [
    "tree = ete3.Tree(eggNOG_trees.loc['COG0001', 'tree'])\n",
    "\n",
    "leaf_names = []\n",
    "for count, node in enumerate(tree.traverse()):\n",
    "    if node.is_leaf():\n",
    "        leaf_names.append(node.name)\n",
    "    else:\n",
    "        node.name = 'node_%i' % count\n",
    "\n",
    "edges      = []\n",
    "for node in tree.traverse():\n",
    "    if node.is_leaf():\n",
    "        continue\n",
    "    for child in node.get_children():\n",
    "        edges.append((node.name, child.name, child.dist))\n",
    "\n",
    "graph  = ig.Graph.TupleList(edges=edges, directed=False, weights=True)\n",
    "matrix = np.array(graph.shortest_paths_dijkstra(source=leaf_names, target=leaf_names, weights='weight'))\n",
    "\n",
    "taxids         = [int(leaf.split('.')[0]) for leaf in leaf_names]\n",
    "phyla          = eggNOG_lineage.loc[taxids, 'phylum'].values.astype(int)\n",
    "\n",
    "triu_indices   = np.triu_indices_from(matrix, k=1)\n",
    "df = pd.DataFrame()\n",
    "df['phylum1']  = phyla[triu_indices[0]]\n",
    "df['phylum2']  = phyla[triu_indices[1]]\n",
    "df['distance'] = matrix[triu_indices]\n",
    "\n",
    "iiq = np.percentile(df.distance, 75) - np.percentile(df.distance, 25)\n",
    "df['standardized_distance'] = (df.distance - df.distance.median()) / iiq\n",
    "\n",
    "std_distances = df.query('(phylum1==200795 and phylum2==1117) or \\\n",
    "                          (phylum1==1117   and phylum2==200795)').standardized_distance"
   ]
  },
  {
   "cell_type": "code",
   "execution_count": null,
   "metadata": {},
   "outputs": [],
   "source": [
    "%%time\n",
    "tree = ete3.Tree(eggNOG_trees.loc['COG0001', 'tree'])\n",
    "\n",
    "leaf_names = []\n",
    "for count, node in enumerate(tree.traverse()):\n",
    "    if node.is_leaf():\n",
    "        leaf_names.append(node.name)\n",
    "    else:\n",
    "        node.name = 'node_%i' % count\n",
    "\n",
    "edges      = []\n",
    "for node in tree.traverse():\n",
    "    if node.is_leaf():\n",
    "        continue\n",
    "    for child in node.get_children():\n",
    "        edges.append((node.name, child.name, child.dist))\n",
    "\n",
    "graph  = ig.Graph.TupleList(edges=edges, directed=False, weights=True)\n",
    "matrix = np.array(graph.shortest_paths(source=leaf_names, target=leaf_names, weights='weight'))\n",
    "\n",
    "taxids         = [int(leaf.split('.')[0]) for leaf in leaf_names]\n",
    "phyla          = eggNOG_lineage.loc[taxids, 'phylum'].values.astype(int)\n",
    "\n",
    "x = []\n",
    "y = []\n",
    "z = []\n",
    "for (i, j), k in zip(itertools.combinations(phyla, 2), squareform(matrix, checks=False)):\n",
    "    x.append(i)\n",
    "    y.append(j)\n",
    "    z.append(k)\n",
    "    \n",
    "df     = pd.DataFrame(columns=['phylum1', 'phylum2', 'distance'],\n",
    "                      data    =zip(x, y, z))\n",
    "iiq = np.percentile(df.distance, 75) - np.percentile(df.distance, 25)\n",
    "df['standardized_distance'] = (df.distance - df.distance.median()) / iiq\n",
    "\n",
    "std_distances = df.query('(phylum1==200795 and phylum2==1117) or \\\n",
    "                          (phylum2==200795 and phylum1==1117)').standardized_distance"
   ]
  },
  {
   "cell_type": "code",
   "execution_count": null,
   "metadata": {},
   "outputs": [],
   "source": [
    "df.head()"
   ]
  },
  {
   "cell_type": "code",
   "execution_count": null,
   "metadata": {},
   "outputs": [],
   "source": [
    "eggNOG_lineage.query('phylum==-9223372036854775808')"
   ]
  },
  {
   "cell_type": "code",
   "execution_count": null,
   "metadata": {
    "scrolled": true
   },
   "outputs": [],
   "source": [
    "df.query('(phylum1==200795 and phylum2==1117) or \\\n",
    "          (phylum2==200795 and phylum1==1117)').standardized_distance"
   ]
  },
  {
   "cell_type": "code",
   "execution_count": null,
   "metadata": {},
   "outputs": [],
   "source": [
    "sns.distplot(df.query('(phylum1==200795 and phylum2==1117) or \\\n",
    "                       (phylum2==200795 and phylum1==1117)').standardized_distance)"
   ]
  },
  {
   "cell_type": "code",
   "execution_count": null,
   "metadata": {},
   "outputs": [],
   "source": []
  },
  {
   "cell_type": "code",
   "execution_count": null,
   "metadata": {},
   "outputs": [],
   "source": []
  },
  {
   "cell_type": "code",
   "execution_count": null,
   "metadata": {},
   "outputs": [],
   "source": []
  },
  {
   "cell_type": "code",
   "execution_count": null,
   "metadata": {},
   "outputs": [],
   "source": []
  },
  {
   "cell_type": "code",
   "execution_count": null,
   "metadata": {},
   "outputs": [],
   "source": []
  },
  {
   "cell_type": "code",
   "execution_count": null,
   "metadata": {},
   "outputs": [],
   "source": []
  },
  {
   "cell_type": "code",
   "execution_count": null,
   "metadata": {},
   "outputs": [],
   "source": [
    "df = get_patristic_distances('2Z832')"
   ]
  },
  {
   "cell_type": "code",
   "execution_count": null,
   "metadata": {},
   "outputs": [],
   "source": [
    "df.head()"
   ]
  },
  {
   "cell_type": "code",
   "execution_count": null,
   "metadata": {},
   "outputs": [],
   "source": [
    "sns.distplot(df.distance)"
   ]
  },
  {
   "cell_type": "code",
   "execution_count": null,
   "metadata": {},
   "outputs": [],
   "source": [
    "sns.distplot(df.standardized_distance)"
   ]
  }
 ],
 "metadata": {
  "kernelspec": {
   "display_name": "Python 3",
   "language": "python",
   "name": "python3"
  },
  "language_info": {
   "codemirror_mode": {
    "name": "ipython",
    "version": 3
   },
   "file_extension": ".py",
   "mimetype": "text/x-python",
   "name": "python",
   "nbconvert_exporter": "python",
   "pygments_lexer": "ipython3",
   "version": "3.7.1"
  }
 },
 "nbformat": 4,
 "nbformat_minor": 2
}
