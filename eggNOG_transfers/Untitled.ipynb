{
 "cells": [
  {
   "cell_type": "code",
   "execution_count": 2,
   "metadata": {},
   "outputs": [
    {
     "name": "stdout",
     "output_type": "stream",
     "text": [
      "/nobackup1b/users/thiberio/eggNOG/candidates/iqtree\n"
     ]
    }
   ],
   "source": [
    "import ete3\n",
    "\n",
    "%cd ~/work/eggNOG/candidates/iqtree"
   ]
  },
  {
   "cell_type": "code",
   "execution_count": 3,
   "metadata": {},
   "outputs": [],
   "source": [
    "rooted_tree  = ete3.Tree('COG1905-cluster1.treefile.rooted') \n",
    "ufboot_trees = open('COG1905-cluster1.ufboot').read().split()"
   ]
  },
  {
   "cell_type": "code",
   "execution_count": 19,
   "metadata": {},
   "outputs": [],
   "source": [
    "count = 0\n",
    "for line in ufboot_trees:\n",
    "    tmp_tree = ete3.Tree(line)\n",
    "    if tmp_tree.check_monophyly(rooted_tree.children[0].get_leaf_names(), target_attr='name', unrooted=True)[0]:\n",
    "        count += 1\n",
    "#     break"
   ]
  },
  {
   "cell_type": "code",
   "execution_count": 20,
   "metadata": {},
   "outputs": [
    {
     "data": {
      "text/plain": [
       "0"
      ]
     },
     "execution_count": 20,
     "metadata": {},
     "output_type": "execute_result"
    }
   ],
   "source": [
    "count"
   ]
  },
  {
   "cell_type": "code",
   "execution_count": 11,
   "metadata": {},
   "outputs": [
    {
     "data": {
      "text/plain": [
       "1495"
      ]
     },
     "execution_count": 11,
     "metadata": {},
     "output_type": "execute_result"
    }
   ],
   "source": [
    "len(rooted_tree.children[0])"
   ]
  },
  {
   "cell_type": "code",
   "execution_count": 16,
   "metadata": {},
   "outputs": [
    {
     "data": {
      "text/plain": [
       "False"
      ]
     },
     "execution_count": 16,
     "metadata": {},
     "output_type": "execute_result"
    }
   ],
   "source": [
    "tmp_tree.check_monophyly(rooted_tree.children[1].get_leaf_names(), target_attr='name', unrooted=True)[0]"
   ]
  },
  {
   "cell_type": "code",
   "execution_count": 14,
   "metadata": {},
   "outputs": [
    {
     "data": {
      "text/plain": [
       "\u001b[0;31mSignature:\u001b[0m\n",
       "\u001b[0mtmp_tree\u001b[0m\u001b[0;34m.\u001b[0m\u001b[0mcheck_monophyly\u001b[0m\u001b[0;34m(\u001b[0m\u001b[0;34m\u001b[0m\n",
       "\u001b[0;34m\u001b[0m    \u001b[0mvalues\u001b[0m\u001b[0;34m,\u001b[0m\u001b[0;34m\u001b[0m\n",
       "\u001b[0;34m\u001b[0m    \u001b[0mtarget_attr\u001b[0m\u001b[0;34m,\u001b[0m\u001b[0;34m\u001b[0m\n",
       "\u001b[0;34m\u001b[0m    \u001b[0mignore_missing\u001b[0m\u001b[0;34m=\u001b[0m\u001b[0;32mFalse\u001b[0m\u001b[0;34m,\u001b[0m\u001b[0;34m\u001b[0m\n",
       "\u001b[0;34m\u001b[0m    \u001b[0munrooted\u001b[0m\u001b[0;34m=\u001b[0m\u001b[0;32mFalse\u001b[0m\u001b[0;34m,\u001b[0m\u001b[0;34m\u001b[0m\n",
       "\u001b[0;34m\u001b[0m\u001b[0;34m)\u001b[0m\u001b[0;34m\u001b[0m\u001b[0;34m\u001b[0m\u001b[0m\n",
       "\u001b[0;31mDocstring:\u001b[0m\n",
       ".. versionadded: 2.2\n",
       "\n",
       "Returns True if a given target attribute is monophyletic under\n",
       "this node for the provided set of values.\n",
       "\n",
       "If not all values are represented in the current tree\n",
       "structure, a ValueError exception will be raised to warn that\n",
       "strict monophyly could never be reached (this behaviour can be\n",
       "avoided by enabling the `ignore_missing` flag.\n",
       "\n",
       ":param values: a set of values for which monophyly is\n",
       "    expected.\n",
       "\n",
       ":param target_attr: node attribute being used to check\n",
       "    monophyly (i.e. species for species trees, names for gene\n",
       "    family trees, or any custom feature present in the tree).\n",
       "\n",
       ":param False ignore_missing: Avoid raising an Exception when\n",
       "    missing attributes are found.\n",
       "\n",
       "\n",
       ".. versionchanged: 2.3\n",
       "\n",
       ":param False unrooted: If True, tree will be treated as unrooted, thus\n",
       "  allowing to find monophyly even when current outgroup is splitting a\n",
       "  monophyletic group.\n",
       "\n",
       ":returns: the following tuple\n",
       "          IsMonophyletic (boolean),\n",
       "          clade type ('monophyletic', 'paraphyletic' or 'polyphyletic'),\n",
       "          leaves breaking the monophyly (set)\n",
       "\u001b[0;31mFile:\u001b[0m      ~/.local/lib/python3.7/site-packages/ete3/coretype/tree.py\n",
       "\u001b[0;31mType:\u001b[0m      method\n"
      ]
     },
     "metadata": {},
     "output_type": "display_data"
    }
   ],
   "source": [
    "tmp_tree.check_monophyly?"
   ]
  }
 ],
 "metadata": {
  "kernelspec": {
   "display_name": "Python 3",
   "language": "python",
   "name": "python3"
  },
  "language_info": {
   "codemirror_mode": {
    "name": "ipython",
    "version": 3
   },
   "file_extension": ".py",
   "mimetype": "text/x-python",
   "name": "python",
   "nbconvert_exporter": "python",
   "pygments_lexer": "ipython3",
   "version": "3.7.5"
  }
 },
 "nbformat": 4,
 "nbformat_minor": 4
}
