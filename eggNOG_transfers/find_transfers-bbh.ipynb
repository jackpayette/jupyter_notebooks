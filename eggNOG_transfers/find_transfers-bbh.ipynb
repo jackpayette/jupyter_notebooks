{
 "cells": [
  {
   "cell_type": "code",
   "execution_count": 1,
   "metadata": {},
   "outputs": [
    {
     "name": "stdout",
     "output_type": "stream",
     "text": [
      "/work/eggNOG\n"
     ]
    }
   ],
   "source": [
    "import pandas as pd\n",
    "import ete3\n",
    "import re\n",
    "import community\n",
    "import networkx as nx\n",
    "import itertools\n",
    "import numpy as np\n",
    "from sklearn import manifold\n",
    "from scipy.spatial.distance import squareform\n",
    "from matplotlib import pyplot as plt\n",
    "import seaborn as sns\n",
    "from scipy.spatial.distance import pdist\n",
    "import igraph as ig\n",
    "import plotly\n",
    "import chart_studio.plotly as ptl\n",
    "import plotly.graph_objects as go\n",
    "import colorlover as cl\n",
    "from IPython.display import HTML\n",
    "import multiprocessing\n",
    "import pickle as pkl\n",
    "import random\n",
    "from sklearn import mixture\n",
    "from collections import Counter\n",
    "\n",
    "ptl.sign_in('lthiberiol', 'm15ikp59lt')\n",
    "ncbi = ete3.NCBITaxa()\n",
    "%cd /work/eggNOG/"
   ]
  },
  {
   "cell_type": "code",
   "execution_count": 2,
   "metadata": {},
   "outputs": [],
   "source": [
    "sampled_genomes = pd.read_csv('/work/kelsey/genomes.tab',\n",
    "                              sep='\\t',\n",
    "                              index_col=0)"
   ]
  },
  {
   "cell_type": "code",
   "execution_count": 3,
   "metadata": {},
   "outputs": [],
   "source": [
    "lineages = pd.DataFrame()\n",
    "for taxid in sampled_genomes.species_taxid.unique():\n",
    "    if pd.isna(taxid):\n",
    "        continue\n",
    "    lineages = lineages.append({tax_rank: tmp_taxid \n",
    "                                 for tmp_taxid, tax_rank in ncbi.get_rank(ncbi.get_lineage(taxid)).items()},\n",
    "                                ignore_index=True)\n",
    "lineages = lineages.reindex(columns=['class', 'family',  'genus', 'phylum',\n",
    "                                     'order', 'species', 'superkingdom']).copy()\n",
    "lineages = lineages.query('superkingdom == 2').copy()"
   ]
  },
  {
   "cell_type": "code",
   "execution_count": 4,
   "metadata": {},
   "outputs": [],
   "source": [
    "eggNOG_sample = pd.read_csv('e5.bacteria.taxid_info.tsv',\n",
    "                            sep='\\t',\n",
    "                            comment='#',\n",
    "                            names=['Taxid', 'Sci.Name', 'Rank', 'Named Lineage', 'Taxid Lineage'],\n",
    "                            header=None,\n",
    "                            index_col=0)"
   ]
  },
  {
   "cell_type": "code",
   "execution_count": 5,
   "metadata": {
    "scrolled": true
   },
   "outputs": [
    {
     "name": "stderr",
     "output_type": "stream",
     "text": [
      "/Users/thiberio/anaconda2/envs/py37/lib/python3.7/site-packages/ete3/ncbi_taxonomy/ncbiquery.py:240: UserWarning:\n",
      "\n",
      "taxid 1344012 was translated into 480813\n",
      "\n",
      "/Users/thiberio/anaconda2/envs/py37/lib/python3.7/site-packages/ete3/ncbi_taxonomy/ncbiquery.py:240: UserWarning:\n",
      "\n",
      "taxid 443255 was translated into 1901\n",
      "\n",
      "/Users/thiberio/anaconda2/envs/py37/lib/python3.7/site-packages/ete3/ncbi_taxonomy/ncbiquery.py:240: UserWarning:\n",
      "\n",
      "taxid 1525715 was translated into 1545044\n",
      "\n",
      "/Users/thiberio/anaconda2/envs/py37/lib/python3.7/site-packages/ete3/ncbi_taxonomy/ncbiquery.py:240: UserWarning:\n",
      "\n",
      "taxid 861530 was translated into 29382\n",
      "\n",
      "/Users/thiberio/anaconda2/envs/py37/lib/python3.7/site-packages/ete3/ncbi_taxonomy/ncbiquery.py:240: UserWarning:\n",
      "\n",
      "taxid 1317118 was translated into 1379903\n",
      "\n",
      "/Users/thiberio/anaconda2/envs/py37/lib/python3.7/site-packages/ete3/ncbi_taxonomy/ncbiquery.py:240: UserWarning:\n",
      "\n",
      "taxid 67281 was translated into 67351\n",
      "\n",
      "/Users/thiberio/anaconda2/envs/py37/lib/python3.7/site-packages/ete3/ncbi_taxonomy/ncbiquery.py:240: UserWarning:\n",
      "\n",
      "taxid 1353531 was translated into 1708715\n",
      "\n",
      "/Users/thiberio/anaconda2/envs/py37/lib/python3.7/site-packages/ete3/ncbi_taxonomy/ncbiquery.py:240: UserWarning:\n",
      "\n",
      "taxid 1288963 was translated into 1232681\n",
      "\n",
      "/Users/thiberio/anaconda2/envs/py37/lib/python3.7/site-packages/ete3/ncbi_taxonomy/ncbiquery.py:240: UserWarning:\n",
      "\n",
      "taxid 1345697 was translated into 1921421\n",
      "\n",
      "/Users/thiberio/anaconda2/envs/py37/lib/python3.7/site-packages/ete3/ncbi_taxonomy/ncbiquery.py:240: UserWarning:\n",
      "\n",
      "taxid 1552758 was translated into 1885902\n",
      "\n",
      "/Users/thiberio/anaconda2/envs/py37/lib/python3.7/site-packages/ete3/ncbi_taxonomy/ncbiquery.py:240: UserWarning:\n",
      "\n",
      "taxid 469595 was translated into 1639133\n",
      "\n",
      "/Users/thiberio/anaconda2/envs/py37/lib/python3.7/site-packages/ete3/ncbi_taxonomy/ncbiquery.py:240: UserWarning:\n",
      "\n",
      "taxid 469596 was translated into 100884\n",
      "\n",
      "/Users/thiberio/anaconda2/envs/py37/lib/python3.7/site-packages/ete3/ncbi_taxonomy/ncbiquery.py:240: UserWarning:\n",
      "\n",
      "taxid 1434929 was translated into 1820025\n",
      "\n",
      "/Users/thiberio/anaconda2/envs/py37/lib/python3.7/site-packages/ete3/ncbi_taxonomy/ncbiquery.py:240: UserWarning:\n",
      "\n",
      "taxid 1104325 was translated into 1158600\n",
      "\n",
      "/Users/thiberio/anaconda2/envs/py37/lib/python3.7/site-packages/ete3/ncbi_taxonomy/ncbiquery.py:240: UserWarning:\n",
      "\n",
      "taxid 911239 was translated into 122355\n",
      "\n",
      "/Users/thiberio/anaconda2/envs/py37/lib/python3.7/site-packages/ete3/ncbi_taxonomy/ncbiquery.py:240: UserWarning:\n",
      "\n",
      "taxid 265729 was translated into 246786\n",
      "\n",
      "/Users/thiberio/anaconda2/envs/py37/lib/python3.7/site-packages/ete3/ncbi_taxonomy/ncbiquery.py:240: UserWarning:\n",
      "\n",
      "taxid 1122931 was translated into 1203610\n",
      "\n",
      "/Users/thiberio/anaconda2/envs/py37/lib/python3.7/site-packages/ete3/ncbi_taxonomy/ncbiquery.py:240: UserWarning:\n",
      "\n",
      "taxid 1118055 was translated into 33037\n",
      "\n",
      "/Users/thiberio/anaconda2/envs/py37/lib/python3.7/site-packages/ete3/ncbi_taxonomy/ncbiquery.py:240: UserWarning:\n",
      "\n",
      "taxid 1219084 was translated into 1123384\n",
      "\n",
      "/Users/thiberio/anaconda2/envs/py37/lib/python3.7/site-packages/ete3/ncbi_taxonomy/ncbiquery.py:240: UserWarning:\n",
      "\n",
      "taxid 667632 was translated into 863227\n",
      "\n",
      "/Users/thiberio/anaconda2/envs/py37/lib/python3.7/site-packages/ete3/ncbi_taxonomy/ncbiquery.py:240: UserWarning:\n",
      "\n",
      "taxid 1166016 was translated into 1905730\n",
      "\n",
      "/Users/thiberio/anaconda2/envs/py37/lib/python3.7/site-packages/ete3/ncbi_taxonomy/ncbiquery.py:240: UserWarning:\n",
      "\n",
      "taxid 1408427 was translated into 1094555\n",
      "\n",
      "/Users/thiberio/anaconda2/envs/py37/lib/python3.7/site-packages/ete3/ncbi_taxonomy/ncbiquery.py:240: UserWarning:\n",
      "\n",
      "taxid 520709 was translated into 1530123\n",
      "\n",
      "/Users/thiberio/anaconda2/envs/py37/lib/python3.7/site-packages/ete3/ncbi_taxonomy/ncbiquery.py:240: UserWarning:\n",
      "\n",
      "taxid 1336249 was translated into 1367849\n",
      "\n",
      "/Users/thiberio/anaconda2/envs/py37/lib/python3.7/site-packages/ete3/ncbi_taxonomy/ncbiquery.py:240: UserWarning:\n",
      "\n",
      "taxid 684949 was translated into 317577\n",
      "\n",
      "/Users/thiberio/anaconda2/envs/py37/lib/python3.7/site-packages/ete3/ncbi_taxonomy/ncbiquery.py:240: UserWarning:\n",
      "\n",
      "taxid 1333507 was translated into 1938600\n",
      "\n",
      "/Users/thiberio/anaconda2/envs/py37/lib/python3.7/site-packages/ete3/ncbi_taxonomy/ncbiquery.py:240: UserWarning:\n",
      "\n",
      "taxid 595593 was translated into 656366\n",
      "\n",
      "/Users/thiberio/anaconda2/envs/py37/lib/python3.7/site-packages/ete3/ncbi_taxonomy/ncbiquery.py:240: UserWarning:\n",
      "\n",
      "taxid 796940 was translated into 796937\n",
      "\n",
      "/Users/thiberio/anaconda2/envs/py37/lib/python3.7/site-packages/ete3/ncbi_taxonomy/ncbiquery.py:240: UserWarning:\n",
      "\n",
      "taxid 1267535 was translated into 639034\n",
      "\n",
      "/Users/thiberio/anaconda2/envs/py37/lib/python3.7/site-packages/ete3/ncbi_taxonomy/ncbiquery.py:240: UserWarning:\n",
      "\n",
      "taxid 644968 was translated into 694327\n",
      "\n",
      "/Users/thiberio/anaconda2/envs/py37/lib/python3.7/site-packages/ete3/ncbi_taxonomy/ncbiquery.py:240: UserWarning:\n",
      "\n",
      "taxid 710686 was translated into 212767\n",
      "\n",
      "/Users/thiberio/anaconda2/envs/py37/lib/python3.7/site-packages/ete3/ncbi_taxonomy/ncbiquery.py:240: UserWarning:\n",
      "\n",
      "taxid 97139 was translated into 2044587\n",
      "\n",
      "/Users/thiberio/anaconda2/envs/py37/lib/python3.7/site-packages/ete3/ncbi_taxonomy/ncbiquery.py:240: UserWarning:\n",
      "\n",
      "taxid 1449126 was translated into 1712410\n",
      "\n",
      "/Users/thiberio/anaconda2/envs/py37/lib/python3.7/site-packages/ete3/ncbi_taxonomy/ncbiquery.py:240: UserWarning:\n",
      "\n",
      "taxid 876044 was translated into 2518989\n",
      "\n",
      "/Users/thiberio/anaconda2/envs/py37/lib/python3.7/site-packages/ete3/ncbi_taxonomy/ncbiquery.py:240: UserWarning:\n",
      "\n",
      "taxid 1458427 was translated into 1458425\n",
      "\n",
      "/Users/thiberio/anaconda2/envs/py37/lib/python3.7/site-packages/ete3/ncbi_taxonomy/ncbiquery.py:240: UserWarning:\n",
      "\n",
      "taxid 1408813 was translated into 947309\n",
      "\n",
      "/Users/thiberio/anaconda2/envs/py37/lib/python3.7/site-packages/ete3/ncbi_taxonomy/ncbiquery.py:240: UserWarning:\n",
      "\n",
      "taxid 1220582 was translated into 1368415\n",
      "\n"
     ]
    }
   ],
   "source": [
    "eggNOG_lineage = pd.DataFrame()\n",
    "for taxid in eggNOG_sample.index.unique():\n",
    "    if pd.isna(taxid):\n",
    "        continue\n",
    "    tmp = pd.Series({tax_rank: tmp_taxid \n",
    "                     for tmp_taxid, tax_rank in ncbi.get_rank(ncbi.get_lineage(taxid)).items()})\n",
    "    tmp.name = taxid\n",
    "    eggNOG_lineage = eggNOG_lineage.append(tmp)\n",
    "\n",
    "eggNOG_lineage = eggNOG_lineage.reindex(columns=['class', 'family',  'genus', 'phylum',\n",
    "                                                 'order', 'species', 'superkingdom']).copy()\n",
    "eggNOG_lineage = eggNOG_lineage.query('superkingdom == 2').copy()\n",
    "\n",
    "eggNOG_target_phyla = eggNOG_lineage[eggNOG_lineage.phylum.isin(lineages.phylum.unique())]"
   ]
  },
  {
   "cell_type": "code",
   "execution_count": 6,
   "metadata": {},
   "outputs": [],
   "source": [
    "eggNOG_groups = pd.read_csv('2_members.tsv',\n",
    "                            sep='\\t',\n",
    "                            header=None,\n",
    "                            usecols=[1,2,3,4],\n",
    "                            names=['group_id', 'num_proteins', 'num_taxa', 'members'])\n",
    "\n",
    "tmp           = eggNOG_groups.members.map(lambda cell: [int(taxid) \n",
    "                                                        for taxid in re.findall('(\\d+)\\.(?:[^,]+)', cell)])\n",
    "tmp.name      = 'taxa'\n",
    "eggNOG_groups = eggNOG_groups.join(tmp)"
   ]
  },
  {
   "cell_type": "code",
   "execution_count": 7,
   "metadata": {},
   "outputs": [],
   "source": [
    "def get_phyla_overlap(taxa):\n",
    "    #taxids = [int(_) for _ in taxa]\n",
    "    group_phyla = set(eggNOG_lineage.loc[taxa, 'phylum'].unique())\n",
    "    overlapped_phyla = group_phyla.intersection(lineages.phylum.unique())\n",
    "    return(overlapped_phyla)\n",
    "\n",
    "eggNOG_target_groups = eggNOG_groups[eggNOG_groups.taxa.map(lambda cell: \n",
    "                                                            True if len(get_phyla_overlap(cell)) > 1 \n",
    "                                                            else False)]"
   ]
  },
  {
   "cell_type": "code",
   "execution_count": 8,
   "metadata": {},
   "outputs": [],
   "source": [
    "eggNOG_trees = pd.read_csv('2_trees.tsv',\n",
    "                           sep='\\t',\n",
    "                           header=None,\n",
    "                           usecols=[1,2,3],\n",
    "                           index_col=0,\n",
    "                           names=['group_id', 'fast', 'tree'])\n",
    "eggNOG_trees = eggNOG_trees.reindex(index=eggNOG_target_groups.group_id)"
   ]
  },
  {
   "cell_type": "code",
   "execution_count": 476,
   "metadata": {},
   "outputs": [],
   "source": [
    "eggNOG_chloroflexi = eggNOG_lineage.query('phylum==200795').index\n",
    "eggNOG_cyano       = eggNOG_lineage.query('phylum==1117'  ).index\n",
    "\n",
    "chloroflexi_count = eggNOG_target_groups.taxa.map(lambda x: len(eggNOG_chloroflexi.intersection(set(x))))\n",
    "cyano_count       = eggNOG_target_groups.taxa.map(lambda x: len(eggNOG_cyano.intersection(set(x))))"
   ]
  },
  {
   "cell_type": "code",
   "execution_count": 478,
   "metadata": {},
   "outputs": [],
   "source": [
    "# groups interesting to test distances between cyano and chloroflexi\n",
    "test_groups = eggNOG_target_groups[(chloroflexi_count>=10) & (cyano_count>=70)]"
   ]
  },
  {
   "cell_type": "code",
   "execution_count": 492,
   "metadata": {},
   "outputs": [],
   "source": [
    "test_groups = test_groups[test_groups.num_proteins<5_000]"
   ]
  },
  {
   "cell_type": "code",
   "execution_count": 493,
   "metadata": {},
   "outputs": [
    {
     "data": {
      "text/plain": [
       "(547, 5)"
      ]
     },
     "execution_count": 493,
     "metadata": {},
     "output_type": "execute_result"
    }
   ],
   "source": [
    "test_groups.shape"
   ]
  },
  {
   "cell_type": "code",
   "execution_count": 502,
   "metadata": {},
   "outputs": [],
   "source": [
    "def get_pairwise_distances(group_id):\n",
    "    \n",
    "    tree = ete3.Tree(eggNOG_trees.loc[group_id, 'tree'])\n",
    "\n",
    "    leaf_names = []\n",
    "    for count, node in enumerate(tree.traverse()):\n",
    "        if node.is_leaf():\n",
    "            leaf_names.append(node.name)\n",
    "        else:\n",
    "            node.name = 'node_%i' % count\n",
    "    leaf_names = np.array(leaf_names)\n",
    "\n",
    "    nodes         = []\n",
    "    children      = []\n",
    "    branch_length = []\n",
    "    for node in tree.traverse():\n",
    "        if not node.is_leaf():\n",
    "            for child in node.get_children():\n",
    "                nodes.append(         node.name)\n",
    "                children.append(     child.name)\n",
    "                branch_length.append(child.dist)\n",
    "\n",
    "    branch_length_df                  = pd.DataFrame()\n",
    "    branch_length_df['node']          = nodes\n",
    "    branch_length_df['child']         = children\n",
    "    branch_length_df['branch_length'] = branch_length\n",
    "\n",
    "    dag  = ig.Graph.TupleList(edges=branch_length_df[['node', \n",
    "                                                      'child', \n",
    "                                                      'branch_length']].itertuples(index=False), \n",
    "                                directed=False, \n",
    "                                weights=True)\n",
    "    \n",
    "    dist_matrix = pd.DataFrame(index  =leaf_names, \n",
    "                               columns=leaf_names, \n",
    "                               data   =np.array(dag.shortest_paths(source=leaf_names, \n",
    "                                                                   target=leaf_names, \n",
    "                                                                   weights='weight'))\n",
    "                              )\n",
    "    return(dist_matrix)"
   ]
  },
  {
   "cell_type": "code",
   "execution_count": 562,
   "metadata": {},
   "outputs": [],
   "source": [
    "def create_taxa_graph(dist_matrix, phyla):\n",
    "    triu_indices       = np.triu_indices_from(dist_matrix, k=1)\n",
    "    \n",
    "    edge_list                 = pd.DataFrame()\n",
    "    edge_list['phylum1']      = phyla[triu_indices[0]]\n",
    "    edge_list['phylum2']      = phyla[triu_indices[1]]\n",
    "    edge_list['sequence1']    = dist_matrix.index[triu_indices[0]]\n",
    "    edge_list['sequence2']    = dist_matrix.index[triu_indices[1]]\n",
    "    edge_list['distance']     = dist_matrix.values[triu_indices]\n",
    "    edge_list['inverse_dist'] = np.e**np.negative(edge_list.distance)\n",
    "\n",
    "    graph  = ig.Graph.TupleList(edges=edge_list[['sequence1', \n",
    "                                                 'sequence2', \n",
    "                                                 'inverse_dist']].itertuples(index=False), \n",
    "                                directed=False, \n",
    "                                weights =True)\n",
    "    \n",
    "    return(edge_list, graph)"
   ]
  },
  {
   "cell_type": "code",
   "execution_count": 542,
   "metadata": {},
   "outputs": [
    {
     "name": "stdout",
     "output_type": "stream",
     "text": [
      "COG0499\n"
     ]
    }
   ],
   "source": [
    "phyla_closeness = {phylum:[] \n",
    "                   for phylum in lineages.phylum.unique().astype(int) \n",
    "                   if phylum > 0}\n",
    "\n",
    "closest_data = pd.DataFrame(columns=['phylum', 'eggNOG_id', 'closeness'])\n",
    "\n",
    "# for group_id in random.sample(test_groups.group_id.to_list(), 5):\n",
    "for group_id in ['COG0499']:\n",
    "    print(group_id)\n",
    "    \n",
    "    matrix = get_pairwise_distances(group_id)\n",
    "\n",
    "    taxids = [int(leaf.split('.')[0]) for leaf in matrix.index]\n",
    "    phyla  = eggNOG_lineage.loc[taxids, 'phylum'].values.astype(int)\n",
    "    \n",
    "    edge_list, graph  = create_taxa_graph(dist_matrix)\n",
    "\n",
    "    clusters = graph.community_multilevel(weights='weight')\n",
    "\n",
    "    node_data = pd.DataFrame(columns=['name', 'phylum', 'cluster'],\n",
    "                             data   =zip(matrix.index, \n",
    "                                         phyla, \n",
    "                                         clusters.membership)\n",
    "                            )\n",
    "\n",
    "    family_cyano_count = sum(node_data.phylum==1117)\n",
    "\n",
    "    for cluster_num in set(clusters.membership):\n",
    "        cluster_nodes = node_data[node_data.cluster==cluster_num]\n",
    "\n",
    "        cluster_size = cluster_nodes.shape[0]\n",
    "\n",
    "        cluster_cyanos = cluster_nodes.loc[cluster_nodes.phylum==1117, 'name']\n",
    "\n",
    "        if cluster_cyanos.shape[0] < family_cyano_count*0.3:\n",
    "            continue\n",
    "\n",
    "        cluster_not_cyanos = cluster_nodes.loc[cluster_nodes.phylum!=1117, 'name']\n",
    "            \n",
    "        tmp1 = edge_list.loc[(edge_list.sequence1.isin(cluster_cyanos))&\\\n",
    "                             (edge_list.sequence2.isin(cluster_not_cyanos)),\n",
    "                             ['phylum2', 'distance']]\n",
    "        tmp1.rename(columns={'phylum2':'phylum'}, inplace=True)\n",
    "\n",
    "        tmp2 = edge_list.loc[(edge_list.sequence2.isin(cluster_cyanos))&\\\n",
    "                             (edge_list.sequence1.isin(cluster_not_cyanos)),\n",
    "                             ['phylum1', 'distance']]\n",
    "        tmp2.rename(columns={'phylum1':'phylum'}, inplace=True)\n",
    "\n",
    "        sub_df     = tmp1.append(tmp2)\n",
    "        normalizer = np.median(sub_df.distance)\n",
    "\n",
    "        threshold     = np.infty\n",
    "        closest_phylum = None\n",
    "        for phylum in sub_df.phylum.unique():\n",
    "            if sum(cluster_nodes.phylum==phylum) < 5:\n",
    "                continue\n",
    "\n",
    "            phylum_3rd_quartile = np.percentile(sub_df.loc[sub_df.phylum==phylum, \n",
    "                                                           'distance'].sort_values()[:10], \n",
    "                                                75)\n",
    "            \n",
    "            if phylum in phyla_closeness:\n",
    "                phyla_closeness[phylum].append(phylum_3rd_quartile)\n",
    "                \n",
    "            if phylum_3rd_quartile < threshold:\n",
    "                threshold      = phylum_3rd_quartile\n",
    "                closest_phylum = phylum\n",
    "            \n",
    "        if closest_phylum:\n",
    "            print('  Closest to cyanos: %s (%.4f)' % (closest_phylum, threshold/normalizer))\n",
    "            \n",
    "            if closest_phylum in phyla_closeness:\n",
    "                closest_data = closest_data.append(pd.Series(data =[closest_phylum, group_id,    threshold], \n",
    "                                                             index=['phylum',       'eggNOG_id', 'closeness']), \n",
    "                                                   ignore_index=True)"
   ]
  },
  {
   "cell_type": "code",
   "execution_count": 563,
   "metadata": {},
   "outputs": [],
   "source": [
    "dist_matrix = get_pairwise_distances('COG0499')\n",
    "\n",
    "taxids = [int(leaf.split('.')[0]) for leaf in matrix.index]\n",
    "phyla  = eggNOG_lineage.loc[taxids, 'phylum'].values.astype(int)\n",
    "\n",
    "edge_list, graph  = create_taxa_graph(dist_matrix, phyla)\n",
    "\n",
    "clusters = graph.community_multilevel(weights='weight')"
   ]
  },
  {
   "cell_type": "code",
   "execution_count": 569,
   "metadata": {},
   "outputs": [
    {
     "name": "stdout",
     "output_type": "stream",
     "text": [
      "  Closest to cyanos: 200795 (0.3500)\n",
      "  Closest to cyanos: 1224 (0.2976)\n",
      "CPU times: user 11.3 s, sys: 853 ms, total: 12.1 s\n",
      "Wall time: 11.8 s\n"
     ]
    }
   ],
   "source": [
    "%%time\n",
    "\n",
    "dist_matrix = get_pairwise_distances('COG0499')\n",
    "\n",
    "taxids = [int(leaf.split('.')[0]) for leaf in dist_matrix.index]\n",
    "phyla  = eggNOG_lineage.loc[taxids, 'phylum'].values.astype(int)\n",
    "\n",
    "edge_list, graph  = create_taxa_graph(dist_matrix, phyla)\n",
    "\n",
    "clusters = graph.community_multilevel(weights='weight')\n",
    "\n",
    "node_data = pd.DataFrame(columns=['name', 'phylum', 'cluster'],\n",
    "                         data   =zip(matrix.index, \n",
    "                                     phyla, \n",
    "                                     clusters.membership)\n",
    "                        )\n",
    "\n",
    "family_cyano_count = sum(node_data.phylum==1117)\n",
    "\n",
    "for cluster_num in set(clusters.membership):\n",
    "    cluster_nodes = node_data[node_data.cluster==cluster_num]\n",
    "\n",
    "    if sum(cluster_nodes.phylum==1117) < family_cyano_count*0.3:\n",
    "        continue\n",
    "       \n",
    "    cluster_edges = edge_list.loc[(edge_list.sequence1.isin(cluster_nodes.name))&\n",
    "                                   (edge_list.sequence2.isin(cluster_nodes.name)),\n",
    "                                   ['phylum1', 'phylum2', 'distance']]\n",
    "    normalizer    = np.median(cluster_edges.distance)\n",
    "    cluster_edges = cluster_edges[cluster_edges.phylum1 != cluster_edges.phylum2] \n",
    "    \n",
    "    phyla_combinations = cluster_edges.groupby(['phylum1', 'phylum2'])\n",
    "\n",
    "    threshold      = np.infty\n",
    "    closest_phylum = None\n",
    "    for (phylum1, phylum2), indices in phyla_combinations.groups.items():\n",
    "        if indices.shape[0] < 10:\n",
    "            continue\n",
    "        if   phylum1 == 1117:\n",
    "            phylum = phylum2\n",
    "        elif phylum2 == 1117:\n",
    "            phylum = phylum1\n",
    "        else:\n",
    "            continue\n",
    "\n",
    "        inter_phyla_dists = cluster_edges.loc[indices, 'distance'].sort_values()[:10]\n",
    "        phylum_3rd_quartile = np.percentile(inter_phyla_dists, 75)\n",
    "\n",
    "        if phylum in phyla_closeness:\n",
    "            phyla_closeness[phylum].append(phylum_3rd_quartile)\n",
    "\n",
    "        if phylum_3rd_quartile < threshold:\n",
    "            threshold      = phylum_3rd_quartile\n",
    "            closest_phylum = phylum\n",
    "\n",
    "    if closest_phylum:\n",
    "        print('  Closest to cyanos: %s (%.4f)' % (closest_phylum, threshold/normalizer))\n",
    "\n",
    "        if closest_phylum in phyla_closeness:\n",
    "            closest_data = closest_data.append(pd.Series(data =[closest_phylum, group_id,    threshold], \n",
    "                                                         index=['phylum',       'eggNOG_id', 'closeness']), \n",
    "                                               ignore_index=True)"
   ]
  },
  {
   "cell_type": "code",
   "execution_count": 488,
   "metadata": {},
   "outputs": [
    {
     "data": {
      "text/plain": [
       "<matplotlib.collections.PolyCollection at 0x1ae9fbce80>"
      ]
     },
     "execution_count": 488,
     "metadata": {},
     "output_type": "execute_result"
    },
    {
     "data": {
      "image/png": "[encoded data removed]",
      "text/plain": [
       "<Figure size 432x288 with 1 Axes>"
      ]
     },
     "metadata": {
      "needs_background": "light"
     },
     "output_type": "display_data"
    }
   ],
   "source": [
    "fig, ax = plt.subplots()\n",
    "sns.kdeplot(phyla_closeness[200795], shade=True, ax=ax)\n",
    "ax.fill_between(x=[0.3478], y1=ax.get_ylim()[0], y2=ax.get_ylim()[1], color='r')"
   ]
  },
  {
   "cell_type": "code",
   "execution_count": null,
   "metadata": {},
   "outputs": [],
   "source": []
  },
  {
   "cell_type": "code",
   "execution_count": null,
   "metadata": {},
   "outputs": [],
   "source": []
  },
  {
   "cell_type": "code",
   "execution_count": null,
   "metadata": {},
   "outputs": [],
   "source": []
  },
  {
   "cell_type": "code",
   "execution_count": null,
   "metadata": {},
   "outputs": [],
   "source": []
  },
  {
   "cell_type": "code",
   "execution_count": null,
   "metadata": {},
   "outputs": [],
   "source": []
  },
  {
   "cell_type": "code",
   "execution_count": null,
   "metadata": {},
   "outputs": [],
   "source": []
  },
  {
   "cell_type": "code",
   "execution_count": null,
   "metadata": {},
   "outputs": [],
   "source": []
  },
  {
   "cell_type": "code",
   "execution_count": null,
   "metadata": {},
   "outputs": [],
   "source": []
  },
  {
   "cell_type": "code",
   "execution_count": null,
   "metadata": {},
   "outputs": [],
   "source": []
  },
  {
   "cell_type": "code",
   "execution_count": null,
   "metadata": {},
   "outputs": [],
   "source": []
  },
  {
   "cell_type": "code",
   "execution_count": null,
   "metadata": {},
   "outputs": [],
   "source": []
  }
 ],
 "metadata": {
  "kernelspec": {
   "display_name": "Python 3",
   "language": "python",
   "name": "python3"
  },
  "language_info": {
   "codemirror_mode": {
    "name": "ipython",
    "version": 3
   },
   "file_extension": ".py",
   "mimetype": "text/x-python",
   "name": "python",
   "nbconvert_exporter": "python",
   "pygments_lexer": "ipython3",
   "version": "3.7.1"
  }
 },
 "nbformat": 4,
 "nbformat_minor": 2
}
