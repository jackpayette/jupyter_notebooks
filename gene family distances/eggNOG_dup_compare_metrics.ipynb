{
 "cells": [
  {
   "cell_type": "code",
   "execution_count": 1,
   "metadata": {},
   "outputs": [
    {
     "name": "stdout",
     "output_type": "stream",
     "text": [
      "/work/clusterEvo/new_tests/eggNOG/duplications\n"
     ]
    }
   ],
   "source": [
    "%run /work/jupyter_notebooks/gene\\ family\\ distances/correlate_evolution.ipynb\n",
    "\n",
    "%cd /work/clusterEvo/new_tests/eggNOG/duplications/"
   ]
  },
  {
   "cell_type": "code",
   "execution_count": 2,
   "metadata": {},
   "outputs": [],
   "source": [
    "import multiprocessing\n",
    "import itertools\n",
    "import pandas as pd\n",
    "import plotly\n",
    "from scipy.stats import pearsonr, mannwhitneyu\n",
    "from scipy.spatial.distance import braycurtis\n",
    "import igraph as ig\n",
    "from Bio import SeqIO\n",
    "import requests"
   ]
  },
  {
   "cell_type": "code",
   "execution_count": 3,
   "metadata": {},
   "outputs": [
    {
     "data": {
      "text/html": [
       "<div>\n",
       "<style scoped>\n",
       "    .dataframe tbody tr th:only-of-type {\n",
       "        vertical-align: middle;\n",
       "    }\n",
       "\n",
       "    .dataframe tbody tr th {\n",
       "        vertical-align: top;\n",
       "    }\n",
       "\n",
       "    .dataframe thead th {\n",
       "        text-align: right;\n",
       "    }\n",
       "</style>\n",
       "<table border=\"1\" class=\"dataframe\">\n",
       "  <thead>\n",
       "    <tr style=\"text-align: right;\">\n",
       "      <th></th>\n",
       "      <th>group_id</th>\n",
       "      <th>num_proteins</th>\n",
       "      <th>num_taxa</th>\n",
       "      <th>members</th>\n",
       "      <th>taxa</th>\n",
       "    </tr>\n",
       "  </thead>\n",
       "  <tbody>\n",
       "    <tr>\n",
       "      <th>1217</th>\n",
       "      <td>arCOG00018</td>\n",
       "      <td>195</td>\n",
       "      <td>166</td>\n",
       "      <td>1006006.Mcup_1244,1033806.HTIA_0702,1041930.Mt...</td>\n",
       "      <td>[1006006, 1033806, 1041930, 1042877, 1054217, ...</td>\n",
       "    </tr>\n",
       "    <tr>\n",
       "      <th>1219</th>\n",
       "      <td>arCOG00020</td>\n",
       "      <td>174</td>\n",
       "      <td>158</td>\n",
       "      <td>1006006.Mcup_1524,1006006.Mcup_1889,1041930.Mt...</td>\n",
       "      <td>[1006006, 1006006, 1041930, 1042877, 1054217, ...</td>\n",
       "    </tr>\n",
       "    <tr>\n",
       "      <th>1227</th>\n",
       "      <td>arCOG00028</td>\n",
       "      <td>108</td>\n",
       "      <td>103</td>\n",
       "      <td>1041930.Mtc_2182,1070774.J07HN4v3_02653,109498...</td>\n",
       "      <td>[1041930, 1070774, 1094980, 1114856, 1114856, ...</td>\n",
       "    </tr>\n",
       "    <tr>\n",
       "      <th>1228</th>\n",
       "      <td>arCOG00029</td>\n",
       "      <td>170</td>\n",
       "      <td>167</td>\n",
       "      <td>1006006.Mcup_0319,1033806.HTIA_1327,1041930.Mt...</td>\n",
       "      <td>[1006006, 1033806, 1041930, 1042877, 1054217, ...</td>\n",
       "    </tr>\n",
       "    <tr>\n",
       "      <th>1230</th>\n",
       "      <td>arCOG00031</td>\n",
       "      <td>117</td>\n",
       "      <td>100</td>\n",
       "      <td>1006006.Mcup_0023,1033806.HTIA_1326,1042877.GQ...</td>\n",
       "      <td>[1006006, 1033806, 1042877, 1056495, 1056495, ...</td>\n",
       "    </tr>\n",
       "  </tbody>\n",
       "</table>\n",
       "</div>"
      ],
      "text/plain": [
       "        group_id  num_proteins  num_taxa  \\\n",
       "1217  arCOG00018           195       166   \n",
       "1219  arCOG00020           174       158   \n",
       "1227  arCOG00028           108       103   \n",
       "1228  arCOG00029           170       167   \n",
       "1230  arCOG00031           117       100   \n",
       "\n",
       "                                                members  \\\n",
       "1217  1006006.Mcup_1244,1033806.HTIA_0702,1041930.Mt...   \n",
       "1219  1006006.Mcup_1524,1006006.Mcup_1889,1041930.Mt...   \n",
       "1227  1041930.Mtc_2182,1070774.J07HN4v3_02653,109498...   \n",
       "1228  1006006.Mcup_0319,1033806.HTIA_1327,1041930.Mt...   \n",
       "1230  1006006.Mcup_0023,1033806.HTIA_1326,1042877.GQ...   \n",
       "\n",
       "                                                   taxa  \n",
       "1217  [1006006, 1033806, 1041930, 1042877, 1054217, ...  \n",
       "1219  [1006006, 1006006, 1041930, 1042877, 1054217, ...  \n",
       "1227  [1041930, 1070774, 1094980, 1114856, 1114856, ...  \n",
       "1228  [1006006, 1033806, 1041930, 1042877, 1054217, ...  \n",
       "1230  [1006006, 1033806, 1042877, 1056495, 1056495, ...  "
      ]
     },
     "execution_count": 3,
     "metadata": {},
     "output_type": "execute_result"
    }
   ],
   "source": [
    "few_duplications = pd.read_parquet('few_duplication_genes.parquet')\n",
    "few_duplications.head()"
   ]
  },
  {
   "cell_type": "code",
   "execution_count": 5,
   "metadata": {},
   "outputs": [],
   "source": [
    "eggNOG_trees = pd.read_csv('../2157_trees.tsv',\n",
    "                           sep      ='\\t',\n",
    "                           header   =None,\n",
    "                           usecols  =[1,2,3],\n",
    "                           index_col=0,\n",
    "                           names    =['group_id', 'fast', 'tree'])\n",
    "eggNOG_trees = eggNOG_trees.reindex(index=few_duplications.group_id)"
   ]
  },
  {
   "cell_type": "code",
   "execution_count": 6,
   "metadata": {},
   "outputs": [],
   "source": [
    "group_ids = []\n",
    "trees     = []\n",
    "for index, row in eggNOG_trees.iterrows():\n",
    "    group_ids.append(index)\n",
    "    trees.append(ete3.Tree(row.tree))\n",
    "\n",
    "pool          = multiprocessing.Pool(processes = 10)\n",
    "dist_matrices = pool.map(get_matrix_from_tree, trees)"
   ]
  },
  {
   "cell_type": "code",
   "execution_count": 10,
   "metadata": {},
   "outputs": [
    {
     "data": {
      "text/plain": [
       "0.8713248922984702"
      ]
     },
     "execution_count": 10,
     "metadata": {},
     "output_type": "execute_result"
    }
   ],
   "source": [
    "def run_coevol(matrices):\n",
    "    m1 = matrices[0].copy()\n",
    "    m2 = matrices[1].copy()\n",
    "    return(assess_coevolution(m1, m2, gene_sep='.')[1])\n",
    "\n",
    "matrix1 = dist_matrices[18].copy()\n",
    "matrix2 = dist_matrices[19].copy()\n",
    "run_coevol((matrix1, matrix2))"
   ]
  },
  {
   "cell_type": "code",
   "execution_count": 41,
   "metadata": {},
   "outputs": [],
   "source": [
    "if not os.path.isfile('odr_regression_Rsquared.parquet'):\n",
    "    pool   = multiprocessing.Pool(processes=10)\n",
    "    odr_r2 = pool.map(run_coevol, itertools.combinations(dist_matrices, 2))\n",
    "\n",
    "    group_pairs = []\n",
    "    for pair in itertools.combinations(group_ids, 2):\n",
    "        group_pairs.append(pair)\n",
    "\n",
    "    group_pairs = np.array(group_pairs)\n",
    "    \n",
    "    odr_df = pd.DataFrame(columns=['group1', 'group2', 'Rsquared'],\n",
    "                          data   =zip(group_pairs[:, 0],\n",
    "                                      group_pairs[:, 1],\n",
    "                                      odr_r2))\n",
    "    odr_df.to_parquet('odr_regression_Rsquared.parquet')\n",
    "else:\n",
    "    odr_df = pd.read_parquet('odr_regression_Rsquared.parquet')"
   ]
  },
  {
   "cell_type": "code",
   "execution_count": 42,
   "metadata": {},
   "outputs": [
    {
     "data": {
      "text/html": [
       "<div>\n",
       "<style scoped>\n",
       "    .dataframe tbody tr th:only-of-type {\n",
       "        vertical-align: middle;\n",
       "    }\n",
       "\n",
       "    .dataframe tbody tr th {\n",
       "        vertical-align: top;\n",
       "    }\n",
       "\n",
       "    .dataframe thead th {\n",
       "        text-align: right;\n",
       "    }\n",
       "</style>\n",
       "<table border=\"1\" class=\"dataframe\">\n",
       "  <thead>\n",
       "    <tr style=\"text-align: right;\">\n",
       "      <th></th>\n",
       "      <th>group1</th>\n",
       "      <th>group2</th>\n",
       "      <th>Rsquared</th>\n",
       "    </tr>\n",
       "    <tr>\n",
       "      <th>group_pair</th>\n",
       "      <th></th>\n",
       "      <th></th>\n",
       "      <th></th>\n",
       "    </tr>\n",
       "  </thead>\n",
       "  <tbody>\n",
       "    <tr>\n",
       "      <th>(arCOG00020, arCOG00018)</th>\n",
       "      <td>arCOG00018</td>\n",
       "      <td>arCOG00020</td>\n",
       "      <td>0.826628</td>\n",
       "    </tr>\n",
       "    <tr>\n",
       "      <th>(arCOG00018, arCOG00028)</th>\n",
       "      <td>arCOG00018</td>\n",
       "      <td>arCOG00028</td>\n",
       "      <td>0.931708</td>\n",
       "    </tr>\n",
       "    <tr>\n",
       "      <th>(arCOG00018, arCOG00029)</th>\n",
       "      <td>arCOG00018</td>\n",
       "      <td>arCOG00029</td>\n",
       "      <td>0.757072</td>\n",
       "    </tr>\n",
       "    <tr>\n",
       "      <th>(arCOG00031, arCOG00018)</th>\n",
       "      <td>arCOG00018</td>\n",
       "      <td>arCOG00031</td>\n",
       "      <td>0.894787</td>\n",
       "    </tr>\n",
       "    <tr>\n",
       "      <th>(arCOG00034, arCOG00018)</th>\n",
       "      <td>arCOG00018</td>\n",
       "      <td>arCOG00034</td>\n",
       "      <td>0.910943</td>\n",
       "    </tr>\n",
       "  </tbody>\n",
       "</table>\n",
       "</div>"
      ],
      "text/plain": [
       "                              group1      group2  Rsquared\n",
       "group_pair                                                \n",
       "(arCOG00020, arCOG00018)  arCOG00018  arCOG00020  0.826628\n",
       "(arCOG00018, arCOG00028)  arCOG00018  arCOG00028  0.931708\n",
       "(arCOG00018, arCOG00029)  arCOG00018  arCOG00029  0.757072\n",
       "(arCOG00031, arCOG00018)  arCOG00018  arCOG00031  0.894787\n",
       "(arCOG00034, arCOG00018)  arCOG00018  arCOG00034  0.910943"
      ]
     },
     "execution_count": 42,
     "metadata": {},
     "output_type": "execute_result"
    }
   ],
   "source": [
    "odr_df['group_pair'] = odr_df[['group1', 'group2']].agg(frozenset, axis=1)\n",
    "odr_df.set_index('group_pair', inplace=True)\n",
    "\n",
    "odr_df.head()"
   ]
  },
  {
   "cell_type": "code",
   "execution_count": 18,
   "metadata": {},
   "outputs": [],
   "source": [
    "def get_braycurtis(pair):\n",
    "    (index1, row1), (index2, row2) = pair\n",
    "\n",
    "    taxa1 = re.findall('(?:^|,)(\\d+)', row1.members)\n",
    "    taxa2 = re.findall('(?:^|,)(\\d+)', row2.members)\n",
    "\n",
    "    freq1 = Counter(taxa1)\n",
    "    freq2 = Counter(taxa2)\n",
    "\n",
    "    freq1_input = []\n",
    "    freq2_input = []\n",
    "    for taxon in set(taxa1).union(taxa2):\n",
    "        if taxon in freq1:\n",
    "            freq1_input.append(freq1[taxon])\n",
    "        else:\n",
    "            freq1_input.append(0)\n",
    "        if taxon in freq2:\n",
    "            freq2_input.append(freq2[taxon])\n",
    "        else:\n",
    "            freq2_input.append(0)    \n",
    "            \n",
    "    return(row1.group_id, \n",
    "           row2.group_id, \n",
    "           1 - braycurtis(freq1_input, freq2_input))\n",
    "\n",
    "if not os.path.isfile('braycurtis_indices.parquet'):\n",
    "    pool               = multiprocessing.Pool(processes=10)\n",
    "    braycurtis_indices = pool.map(get_braycurtis, \n",
    "                                  itertools.combinations(few_duplications.iterrows(), 2))\n",
    "\n",
    "    braycurtis_df = pd.DataFrame(columns=['group1', 'group2', 'braycurtis'],\n",
    "                                 data   =braycurtis_indices)\n",
    "    braycurtis_df.to_parquet('braycurtis_indices.parquet')\n",
    "else:\n",
    "    braycurtis_df = pd.read_parquet('braycurtis_indices.parquet')"
   ]
  },
  {
   "cell_type": "code",
   "execution_count": 30,
   "metadata": {},
   "outputs": [
    {
     "data": {
      "text/html": [
       "<div>\n",
       "<style scoped>\n",
       "    .dataframe tbody tr th:only-of-type {\n",
       "        vertical-align: middle;\n",
       "    }\n",
       "\n",
       "    .dataframe tbody tr th {\n",
       "        vertical-align: top;\n",
       "    }\n",
       "\n",
       "    .dataframe thead th {\n",
       "        text-align: right;\n",
       "    }\n",
       "</style>\n",
       "<table border=\"1\" class=\"dataframe\">\n",
       "  <thead>\n",
       "    <tr style=\"text-align: right;\">\n",
       "      <th></th>\n",
       "      <th>group1</th>\n",
       "      <th>group2</th>\n",
       "      <th>braycurtis</th>\n",
       "    </tr>\n",
       "    <tr>\n",
       "      <th>group_pair</th>\n",
       "      <th></th>\n",
       "      <th></th>\n",
       "      <th></th>\n",
       "    </tr>\n",
       "  </thead>\n",
       "  <tbody>\n",
       "    <tr>\n",
       "      <th>(arCOG00020, arCOG00018)</th>\n",
       "      <td>arCOG00018</td>\n",
       "      <td>arCOG00020</td>\n",
       "      <td>0.850949</td>\n",
       "    </tr>\n",
       "    <tr>\n",
       "      <th>(arCOG00018, arCOG00028)</th>\n",
       "      <td>arCOG00018</td>\n",
       "      <td>arCOG00028</td>\n",
       "      <td>0.679868</td>\n",
       "    </tr>\n",
       "    <tr>\n",
       "      <th>(arCOG00018, arCOG00029)</th>\n",
       "      <td>arCOG00018</td>\n",
       "      <td>arCOG00029</td>\n",
       "      <td>0.915068</td>\n",
       "    </tr>\n",
       "    <tr>\n",
       "      <th>(arCOG00031, arCOG00018)</th>\n",
       "      <td>arCOG00018</td>\n",
       "      <td>arCOG00031</td>\n",
       "      <td>0.634615</td>\n",
       "    </tr>\n",
       "    <tr>\n",
       "      <th>(arCOG00034, arCOG00018)</th>\n",
       "      <td>arCOG00018</td>\n",
       "      <td>arCOG00034</td>\n",
       "      <td>0.859551</td>\n",
       "    </tr>\n",
       "  </tbody>\n",
       "</table>\n",
       "</div>"
      ],
      "text/plain": [
       "                              group1      group2  braycurtis\n",
       "group_pair                                                  \n",
       "(arCOG00020, arCOG00018)  arCOG00018  arCOG00020    0.850949\n",
       "(arCOG00018, arCOG00028)  arCOG00018  arCOG00028    0.679868\n",
       "(arCOG00018, arCOG00029)  arCOG00018  arCOG00029    0.915068\n",
       "(arCOG00031, arCOG00018)  arCOG00018  arCOG00031    0.634615\n",
       "(arCOG00034, arCOG00018)  arCOG00018  arCOG00034    0.859551"
      ]
     },
     "execution_count": 30,
     "metadata": {},
     "output_type": "execute_result"
    }
   ],
   "source": [
    "braycurtis_df['group_pair'] = braycurtis_df[['group1', 'group2']].agg(frozenset, axis=1)\n",
    "braycurtis_df.set_index('group_pair', inplace=True)\n",
    "braycurtis_df.head()"
   ]
  },
  {
   "cell_type": "code",
   "execution_count": 43,
   "metadata": {},
   "outputs": [
    {
     "data": {
      "text/html": [
       "<div>\n",
       "<style scoped>\n",
       "    .dataframe tbody tr th:only-of-type {\n",
       "        vertical-align: middle;\n",
       "    }\n",
       "\n",
       "    .dataframe tbody tr th {\n",
       "        vertical-align: top;\n",
       "    }\n",
       "\n",
       "    .dataframe thead th {\n",
       "        text-align: right;\n",
       "    }\n",
       "</style>\n",
       "<table border=\"1\" class=\"dataframe\">\n",
       "  <thead>\n",
       "    <tr style=\"text-align: right;\">\n",
       "      <th></th>\n",
       "      <th>group1</th>\n",
       "      <th>group2</th>\n",
       "      <th>Rsquared</th>\n",
       "      <th>braycurtis</th>\n",
       "      <th>coevol_metric</th>\n",
       "    </tr>\n",
       "    <tr>\n",
       "      <th>group_pair</th>\n",
       "      <th></th>\n",
       "      <th></th>\n",
       "      <th></th>\n",
       "      <th></th>\n",
       "      <th></th>\n",
       "    </tr>\n",
       "  </thead>\n",
       "  <tbody>\n",
       "    <tr>\n",
       "      <th>(arCOG00020, arCOG00018)</th>\n",
       "      <td>arCOG00018</td>\n",
       "      <td>arCOG00020</td>\n",
       "      <td>0.826628</td>\n",
       "      <td>0.850949</td>\n",
       "      <td>0.598573</td>\n",
       "    </tr>\n",
       "    <tr>\n",
       "      <th>(arCOG00018, arCOG00028)</th>\n",
       "      <td>arCOG00018</td>\n",
       "      <td>arCOG00028</td>\n",
       "      <td>0.931708</td>\n",
       "      <td>0.679868</td>\n",
       "      <td>0.430654</td>\n",
       "    </tr>\n",
       "    <tr>\n",
       "      <th>(arCOG00018, arCOG00029)</th>\n",
       "      <td>arCOG00018</td>\n",
       "      <td>arCOG00029</td>\n",
       "      <td>0.757072</td>\n",
       "      <td>0.915068</td>\n",
       "      <td>0.633934</td>\n",
       "    </tr>\n",
       "    <tr>\n",
       "      <th>(arCOG00031, arCOG00018)</th>\n",
       "      <td>arCOG00018</td>\n",
       "      <td>arCOG00031</td>\n",
       "      <td>0.894787</td>\n",
       "      <td>0.634615</td>\n",
       "      <td>0.360364</td>\n",
       "    </tr>\n",
       "    <tr>\n",
       "      <th>(arCOG00034, arCOG00018)</th>\n",
       "      <td>arCOG00018</td>\n",
       "      <td>arCOG00034</td>\n",
       "      <td>0.910943</td>\n",
       "      <td>0.859551</td>\n",
       "      <td>0.673029</td>\n",
       "    </tr>\n",
       "  </tbody>\n",
       "</table>\n",
       "</div>"
      ],
      "text/plain": [
       "                              group1      group2  Rsquared  braycurtis  \\\n",
       "group_pair                                                               \n",
       "(arCOG00020, arCOG00018)  arCOG00018  arCOG00020  0.826628    0.850949   \n",
       "(arCOG00018, arCOG00028)  arCOG00018  arCOG00028  0.931708    0.679868   \n",
       "(arCOG00018, arCOG00029)  arCOG00018  arCOG00029  0.757072    0.915068   \n",
       "(arCOG00031, arCOG00018)  arCOG00018  arCOG00031  0.894787    0.634615   \n",
       "(arCOG00034, arCOG00018)  arCOG00018  arCOG00034  0.910943    0.859551   \n",
       "\n",
       "                          coevol_metric  \n",
       "group_pair                               \n",
       "(arCOG00020, arCOG00018)       0.598573  \n",
       "(arCOG00018, arCOG00028)       0.430654  \n",
       "(arCOG00018, arCOG00029)       0.633934  \n",
       "(arCOG00031, arCOG00018)       0.360364  \n",
       "(arCOG00034, arCOG00018)       0.673029  "
      ]
     },
     "execution_count": 43,
     "metadata": {},
     "output_type": "execute_result"
    }
   ],
   "source": [
    "odr_df = odr_df.join(braycurtis_df.braycurtis)\n",
    "odr_df['coevol_metric'] = odr_df.Rsquared * (odr_df.braycurtis**2)\n",
    "\n",
    "odr_df.head()"
   ]
  },
  {
   "cell_type": "code",
   "execution_count": 46,
   "metadata": {},
   "outputs": [],
   "source": [
    "data_columns = ['Rsquared', 'coevol_metric', 'braycurtis']"
   ]
  },
  {
   "cell_type": "code",
   "execution_count": 39,
   "metadata": {},
   "outputs": [],
   "source": [
    "string = pd.read_parquet('few_duplications-string.parquet')\n",
    "\n",
    "string['group_pair'] = string[['group1', 'group2']].agg(frozenset, axis=1)\n",
    "string.drop_duplicates(subset='group_pair', inplace=True)\n",
    "\n",
    "# strongly_related = string.query('combined_score >= 900')\n",
    "# weakly_related   = string.query('combined_score <= 200')\n",
    "\n",
    "neighors     = string.query('neighborhood >= 700')\n",
    "not_neighors = string.query('neighborhood <= 200')"
   ]
  },
  {
   "cell_type": "code",
   "execution_count": null,
   "metadata": {},
   "outputs": [],
   "source": []
  },
  {
   "cell_type": "code",
   "execution_count": 54,
   "metadata": {},
   "outputs": [
    {
     "data": {
      "image/png": "[encoded data removed]",
      "text/plain": [
       "<Figure size 720x720 with 2 Axes>"
      ]
     },
     "metadata": {
      "needs_background": "light"
     },
     "output_type": "display_data"
    }
   ],
   "source": [
    "fig, axs = plt.subplots(nrows=2, figsize=(10,10))\n",
    "for ax, column in zip(axs, data_columns):\n",
    "    \n",
    "    neighors     = string.query('neighborhood >= 700')\n",
    "    not_neighors = string.query('neighborhood <= 200')\n",
    "\n",
    "    neighors_odr     = odr_df.query('group_pair in @neighors.group_pair'    )[column].values\n",
    "    not_neighors_odr = odr_df.query('group_pair in @not_neighors.group_pair')[column].values\n",
    "\n",
    "    hypothesis = mannwhitneyu(not_neighors_odr,\n",
    "                              neighors_odr)\n",
    "    effect_size = cles(not_neighors_odr, neighors_odr)\n",
    "\n",
    "    sns.kdeplot(neighors_odr, shade=True,     label=f'{len(neighors_odr)} neighbor pairs',     ax=ax)\n",
    "    sns.kdeplot(not_neighors_odr, shade=True, label=f'{len(not_neighors_odr)} not neighbor pairs', ax=ax)\n",
    "\n",
    "    if column == 'Rsquared':\n",
    "        ax.set_title(f'ODR Rˆ2 between gene families ($p={hypothesis.pvalue:.2f}$ and $f={effect_size:.2f}$)');\n",
    "    else:\n",
    "        ax.set_title(f'adjusted ODR Rˆ2 between gene families ($p={hypothesis.pvalue:.2f}$ and $f={effect_size:.2f}$)');"
   ]
  },
  {
   "cell_type": "code",
   "execution_count": null,
   "metadata": {},
   "outputs": [],
   "source": []
  },
  {
   "cell_type": "code",
   "execution_count": 55,
   "metadata": {},
   "outputs": [
    {
     "data": {
      "image/png": "[encoded data removed]",
      "text/plain": [
       "<Figure size 720x720 with 2 Axes>"
      ]
     },
     "metadata": {
      "needs_background": "light"
     },
     "output_type": "display_data"
    }
   ],
   "source": [
    "fig, axs = plt.subplots(nrows=2, figsize=(10,10))\n",
    "for ax, column in zip(axs, data_columns):\n",
    "    \n",
    "    coexpressed     = string.query('coexpression >= 700')\n",
    "    not_coexpressed = string.query('coexpression <= 200')\n",
    "\n",
    "    coexpressed_odr     = odr_df.query('group_pair in @coexpressed.group_pair'    )[column].values\n",
    "    not_coexpressed_odr = odr_df.query('group_pair in @not_coexpressed.group_pair')[column].values\n",
    "\n",
    "    hypothesis = mannwhitneyu(not_coexpressed_odr,\n",
    "                              coexpressed_odr)\n",
    "    effect_size = cles(not_coexpressed_odr, coexpressed_odr)\n",
    "\n",
    "    sns.kdeplot(coexpressed_odr, shade=True,     label=f'{len(coexpressed_odr)} coexpressed pairs', ax=ax)\n",
    "    sns.kdeplot(not_coexpressed_odr, shade=True, label=f'{len(not_coexpressed_odr)} not coexpressed pairs', ax=ax)\n",
    "\n",
    "    if column == 'Rsquared':\n",
    "        ax.set_title(f'ODR Rˆ2 between gene families ($p={hypothesis.pvalue:.2f}$ and $f={effect_size:.2f}$)');\n",
    "    else:\n",
    "        ax.set_title(f'adjusted ODR Rˆ2 between gene families ($p={hypothesis.pvalue:.2f}$ and $f={effect_size:.2f}$)');"
   ]
  }
 ],
 "metadata": {
  "kernelspec": {
   "display_name": "Python 3",
   "language": "python",
   "name": "python3"
  },
  "language_info": {
   "codemirror_mode": {
    "name": "ipython",
    "version": 3
   },
   "file_extension": ".py",
   "mimetype": "text/x-python",
   "name": "python",
   "nbconvert_exporter": "python",
   "pygments_lexer": "ipython3",
   "version": "3.7.1"
  }
 },
 "nbformat": 4,
 "nbformat_minor": 2
}
