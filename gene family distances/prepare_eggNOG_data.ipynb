{
 "cells": [
  {
   "cell_type": "code",
   "execution_count": 1,
   "metadata": {},
   "outputs": [
    {
     "name": "stdout",
     "output_type": "stream",
     "text": [
      "/work/clusterEvo/new_tests/eggNOG\n"
     ]
    }
   ],
   "source": [
    "from matplotlib import pyplot as plt\n",
    "import seaborn as sns\n",
    "import pandas  as pd\n",
    "import numpy   as np\n",
    "import os\n",
    "import re\n",
    "import itertools\n",
    "from scipy.spatial.distance import squareform\n",
    "\n",
    "%cd /work/clusterEvo/new_tests/eggNOG/"
   ]
  },
  {
   "cell_type": "code",
   "execution_count": 2,
   "metadata": {},
   "outputs": [],
   "source": [
    "eggNOG_groups = pd.read_csv('2157_members.tsv',\n",
    "                            sep='\\t',\n",
    "                            header=None,\n",
    "                            usecols=[1,2,3,4],\n",
    "                            names=['group_id', 'num_proteins', 'num_taxa', 'members'])\n",
    "\n",
    "tmp           = eggNOG_groups.members.map(lambda cell: [int(taxid) \n",
    "                                                        for taxid in re.findall('(\\d+)\\.(?:[^,]+)', cell)])\n",
    "tmp.name      = 'taxa'\n",
    "eggNOG_groups = eggNOG_groups.join(tmp)"
   ]
  },
  {
   "cell_type": "code",
   "execution_count": 25,
   "metadata": {},
   "outputs": [
    {
     "data": {
      "text/html": [
       "<div>\n",
       "<style scoped>\n",
       "    .dataframe tbody tr th:only-of-type {\n",
       "        vertical-align: middle;\n",
       "    }\n",
       "\n",
       "    .dataframe tbody tr th {\n",
       "        vertical-align: top;\n",
       "    }\n",
       "\n",
       "    .dataframe thead th {\n",
       "        text-align: right;\n",
       "    }\n",
       "</style>\n",
       "<table border=\"1\" class=\"dataframe\">\n",
       "  <thead>\n",
       "    <tr style=\"text-align: right;\">\n",
       "      <th></th>\n",
       "      <th>group_id</th>\n",
       "      <th>num_proteins</th>\n",
       "      <th>num_taxa</th>\n",
       "      <th>members</th>\n",
       "      <th>taxa</th>\n",
       "    </tr>\n",
       "  </thead>\n",
       "  <tbody>\n",
       "    <tr>\n",
       "      <th>1277</th>\n",
       "      <td>arCOG00079</td>\n",
       "      <td>112</td>\n",
       "      <td>112</td>\n",
       "      <td>1041930.Mtc_1976,1054217.TALC_01539,1070774.J0...</td>\n",
       "      <td>[1041930, 1054217, 1070774, 1071085, 1094980, ...</td>\n",
       "    </tr>\n",
       "    <tr>\n",
       "      <th>1279</th>\n",
       "      <td>arCOG00081</td>\n",
       "      <td>166</td>\n",
       "      <td>166</td>\n",
       "      <td>1006006.Mcup_0318,1033806.HTIA_0777,1041930.Mt...</td>\n",
       "      <td>[1006006, 1033806, 1041930, 1042877, 1054217, ...</td>\n",
       "    </tr>\n",
       "    <tr>\n",
       "      <th>1519</th>\n",
       "      <td>arCOG00354</td>\n",
       "      <td>112</td>\n",
       "      <td>112</td>\n",
       "      <td>1033806.HTIA_1426,1041930.Mtc_0671,1042877.GQS...</td>\n",
       "      <td>[1033806, 1041930, 1042877, 1070774, 1071085, ...</td>\n",
       "    </tr>\n",
       "    <tr>\n",
       "      <th>1520</th>\n",
       "      <td>arCOG00355</td>\n",
       "      <td>106</td>\n",
       "      <td>106</td>\n",
       "      <td>1033806.HTIA_0952,1041930.Mtc_0275,1042877.GQS...</td>\n",
       "      <td>[1033806, 1041930, 1042877, 1070774, 1071085, ...</td>\n",
       "    </tr>\n",
       "    <tr>\n",
       "      <th>1561</th>\n",
       "      <td>arCOG00410</td>\n",
       "      <td>168</td>\n",
       "      <td>168</td>\n",
       "      <td>1006006.Mcup_0164,1033806.HTIA_1385,1041930.Mt...</td>\n",
       "      <td>[1006006, 1033806, 1041930, 1042877, 1054217, ...</td>\n",
       "    </tr>\n",
       "  </tbody>\n",
       "</table>\n",
       "</div>"
      ],
      "text/plain": [
       "        group_id  num_proteins  num_taxa  \\\n",
       "1277  arCOG00079           112       112   \n",
       "1279  arCOG00081           166       166   \n",
       "1519  arCOG00354           112       112   \n",
       "1520  arCOG00355           106       106   \n",
       "1561  arCOG00410           168       168   \n",
       "\n",
       "                                                members  \\\n",
       "1277  1041930.Mtc_1976,1054217.TALC_01539,1070774.J0...   \n",
       "1279  1006006.Mcup_0318,1033806.HTIA_0777,1041930.Mt...   \n",
       "1519  1033806.HTIA_1426,1041930.Mtc_0671,1042877.GQS...   \n",
       "1520  1033806.HTIA_0952,1041930.Mtc_0275,1042877.GQS...   \n",
       "1561  1006006.Mcup_0164,1033806.HTIA_1385,1041930.Mt...   \n",
       "\n",
       "                                                   taxa  \n",
       "1277  [1041930, 1054217, 1070774, 1071085, 1094980, ...  \n",
       "1279  [1006006, 1033806, 1041930, 1042877, 1054217, ...  \n",
       "1519  [1033806, 1041930, 1042877, 1070774, 1071085, ...  \n",
       "1520  [1033806, 1041930, 1042877, 1070774, 1071085, ...  \n",
       "1561  [1006006, 1033806, 1041930, 1042877, 1054217, ...  "
      ]
     },
     "execution_count": 25,
     "metadata": {},
     "output_type": "execute_result"
    }
   ],
   "source": [
    "single_copy = eggNOG_groups.query('(num_proteins==num_taxa) &'\n",
    "                                  '(num_taxa >= 100)')\n",
    "\n",
    "single_copy.head()"
   ]
  },
  {
   "cell_type": "code",
   "execution_count": 26,
   "metadata": {},
   "outputs": [],
   "source": [
    "eggNOG_trees = pd.read_csv('2157_trees.tsv',\n",
    "                           sep      ='\\t',\n",
    "                           header   =None,\n",
    "                           usecols  =[1,2,3],\n",
    "                           index_col=0,\n",
    "                           names    =['group_id', 'fast', 'tree'])\n",
    "eggNOG_trees = eggNOG_trees.reindex(index=single_copy.group_id)"
   ]
  },
  {
   "cell_type": "code",
   "execution_count": 27,
   "metadata": {},
   "outputs": [],
   "source": [
    "if not os.path.isdir('trees/'):\n",
    "    os.mkdir('trees/')\n",
    "    \n",
    "for index, row in eggNOG_trees.iterrows():\n",
    "    with open(f'trees/{index}.nwk', 'w') as out:\n",
    "        out.write(re.sub('([(),]\\d+)\\.[^:]+', r'\\1', row.tree))"
   ]
  },
  {
   "cell_type": "code",
   "execution_count": 29,
   "metadata": {},
   "outputs": [],
   "source": [
    "if not os.path.isdir('alignments/'):\n",
    "    os.mkdir('alignments/')\n",
    "\n",
    "for group_id in eggNOG_trees.index:\n",
    "    with open(f'alignments/{group_id}.fas', 'w') as out:\n",
    "        for taxon in eggNOG_groups.query(f'group_id==\"{group_id}\"')['taxa'].squeeze():\n",
    "            out.write(f'>{taxon}\\n-\\n')"
   ]
  }
 ],
 "metadata": {
  "kernelspec": {
   "display_name": "Python 3",
   "language": "python",
   "name": "python3"
  },
  "language_info": {
   "codemirror_mode": {
    "name": "ipython",
    "version": 3
   },
   "file_extension": ".py",
   "mimetype": "text/x-python",
   "name": "python",
   "nbconvert_exporter": "python",
   "pygments_lexer": "ipython3",
   "version": "3.7.1"
  }
 },
 "nbformat": 4,
 "nbformat_minor": 2
}
