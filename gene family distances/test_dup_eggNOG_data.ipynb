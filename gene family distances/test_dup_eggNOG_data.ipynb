{
 "cells": [
  {
   "cell_type": "code",
   "execution_count": 1,
   "metadata": {},
   "outputs": [
    {
     "name": "stdout",
     "output_type": "stream",
     "text": [
      "/work/clusterEvo/new_tests/eggNOG\n"
     ]
    }
   ],
   "source": [
    "from matplotlib import pyplot as plt\n",
    "import seaborn as sns\n",
    "import pandas  as pd\n",
    "import numpy   as np\n",
    "import os\n",
    "import re\n",
    "import itertools\n",
    "from scipy.spatial.distance import squareform\n",
    "from collections import Counter\n",
    "import ete3\n",
    "\n",
    "%run /work/jupyter_notebooks/gene\\ family\\ distances/correlate_evolution.ipynb\n",
    "%cd  /work/clusterEvo/new_tests/eggNOG/"
   ]
  },
  {
   "cell_type": "code",
   "execution_count": 2,
   "metadata": {},
   "outputs": [],
   "source": [
    "import plotly\n",
    "import chart_studio.plotly as ptl\n",
    "import plotly.graph_objects as go\n",
    "\n",
    "ptl.sign_in('lthiberiol', 'm15ikp59lt')"
   ]
  },
  {
   "cell_type": "code",
   "execution_count": 3,
   "metadata": {},
   "outputs": [],
   "source": [
    "eggNOG_groups = pd.read_csv('2157_members.tsv',\n",
    "                            sep='\\t',\n",
    "                            header=None,\n",
    "                            usecols=[1,2,3,4],\n",
    "                            names=['group_id', 'num_proteins', 'num_taxa', 'members'])\n",
    "\n",
    "tmp           = eggNOG_groups.members.map(lambda cell: [int(taxid) \n",
    "                                                        for taxid in re.findall('(\\d+)\\.(?:[^,]+)', cell)])\n",
    "tmp.name      = 'taxa'\n",
    "eggNOG_groups = eggNOG_groups.join(tmp)"
   ]
  },
  {
   "cell_type": "code",
   "execution_count": 4,
   "metadata": {},
   "outputs": [
    {
     "name": "stdout",
     "output_type": "stream",
     "text": [
      "(31, 5)\n"
     ]
    },
    {
     "data": {
      "text/html": [
       "<div>\n",
       "<style scoped>\n",
       "    .dataframe tbody tr th:only-of-type {\n",
       "        vertical-align: middle;\n",
       "    }\n",
       "\n",
       "    .dataframe tbody tr th {\n",
       "        vertical-align: top;\n",
       "    }\n",
       "\n",
       "    .dataframe thead th {\n",
       "        text-align: right;\n",
       "    }\n",
       "</style>\n",
       "<table border=\"1\" class=\"dataframe\">\n",
       "  <thead>\n",
       "    <tr style=\"text-align: right;\">\n",
       "      <th></th>\n",
       "      <th>group_id</th>\n",
       "      <th>num_proteins</th>\n",
       "      <th>num_taxa</th>\n",
       "      <th>members</th>\n",
       "      <th>taxa</th>\n",
       "    </tr>\n",
       "  </thead>\n",
       "  <tbody>\n",
       "    <tr>\n",
       "      <th>1392</th>\n",
       "      <td>arCOG00207</td>\n",
       "      <td>11</td>\n",
       "      <td>10</td>\n",
       "      <td>1104324.P186_0784,1104324.P186_1686,1198449.AC...</td>\n",
       "      <td>[1104324, 1104324, 1198449, 178306, 272557, 41...</td>\n",
       "    </tr>\n",
       "    <tr>\n",
       "      <th>1724</th>\n",
       "      <td>arCOG00599</td>\n",
       "      <td>11</td>\n",
       "      <td>10</td>\n",
       "      <td>178306.PAE0153,178306.PAE1775,368408.Tpen_1003...</td>\n",
       "      <td>[178306, 178306, 368408, 384616, 397948, 41035...</td>\n",
       "    </tr>\n",
       "    <tr>\n",
       "      <th>2260</th>\n",
       "      <td>arCOG01211</td>\n",
       "      <td>11</td>\n",
       "      <td>10</td>\n",
       "      <td>1104324.P186_0847,1365176.N186_06385,178306.PA...</td>\n",
       "      <td>[1104324, 1365176, 178306, 368408, 368408, 391...</td>\n",
       "    </tr>\n",
       "    <tr>\n",
       "      <th>3009</th>\n",
       "      <td>arCOG02069</td>\n",
       "      <td>11</td>\n",
       "      <td>10</td>\n",
       "      <td>1202768.JROF01000004_gene3179,1220534.B655_117...</td>\n",
       "      <td>[1202768, 1220534, 1227453, 192952, 269797, 41...</td>\n",
       "    </tr>\n",
       "    <tr>\n",
       "      <th>3449</th>\n",
       "      <td>arCOG02623</td>\n",
       "      <td>11</td>\n",
       "      <td>10</td>\n",
       "      <td>1006006.Mcup_0813,273057.SSO1595,273063.STK_20...</td>\n",
       "      <td>[1006006, 273057, 273063, 330779, 399549, 4535...</td>\n",
       "    </tr>\n",
       "  </tbody>\n",
       "</table>\n",
       "</div>"
      ],
      "text/plain": [
       "        group_id  num_proteins  num_taxa  \\\n",
       "1392  arCOG00207            11        10   \n",
       "1724  arCOG00599            11        10   \n",
       "2260  arCOG01211            11        10   \n",
       "3009  arCOG02069            11        10   \n",
       "3449  arCOG02623            11        10   \n",
       "\n",
       "                                                members  \\\n",
       "1392  1104324.P186_0784,1104324.P186_1686,1198449.AC...   \n",
       "1724  178306.PAE0153,178306.PAE1775,368408.Tpen_1003...   \n",
       "2260  1104324.P186_0847,1365176.N186_06385,178306.PA...   \n",
       "3009  1202768.JROF01000004_gene3179,1220534.B655_117...   \n",
       "3449  1006006.Mcup_0813,273057.SSO1595,273063.STK_20...   \n",
       "\n",
       "                                                   taxa  \n",
       "1392  [1104324, 1104324, 1198449, 178306, 272557, 41...  \n",
       "1724  [178306, 178306, 368408, 384616, 397948, 41035...  \n",
       "2260  [1104324, 1365176, 178306, 368408, 368408, 391...  \n",
       "3009  [1202768, 1220534, 1227453, 192952, 269797, 41...  \n",
       "3449  [1006006, 273057, 273063, 330779, 399549, 4535...  "
      ]
     },
     "execution_count": 4,
     "metadata": {},
     "output_type": "execute_result"
    }
   ],
   "source": [
    "one_duplication = eggNOG_groups.query('(num_proteins == num_taxa+1) &'\n",
    "                                      '(num_taxa >= 10) &'\n",
    "                                      '(num_taxa <= 10)')\n",
    "# single_copy.to_csv('single_copy_genes.tsv', sep='\\t')\n",
    "print(one_duplication.shape)\n",
    "one_duplication.head()"
   ]
  },
  {
   "cell_type": "code",
   "execution_count": 5,
   "metadata": {},
   "outputs": [],
   "source": [
    "def taxa_jaccard(ids):\n",
    "    taxon_set1 = set(one_duplication.loc[one_duplication.group_id==ids[0],\n",
    "                                         'taxa'].squeeze())\n",
    "    taxon_set2 = set(one_duplication.loc[one_duplication.group_id==ids[1],\n",
    "                                         'taxa'].squeeze())\n",
    "    \n",
    "    j_index = len(\n",
    "        taxon_set1.intersection(taxon_set2)\n",
    "    ) / len(\n",
    "        taxon_set1.union(taxon_set2)\n",
    "    )\n",
    "    \n",
    "    return(j_index)"
   ]
  },
  {
   "cell_type": "code",
   "execution_count": 6,
   "metadata": {},
   "outputs": [],
   "source": [
    "group1, group2, j_indices = [], [], []\n",
    "for ids in itertools.combinations(one_duplication.group_id.values, 2):\n",
    "    j_indices.append(taxa_jaccard(ids))\n",
    "    group1.append(ids[0])\n",
    "    group2.append(ids[1])"
   ]
  },
  {
   "cell_type": "code",
   "execution_count": 7,
   "metadata": {},
   "outputs": [],
   "source": [
    "jaccard_df = pd.DataFrame(columns=[  'group1', 'group2', 'jaccard'],\n",
    "                          data   =zip(group1,   group2,   j_indices))"
   ]
  },
  {
   "cell_type": "code",
   "execution_count": 8,
   "metadata": {},
   "outputs": [
    {
     "data": {
      "text/html": [
       "<div>\n",
       "<style scoped>\n",
       "    .dataframe tbody tr th:only-of-type {\n",
       "        vertical-align: middle;\n",
       "    }\n",
       "\n",
       "    .dataframe tbody tr th {\n",
       "        vertical-align: top;\n",
       "    }\n",
       "\n",
       "    .dataframe thead th {\n",
       "        text-align: right;\n",
       "    }\n",
       "</style>\n",
       "<table border=\"1\" class=\"dataframe\">\n",
       "  <thead>\n",
       "    <tr style=\"text-align: right;\">\n",
       "      <th></th>\n",
       "      <th>group1</th>\n",
       "      <th>group2</th>\n",
       "      <th>jaccard</th>\n",
       "    </tr>\n",
       "  </thead>\n",
       "  <tbody>\n",
       "    <tr>\n",
       "      <th>41</th>\n",
       "      <td>arCOG00599</td>\n",
       "      <td>arCOG05535</td>\n",
       "      <td>0.818182</td>\n",
       "    </tr>\n",
       "    <tr>\n",
       "      <th>294</th>\n",
       "      <td>arCOG05433</td>\n",
       "      <td>arCOG05535</td>\n",
       "      <td>0.818182</td>\n",
       "    </tr>\n",
       "  </tbody>\n",
       "</table>\n",
       "</div>"
      ],
      "text/plain": [
       "         group1      group2   jaccard\n",
       "41   arCOG00599  arCOG05535  0.818182\n",
       "294  arCOG05433  arCOG05535  0.818182"
      ]
     },
     "execution_count": 8,
     "metadata": {},
     "output_type": "execute_result"
    }
   ],
   "source": [
    "jaccard_df.query('jaccard >= 0.7')"
   ]
  },
  {
   "cell_type": "code",
   "execution_count": 9,
   "metadata": {},
   "outputs": [],
   "source": [
    "eggNOG_trees = pd.read_csv('2157_trees.tsv',\n",
    "                           sep      ='\\t',\n",
    "                           header   =None,\n",
    "                           usecols  =[1,2,3],\n",
    "                           index_col=0,\n",
    "                           names    =['group_id', 'fast', 'tree'])\n",
    "eggNOG_trees = eggNOG_trees.reindex(index=one_duplication.group_id)"
   ]
  },
  {
   "cell_type": "code",
   "execution_count": 10,
   "metadata": {},
   "outputs": [],
   "source": [
    "m1 = get_matrix_from_tree(\n",
    "    ete3.Tree(eggNOG_trees.loc['arCOG05535',\n",
    "                               'tree'])\n",
    ")\n",
    "\n",
    "m2 = get_matrix_from_tree(\n",
    "    ete3.Tree(eggNOG_trees.loc['arCOG00599',\n",
    "                               'tree'])\n",
    ")\n",
    "\n",
    "m3 = get_matrix_from_tree(\n",
    "    ete3.Tree(eggNOG_trees.loc['arCOG05433',\n",
    "                               'tree'])\n",
    ")"
   ]
  },
  {
   "cell_type": "code",
   "execution_count": 40,
   "metadata": {},
   "outputs": [],
   "source": [
    "%run /work/jupyter_notebooks/gene\\ family\\ distances/correlate_evolution.ipynb"
   ]
  },
  {
   "cell_type": "code",
   "execution_count": 54,
   "metadata": {},
   "outputs": [],
   "source": [
    "matrix1 = m1.copy()\n",
    "matrix2 = m2.copy()\n",
    "matrix2.drop(index='178306.PAE1775',\n",
    "             columns='178306.PAE1775',\n",
    "             inplace=True)"
   ]
  },
  {
   "cell_type": "code",
   "execution_count": 55,
   "metadata": {},
   "outputs": [],
   "source": [
    "matrix1, taxa1, matrix2, taxax2 = balance_matrices(matrix1, matrix2, gene_sep='.')"
   ]
  },
  {
   "cell_type": "code",
   "execution_count": 56,
   "metadata": {},
   "outputs": [],
   "source": [
    "triu_indices = np.triu_indices_from(matrix1, k=1)\n",
    "condensed1   = matrix1.values[triu_indices]\n",
    "condensed2   = matrix2.values[triu_indices]\n",
    "\n",
    "matrix1_label = [f'{index1} VS {index2}' for index1, index2 in zip(matrix1.index[triu_indices[0]],\n",
    "                                                                   matrix1.index[triu_indices[1]])]\n",
    "matrix2_label = [f'{index1} VS {index2}' for index1, index2 in zip(matrix2.index[triu_indices[0]],\n",
    "                                                                   matrix2.index[triu_indices[1]])]\n",
    "\n",
    "combined_labels = [f'{label1}<br>{label2}' for label1, label2 in zip(matrix1_label,\n",
    "                                                                   matrix2_label)]\n",
    "\n",
    "node_color = ['red' if '178306' in label else 'black' for label in combined_labels]"
   ]
  },
  {
   "cell_type": "code",
   "execution_count": 57,
   "metadata": {},
   "outputs": [],
   "source": [
    "node_color = []\n",
    "for label in matrix1_label:\n",
    "    \n",
    "    if label.count('178306') > 1:\n",
    "        node_color.append('blue')\n",
    "    elif '178306.PAE0154'  in label:\n",
    "        node_color.append('red')\n",
    "    elif '178306.PAE1775a' in label:\n",
    "        node_color.append('green')\n",
    "    else:\n",
    "        node_color.append('black')\n",
    "        \n",
    "node_shape = []\n",
    "for label in matrix2_label:\n",
    "    \n",
    "    if label.count('178306') > 1:\n",
    "        node_shape.append('diamond')\n",
    "    elif '178306.PAE0153'  in label:\n",
    "        node_shape.append('cross')\n",
    "    elif '178306.PAE1775' in label:\n",
    "        node_shape.append('triangle-up')\n",
    "    else:\n",
    "        node_shape.append('circle')\n"
   ]
  },
  {
   "cell_type": "code",
   "execution_count": 58,
   "metadata": {},
   "outputs": [],
   "source": [
    "node_x      = condensed1.copy()\n",
    "node_y      = condensed2.copy()\n",
    "node_text   = combined_labels\n",
    "    \n",
    "node_trace = go.Scatter(\n",
    "    x        =node_x, \n",
    "    y        =node_y,\n",
    "    text     =node_text,\n",
    "    mode     ='markers',\n",
    "    name     ='Proteins',\n",
    "    hoverinfo='text',\n",
    "    opacity  =0.7,\n",
    "    marker   =dict(symbol      =node_shape,\n",
    "                   color       =node_color,\n",
    "                   size        =10,\n",
    "                   line_width  =1,\n",
    "                   line_color  ='white')\n",
    ")"
   ]
  },
  {
   "cell_type": "code",
   "execution_count": 59,
   "metadata": {},
   "outputs": [
    {
     "data": {
      "text/plain": [
       "'/Users/thiberio/test.html'"
      ]
     },
     "execution_count": 59,
     "metadata": {},
     "output_type": "execute_result"
    }
   ],
   "source": [
    "fig = go.Figure(data=[node_trace], # here is important to add edges first so they don't cover nodes\n",
    "                layout=go.Layout(template          ='simple_white',\n",
    "                                 title             ='Test',\n",
    "                                 titlefont_size    =16,\n",
    "                                 showlegend        =True,\n",
    "                                 legend_orientation='h',\n",
    "                                 hovermode         ='closest',\n",
    "                                 margin            =dict(b=20,\n",
    "                                                         l=5,\n",
    "                                                         r=5,\n",
    "                                                         t=40),\n",
    "#                                  xaxis             =dict(showgrid     =False,\n",
    "#                                                          zeroline     =False,\n",
    "#                                                          showticklabels=False),\n",
    "#                                  yaxis             =dict(showgrid      =False, \n",
    "#                                                          zeroline      =False, \n",
    "#                                                          showticklabels=False)\n",
    "                                )\n",
    "                )\n",
    "\n",
    "plotly.offline.plot(fig, filename='/Users/thiberio/test.html', config={'scrollZoom': True}, auto_open=False)"
   ]
  }
 ],
 "metadata": {
  "kernelspec": {
   "display_name": "Python 3",
   "language": "python",
   "name": "python3"
  },
  "language_info": {
   "codemirror_mode": {
    "name": "ipython",
    "version": 3
   },
   "file_extension": ".py",
   "mimetype": "text/x-python",
   "name": "python",
   "nbconvert_exporter": "python",
   "pygments_lexer": "ipython3",
   "version": "3.7.1"
  }
 },
 "nbformat": 4,
 "nbformat_minor": 2
}
