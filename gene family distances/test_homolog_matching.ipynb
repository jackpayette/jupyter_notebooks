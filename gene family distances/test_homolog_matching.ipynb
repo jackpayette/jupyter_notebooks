{
 "cells": [
  {
   "cell_type": "code",
   "execution_count": 2,
   "metadata": {},
   "outputs": [
    {
     "name": "stdout",
     "output_type": "stream",
     "text": [
      "/work/clusterEvo/new_tests/eggNOG/duplications\n"
     ]
    }
   ],
   "source": [
    "%run /work/jupyter_notebooks/gene\\ family\\ distances/correlate_evolution.ipynb\n",
    "\n",
    "%cd /work/clusterEvo/new_tests/eggNOG/duplications/"
   ]
  },
  {
   "cell_type": "code",
   "execution_count": 3,
   "metadata": {},
   "outputs": [],
   "source": [
    "import multiprocessing\n",
    "import itertools\n",
    "import pandas as pd\n",
    "import plotly\n",
    "from scipy.stats import pearsonr, mannwhitneyu\n",
    "from scipy.spatial.distance import braycurtis\n",
    "import igraph as ig\n",
    "from Bio import SeqIO\n",
    "import requests\n",
    "from ftplib import FTP\n",
    "from time import sleep"
   ]
  },
  {
   "cell_type": "code",
   "execution_count": 4,
   "metadata": {},
   "outputs": [
    {
     "data": {
      "text/html": [
       "<div>\n",
       "<style scoped>\n",
       "    .dataframe tbody tr th:only-of-type {\n",
       "        vertical-align: middle;\n",
       "    }\n",
       "\n",
       "    .dataframe tbody tr th {\n",
       "        vertical-align: top;\n",
       "    }\n",
       "\n",
       "    .dataframe thead th {\n",
       "        text-align: right;\n",
       "    }\n",
       "</style>\n",
       "<table border=\"1\" class=\"dataframe\">\n",
       "  <thead>\n",
       "    <tr style=\"text-align: right;\">\n",
       "      <th></th>\n",
       "      <th>group_id</th>\n",
       "      <th>num_proteins</th>\n",
       "      <th>num_taxa</th>\n",
       "      <th>members</th>\n",
       "      <th>taxa</th>\n",
       "    </tr>\n",
       "  </thead>\n",
       "  <tbody>\n",
       "    <tr>\n",
       "      <th>1217</th>\n",
       "      <td>arCOG00018</td>\n",
       "      <td>195</td>\n",
       "      <td>166</td>\n",
       "      <td>1006006.Mcup_1244,1033806.HTIA_0702,1041930.Mt...</td>\n",
       "      <td>[1006006, 1033806, 1041930, 1042877, 1054217, ...</td>\n",
       "    </tr>\n",
       "    <tr>\n",
       "      <th>1219</th>\n",
       "      <td>arCOG00020</td>\n",
       "      <td>174</td>\n",
       "      <td>158</td>\n",
       "      <td>1006006.Mcup_1524,1006006.Mcup_1889,1041930.Mt...</td>\n",
       "      <td>[1006006, 1006006, 1041930, 1042877, 1054217, ...</td>\n",
       "    </tr>\n",
       "    <tr>\n",
       "      <th>1227</th>\n",
       "      <td>arCOG00028</td>\n",
       "      <td>108</td>\n",
       "      <td>103</td>\n",
       "      <td>1041930.Mtc_2182,1070774.J07HN4v3_02653,109498...</td>\n",
       "      <td>[1041930, 1070774, 1094980, 1114856, 1114856, ...</td>\n",
       "    </tr>\n",
       "    <tr>\n",
       "      <th>1228</th>\n",
       "      <td>arCOG00029</td>\n",
       "      <td>170</td>\n",
       "      <td>167</td>\n",
       "      <td>1006006.Mcup_0319,1033806.HTIA_1327,1041930.Mt...</td>\n",
       "      <td>[1006006, 1033806, 1041930, 1042877, 1054217, ...</td>\n",
       "    </tr>\n",
       "    <tr>\n",
       "      <th>1230</th>\n",
       "      <td>arCOG00031</td>\n",
       "      <td>117</td>\n",
       "      <td>100</td>\n",
       "      <td>1006006.Mcup_0023,1033806.HTIA_1326,1042877.GQ...</td>\n",
       "      <td>[1006006, 1033806, 1042877, 1056495, 1056495, ...</td>\n",
       "    </tr>\n",
       "  </tbody>\n",
       "</table>\n",
       "</div>"
      ],
      "text/plain": [
       "        group_id  num_proteins  num_taxa  \\\n",
       "1217  arCOG00018           195       166   \n",
       "1219  arCOG00020           174       158   \n",
       "1227  arCOG00028           108       103   \n",
       "1228  arCOG00029           170       167   \n",
       "1230  arCOG00031           117       100   \n",
       "\n",
       "                                                members  \\\n",
       "1217  1006006.Mcup_1244,1033806.HTIA_0702,1041930.Mt...   \n",
       "1219  1006006.Mcup_1524,1006006.Mcup_1889,1041930.Mt...   \n",
       "1227  1041930.Mtc_2182,1070774.J07HN4v3_02653,109498...   \n",
       "1228  1006006.Mcup_0319,1033806.HTIA_1327,1041930.Mt...   \n",
       "1230  1006006.Mcup_0023,1033806.HTIA_1326,1042877.GQ...   \n",
       "\n",
       "                                                   taxa  \n",
       "1217  [1006006, 1033806, 1041930, 1042877, 1054217, ...  \n",
       "1219  [1006006, 1006006, 1041930, 1042877, 1054217, ...  \n",
       "1227  [1041930, 1070774, 1094980, 1114856, 1114856, ...  \n",
       "1228  [1006006, 1033806, 1041930, 1042877, 1054217, ...  \n",
       "1230  [1006006, 1033806, 1042877, 1056495, 1056495, ...  "
      ]
     },
     "execution_count": 4,
     "metadata": {},
     "output_type": "execute_result"
    }
   ],
   "source": [
    "few_duplications = pd.read_parquet('few_duplication_genes.parquet')\n",
    "few_duplications.head()"
   ]
  },
  {
   "cell_type": "code",
   "execution_count": 5,
   "metadata": {},
   "outputs": [],
   "source": [
    "representatives = few_duplications.query('num_taxa     == 168 & '\n",
    "                                         'num_proteins == 168').iloc[0,3]"
   ]
  },
  {
   "cell_type": "code",
   "execution_count": 335,
   "metadata": {},
   "outputs": [],
   "source": [
    "missing = []\n",
    "for tmp in representatives.split(','):\n",
    "    tmp = tmp.split('.')\n",
    "    taxid = tmp[0]\n",
    "    locus_tag = '.'.join(tmp[1:])\n",
    "    \n",
    "    if os.path.isfile(f'/work/clusterEvo/new_tests/eggNOG/duplications/genomes/{taxid}.gb.gz'):\n",
    "        continue\n",
    "    \n",
    "    try:\n",
    "        gene_id = re.search('<Id>(\\d+)<\\/Id>',\n",
    "                            requests.get('https://eutils.ncbi.nlm.nih.gov/entrez/eutils/esearch.fcgi?'\n",
    "                                         'db=gene&'\n",
    "                                        f'term={locus_tag}').text).group(1)\n",
    "    except AttributeError:\n",
    "        missing.append([taxid, locus_tag])\n",
    "        continue\n",
    "    finally:\n",
    "        sleep(1)\n",
    "        \n",
    "    chr_accession = re.search('<Gene-source_src-str1>(\\S+)</Gene-source_src-str1>',\n",
    "                              requests.get('https://eutils.ncbi.nlm.nih.gov/entrez/eutils/efetch.fcgi?'\n",
    "                                           'db=gene&'\n",
    "                                           'retmode=xml&'\n",
    "                                          f'id={gene_id}').text).group(1)\n",
    "    \n",
    "    sleep(1)\n",
    "    \n",
    "    try:\n",
    "        assembly_acc = re.search('Assembly:\\s+(\\S+)\\.\\d+',\n",
    "                                  requests.get('https://eutils.ncbi.nlm.nih.gov/entrez/eutils/efetch.fcgi?'\n",
    "                                               'db=nuccore&'\n",
    "                                               'retmode=text&'\n",
    "                                               'rettype=gb&'\n",
    "                                              f'id={chr_accession}').text).group(1)\n",
    "    except AttributeError:\n",
    "        missing.append([taxid, locus_tag])\n",
    "        continue\n",
    "\n",
    "    assembly_acc = assembly_acc.replace('GCF_', 'GCA')\n",
    "    genome_folder = '/'.join([assembly_acc[pos:pos+3] for pos in range(0, len(assembly_acc), 3)])\n",
    "    \n",
    "    ftp = FTP('ftp.ncbi.nlm.nih.gov')       # connect to host, default port\n",
    "    ftp.login()                             # user anonymous, passwd anonymous@\n",
    "    ftp.cwd(f'genomes/all/{genome_folder}') # change into \"debian\" directory\n",
    "    ftp.cwd(ftp.nlst()[0])\n",
    "    \n",
    "    for filename in ftp.nlst():\n",
    "        if filename.endswith('gbff.gz'):\n",
    "            print(filename, taxid)\n",
    "\n",
    "            with open(f'/work/clusterEvo/new_tests/eggNOG/duplications/genomes/{taxid}.gb.gz', 'wb') as out:\n",
    "                ftp.retrbinary(f'RETR {filename}', out.write)\n",
    "            \n",
    "            break\n",
    "    \n",
    "    sleep(1)\n",
    "#     break"
   ]
  },
  {
   "cell_type": "code",
   "execution_count": 381,
   "metadata": {},
   "outputs": [],
   "source": [
    "with cd('genomes/'):\n",
    "    for filename in os.listdir('.'):\n",
    "        if not filename.endswith('.gz'):\n",
    "            continue\n",
    "\n",
    "        subprocess.call(['gunzip', '-d', filename])"
   ]
  },
  {
   "cell_type": "code",
   "execution_count": 62,
   "metadata": {},
   "outputs": [],
   "source": [
    "if not os.path.isfile('genomic_position_of_genes.parquet'):\n",
    "    gene_positions = pd.DataFrame(columns=['taxid', 'replicon', 'start', 'end'])\n",
    "\n",
    "    for filename in os.listdir('genomes/'):\n",
    "        if not filename.endswith('.gb') or filename.startswith('.'):\n",
    "            continue\n",
    "\n",
    "        taxid = filename.replace('.gb', '')\n",
    "\n",
    "        gb = SeqIO.parse(f'genomes/{filename}', 'gb')\n",
    "\n",
    "        for entry in gb:\n",
    "\n",
    "            for feat in entry.features:\n",
    "\n",
    "                if feat.type != 'CDS' or 'locus_tag' not in feat.qualifiers:\n",
    "                    continue\n",
    "\n",
    "                locus_tag = feat.qualifiers['locus_tag'][0]\n",
    "                gene_positions.loc[locus_tag] = [taxid,\n",
    "                                                 entry.name,\n",
    "                                                 feat.location.start.position, \n",
    "                                                 feat.location.end.position]\n",
    "    #         break\n",
    "    #     break\n",
    "\n",
    "    gene_positions.to_parquet('genomic_position_of_genes.parquet')\n",
    "else:\n",
    "    gene_positions = pd.read_parquet('genomic_position_of_genes.parquet')\n",
    "\n",
    "sampled_taxids = gene_positions.taxid.unique().astype(int)"
   ]
  },
  {
   "cell_type": "code",
   "execution_count": 68,
   "metadata": {},
   "outputs": [],
   "source": [
    "wrong_taxids   = ['272557', '70601']\n",
    "gene_positions = gene_positions.query('taxid not in @wrong_taxids').copy()\n",
    "sampled_taxids = gene_positions.taxid.unique().astype(int)"
   ]
  },
  {
   "cell_type": "code",
   "execution_count": 7,
   "metadata": {},
   "outputs": [],
   "source": [
    "replicon_sizes = pd.DataFrame(columns=['taxid', 'replicon', 'length'])\n",
    "for filename in os.listdir('genomes/'):\n",
    "    if not filename.endswith('.gb') or filename.startswith('.'):\n",
    "        continue\n",
    "\n",
    "    taxid = filename.replace('.gb', '')\n",
    "    gb    = SeqIO.parse(f'genomes/{filename}', 'gb')\n",
    "    \n",
    "    for entry in gb:\n",
    "\n",
    "        replicon_sizes = replicon_sizes.append(\n",
    "            pd.Series(index=['taxid', \n",
    "                             'replicon', \n",
    "                             'length'],\n",
    "                      data =[taxid,\n",
    "                             entry.name,\n",
    "                             len(entry)]),\n",
    "            ignore_index=True\n",
    "        )"
   ]
  },
  {
   "cell_type": "code",
   "execution_count": 8,
   "metadata": {},
   "outputs": [],
   "source": [
    "recruited_seqs = []\n",
    "for index, row in few_duplications.iterrows():\n",
    "    recruited_seqs.extend(\n",
    "        re.findall(f'(?:^|,)[^.]+\\.([^,]+)', row.members)\n",
    "    )\n",
    "\n",
    "gene_positions = gene_positions.reindex(index=recruited_seqs).dropna(how='any')\n",
    "gene_positions.drop_duplicates(inplace=True)"
   ]
  },
  {
   "cell_type": "code",
   "execution_count": 9,
   "metadata": {},
   "outputs": [],
   "source": [
    "def get_distance_between_genes(gene_positions):\n",
    "    \n",
    "    gene_distances = pd.DataFrame(columns=['group1', \n",
    "                                           'group2', \n",
    "                                           'distance'])\n",
    "    for (index1, row1), (index2, row2) in itertools.combinations(gene_positions.iterrows(), 2):\n",
    "\n",
    "        dist_possibility1 = abs(row1.end - row2.start)\n",
    "        dist_possibility2 = abs(row2.end - row1.start)\n",
    "\n",
    "        if dist_possibility1 <= dist_possibility2:\n",
    "            dist_between_pair = dist_possibility1\n",
    "        else:\n",
    "            dist_between_pair = dist_possibility2\n",
    "\n",
    "        gene_distances = gene_distances.append(\n",
    "            pd.Series(index=['group1', \n",
    "                             'group2', \n",
    "                             'distance'],\n",
    "                      data =[index1,\n",
    "                             index2,\n",
    "                             dist_between_pair]),\n",
    "            ignore_index=True\n",
    "        )\n",
    "    \n",
    "    return(gene_distances)"
   ]
  },
  {
   "cell_type": "code",
   "execution_count": 10,
   "metadata": {},
   "outputs": [],
   "source": [
    "eggNOG_trees = pd.read_csv('/work/clusterEvo/new_tests/eggNOG/2157_trees.tsv',\n",
    "                           sep      ='\\t',\n",
    "                           header   =None,\n",
    "                           usecols  =[1,2,3],\n",
    "                           index_col=0,\n",
    "                           names    =['group_id', 'fast', 'tree'])\n",
    "\n",
    "eggNOG_trees = eggNOG_trees.reindex(index=few_duplications.group_id)"
   ]
  },
  {
   "cell_type": "code",
   "execution_count": 11,
   "metadata": {},
   "outputs": [],
   "source": [
    "group_ids = []\n",
    "trees     = []\n",
    "for index, row in eggNOG_trees.iterrows():\n",
    "    group_ids.append(index)\n",
    "    trees.append(ete3.Tree(row.tree))\n",
    "\n",
    "pool          = multiprocessing.Pool(processes = 10)\n",
    "dist_matrices = pool.map(get_matrix_from_tree, trees)\n",
    "\n",
    "table = {group:matrix.copy() for group, matrix in zip(group_ids, dist_matrices)}"
   ]
  },
  {
   "cell_type": "code",
   "execution_count": 12,
   "metadata": {},
   "outputs": [
    {
     "data": {
      "text/html": [
       "<div>\n",
       "<style scoped>\n",
       "    .dataframe tbody tr th:only-of-type {\n",
       "        vertical-align: middle;\n",
       "    }\n",
       "\n",
       "    .dataframe tbody tr th {\n",
       "        vertical-align: top;\n",
       "    }\n",
       "\n",
       "    .dataframe thead th {\n",
       "        text-align: right;\n",
       "    }\n",
       "</style>\n",
       "<table border=\"1\" class=\"dataframe\">\n",
       "  <thead>\n",
       "    <tr style=\"text-align: right;\">\n",
       "      <th></th>\n",
       "      <th>group1</th>\n",
       "      <th>group2</th>\n",
       "      <th>Rsquared</th>\n",
       "      <th>braycurtis</th>\n",
       "      <th>coevol_metric</th>\n",
       "    </tr>\n",
       "  </thead>\n",
       "  <tbody>\n",
       "    <tr>\n",
       "      <th>0</th>\n",
       "      <td>arCOG00018</td>\n",
       "      <td>arCOG00020</td>\n",
       "      <td>0.826628</td>\n",
       "      <td>0.850949</td>\n",
       "      <td>0.598573</td>\n",
       "    </tr>\n",
       "    <tr>\n",
       "      <th>1</th>\n",
       "      <td>arCOG00018</td>\n",
       "      <td>arCOG00028</td>\n",
       "      <td>0.931708</td>\n",
       "      <td>0.679868</td>\n",
       "      <td>0.430654</td>\n",
       "    </tr>\n",
       "    <tr>\n",
       "      <th>2</th>\n",
       "      <td>arCOG00018</td>\n",
       "      <td>arCOG00029</td>\n",
       "      <td>0.757072</td>\n",
       "      <td>0.915068</td>\n",
       "      <td>0.633934</td>\n",
       "    </tr>\n",
       "    <tr>\n",
       "      <th>3</th>\n",
       "      <td>arCOG00018</td>\n",
       "      <td>arCOG00031</td>\n",
       "      <td>0.894787</td>\n",
       "      <td>0.634615</td>\n",
       "      <td>0.360364</td>\n",
       "    </tr>\n",
       "    <tr>\n",
       "      <th>4</th>\n",
       "      <td>arCOG00018</td>\n",
       "      <td>arCOG00034</td>\n",
       "      <td>0.910943</td>\n",
       "      <td>0.859551</td>\n",
       "      <td>0.673029</td>\n",
       "    </tr>\n",
       "  </tbody>\n",
       "</table>\n",
       "</div>"
      ],
      "text/plain": [
       "       group1      group2  Rsquared  braycurtis  coevol_metric\n",
       "0  arCOG00018  arCOG00020  0.826628    0.850949       0.598573\n",
       "1  arCOG00018  arCOG00028  0.931708    0.679868       0.430654\n",
       "2  arCOG00018  arCOG00029  0.757072    0.915068       0.633934\n",
       "3  arCOG00018  arCOG00031  0.894787    0.634615       0.360364\n",
       "4  arCOG00018  arCOG00034  0.910943    0.859551       0.673029"
      ]
     },
     "execution_count": 12,
     "metadata": {},
     "output_type": "execute_result"
    }
   ],
   "source": [
    "#\n",
    "# odr\n",
    "odr_df = pd.read_parquet('odr_regression_Rsquared.parquet')\n",
    "\n",
    "odr_df['group_pair'] = odr_df[['group1', 'group2']].agg(frozenset, axis=1)\n",
    "odr_df.set_index('group_pair', inplace=True)\n",
    "\n",
    "#\n",
    "# bray-curtis\n",
    "braycurtis_df = pd.read_parquet('braycurtis_indices.parquet')\n",
    "\n",
    "braycurtis_df['group_pair'] = braycurtis_df[['group1', 'group2']].agg(frozenset, axis=1)\n",
    "braycurtis_df.set_index('group_pair', inplace=True)\n",
    "\n",
    "#\n",
    "# combine\n",
    "odr_df = odr_df.join(braycurtis_df.braycurtis)\n",
    "odr_df['coevol_metric'] = odr_df.Rsquared * (odr_df.braycurtis**2)\n",
    "\n",
    "odr_df.reset_index(drop=True, inplace=True)\n",
    "odr_df.head()"
   ]
  },
  {
   "cell_type": "code",
   "execution_count": 24,
   "metadata": {},
   "outputs": [],
   "source": [
    "reduced_graph = odr_df.query('coevol_metric >= 0.8')\n",
    "\n",
    "graph  = ig.Graph.TupleList(edges=reduced_graph[['group1', \n",
    "                                          'group2', \n",
    "                                          'coevol_metric']].itertuples(index=False, name=False), \n",
    "                            directed=False, \n",
    "                            weights=True)"
   ]
  },
  {
   "cell_type": "code",
   "execution_count": 25,
   "metadata": {},
   "outputs": [],
   "source": [
    "clusters = graph.community_multilevel(weights='weight')"
   ]
  },
  {
   "cell_type": "code",
   "execution_count": 26,
   "metadata": {},
   "outputs": [
    {
     "data": {
      "text/plain": [
       "Counter({0: 14,\n",
       "         1: 117,\n",
       "         2: 113,\n",
       "         3: 23,\n",
       "         4: 36,\n",
       "         5: 2,\n",
       "         6: 3,\n",
       "         7: 2,\n",
       "         8: 2,\n",
       "         9: 2,\n",
       "         10: 2,\n",
       "         11: 2,\n",
       "         12: 4,\n",
       "         13: 2,\n",
       "         14: 2})"
      ]
     },
     "execution_count": 26,
     "metadata": {},
     "output_type": "execute_result"
    }
   ],
   "source": [
    "Counter(clusters.membership)"
   ]
  },
  {
   "cell_type": "code",
   "execution_count": 27,
   "metadata": {},
   "outputs": [
    {
     "data": {
      "text/plain": [
       "<matplotlib.axes._subplots.AxesSubplot at 0x1b4d918358>"
      ]
     },
     "execution_count": 27,
     "metadata": {},
     "output_type": "execute_result"
    },
    {
     "data": {
      "image/png": "[encoded data removed]",
      "text/plain": [
       "<Figure size 720x360 with 1 Axes>"
      ]
     },
     "metadata": {
      "needs_background": "light"
     },
     "output_type": "display_data"
    }
   ],
   "source": [
    "fig, ax = plt.subplots(figsize=(10,5))\n",
    "\n",
    "sns.kdeplot(clusters.subgraph(0).es['weight'], label='cluster 0', shade=True, ax=ax)\n",
    "sns.kdeplot(clusters.subgraph(1).es['weight'], label='cluster 1', shade=True, ax=ax)\n",
    "sns.kdeplot(clusters.subgraph(2).es['weight'], label='cluster 2', shade=True, ax=ax)"
   ]
  },
  {
   "cell_type": "code",
   "execution_count": 30,
   "metadata": {},
   "outputs": [],
   "source": [
    "subg = clusters.subgraph(1)"
   ]
  },
  {
   "cell_type": "code",
   "execution_count": 21,
   "metadata": {},
   "outputs": [],
   "source": [
    "string = pd.read_parquet('few_duplications-string.parquet')\n",
    "\n",
    "string['group_pair'] = string[['group1', 'group2']].agg(frozenset, axis=1)\n",
    "string.drop_duplicates(subset='group_pair', inplace=True)\n",
    "\n",
    "neighors     = string.query('neighborhood >= 700')\n",
    "not_neighors = string.query('neighborhood <= 200')"
   ]
  },
  {
   "cell_type": "code",
   "execution_count": 29,
   "metadata": {},
   "outputs": [
    {
     "data": {
      "text/html": [
       "<div>\n",
       "<style scoped>\n",
       "    .dataframe tbody tr th:only-of-type {\n",
       "        vertical-align: middle;\n",
       "    }\n",
       "\n",
       "    .dataframe tbody tr th {\n",
       "        vertical-align: top;\n",
       "    }\n",
       "\n",
       "    .dataframe thead th {\n",
       "        text-align: right;\n",
       "    }\n",
       "</style>\n",
       "<table border=\"1\" class=\"dataframe\">\n",
       "  <thead>\n",
       "    <tr style=\"text-align: right;\">\n",
       "      <th></th>\n",
       "      <th>group1</th>\n",
       "      <th>group2</th>\n",
       "      <th>neighborhood</th>\n",
       "      <th>fusion</th>\n",
       "      <th>cooccurence</th>\n",
       "      <th>coexpression</th>\n",
       "      <th>experimental</th>\n",
       "      <th>database</th>\n",
       "      <th>textmining</th>\n",
       "      <th>combined_score</th>\n",
       "      <th>group_pair</th>\n",
       "    </tr>\n",
       "  </thead>\n",
       "  <tbody>\n",
       "    <tr>\n",
       "      <th>2456</th>\n",
       "      <td>arCOG00495</td>\n",
       "      <td>arCOG00862</td>\n",
       "      <td>770</td>\n",
       "      <td>830</td>\n",
       "      <td>706</td>\n",
       "      <td>490</td>\n",
       "      <td>179</td>\n",
       "      <td>450</td>\n",
       "      <td>499</td>\n",
       "      <td>998</td>\n",
       "      <td>(arCOG00862, arCOG00495)</td>\n",
       "    </tr>\n",
       "    <tr>\n",
       "      <th>3482</th>\n",
       "      <td>arCOG00495</td>\n",
       "      <td>arCOG00914</td>\n",
       "      <td>709</td>\n",
       "      <td>0</td>\n",
       "      <td>279</td>\n",
       "      <td>489</td>\n",
       "      <td>0</td>\n",
       "      <td>450</td>\n",
       "      <td>499</td>\n",
       "      <td>965</td>\n",
       "      <td>(arCOG00914, arCOG00495)</td>\n",
       "    </tr>\n",
       "    <tr>\n",
       "      <th>13057</th>\n",
       "      <td>arCOG00644</td>\n",
       "      <td>arCOG01044</td>\n",
       "      <td>714</td>\n",
       "      <td>855</td>\n",
       "      <td>422</td>\n",
       "      <td>94</td>\n",
       "      <td>0</td>\n",
       "      <td>450</td>\n",
       "      <td>499</td>\n",
       "      <td>992</td>\n",
       "      <td>(arCOG01044, arCOG00644)</td>\n",
       "    </tr>\n",
       "    <tr>\n",
       "      <th>29725</th>\n",
       "      <td>arCOG00410</td>\n",
       "      <td>arCOG00412</td>\n",
       "      <td>808</td>\n",
       "      <td>612</td>\n",
       "      <td>0</td>\n",
       "      <td>474</td>\n",
       "      <td>499</td>\n",
       "      <td>450</td>\n",
       "      <td>499</td>\n",
       "      <td>993</td>\n",
       "      <td>(arCOG00412, arCOG00410)</td>\n",
       "    </tr>\n",
       "    <tr>\n",
       "      <th>47105</th>\n",
       "      <td>arCOG01001</td>\n",
       "      <td>arCOG04243</td>\n",
       "      <td>703</td>\n",
       "      <td>0</td>\n",
       "      <td>0</td>\n",
       "      <td>440</td>\n",
       "      <td>475</td>\n",
       "      <td>0</td>\n",
       "      <td>467</td>\n",
       "      <td>947</td>\n",
       "      <td>(arCOG01001, arCOG04243)</td>\n",
       "    </tr>\n",
       "  </tbody>\n",
       "</table>\n",
       "</div>"
      ],
      "text/plain": [
       "           group1      group2  neighborhood  fusion  cooccurence  \\\n",
       "2456   arCOG00495  arCOG00862           770     830          706   \n",
       "3482   arCOG00495  arCOG00914           709       0          279   \n",
       "13057  arCOG00644  arCOG01044           714     855          422   \n",
       "29725  arCOG00410  arCOG00412           808     612            0   \n",
       "47105  arCOG01001  arCOG04243           703       0            0   \n",
       "\n",
       "       coexpression  experimental  database  textmining  combined_score  \\\n",
       "2456            490           179       450         499             998   \n",
       "3482            489             0       450         499             965   \n",
       "13057            94             0       450         499             992   \n",
       "29725           474           499       450         499             993   \n",
       "47105           440           475         0         467             947   \n",
       "\n",
       "                     group_pair  \n",
       "2456   (arCOG00862, arCOG00495)  \n",
       "3482   (arCOG00914, arCOG00495)  \n",
       "13057  (arCOG01044, arCOG00644)  \n",
       "29725  (arCOG00412, arCOG00410)  \n",
       "47105  (arCOG01001, arCOG04243)  "
      ]
     },
     "execution_count": 29,
     "metadata": {},
     "output_type": "execute_result"
    }
   ],
   "source": [
    "neighors.head()"
   ]
  },
  {
   "cell_type": "code",
   "execution_count": 23,
   "metadata": {},
   "outputs": [
    {
     "data": {
      "text/plain": [
       "(520, 11)"
      ]
     },
     "execution_count": 23,
     "metadata": {},
     "output_type": "execute_result"
    }
   ],
   "source": [
    "neighors.shape"
   ]
  },
  {
   "cell_type": "code",
   "execution_count": 131,
   "metadata": {},
   "outputs": [
    {
     "data": {
      "text/plain": [
       "(480, 5)"
      ]
     },
     "execution_count": 131,
     "metadata": {},
     "output_type": "execute_result"
    }
   ],
   "source": [
    "few_duplications.shape"
   ]
  },
  {
   "cell_type": "code",
   "execution_count": 130,
   "metadata": {},
   "outputs": [
    {
     "data": {
      "text/plain": [
       "arCOG04255    26\n",
       "arCOG04254    25\n",
       "arCOG04070    25\n",
       "arCOG04243    24\n",
       "arCOG04072    23\n",
       "arCOG04067    22\n",
       "arCOG04098    21\n",
       "arCOG04097    20\n",
       "arCOG04095    19\n",
       "arCOG04092    18\n",
       "arCOG01001    17\n",
       "arCOG04091    17\n",
       "arCOG04090    16\n",
       "arCOG04087    15\n",
       "arCOG01722    14\n",
       "arCOG04240    13\n",
       "arCOG04099    12\n",
       "arCOG04096    11\n",
       "arCOG04113    10\n",
       "arCOG04094     9\n",
       "arCOG00782     8\n",
       "arCOG00779     7\n",
       "arCOG02208     7\n",
       "arCOG04274     6\n",
       "arCOG00618     6\n",
       "arCOG04241     6\n",
       "arCOG00617     5\n",
       "arCOG00785     5\n",
       "arCOG00105     4\n",
       "arCOG04338     4\n",
       "              ..\n",
       "arCOG01760     1\n",
       "arCOG00112     1\n",
       "arCOG01337     1\n",
       "arCOG01320     1\n",
       "arCOG04477     1\n",
       "arCOG04465     1\n",
       "arCOG01026     1\n",
       "arCOG04185     1\n",
       "arCOG01559     1\n",
       "arCOG00102     1\n",
       "arCOG04183     1\n",
       "arCOG00493     1\n",
       "arCOG03054     1\n",
       "arCOG00869     1\n",
       "arCOG01482     1\n",
       "arCOG00862     1\n",
       "arCOG04262     1\n",
       "arCOG02701     1\n",
       "arCOG01016     1\n",
       "arCOG04288     1\n",
       "arCOG01824     1\n",
       "arCOG01594     1\n",
       "arCOG04236     1\n",
       "arCOG01530     1\n",
       "arCOG00644     1\n",
       "arCOG00641     1\n",
       "arCOG00410     1\n",
       "arCOG01983     1\n",
       "arCOG04075     1\n",
       "arCOG00977     1\n",
       "Name: group1, Length: 94, dtype: int64"
      ]
     },
     "execution_count": 130,
     "metadata": {},
     "output_type": "execute_result"
    }
   ],
   "source": [
    "neighors.group1.value_counts()"
   ]
  },
  {
   "cell_type": "code",
   "execution_count": 125,
   "metadata": {},
   "outputs": [],
   "source": [
    "distances_between_single_copies    = []\n",
    "distances_between_matching_pairs   = []\n",
    "distances_between_unmatching_pairs = []\n",
    "\n",
    "# for group1, group2 in [('arCOG00018', 'arCOG00035')]:\n",
    "# for group1, group2 in itertools.combinations(subg.vs['name'], 2):\n",
    "for index, row in neighors.iterrows():\n",
    "    \n",
    "    group1 = row.group1\n",
    "    group2 = row.group2\n",
    "\n",
    "    pair = (group1, group2)\n",
    "    if odr_df.query('group1 in @pair and group2 in @pair').coevol_metric.squeeze() < 0.9:\n",
    "#     string_query = string.query('group1 in @pair & '\n",
    "#                                 'group2 in @pair')\n",
    "#     if not string_query.shape[0] or string_query.neighborhood.squeeze() < 700:\n",
    "        continue\n",
    "\n",
    "    #################################################################################\n",
    "    matrix1 = table[group1].copy()\n",
    "    matrix2 = table[group2].copy()\n",
    "\n",
    "    matrix1, taxa1, matrix2, taxa2 = balance_matrices(matrix1, \n",
    "                                                      matrix2, \n",
    "                                                      gene_sep='.')\n",
    "\n",
    "    #################################################################################\n",
    "\n",
    "    duplicated_taxa = set()\n",
    "\n",
    "    tmp = few_duplications.query('group_id ==  @group1').squeeze()\n",
    "    for taxa in tmp.taxa:\n",
    "        if tmp.members.count(str(taxa)) > 1:\n",
    "            duplicated_taxa.add(taxa)\n",
    "\n",
    "    tmp = few_duplications.query('group_id ==  @group2').squeeze()\n",
    "    for taxa in tmp.taxa:\n",
    "        if tmp.members.count(str(taxa)) > 1:\n",
    "            duplicated_taxa.add(taxa)\n",
    "\n",
    "    duplicated_taxa.intersection_update(few_duplications.query('group_id == @group1').taxa.squeeze())\n",
    "    duplicated_taxa.intersection_update(few_duplications.query('group_id == @group2').taxa.squeeze())\n",
    "\n",
    "    duplicated_taxa.intersection_update(sampled_taxids)\n",
    "        \n",
    "#     if duplicated_taxa:\n",
    "#         break\n",
    "        \n",
    "    #################################################################################\n",
    "    \n",
    "    for taxid in duplicated_taxa:\n",
    "        group1_genes = re.findall(f'{taxid}\\.([^,]+)',\n",
    "                                  few_duplications.query('group_id == @group1').members.squeeze())\n",
    "        group2_genes = re.findall(f'{taxid}\\.([^,]+)',\n",
    "                                  few_duplications.query('group_id == @group2').members.squeeze())\n",
    "        \n",
    "    #################################################################################\n",
    "    \n",
    "        gene_distances = pd.DataFrame(columns=['gene1', 'gene2', 'distance'])\n",
    "        for gene1, gene2 in zip(gene_positions.index.intersection(group1_genes),\n",
    "                                gene_positions.index.intersection(group2_genes)):\n",
    "\n",
    "            row1 = gene_positions.loc[gene1]\n",
    "            row2 = gene_positions.loc[gene2]\n",
    "\n",
    "            if row1.replicon != row2.replicon:\n",
    "                gene_distances = gene_distances.append(\n",
    "                    pd.Series(index=['gene1', \n",
    "                                     'gene2', \n",
    "                                     'distance'],\n",
    "                              data =[gene1, \n",
    "                                     gene2, \n",
    "                                     replicon_sizes.query('replicon == @row1.replicon').length.squeeze() + \\\n",
    "                                     replicon_sizes.query('replicon == @row2.replicon').length.squeeze()]),\n",
    "                    ignore_index=True\n",
    "                )\n",
    "                continue\n",
    "\n",
    "            gene1_positions = sorted(row1[['start', 'end']].tolist())\n",
    "            gene2_positions = sorted(row2[['start', 'end']].tolist())\n",
    "\n",
    "            distance_possibilities = [abs(gene1_positions[1] - gene2_positions[0])]\n",
    "            distance_possibilities.append(\n",
    "                gene1_positions[0] + \\\n",
    "                (replicon_sizes.query('replicon == @row2.replicon').length.squeeze() - gene2_positions[1])\n",
    "            )\n",
    "\n",
    "            gene_distances = gene_distances.append(\n",
    "                pd.Series(index=['gene1', \n",
    "                                 'gene2', \n",
    "                                 'distance'],\n",
    "                          data =[gene1,\n",
    "                                 gene2,\n",
    "                                 np.min(distance_possibilities)]),\n",
    "                ignore_index=True\n",
    "            )\n",
    "\n",
    "    #################################################################################\n",
    "    \n",
    "        selected_genes1 = taxa1.query(f'genome == \"{taxid}\"').gene\n",
    "        selected_genes2 = taxa2.query(f'genome == \"{taxid}\"').gene\n",
    "        \n",
    "        for selected1, selected2 in zip(selected_genes1.tolist(), \n",
    "                                        selected_genes2.tolist()):\n",
    "            distances_between_matching_pairs.extend(\n",
    "                gene_distances.query('gene1 ==  @selected1 & '\n",
    "                                     'gene2 ==  @selected2').distance.tolist()\n",
    "            )\n",
    "            distances_between_unmatching_pairs.extend(\n",
    "#                 gene_distances.query('gene1 !=  @selected1 | '\n",
    "#                                      'gene2 !=  @selected2').distance.tolist()\n",
    "                gene_distances.query('(gene1 ==  @selected1 & gene2 !=  @selected2) | '\n",
    "                                     '(gene1 !=  @selected1 & gene2 ==  @selected2)').distance.tolist()\n",
    "            )\n",
    "#         break\n",
    "\n",
    "    #################################################################################\n",
    "\n",
    "    single_copy_taxa = set(taxa1.genome.astype(int).tolist())\n",
    "    single_copy_taxa.difference_update(duplicated_taxa)\n",
    "    single_copy_taxa.intersection_update(sampled_taxids)\n",
    "\n",
    "    for taxid in single_copy_taxa:\n",
    "        gene1 = re.findall(f'{taxid}\\.([^,]+)',\n",
    "                           few_duplications.query('group_id == @group1').members.squeeze())[0]\n",
    "        gene2 = re.findall(f'{taxid}\\.([^,]+)',\n",
    "                           few_duplications.query('group_id == @group2').members.squeeze())[0]\n",
    "            \n",
    "        row1 = gene_positions.loc[gene1]\n",
    "        row2 = gene_positions.loc[gene2]\n",
    "\n",
    "        if row1.replicon != row2.replicon:\n",
    "            continue\n",
    "\n",
    "        gene1_positions = sorted(row1[['start', 'end']].tolist())\n",
    "        gene2_positions = sorted(row2[['start', 'end']].tolist())\n",
    "\n",
    "        distance_possibilities = [abs(gene1_positions[1] - gene2_positions[0])]\n",
    "        distance_possibilities.append(\n",
    "            gene1_positions[0] + \\\n",
    "            (replicon_sizes.query('replicon == @row2.replicon').length.squeeze() - gene2_positions[1])\n",
    "        )\n",
    "        \n",
    "        distances_between_single_copies.append( np.min(distance_possibilities) )\n",
    "\n",
    "#     break"
   ]
  },
  {
   "cell_type": "code",
   "execution_count": 105,
   "metadata": {},
   "outputs": [
    {
     "data": {
      "text/plain": [
       "(39340, 339611.4407981698)"
      ]
     },
     "execution_count": 105,
     "metadata": {},
     "output_type": "execute_result"
    }
   ],
   "source": [
    "len(distances_between_single_copies), np.mean(distances_between_single_copies)"
   ]
  },
  {
   "cell_type": "code",
   "execution_count": 106,
   "metadata": {},
   "outputs": [
    {
     "data": {
      "text/plain": [
       "(107, 257126.58878504674)"
      ]
     },
     "execution_count": 106,
     "metadata": {},
     "output_type": "execute_result"
    }
   ],
   "source": [
    "len(distances_between_matching_pairs), np.mean(distances_between_matching_pairs)"
   ]
  },
  {
   "cell_type": "code",
   "execution_count": 107,
   "metadata": {},
   "outputs": [
    {
     "data": {
      "text/plain": [
       "(231, 366128.9956709957)"
      ]
     },
     "execution_count": 107,
     "metadata": {},
     "output_type": "execute_result"
    }
   ],
   "source": [
    "len(distances_between_unmatching_pairs), np.mean(distances_between_unmatching_pairs)"
   ]
  },
  {
   "cell_type": "code",
   "execution_count": 101,
   "metadata": {},
   "outputs": [
    {
     "data": {
      "image/png": "[encoded data removed]",
      "text/plain": [
       "<Figure size 432x288 with 1 Axes>"
      ]
     },
     "metadata": {
      "needs_background": "light"
     },
     "output_type": "display_data"
    }
   ],
   "source": [
    "plt.boxplot([distances_between_single_copies,\n",
    "             distances_between_matching_pairs,\n",
    "             distances_between_unmatching_pairs]);"
   ]
  },
  {
   "cell_type": "code",
   "execution_count": 103,
   "metadata": {},
   "outputs": [
    {
     "data": {
      "image/png": "[encoded data removed]",
      "text/plain": [
       "<Figure size 432x288 with 1 Axes>"
      ]
     },
     "metadata": {
      "needs_background": "light"
     },
     "output_type": "display_data"
    }
   ],
   "source": [
    "fig, ax = plt.subplots()\n",
    "\n",
    "sns.kdeplot(distances_between_single_copies,    label='single copy',  shade=True, ax=ax)\n",
    "sns.kdeplot(distances_between_matching_pairs,   label='matching',     shade=True, ax=ax)\n",
    "sns.kdeplot(distances_between_unmatching_pairs, label='not-matching', shade=True, ax=ax);"
   ]
  },
  {
   "cell_type": "code",
   "execution_count": 114,
   "metadata": {},
   "outputs": [
    {
     "data": {
      "image/png": "[encoded data removed]",
      "text/plain": [
       "<Figure size 720x936 with 3 Axes>"
      ]
     },
     "metadata": {
      "needs_background": "light"
     },
     "output_type": "display_data"
    }
   ],
   "source": [
    "fig, axs = plt.subplots(nrows=3, sharex=True, figsize=(10, 13))\n",
    "\n",
    "sns.kdeplot(distances_between_single_copies,    label='single copy',  shade=True, ax=axs[0])\n",
    "sns.kdeplot(distances_between_matching_pairs,   label='matching',     shade=True, ax=axs[1])\n",
    "sns.kdeplot(distances_between_unmatching_pairs, label='not-matching', shade=True, ax=axs[2]);"
   ]
  },
  {
   "cell_type": "code",
   "execution_count": 122,
   "metadata": {},
   "outputs": [],
   "source": [
    "from scipy.stats import ttest_ind, mannwhitneyu"
   ]
  },
  {
   "cell_type": "code",
   "execution_count": null,
   "metadata": {},
   "outputs": [],
   "source": [
    "ttest_ind()"
   ]
  },
  {
   "cell_type": "code",
   "execution_count": 124,
   "metadata": {},
   "outputs": [
    {
     "data": {
      "text/plain": [
       "MannwhitneyuResult(statistic=4316271.0, pvalue=0.09439425040966437)"
      ]
     },
     "execution_count": 124,
     "metadata": {},
     "output_type": "execute_result"
    }
   ],
   "source": [
    "mannwhitneyu(distances_between_single_copies, \n",
    "             distances_between_unmatching_pairs)"
   ]
  },
  {
   "cell_type": "code",
   "execution_count": 828,
   "metadata": {},
   "outputs": [
    {
     "data": {
      "text/plain": [
       "(244, 5)"
      ]
     },
     "execution_count": 828,
     "metadata": {},
     "output_type": "execute_result"
    }
   ],
   "source": [
    "odr_df.query('Rsquared >= 0.99').shape"
   ]
  },
  {
   "cell_type": "code",
   "execution_count": 1055,
   "metadata": {},
   "outputs": [],
   "source": [
    "neighbors = set(string.query('(group1 == \"arCOG01001\" | group2 == \"arCOG01001\") & '\n",
    "                             'neighborhood >= 700')[['group1', 'group2']].T.agg(frozenset).tolist())"
   ]
  },
  {
   "cell_type": "code",
   "execution_count": 1056,
   "metadata": {},
   "outputs": [],
   "source": [
    "coevolving = set(odr_df.query('(group1 == \"arCOG01001\" | group2 == \"arCOG01001\") & '\n",
    "                              'coevol_metric >= 0.9')[['group1', 'group2']].T.agg(frozenset).tolist())"
   ]
  },
  {
   "cell_type": "code",
   "execution_count": 1057,
   "metadata": {},
   "outputs": [
    {
     "data": {
      "text/plain": [
       "{frozenset({'arCOG01001', 'arCOG04097'})}"
      ]
     },
     "execution_count": 1057,
     "metadata": {},
     "output_type": "execute_result"
    }
   ],
   "source": [
    "neighbors.intersection(coevolving)"
   ]
  },
  {
   "cell_type": "code",
   "execution_count": null,
   "metadata": {},
   "outputs": [],
   "source": []
  },
  {
   "cell_type": "code",
   "execution_count": null,
   "metadata": {},
   "outputs": [],
   "source": []
  },
  {
   "cell_type": "code",
   "execution_count": null,
   "metadata": {},
   "outputs": [],
   "source": []
  },
  {
   "cell_type": "code",
   "execution_count": 1069,
   "metadata": {},
   "outputs": [],
   "source": [
    "group1, group2 = 'arCOG01001', 'arCOG04097'\n",
    "\n",
    "matrix1  = table[group1].copy()\n",
    "matrix2  = table[group2].copy()\n",
    "\n",
    "# assess_coevolution(matrix1.copy(),\n",
    "#                    matrix2.copy(),\n",
    "#                    gene_sep='.')"
   ]
  },
  {
   "cell_type": "code",
   "execution_count": 1070,
   "metadata": {},
   "outputs": [],
   "source": [
    "regex = re.compile('^(\\d+?)\\.(.*)$')\n",
    "\n",
    "tmp_taxa = []\n",
    "for index in matrix1.index:\n",
    "    genome, gene = re.search(regex, index).groups()\n",
    "    tmp_taxa.append([index, genome, gene])\n",
    "\n",
    "taxa1 = pd.DataFrame(columns=['taxon', 'genome', 'gene'],\n",
    "                     data=tmp_taxa)\n",
    "\n",
    "tmp_taxa = []\n",
    "for index in matrix2.index:\n",
    "    genome, gene = re.search(regex, index).groups()\n",
    "    tmp_taxa.append([index, genome, gene])\n",
    "\n",
    "taxa2 = pd.DataFrame(columns=['taxon', 'genome', 'gene'],\n",
    "                     data=tmp_taxa)\n",
    "\n",
    "shared_genomes = np.intersect1d(taxa1.genome.unique(), \n",
    "                                taxa2.genome.unique())\n",
    "\n",
    "taxa1 = taxa1[taxa1.genome.isin(shared_genomes)]\n",
    "taxa2 = taxa2[taxa2.genome.isin(shared_genomes)]"
   ]
  },
  {
   "cell_type": "code",
   "execution_count": 1071,
   "metadata": {},
   "outputs": [
    {
     "data": {
      "text/plain": [
       "168"
      ]
     },
     "execution_count": 1071,
     "metadata": {},
     "output_type": "execute_result"
    }
   ],
   "source": [
    "len(shared_genomes)"
   ]
  },
  {
   "cell_type": "code",
   "execution_count": 1072,
   "metadata": {},
   "outputs": [
    {
     "name": "stdout",
     "output_type": "stream",
     "text": [
      "1041930 2 1\n",
      "1131266 1 2\n",
      "29540 2 1\n",
      "304371 2 1\n",
      "351160 2 1\n",
      "868131 2 1\n",
      "877455 2 1\n"
     ]
    }
   ],
   "source": [
    "taxa1_frequency = taxa1.genome.value_counts() \n",
    "taxa2_frequency = taxa2.genome.value_counts()\n",
    "\n",
    "if not taxa1.genome.is_unique or not taxa2.genome.is_unique:\n",
    "\n",
    "#     taxa1_frequency = Counter(taxa1.genome) \n",
    "#     taxa2_frequency = Counter(taxa2.genome)\n",
    "\n",
    "    for genome in shared_genomes:\n",
    "        genome1_count = taxa1_frequency[genome]\n",
    "        genome2_count = taxa2_frequency[genome]\n",
    "        \n",
    "#         print(genome, genome1_count, genome2_count)\n",
    "\n",
    "        if genome1_count > 1:\n",
    "            print(genome, genome1_count, genome2_count)\n",
    "            #\n",
    "            # one of the matrices must be traversed in the inversed order to make sure an \n",
    "            #     all VS all combination is obtained. That is the reason of the \"iloc[::-1]\"\n",
    "            #     during the querying\n",
    "            tmp_df = taxa2.iloc[::-1].query('genome == @genome').copy()\n",
    "            for _ in range(genome1_count - 1):\n",
    "                for index, row in tmp_df.iterrows():\n",
    "                    tmp_row = row.copy()\n",
    "                    tmp_row.taxon += f'|{_}'\n",
    "                    taxa2      = taxa2.append(tmp_row, ignore_index=True)\n",
    "\n",
    "                    reference_name = re.sub('\\|\\d+$', '', tmp_row.taxon, flags=re.M)\n",
    "                    matrix2[    tmp_row.taxon] = matrix2[    reference_name]\n",
    "                    matrix2.loc[tmp_row.taxon] = matrix2.loc[reference_name]\n",
    "\n",
    "\n",
    "        if genome2_count > 1:\n",
    "            print(genome, genome1_count, genome2_count)\n",
    "            #\n",
    "            # as we queried the other matrix in the reverse order, we traverse this one regularly\n",
    "            tmp_df = taxa1.query('genome == @genome').copy()\n",
    "            for _ in range(genome2_count - 1):\n",
    "                for index, row in tmp_df.iterrows():\n",
    "                    tmp_row = row.copy()\n",
    "                    tmp_row.taxon += f'|{_}'\n",
    "                    taxa1 = taxa1.append(tmp_row, ignore_index=True)\n",
    "\n",
    "                    reference_name = re.sub('\\|\\d+$', '', tmp_row.taxon, flags=re.M)\n",
    "                    matrix1[    tmp_row.taxon] = matrix1[    reference_name]\n",
    "                    matrix1.loc[tmp_row.taxon] = matrix1.loc[reference_name]\n",
    "\n",
    "taxa1.sort_values('genome', inplace=True)\n",
    "taxa2.sort_values('genome', inplace=True)\n",
    "\n",
    "taxa1.reset_index(drop=True, inplace=True)\n",
    "taxa2.reset_index(drop=True, inplace=True)"
   ]
  },
  {
   "cell_type": "code",
   "execution_count": 1073,
   "metadata": {},
   "outputs": [
    {
     "data": {
      "text/plain": [
       "('arCOG01001', 'arCOG04097')"
      ]
     },
     "execution_count": 1073,
     "metadata": {},
     "output_type": "execute_result"
    }
   ],
   "source": [
    "group1, group2"
   ]
  },
  {
   "cell_type": "code",
   "execution_count": 1024,
   "metadata": {},
   "outputs": [],
   "source": [
    "with open(f'trees_to_check/{group1}.nwk', 'w') as out:\n",
    "    out.write(eggNOG_trees.loc[group1, 'tree'])"
   ]
  },
  {
   "cell_type": "code",
   "execution_count": 1074,
   "metadata": {},
   "outputs": [
    {
     "data": {
      "text/html": [
       "<div>\n",
       "<style scoped>\n",
       "    .dataframe tbody tr th:only-of-type {\n",
       "        vertical-align: middle;\n",
       "    }\n",
       "\n",
       "    .dataframe tbody tr th {\n",
       "        vertical-align: top;\n",
       "    }\n",
       "\n",
       "    .dataframe thead th {\n",
       "        text-align: right;\n",
       "    }\n",
       "</style>\n",
       "<table border=\"1\" class=\"dataframe\">\n",
       "  <thead>\n",
       "    <tr style=\"text-align: right;\">\n",
       "      <th></th>\n",
       "      <th>taxon</th>\n",
       "      <th>genome</th>\n",
       "      <th>gene</th>\n",
       "    </tr>\n",
       "  </thead>\n",
       "  <tbody>\n",
       "    <tr>\n",
       "      <th>2</th>\n",
       "      <td>1041930.Mtc_1567</td>\n",
       "      <td>1041930</td>\n",
       "      <td>Mtc_1567</td>\n",
       "    </tr>\n",
       "    <tr>\n",
       "      <th>3</th>\n",
       "      <td>1041930.Mtc_2100</td>\n",
       "      <td>1041930</td>\n",
       "      <td>Mtc_2100</td>\n",
       "    </tr>\n",
       "  </tbody>\n",
       "</table>\n",
       "</div>"
      ],
      "text/plain": [
       "              taxon   genome      gene\n",
       "2  1041930.Mtc_1567  1041930  Mtc_1567\n",
       "3  1041930.Mtc_2100  1041930  Mtc_2100"
      ]
     },
     "execution_count": 1074,
     "metadata": {},
     "output_type": "execute_result"
    }
   ],
   "source": [
    "taxa1.query('genome == \"1041930\"')"
   ]
  },
  {
   "cell_type": "code",
   "execution_count": 1075,
   "metadata": {},
   "outputs": [
    {
     "data": {
      "text/html": [
       "<div>\n",
       "<style scoped>\n",
       "    .dataframe tbody tr th:only-of-type {\n",
       "        vertical-align: middle;\n",
       "    }\n",
       "\n",
       "    .dataframe tbody tr th {\n",
       "        vertical-align: top;\n",
       "    }\n",
       "\n",
       "    .dataframe thead th {\n",
       "        text-align: right;\n",
       "    }\n",
       "</style>\n",
       "<table border=\"1\" class=\"dataframe\">\n",
       "  <thead>\n",
       "    <tr style=\"text-align: right;\">\n",
       "      <th></th>\n",
       "      <th>taxon</th>\n",
       "      <th>genome</th>\n",
       "      <th>gene</th>\n",
       "    </tr>\n",
       "  </thead>\n",
       "  <tbody>\n",
       "    <tr>\n",
       "      <th>2</th>\n",
       "      <td>1041930.Mtc_1328|0</td>\n",
       "      <td>1041930</td>\n",
       "      <td>Mtc_1328</td>\n",
       "    </tr>\n",
       "    <tr>\n",
       "      <th>3</th>\n",
       "      <td>1041930.Mtc_1328</td>\n",
       "      <td>1041930</td>\n",
       "      <td>Mtc_1328</td>\n",
       "    </tr>\n",
       "  </tbody>\n",
       "</table>\n",
       "</div>"
      ],
      "text/plain": [
       "                taxon   genome      gene\n",
       "2  1041930.Mtc_1328|0  1041930  Mtc_1328\n",
       "3    1041930.Mtc_1328  1041930  Mtc_1328"
      ]
     },
     "execution_count": 1075,
     "metadata": {},
     "output_type": "execute_result"
    }
   ],
   "source": [
    "taxa2.query('genome == \"1041930\"')"
   ]
  },
  {
   "cell_type": "code",
   "execution_count": 1021,
   "metadata": {},
   "outputs": [
    {
     "data": {
      "text/html": [
       "<div>\n",
       "<style scoped>\n",
       "    .dataframe tbody tr th:only-of-type {\n",
       "        vertical-align: middle;\n",
       "    }\n",
       "\n",
       "    .dataframe tbody tr th {\n",
       "        vertical-align: top;\n",
       "    }\n",
       "\n",
       "    .dataframe thead th {\n",
       "        text-align: right;\n",
       "    }\n",
       "</style>\n",
       "<table border=\"1\" class=\"dataframe\">\n",
       "  <thead>\n",
       "    <tr style=\"text-align: right;\">\n",
       "      <th></th>\n",
       "      <th>taxid</th>\n",
       "      <th>replicon</th>\n",
       "      <th>start</th>\n",
       "      <th>end</th>\n",
       "    </tr>\n",
       "  </thead>\n",
       "  <tbody>\n",
       "    <tr>\n",
       "      <th>Mtc_1328</th>\n",
       "      <td>1041930</td>\n",
       "      <td>CP003243</td>\n",
       "      <td>1280601</td>\n",
       "      <td>1281444</td>\n",
       "    </tr>\n",
       "    <tr>\n",
       "      <th>Mtc_1567</th>\n",
       "      <td>1041930</td>\n",
       "      <td>CP003243</td>\n",
       "      <td>1491789</td>\n",
       "      <td>1492680</td>\n",
       "    </tr>\n",
       "    <tr>\n",
       "      <th>Mtc_2100</th>\n",
       "      <td>1041930</td>\n",
       "      <td>CP003243</td>\n",
       "      <td>1993187</td>\n",
       "      <td>1994063</td>\n",
       "    </tr>\n",
       "  </tbody>\n",
       "</table>\n",
       "</div>"
      ],
      "text/plain": [
       "            taxid  replicon    start      end\n",
       "Mtc_1328  1041930  CP003243  1280601  1281444\n",
       "Mtc_1567  1041930  CP003243  1491789  1492680\n",
       "Mtc_2100  1041930  CP003243  1993187  1994063"
      ]
     },
     "execution_count": 1021,
     "metadata": {},
     "output_type": "execute_result"
    }
   ],
   "source": [
    "gene_positions.loc[['Mtc_1328', 'Mtc_1567', 'Mtc_2100']]"
   ]
  },
  {
   "cell_type": "code",
   "execution_count": null,
   "metadata": {},
   "outputs": [],
   "source": [
    "taxa1.sort_values('genome', inplace=True)\n",
    "taxa2.sort_values('genome', inplace=True)\n",
    "\n",
    "taxa1.reset_index(drop=True, inplace=True)\n",
    "taxa2.reset_index(drop=True, inplace=True)\n",
    "\n",
    "all_taxa_pairs           = pd.DataFrame()\n",
    "all_taxa_pairs['taxon1'] = [re.sub('\\|\\d$', '', taxon, flags=re.M)\n",
    "                            for taxon in taxa1.taxon]\n",
    "all_taxa_pairs['taxon2'] = [re.sub('\\|\\d$', '', taxon, flags=re.M)\n",
    "                            for taxon in taxa2.taxon]\n",
    "\n",
    "matrix1 = matrix1.reindex(index  =taxa1.taxon, \n",
    "                          columns=taxa1.taxon, \n",
    "                          copy   =True)\n",
    "matrix2 = matrix2.reindex(index  =taxa2.taxon, \n",
    "                          columns=taxa2.taxon, \n",
    "                          copy   =True)\n",
    "\n",
    "if not taxa1.genome.is_unique or not taxa2.genome.is_unique:\n",
    "    matrix1, taxa1, matrix2, taxa2 = match_copies(matrix1, matrix2, taxa1, taxa2)\n",
    "\n",
    "return(matrix1, taxa1, matrix2, taxa2)"
   ]
  },
  {
   "cell_type": "code",
   "execution_count": null,
   "metadata": {},
   "outputs": [],
   "source": [
    "def match_copies(matrix1, matrix2, taxa1, taxa2):\n",
    "    \n",
    "    all_taxa_pairs           = pd.DataFrame()\n",
    "    all_taxa_pairs['taxon1'] = [re.sub('\\|\\d$', '', taxon, flags=re.M)\n",
    "                                for taxon in taxa1.taxon]\n",
    "    all_taxa_pairs['taxon2'] = [re.sub('\\|\\d$', '', taxon, flags=re.M)\n",
    "                                for taxon in taxa2.taxon]\n",
    "\n",
    "    triu_indices = np.triu_indices_from(matrix1, k=1)\n",
    "    condensed1   = matrix1.values[triu_indices]\n",
    "    condensed2   = matrix2.values[triu_indices]\n",
    "\n",
    "#     #\n",
    "#     # ignore comparisons within the same species and use it as weights for initial ODR\n",
    "#     matrix1_distinct_genomes = taxa1.iloc[triu_indices[0], 1].values != \\\n",
    "#                                taxa1.iloc[triu_indices[1], 1].values\n",
    "#     matrix2_distinct_genomes = taxa2.iloc[triu_indices[0], 1].values !=\\\n",
    "#                                taxa2.iloc[triu_indices[1], 1].values\n",
    "\n",
    "    model = Model(line)\n",
    "    data  = Data(condensed1, \n",
    "                 condensed2, \n",
    "#                  wd=matrix1_distinct_genomes.astype(int), \n",
    "#                  we=matrix2_distinct_genomes.astype(int)\n",
    "    )\n",
    "    odr = ODR(data, \n",
    "              model,\n",
    "              beta0=[np.std(condensed2) /\\\n",
    "                     np.std(condensed1)]\n",
    "             )\n",
    "\n",
    "    regression = odr.run()\n",
    "\n",
    "    residual_df = pd.DataFrame(columns=['x_taxon1',   'x_genome1', \n",
    "                                        'x_taxon2',   'x_genome2', \n",
    "\n",
    "                                        'y_taxon1',   'y_genome1', \n",
    "                                        'y_taxon2',   'y_genome2', \n",
    "\n",
    "                                        'x_residual', 'y_residual'],\n",
    "                               data   =zip(matrix1.index[triu_indices[0]],\n",
    "                                           taxa1.iloc[triu_indices[0], 1].values,\n",
    "                                           matrix1.index[triu_indices[1]],\n",
    "                                           taxa1.iloc[triu_indices[1], 1].values,\n",
    "\n",
    "                                           matrix2.index[triu_indices[0]],\n",
    "                                           taxa2.iloc[triu_indices[0], 1].values,\n",
    "                                           matrix2.index[triu_indices[1]],\n",
    "                                           taxa2.iloc[triu_indices[1], 1].values,\n",
    "\n",
    "                                           abs(regression.delta),\n",
    "                                           abs(regression.eps))\n",
    "                              )\n",
    "    residual_df['residual_total'] = residual_df.x_residual + residual_df.y_residual\n",
    "\n",
    "    within_genomes = ((residual_df.x_genome1 == residual_df.x_genome2) | \n",
    "                      (residual_df.y_genome1 == residual_df.y_genome2))\n",
    "\n",
    "    residual_df.drop(index=residual_df.index[within_genomes], inplace=True)\n",
    "    \n",
    "    for genome in taxa1.genome[taxa1.genome.duplicated()].unique():\n",
    "    \n",
    "        matrix1_homologs = taxa1.loc[taxa1.genome==genome, \n",
    "                                   'taxon'].values\n",
    "        matrix2_homologs = taxa2.loc[taxa2.genome==genome, \n",
    "                                   'taxon'].values\n",
    "\n",
    "        homolog_combinations = pd.DataFrame(columns=['homolog1', \n",
    "                                                     'homolog2', \n",
    "                                                     'residual_sum'])\n",
    "        for homolog1, homolog2 in itertools.product(matrix1_homologs,\n",
    "                                                    matrix2_homologs):\n",
    "            tmp_df = residual_df.query('(x_taxon1 == @homolog1 | x_taxon2 == @homolog1) &'\n",
    "                                       '(y_taxon1 == @homolog2 | y_taxon2 == @homolog2)')\n",
    "\n",
    "            if not tmp_df.shape[0]:\n",
    "                continue\n",
    "\n",
    "            homolog1 = re.sub('\\|\\d$', \n",
    "                              '',\n",
    "                              homolog1, \n",
    "                              flags=re.M)\n",
    "            homolog2 = re.sub('\\|\\d$',\n",
    "                              '', \n",
    "                              homolog2, \n",
    "                              flags=re.M)\n",
    "\n",
    "            homolog_combinations = homolog_combinations.append(\n",
    "                pd.Series(data=[homolog1, \n",
    "                                homolog2, \n",
    "                                tmp_df.residual_total.sum()],\n",
    "                          index=['homolog1', \n",
    "                                 'homolog2', \n",
    "                                 'residual_sum']), \n",
    "                ignore_index=True\n",
    "            )\n",
    "\n",
    "        homolog_combinations.sort_values('residual_sum', inplace=True)\n",
    "        best_pairs = set()\n",
    "        while homolog_combinations.shape[0]:\n",
    "            first_row = homolog_combinations.iloc[0]\n",
    "            best_pairs.add((first_row.homolog1, first_row.homolog2))\n",
    "            homolog_combinations = homolog_combinations.query(f'(homolog1 != \"{first_row.homolog1}\") & '\n",
    "                                                              f'(homolog2 != \"{first_row.homolog2}\")').copy()\n",
    "            \n",
    "        for homolog1, homolog2 in best_pairs:\n",
    "            indices_to_drop = all_taxa_pairs.query(\n",
    "                '(taxon1 == @homolog1 & taxon2 != @homolog2) |'\n",
    "                '(taxon1 != @homolog1 & taxon2 == @homolog2)'\n",
    "            ).index\n",
    "\n",
    "            all_taxa_pairs.drop(index=indices_to_drop, \n",
    "                                inplace=True)\n",
    "\n",
    "            taxa1.drop(index  =indices_to_drop, \n",
    "                       inplace=True)\n",
    "            taxa2.drop(index  =indices_to_drop, \n",
    "                       inplace=True)\n",
    "    \n",
    "    matrix1 = matrix1.reindex(index  =taxa1.taxon, \n",
    "                              columns=taxa1.taxon, \n",
    "                              copy   =True)\n",
    "    matrix2 = matrix2.reindex(index  =taxa2.taxon, \n",
    "                              columns=taxa2.taxon, \n",
    "                              copy   =True)\n",
    "    \n",
    "    return(matrix1, taxa1, matrix2, taxa2)"
   ]
  },
  {
   "cell_type": "code",
   "execution_count": null,
   "metadata": {},
   "outputs": [],
   "source": []
  },
  {
   "cell_type": "code",
   "execution_count": null,
   "metadata": {},
   "outputs": [],
   "source": []
  },
  {
   "cell_type": "code",
   "execution_count": null,
   "metadata": {},
   "outputs": [],
   "source": []
  },
  {
   "cell_type": "code",
   "execution_count": null,
   "metadata": {},
   "outputs": [],
   "source": []
  },
  {
   "cell_type": "code",
   "execution_count": null,
   "metadata": {},
   "outputs": [],
   "source": []
  },
  {
   "cell_type": "code",
   "execution_count": null,
   "metadata": {},
   "outputs": [],
   "source": []
  },
  {
   "cell_type": "code",
   "execution_count": null,
   "metadata": {},
   "outputs": [],
   "source": []
  },
  {
   "cell_type": "code",
   "execution_count": null,
   "metadata": {},
   "outputs": [],
   "source": []
  },
  {
   "cell_type": "code",
   "execution_count": null,
   "metadata": {},
   "outputs": [],
   "source": []
  },
  {
   "cell_type": "code",
   "execution_count": null,
   "metadata": {},
   "outputs": [],
   "source": []
  },
  {
   "cell_type": "code",
   "execution_count": null,
   "metadata": {},
   "outputs": [],
   "source": []
  },
  {
   "cell_type": "code",
   "execution_count": null,
   "metadata": {},
   "outputs": [],
   "source": []
  },
  {
   "cell_type": "code",
   "execution_count": null,
   "metadata": {},
   "outputs": [],
   "source": []
  },
  {
   "cell_type": "code",
   "execution_count": null,
   "metadata": {},
   "outputs": [],
   "source": []
  },
  {
   "cell_type": "code",
   "execution_count": null,
   "metadata": {},
   "outputs": [],
   "source": [
    "import plotly\n",
    "import chart_studio.plotly as ptl\n",
    "import plotly.graph_objects as go\n",
    "\n",
    "ptl.sign_in('lthiberiol', 'm15ikp59lt')"
   ]
  },
  {
   "cell_type": "code",
   "execution_count": 20,
   "metadata": {},
   "outputs": [],
   "source": [
    "def balance_matrices_all_combinations(matrix1, matrix2,  gene_sep='_'):\n",
    "    \n",
    "    if gene_sep == '_':\n",
    "        regex = re.compile('^(GC[AF]_\\d+(?:\\.\\d)?)[_|](.*)$')\n",
    "    elif gene_sep == '.':\n",
    "        regex = re.compile('^(\\d+?)\\.(.*)$')\n",
    "    \n",
    "    tmp_taxa = []\n",
    "    for index in matrix1.index:\n",
    "        genome, gene = re.search(regex, index).groups()\n",
    "        tmp_taxa.append([index, genome, gene])\n",
    "\n",
    "    taxa1 = pd.DataFrame(columns=['taxon', 'genome', 'gene'],\n",
    "                         data=tmp_taxa)\n",
    "\n",
    "    tmp_taxa = []\n",
    "    for index in matrix2.index:\n",
    "        genome, gene = re.search(regex, index).groups()\n",
    "        tmp_taxa.append([index, genome, gene])\n",
    "\n",
    "    taxa2 = pd.DataFrame(columns=['taxon', 'genome', 'gene'],\n",
    "                         data=tmp_taxa)\n",
    "\n",
    "    shared_genomes = np.intersect1d(taxa1.genome.unique(), \n",
    "                                    taxa2.genome.unique())\n",
    "\n",
    "    taxa1 = taxa1[taxa1.genome.isin(shared_genomes)]\n",
    "    taxa2 = taxa2[taxa2.genome.isin(shared_genomes)]\n",
    "\n",
    "    if not taxa1.genome.is_unique or not taxa2.genome.is_unique:\n",
    "    \n",
    "        taxa1_frequency = Counter(taxa1.genome) \n",
    "        taxa2_frequency = Counter(taxa2.genome)\n",
    "\n",
    "        for genome in shared_genomes:\n",
    "            genome1_count = taxa1_frequency[genome]\n",
    "            genome2_count = taxa2_frequency[genome]\n",
    "\n",
    "            if genome1_count > 1:\n",
    "                #\n",
    "                # one of the matrices must be traversed in the inversed order to make sure an \n",
    "                #     all VS all combination is obtained. That is the reason of the \"iloc[::-1]\"\n",
    "                #     during the querying\n",
    "                tmp_df = taxa2.iloc[::-1].query('genome == @genome').copy()\n",
    "                for _ in range(genome1_count - 1):\n",
    "                    for index, row in tmp_df.iterrows():\n",
    "                        tmp_row = row.copy()\n",
    "                        tmp_row.taxon += f'|{_}'\n",
    "                        taxa2      = taxa2.append(tmp_row, ignore_index=True)\n",
    "\n",
    "                        reference_name = re.sub('\\|\\d+$', '', tmp_row.taxon, flags=re.M)\n",
    "                        matrix2[    tmp_row.taxon] = matrix2[    reference_name]\n",
    "                        matrix2.loc[tmp_row.taxon] = matrix2.loc[reference_name]\n",
    "\n",
    "\n",
    "            if genome2_count > 1:\n",
    "                tmp_df = taxa1.query('genome == @genome').copy()\n",
    "                for _ in range(genome2_count - 1):\n",
    "                    for index, row in tmp_df.iterrows():\n",
    "                        tmp_row = row.copy()\n",
    "                        tmp_row.taxon += f'|{_}'\n",
    "                        taxa1 = taxa1.append(tmp_row, ignore_index=True)\n",
    "\n",
    "                        reference_name = re.sub('\\|\\d+$', '', tmp_row.taxon, flags=re.M)\n",
    "                        matrix1[    tmp_row.taxon] = matrix1[    reference_name]\n",
    "                        matrix1.loc[tmp_row.taxon] = matrix1.loc[reference_name]\n",
    "\n",
    "    taxa1.sort_values('genome', inplace=True)\n",
    "    taxa2.sort_values('genome', inplace=True)\n",
    "\n",
    "    taxa1.reset_index(drop=True, inplace=True)\n",
    "    taxa2.reset_index(drop=True, inplace=True)\n",
    "    \n",
    "#     return(taxa1, taxa2)\n",
    "    \n",
    "    all_taxa_pairs           = pd.DataFrame()\n",
    "    all_taxa_pairs['taxon1'] = [re.sub('\\|\\d$', '', taxon, flags=re.M)\n",
    "                                for taxon in taxa1.taxon]\n",
    "    all_taxa_pairs['taxon2'] = [re.sub('\\|\\d$', '', taxon, flags=re.M)\n",
    "                                for taxon in taxa2.taxon]\n",
    "    \n",
    "    matrix1 = matrix1.reindex(index  =taxa1.taxon, \n",
    "                              columns=taxa1.taxon, \n",
    "                              copy   =True)\n",
    "    matrix2 = matrix2.reindex(index  =taxa2.taxon, \n",
    "                              columns=taxa2.taxon, \n",
    "                              copy   =True)\n",
    "    \n",
    "    return(matrix1, taxa1, matrix2, taxa2)"
   ]
  },
  {
   "cell_type": "code",
   "execution_count": 12,
   "metadata": {},
   "outputs": [],
   "source": [
    "duplicated_taxa = set()\n",
    "\n",
    "tmp = few_duplications.iloc[0]\n",
    "duplicated_taxa1 = set()\n",
    "for taxa in tmp.taxa:\n",
    "    if tmp.members.count(str(taxa)) > 1:\n",
    "        duplicated_taxa1.add(str(taxa))\n",
    "        duplicated_taxa.add(str(taxa))\n",
    "\n",
    "tmp = few_duplications.iloc[1]\n",
    "duplicated_taxa2 = set()\n",
    "for taxa in tmp.taxa:\n",
    "    if tmp.members.count(str(taxa)) > 1:\n",
    "        duplicated_taxa2.add(str(taxa))\n",
    "        duplicated_taxa.add(str(taxa))"
   ]
  },
  {
   "cell_type": "code",
   "execution_count": 14,
   "metadata": {},
   "outputs": [
    {
     "name": "stdout",
     "output_type": "stream",
     "text": [
      "1054217\n",
      "797210\n",
      "330779\n"
     ]
    }
   ],
   "source": [
    "for n in duplicated_taxa:\n",
    "    if os.path.isfile(f'../string/{n}.protein.links.v11.0.txt'):\n",
    "        print(n)"
   ]
  },
  {
   "cell_type": "code",
   "execution_count": 23,
   "metadata": {},
   "outputs": [],
   "source": [
    "matrix1, taxa1, matrix2, taxa2 = balance_matrices_all_combinations(dist_matrices[0].copy(), \n",
    "                                                                   dist_matrices[1].copy(), \n",
    "                                                                   gene_sep='.')"
   ]
  },
  {
   "cell_type": "code",
   "execution_count": 24,
   "metadata": {},
   "outputs": [
    {
     "data": {
      "text/html": [
       "<div>\n",
       "<style scoped>\n",
       "    .dataframe tbody tr th:only-of-type {\n",
       "        vertical-align: middle;\n",
       "    }\n",
       "\n",
       "    .dataframe tbody tr th {\n",
       "        vertical-align: top;\n",
       "    }\n",
       "\n",
       "    .dataframe thead th {\n",
       "        text-align: right;\n",
       "    }\n",
       "</style>\n",
       "<table border=\"1\" class=\"dataframe\">\n",
       "  <thead>\n",
       "    <tr style=\"text-align: right;\">\n",
       "      <th>taxon</th>\n",
       "      <th>1006006.Mcup_1524</th>\n",
       "      <th>1006006.Mcup_1889</th>\n",
       "      <th>1041930.Mtc_2023</th>\n",
       "      <th>1042877.GQS_02020</th>\n",
       "      <th>1054217.TALC_00624</th>\n",
       "      <th>1054217.TALC_00785</th>\n",
       "      <th>1056495.Calag_0858</th>\n",
       "      <th>1070774.J07HN4v3_02669</th>\n",
       "      <th>1071085.KK033114_gene1231</th>\n",
       "      <th>1094980.Mpsy_2779</th>\n",
       "      <th>...</th>\n",
       "      <th>926690.KE386573_gene2743|0</th>\n",
       "      <th>926690.KE386573_gene2743</th>\n",
       "      <th>930945.SiRe_0185</th>\n",
       "      <th>930945.SiRe_1955</th>\n",
       "      <th>930945.SiRe_1993</th>\n",
       "      <th>931277.C448_06368</th>\n",
       "      <th>933801.Ahos_1053</th>\n",
       "      <th>933801.Ahos_2188</th>\n",
       "      <th>985053.VMUT_0747</th>\n",
       "      <th>999630.TUZN_0613</th>\n",
       "    </tr>\n",
       "    <tr>\n",
       "      <th>taxon</th>\n",
       "      <th></th>\n",
       "      <th></th>\n",
       "      <th></th>\n",
       "      <th></th>\n",
       "      <th></th>\n",
       "      <th></th>\n",
       "      <th></th>\n",
       "      <th></th>\n",
       "      <th></th>\n",
       "      <th></th>\n",
       "      <th></th>\n",
       "      <th></th>\n",
       "      <th></th>\n",
       "      <th></th>\n",
       "      <th></th>\n",
       "      <th></th>\n",
       "      <th></th>\n",
       "      <th></th>\n",
       "      <th></th>\n",
       "      <th></th>\n",
       "      <th></th>\n",
       "    </tr>\n",
       "  </thead>\n",
       "  <tbody>\n",
       "    <tr>\n",
       "      <th>1006006.Mcup_1524</th>\n",
       "      <td>0.000000</td>\n",
       "      <td>3.312952</td>\n",
       "      <td>2.345515</td>\n",
       "      <td>2.816642</td>\n",
       "      <td>2.672663</td>\n",
       "      <td>5.596725</td>\n",
       "      <td>2.332098</td>\n",
       "      <td>3.046360</td>\n",
       "      <td>3.264190</td>\n",
       "      <td>2.329025</td>\n",
       "      <td>...</td>\n",
       "      <td>2.829042</td>\n",
       "      <td>2.829042</td>\n",
       "      <td>1.225336</td>\n",
       "      <td>2.656364</td>\n",
       "      <td>2.872451</td>\n",
       "      <td>2.639088</td>\n",
       "      <td>2.980739</td>\n",
       "      <td>1.096793</td>\n",
       "      <td>2.381124</td>\n",
       "      <td>2.372534</td>\n",
       "    </tr>\n",
       "    <tr>\n",
       "      <th>1006006.Mcup_1889</th>\n",
       "      <td>3.312952</td>\n",
       "      <td>0.000000</td>\n",
       "      <td>2.781065</td>\n",
       "      <td>3.356276</td>\n",
       "      <td>3.339728</td>\n",
       "      <td>6.263789</td>\n",
       "      <td>2.871732</td>\n",
       "      <td>3.585994</td>\n",
       "      <td>3.803824</td>\n",
       "      <td>2.764575</td>\n",
       "      <td>...</td>\n",
       "      <td>3.368676</td>\n",
       "      <td>3.368676</td>\n",
       "      <td>3.545437</td>\n",
       "      <td>3.323428</td>\n",
       "      <td>1.282241</td>\n",
       "      <td>3.178722</td>\n",
       "      <td>0.898561</td>\n",
       "      <td>3.416893</td>\n",
       "      <td>2.920758</td>\n",
       "      <td>2.912167</td>\n",
       "    </tr>\n",
       "    <tr>\n",
       "      <th>1041930.Mtc_2023</th>\n",
       "      <td>2.345515</td>\n",
       "      <td>2.781065</td>\n",
       "      <td>0.000000</td>\n",
       "      <td>2.388839</td>\n",
       "      <td>2.372291</td>\n",
       "      <td>5.296352</td>\n",
       "      <td>1.904294</td>\n",
       "      <td>2.618557</td>\n",
       "      <td>2.836387</td>\n",
       "      <td>1.399580</td>\n",
       "      <td>...</td>\n",
       "      <td>2.401239</td>\n",
       "      <td>2.401239</td>\n",
       "      <td>2.578000</td>\n",
       "      <td>2.355992</td>\n",
       "      <td>2.340564</td>\n",
       "      <td>2.211285</td>\n",
       "      <td>2.448852</td>\n",
       "      <td>2.449456</td>\n",
       "      <td>1.953321</td>\n",
       "      <td>1.944730</td>\n",
       "    </tr>\n",
       "    <tr>\n",
       "      <th>1042877.GQS_02020</th>\n",
       "      <td>2.816642</td>\n",
       "      <td>3.356275</td>\n",
       "      <td>2.388838</td>\n",
       "      <td>0.000000</td>\n",
       "      <td>2.843417</td>\n",
       "      <td>5.767479</td>\n",
       "      <td>1.625018</td>\n",
       "      <td>3.028716</td>\n",
       "      <td>3.246546</td>\n",
       "      <td>2.372348</td>\n",
       "      <td>...</td>\n",
       "      <td>2.811399</td>\n",
       "      <td>2.811399</td>\n",
       "      <td>3.049126</td>\n",
       "      <td>2.827118</td>\n",
       "      <td>2.915774</td>\n",
       "      <td>2.621444</td>\n",
       "      <td>3.024062</td>\n",
       "      <td>2.920583</td>\n",
       "      <td>1.775449</td>\n",
       "      <td>1.766859</td>\n",
       "    </tr>\n",
       "    <tr>\n",
       "      <th>1054217.TALC_00624</th>\n",
       "      <td>2.672663</td>\n",
       "      <td>3.339727</td>\n",
       "      <td>2.372291</td>\n",
       "      <td>2.843417</td>\n",
       "      <td>0.000000</td>\n",
       "      <td>5.420497</td>\n",
       "      <td>2.358873</td>\n",
       "      <td>3.073136</td>\n",
       "      <td>3.290966</td>\n",
       "      <td>2.355800</td>\n",
       "      <td>...</td>\n",
       "      <td>2.855818</td>\n",
       "      <td>2.855818</td>\n",
       "      <td>2.905148</td>\n",
       "      <td>2.401167</td>\n",
       "      <td>2.899226</td>\n",
       "      <td>2.665864</td>\n",
       "      <td>3.007515</td>\n",
       "      <td>2.776605</td>\n",
       "      <td>2.407900</td>\n",
       "      <td>2.399309</td>\n",
       "    </tr>\n",
       "  </tbody>\n",
       "</table>\n",
       "<p>5 rows × 202 columns</p>\n",
       "</div>"
      ],
      "text/plain": [
       "taxon               1006006.Mcup_1524  1006006.Mcup_1889  1041930.Mtc_2023  \\\n",
       "taxon                                                                        \n",
       "1006006.Mcup_1524            0.000000           3.312952          2.345515   \n",
       "1006006.Mcup_1889            3.312952           0.000000          2.781065   \n",
       "1041930.Mtc_2023             2.345515           2.781065          0.000000   \n",
       "1042877.GQS_02020            2.816642           3.356275          2.388838   \n",
       "1054217.TALC_00624           2.672663           3.339727          2.372291   \n",
       "\n",
       "taxon               1042877.GQS_02020  1054217.TALC_00624  1054217.TALC_00785  \\\n",
       "taxon                                                                           \n",
       "1006006.Mcup_1524            2.816642            2.672663            5.596725   \n",
       "1006006.Mcup_1889            3.356276            3.339728            6.263789   \n",
       "1041930.Mtc_2023             2.388839            2.372291            5.296352   \n",
       "1042877.GQS_02020            0.000000            2.843417            5.767479   \n",
       "1054217.TALC_00624           2.843417            0.000000            5.420497   \n",
       "\n",
       "taxon               1056495.Calag_0858  1070774.J07HN4v3_02669  \\\n",
       "taxon                                                            \n",
       "1006006.Mcup_1524             2.332098                3.046360   \n",
       "1006006.Mcup_1889             2.871732                3.585994   \n",
       "1041930.Mtc_2023              1.904294                2.618557   \n",
       "1042877.GQS_02020             1.625018                3.028716   \n",
       "1054217.TALC_00624            2.358873                3.073136   \n",
       "\n",
       "taxon               1071085.KK033114_gene1231  1094980.Mpsy_2779  ...  \\\n",
       "taxon                                                             ...   \n",
       "1006006.Mcup_1524                    3.264190           2.329025  ...   \n",
       "1006006.Mcup_1889                    3.803824           2.764575  ...   \n",
       "1041930.Mtc_2023                     2.836387           1.399580  ...   \n",
       "1042877.GQS_02020                    3.246546           2.372348  ...   \n",
       "1054217.TALC_00624                   3.290966           2.355800  ...   \n",
       "\n",
       "taxon               926690.KE386573_gene2743|0  926690.KE386573_gene2743  \\\n",
       "taxon                                                                      \n",
       "1006006.Mcup_1524                     2.829042                  2.829042   \n",
       "1006006.Mcup_1889                     3.368676                  3.368676   \n",
       "1041930.Mtc_2023                      2.401239                  2.401239   \n",
       "1042877.GQS_02020                     2.811399                  2.811399   \n",
       "1054217.TALC_00624                    2.855818                  2.855818   \n",
       "\n",
       "taxon               930945.SiRe_0185  930945.SiRe_1955  930945.SiRe_1993  \\\n",
       "taxon                                                                      \n",
       "1006006.Mcup_1524           1.225336          2.656364          2.872451   \n",
       "1006006.Mcup_1889           3.545437          3.323428          1.282241   \n",
       "1041930.Mtc_2023            2.578000          2.355992          2.340564   \n",
       "1042877.GQS_02020           3.049126          2.827118          2.915774   \n",
       "1054217.TALC_00624          2.905148          2.401167          2.899226   \n",
       "\n",
       "taxon               931277.C448_06368  933801.Ahos_1053  933801.Ahos_2188  \\\n",
       "taxon                                                                       \n",
       "1006006.Mcup_1524            2.639088          2.980739          1.096793   \n",
       "1006006.Mcup_1889            3.178722          0.898561          3.416893   \n",
       "1041930.Mtc_2023             2.211285          2.448852          2.449456   \n",
       "1042877.GQS_02020            2.621444          3.024062          2.920583   \n",
       "1054217.TALC_00624           2.665864          3.007515          2.776605   \n",
       "\n",
       "taxon               985053.VMUT_0747  999630.TUZN_0613  \n",
       "taxon                                                   \n",
       "1006006.Mcup_1524           2.381124          2.372534  \n",
       "1006006.Mcup_1889           2.920758          2.912167  \n",
       "1041930.Mtc_2023            1.953321          1.944730  \n",
       "1042877.GQS_02020           1.775449          1.766859  \n",
       "1054217.TALC_00624          2.407900          2.399309  \n",
       "\n",
       "[5 rows x 202 columns]"
      ]
     },
     "execution_count": 24,
     "metadata": {},
     "output_type": "execute_result"
    }
   ],
   "source": [
    "matrix2.head()"
   ]
  },
  {
   "cell_type": "code",
   "execution_count": 336,
   "metadata": {},
   "outputs": [
    {
     "data": {
      "text/plain": [
       "49"
      ]
     },
     "execution_count": 336,
     "metadata": {},
     "output_type": "execute_result"
    }
   ],
   "source": [
    "len(missing)"
   ]
  },
  {
   "cell_type": "code",
   "execution_count": null,
   "metadata": {},
   "outputs": [],
   "source": []
  },
  {
   "cell_type": "code",
   "execution_count": null,
   "metadata": {},
   "outputs": [],
   "source": []
  },
  {
   "cell_type": "code",
   "execution_count": null,
   "metadata": {},
   "outputs": [],
   "source": []
  },
  {
   "cell_type": "code",
   "execution_count": null,
   "metadata": {},
   "outputs": [],
   "source": []
  },
  {
   "cell_type": "code",
   "execution_count": null,
   "metadata": {},
   "outputs": [],
   "source": []
  },
  {
   "cell_type": "code",
   "execution_count": null,
   "metadata": {},
   "outputs": [],
   "source": []
  },
  {
   "cell_type": "code",
   "execution_count": null,
   "metadata": {},
   "outputs": [],
   "source": []
  },
  {
   "cell_type": "code",
   "execution_count": null,
   "metadata": {},
   "outputs": [],
   "source": []
  },
  {
   "cell_type": "code",
   "execution_count": null,
   "metadata": {},
   "outputs": [],
   "source": []
  },
  {
   "cell_type": "code",
   "execution_count": null,
   "metadata": {},
   "outputs": [],
   "source": [
    "triu_indices = np.triu_indices_from(matrix1, k=1)\n",
    "condensed1   = matrix1.values[triu_indices]\n",
    "condensed2   = matrix2.values[triu_indices]\n",
    "\n",
    "matrix1_label = [f'{index1} VS {index2}' for index1, index2 in zip(matrix1.index[triu_indices[0]],\n",
    "                                                                   matrix1.index[triu_indices[1]])]\n",
    "matrix2_label = [f'{index1} VS {index2}' for index1, index2 in zip(matrix2.index[triu_indices[0]],\n",
    "                                                                   matrix2.index[triu_indices[1]])]\n",
    "\n",
    "combined_labels = [f'{label1}<br>{label2}' for label1, label2 in zip(matrix1_label,\n",
    "                                                                   matrix2_label)]"
   ]
  },
  {
   "cell_type": "code",
   "execution_count": null,
   "metadata": {},
   "outputs": [],
   "source": [
    "trace_data = {genome:{'x':[], 'y':[], 'c':[], 'l':[]} for genome in duplicated_taxa}\n",
    "trace_data['no duplication'] = {'x':[], 'y':[], 'c':[], 'l':[]}\n",
    "\n",
    "all_combined = {'x':[], 'y':[], 'c':[], 'l':[]}"
   ]
  },
  {
   "cell_type": "code",
   "execution_count": null,
   "metadata": {},
   "outputs": [],
   "source": [
    "for label1, label2, pos1, pos2 in zip(matrix1_label, matrix2_label, condensed1, condensed2):\n",
    "    label1_taxa = re.search('^(\\d+?)\\.\\S+ VS (\\d+?)\\.', label1, re.M).groups()\n",
    "    label2_taxa = re.search('^(\\d+?)\\.\\S+ VS (\\d+?)\\.', label2, re.M).groups()\n",
    "    \n",
    "    tmp_duplicated = duplicated_taxa.intersection(\n",
    "        np.intersect1d(label1_taxa, label2_taxa).tolist()\n",
    "    )\n",
    "    \n",
    "    all_combined['x'].append(pos1)\n",
    "    all_combined['y'].append(pos2)\n",
    "    all_combined['c'].append('blue')\n",
    "    all_combined['l'].append(f'{label1}<br>{label2}')\n",
    "    \n",
    "    if tmp_duplicated:\n",
    "        for tmp in tmp_duplicated:\n",
    "            trace_data[tmp]['x'].append(pos1)\n",
    "            trace_data[tmp]['y'].append(pos2)\n",
    "            trace_data[tmp]['c'].append('red')\n",
    "            trace_data[tmp]['l'].append(f'{label1}<br>{label2}')\n",
    "    else:\n",
    "        trace_data['no duplication']['x'].append(pos1)\n",
    "        trace_data['no duplication']['y'].append(pos2)\n",
    "        trace_data['no duplication']['c'].append('black')\n",
    "        trace_data['no duplication']['l'].append(f'{label1}<br>{label2}')"
   ]
  },
  {
   "cell_type": "code",
   "execution_count": null,
   "metadata": {},
   "outputs": [],
   "source": [
    "# possible_colors = '#2E8A79 #4071BF #9D3467 #462163 #AC3B39 #2A4F7E #28772A #BB3EAD #B0933B'.split()\n",
    "# possible_shapes = 'square x triangle-up star'.split()\n",
    "\n",
    "# styles = itertools.product(possible_colors, possible_shapes)\n",
    "\n",
    "data = []\n",
    "for name in trace_data.keys():\n",
    "    \n",
    "    if name == 'no duplication':\n",
    "        tmp_color, tmp_shape = ['black', 'circle']\n",
    "    else:\n",
    "        tmp_color, tmp_shape = ['red', 'x']\n",
    "        \n",
    "    data.append(\n",
    "        go.Scatter(\n",
    "            x        = trace_data[name]['x'],\n",
    "            y        = trace_data[name]['y'],\n",
    "            text     = trace_data[name]['l'],\n",
    "            mode     ='markers',\n",
    "            name     = name,\n",
    "            hoverinfo='text',\n",
    "            opacity  =0.7,\n",
    "            marker   =dict(symbol      =tmp_shape,\n",
    "                           color       =tmp_color,\n",
    "                           size        =10,\n",
    "                           line_width  =1,\n",
    "                           line_color  ='white')\n",
    "\n",
    "        )\n",
    "    )"
   ]
  },
  {
   "cell_type": "code",
   "execution_count": null,
   "metadata": {},
   "outputs": [],
   "source": [
    "fig = go.Figure(data=list(reversed(data)), # here is important to add edges first so they don't cover nodes\n",
    "                layout=go.Layout(template          ='simple_white',\n",
    "                                 title             ='All possible combinations of duplicated genes',\n",
    "                                 titlefont_size    =16,\n",
    "                                 showlegend        =True,\n",
    "                                 legend_orientation='h',\n",
    "                                 hovermode         ='closest',\n",
    "                                 margin            =dict(b=20,\n",
    "                                                         l=5,\n",
    "                                                         r=5,\n",
    "                                                         t=40),\n",
    "#                                  xaxis             =dict(showgrid     =False,\n",
    "#                                                          zeroline     =False,\n",
    "#                                                          showticklabels=False),\n",
    "#                                  yaxis             =dict(showgrid      =False, \n",
    "#                                                          zeroline      =False, \n",
    "#                                                          showticklabels=False)\n",
    "                                )\n",
    "                )\n",
    "\n",
    "plotly.offline.plot(fig, filename='/Users/thiberio/duplication_test_all.html', config={'scrollZoom': True}, auto_open=False)"
   ]
  },
  {
   "cell_type": "code",
   "execution_count": null,
   "metadata": {},
   "outputs": [],
   "source": [
    "assess_coevolution(dist_matrices[0].copy(), \n",
    "                   dist_matrices[1].copy(), \n",
    "                   gene_sep='.')"
   ]
  },
  {
   "cell_type": "code",
   "execution_count": null,
   "metadata": {},
   "outputs": [],
   "source": [
    "matrix1, taxa1, matrix2, taxa2 = balance_matrices(dist_matrices[0].copy(), \n",
    "                                                  dist_matrices[1].copy(), \n",
    "                                                  gene_sep='.')"
   ]
  },
  {
   "cell_type": "code",
   "execution_count": null,
   "metadata": {},
   "outputs": [],
   "source": [
    "triu_indices = np.triu_indices_from(matrix1, k=1)\n",
    "condensed1   = matrix1.values[triu_indices]\n",
    "condensed2   = matrix2.values[triu_indices]\n",
    "\n",
    "matrix1_label = [f'{index1} VS {index2}' for index1, index2 in zip(matrix1.index[triu_indices[0]],\n",
    "                                                                   matrix1.index[triu_indices[1]])]\n",
    "matrix2_label = [f'{index1} VS {index2}' for index1, index2 in zip(matrix2.index[triu_indices[0]],\n",
    "                                                                   matrix2.index[triu_indices[1]])]\n",
    "\n",
    "combined_labels = [f'{label1}<br>{label2}' for label1, label2 in zip(matrix1_label,\n",
    "                                                                   matrix2_label)]"
   ]
  },
  {
   "cell_type": "code",
   "execution_count": null,
   "metadata": {},
   "outputs": [],
   "source": [
    "trace_data = {genome:{'x':[], 'y':[], 'c':[], 'l':[]} for genome in duplicated_taxa}\n",
    "trace_data['no duplication'] = {'x':[], 'y':[], 'c':[], 'l':[]}\n",
    "\n",
    "all_combined = {'x':[], 'y':[], 'c':[], 'l':[]}"
   ]
  },
  {
   "cell_type": "code",
   "execution_count": null,
   "metadata": {},
   "outputs": [],
   "source": [
    "for label1, label2, pos1, pos2 in zip(matrix1_label, matrix2_label, condensed1, condensed2):\n",
    "    label1_taxa = re.search('^(\\d+?)\\.\\S+ VS (\\d+?)\\.', label1, re.M).groups()\n",
    "    label2_taxa = re.search('^(\\d+?)\\.\\S+ VS (\\d+?)\\.', label2, re.M).groups()\n",
    "    \n",
    "    tmp_duplicated = duplicated_taxa.intersection(\n",
    "        np.intersect1d(label1_taxa, label2_taxa).tolist()\n",
    "    )\n",
    "    \n",
    "    all_combined['x'].append(pos1)\n",
    "    all_combined['y'].append(pos2)\n",
    "    all_combined['c'].append('blue')\n",
    "    all_combined['l'].append(f'{label1}<br>{label2}')\n",
    "    \n",
    "    if tmp_duplicated:\n",
    "        for tmp in tmp_duplicated:\n",
    "            trace_data[tmp]['x'].append(pos1)\n",
    "            trace_data[tmp]['y'].append(pos2)\n",
    "            trace_data[tmp]['c'].append('blue')\n",
    "            trace_data[tmp]['l'].append(f'{label1}<br>{label2}')\n",
    "    else:\n",
    "        trace_data['no duplication']['x'].append(pos1)\n",
    "        trace_data['no duplication']['y'].append(pos2)\n",
    "        trace_data['no duplication']['c'].append('black')\n",
    "        trace_data['no duplication']['l'].append(f'{label1}<br>{label2}')"
   ]
  },
  {
   "cell_type": "code",
   "execution_count": null,
   "metadata": {},
   "outputs": [],
   "source": [
    "# possible_colors = '#2E8A79 #4071BF #9D3467 #462163 #AC3B39 #2A4F7E #28772A #BB3EAD #B0933B'.split()\n",
    "# possible_shapes = 'square x triangle-up star'.split()\n",
    "\n",
    "# styles = itertools.product(possible_colors, possible_shapes)\n",
    "\n",
    "data = []\n",
    "for name in trace_data.keys():\n",
    "    \n",
    "    if name == 'no duplication':\n",
    "        tmp_color, tmp_shape = ['black', 'circle']\n",
    "    else:\n",
    "        tmp_color, tmp_shape = ['blue', 'x']\n",
    "        \n",
    "    data.append(\n",
    "        go.Scatter(\n",
    "            x        = trace_data[name]['x'],\n",
    "            y        = trace_data[name]['y'],\n",
    "            text     = trace_data[name]['l'],\n",
    "            mode     ='markers',\n",
    "            name     = name,\n",
    "            hoverinfo='text',\n",
    "            opacity  =0.7,\n",
    "            marker   =dict(symbol      =tmp_shape,\n",
    "                           color       =tmp_color,\n",
    "                           size        =10,\n",
    "                           line_width  =1,\n",
    "                           line_color  ='white')\n",
    "\n",
    "        )\n",
    "    )"
   ]
  },
  {
   "cell_type": "code",
   "execution_count": null,
   "metadata": {},
   "outputs": [],
   "source": [
    "fig = go.Figure(data=list(reversed(data)), # here is important to add edges first so they don't cover nodes\n",
    "                layout=go.Layout(template          ='simple_white',\n",
    "                                 title             ='Best matching duplicates only',\n",
    "                                 titlefont_size    =16,\n",
    "                                 showlegend        =True,\n",
    "                                 legend_orientation='h',\n",
    "                                 hovermode         ='closest',\n",
    "                                 margin            =dict(b=20,\n",
    "                                                         l=5,\n",
    "                                                         r=5,\n",
    "                                                         t=40),\n",
    "#                                  xaxis             =dict(showgrid     =False,\n",
    "#                                                          zeroline     =False,\n",
    "#                                                          showticklabels=False),\n",
    "#                                  yaxis             =dict(showgrid      =False, \n",
    "#                                                          zeroline      =False, \n",
    "#                                                          showticklabels=False)\n",
    "                                )\n",
    "                )\n",
    "\n",
    "plotly.offline.plot(fig, filename='/Users/thiberio/duplication_test_matching2.html', config={'scrollZoom': True}, auto_open=False)"
   ]
  }
 ],
 "metadata": {
  "kernelspec": {
   "display_name": "Python 3",
   "language": "python",
   "name": "python3"
  },
  "language_info": {
   "codemirror_mode": {
    "name": "ipython",
    "version": 3
   },
   "file_extension": ".py",
   "mimetype": "text/x-python",
   "name": "python",
   "nbconvert_exporter": "python",
   "pygments_lexer": "ipython3",
   "version": "3.7.1"
  }
 },
 "nbformat": 4,
 "nbformat_minor": 2
}
