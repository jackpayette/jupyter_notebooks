{
 "cells": [
  {
   "cell_type": "code",
   "execution_count": 32,
   "metadata": {},
   "outputs": [
    {
     "name": "stdout",
     "output_type": "stream",
     "text": [
      "/Users/thiberio/t3ss_effectors/signal_prediction\n"
     ]
    }
   ],
   "source": [
    "import pandas as pd\n",
    "import os\n",
    "from Bio import Seq\n",
    "import re\n",
    "\n",
    "%cd /Users/thiberio/t3ss_effectors/signal_prediction/"
   ]
  },
  {
   "cell_type": "code",
   "execution_count": 23,
   "metadata": {},
   "outputs": [
    {
     "name": "stdout",
     "output_type": "stream",
     "text": [
      "PteA.csv 27 20\n",
      "PteB.csv 30 15\n",
      "AopO.csv 5 5\n",
      "AopX.csv 36 36\n",
      "PteC.csv 5 5\n",
      "PteG.csv 7 5\n",
      "PteF.csv 3 2\n",
      "AopH.csv 9 1\n",
      "PteE.csv 51 4\n",
      "AexU.csv 42 24\n",
      "AexT.csv 20 9\n",
      "AopS.csv 5 0\n",
      "PteI.csv 2 0\n",
      "aopP.csv 6 6\n",
      "Ati2.csv 6 6\n",
      "PteJ.csv 1 1\n",
      "PteM.csv 2 1\n",
      "pteL.csv 3 3\n"
     ]
    }
   ],
   "source": [
    "for filename in os.listdir('.'):\n",
    "    if not filename.endswith('.csv'):\n",
    "        continue\n",
    "    df = pd.read_table(filename, sep='\\t')\n",
    "    tmp_df = df.query('~protein.str.startswith(\"gi\")').copy()\n",
    "    print(filename,\n",
    "          tmp_df.shape[0],\n",
    "          sum(tmp_df['Search for secreted type-III proteins (EffectiveT3)'].astype(float) >= 0.95))"
   ]
  },
  {
   "cell_type": "code",
   "execution_count": 30,
   "metadata": {},
   "outputs": [],
   "source": [
    "for protein in 'PteD PteD.1 PteH PteK PteM.1'.split():\n",
    "    fasta = open('../%s.fna' % protein).readlines()\n",
    "    out   = open('../%s.faa' % protein, 'w')\n",
    "    for line in fasta:\n",
    "        if line.startswith('>'):\n",
    "            out.write(line)\n",
    "        else:\n",
    "            out.write(Seq.translate(line))\n",
    "            out.write('\\n')\n",
    "    out.close()"
   ]
  },
  {
   "cell_type": "code",
   "execution_count": 129,
   "metadata": {},
   "outputs": [
    {
     "name": "stdout",
     "output_type": "stream",
     "text": [
      "/Users/thiberio/t3ss_effectors\n",
      "PteL.fna 723_642.148.peg.725.fna\n",
      "Ati2.fna 233144_42949.4185.fna\n",
      "PteK.fna 1897_642.148.peg.1899.fna\n",
      "AexT.fna 320085_93602.2233-333379_41.3491.fna\n",
      "AexT.fna 24318_35494.3581-320086_93602.2234-7480_50.3401.fna\n",
      "AexU.fna 24318_35494.3581-320086_93602.2234-7480_50.3401.fna\n",
      "AexU.fna 253597_642.133.peg.2831-253599_642.133.peg.2833-7479_50.3400-253600_642.133.peg.2834-253596_642.133.peg.2830-256111_642.134.peg.949.fna\n",
      "PteD.fna 198567_18299.3086.fna\n",
      "PteD.fna 333444_41.3556-320672_93602.2940.fna\n",
      "AopH.fna 1897_642.148.peg.1899.fna\n",
      "PteG.fna 1849_642.148.peg.1851-331672_41.1784.fna\n",
      "PteG.fna 75867_26798.3983-70960_26797.2786.fna\n",
      "AopX.fna 320663_93602.2927-333783_41.3895.fna\n",
      "PteC.fna 70974_26797.2800.fna\n",
      "PteC.fna 70972_26797.2798.fna\n",
      "PteB.fna 321038_93602.2081.fna\n",
      "PteD.1.fna 198567_18299.3086.fna\n",
      "PteA.fna 320899_93602.957.fna\n"
     ]
    }
   ],
   "source": [
    "%cd /Users/thiberio/t3ss_effectors/\n",
    "chaperone_files = {}\n",
    "for filename in os.listdir('.'):\n",
    "    if not filename.endswith('.fna') or re.match('\\d', filename):\n",
    "        continue\n",
    "\n",
    "    effectors = {}\n",
    "    for seq_id, genome in re.findall('^>(\\S+?)\\|(\\S+)$', open(filename).read(), re.M):\n",
    "        if 'contig' in genome  or '[' in genome:\n",
    "            continue\n",
    "        if not genome in effectors:\n",
    "            effectors[genome] = []\n",
    "        effectors[genome].append(seq_id)\n",
    "    \n",
    "    downstream_names = {}\n",
    "    for genome, seqs in effectors.items():\n",
    "        if not genome in downstream_names:\n",
    "            downstream_names[genome] = []\n",
    "\n",
    "        for effector in seqs:\n",
    "            seq_id_fragments = effector.split('.')\n",
    "            downstream_names[genome].append('%s.%i' %('.'.join(seq_id_fragments[:-1]),\n",
    "                                            int(seq_id_fragments[-1])-1))\n",
    "            downstream_names[genome].append('%s.%i' %('.'.join(seq_id_fragments[:-1]),\n",
    "                                            int(seq_id_fragments[-1])+1))\n",
    "\n",
    "    count = 0\n",
    "    for filename2 in os.listdir('all_fastas/'):\n",
    "        if filename2.startswith('.') or not filename2.endswith('.fna'):\n",
    "            continue\n",
    "\n",
    "        candidate_chaperones = {}\n",
    "        for seq_id, genome in re.findall('^>(\\S+?)\\|(\\S+)$', open('all_fastas/%s' % filename2).read(), re.M):\n",
    "            if not genome in candidate_chaperones:\n",
    "                candidate_chaperones[genome] = []\n",
    "            candidate_chaperones[genome].append(seq_id)\n",
    "\n",
    "        adjacent_to_effector = []\n",
    "        for genome in effectors.keys():\n",
    "            if genome not in candidate_chaperones:\n",
    "                continue\n",
    "\n",
    "            if set(downstream_names[genome]).intersection(candidate_chaperones[genome]):\n",
    "                adjacent_to_effector.append(genome)\n",
    "                \n",
    "        if adjacent_to_effector:\n",
    "            count += 1\n",
    "            print(filename, filename2)\n",
    "            if filename2 not in chaperone_files:\n",
    "                chaperone_files[filename2] = []\n",
    "            chaperone_files[filename2].append(filename)\n",
    "#            os.system('cp all_fastas/%s possible_chaperones/associated_to_%s-%i.fna' % \n",
    "#                     (filename2,\n",
    "#                      filename.replace('.fna', ''),\n",
    "#                      count))"
   ]
  },
  {
   "cell_type": "code",
   "execution_count": 137,
   "metadata": {},
   "outputs": [],
   "source": [
    "for filename, effectors in chaperone_files.items():\n",
    "    associated_to = '_'.join([effector.replace('.fna', '') for effector in effectors])\n",
    "    count = 0\n",
    "    while True:\n",
    "        count   += 1\n",
    "        new_name = 'associated_to_%s-%i.fna' % (associated_to, count)\n",
    "        if not os.path.isfile('possible_chaperones/%s' % new_name):\n",
    "            break\n",
    "            \n",
    "    os.system('cp all_fastas/%s possible_chaperones/%s' % (filename, new_name))"
   ]
  },
  {
   "cell_type": "code",
   "execution_count": 134,
   "metadata": {},
   "outputs": [
    {
     "data": {
      "text/plain": [
       "{'723_642.148.peg.725.fna': ['PteL.fna'],\n",
       " '233144_42949.4185.fna': ['Ati2.fna'],\n",
       " '1897_642.148.peg.1899.fna': ['PteK.fna', 'AopH.fna'],\n",
       " '320085_93602.2233-333379_41.3491.fna': ['AexT.fna'],\n",
       " '24318_35494.3581-320086_93602.2234-7480_50.3401.fna': ['AexT.fna',\n",
       "  'AexU.fna'],\n",
       " '253597_642.133.peg.2831-253599_642.133.peg.2833-7479_50.3400-253600_642.133.peg.2834-253596_642.133.peg.2830-256111_642.134.peg.949.fna': ['AexU.fna'],\n",
       " '198567_18299.3086.fna': ['PteD.fna', 'PteD.1.fna'],\n",
       " '333444_41.3556-320672_93602.2940.fna': ['PteD.fna'],\n",
       " '1849_642.148.peg.1851-331672_41.1784.fna': ['PteG.fna'],\n",
       " '75867_26798.3983-70960_26797.2786.fna': ['PteG.fna'],\n",
       " '320663_93602.2927-333783_41.3895.fna': ['AopX.fna'],\n",
       " '70974_26797.2800.fna': ['PteC.fna'],\n",
       " '70972_26797.2798.fna': ['PteC.fna'],\n",
       " '321038_93602.2081.fna': ['PteB.fna'],\n",
       " '320899_93602.957.fna': ['PteA.fna']}"
      ]
     },
     "execution_count": 134,
     "metadata": {},
     "output_type": "execute_result"
    }
   ],
   "source": [
    "chaperone_files"
   ]
  },
  {
   "cell_type": "code",
   "execution_count": 138,
   "metadata": {},
   "outputs": [
    {
     "name": "stderr",
     "output_type": "stream",
     "text": [
      "/Users/thiberio/anaconda2/envs/py37/lib/python3.7/site-packages/Bio/Seq.py:2576: BiopythonWarning: Partial codon, len(sequence) not a multiple of three. Explicitly trim the sequence or add trailing N before translation. This may become an error in future.\n",
      "  BiopythonWarning)\n"
     ]
    }
   ],
   "source": [
    "for filename in os.listdir('possible_chaperones/'):\n",
    "    fasta = open('possible_chaperones/%s' % filename).readlines()\n",
    "    out   = open('possible_chaperones/%s.faa' % filename.replace('.fna', ''), 'w')\n",
    "    for line in fasta:\n",
    "        if line.startswith('>'):\n",
    "            out.write(line)\n",
    "        else:\n",
    "            out.write(Seq.translate(line))\n",
    "            out.write('\\n')\n",
    "    out.close()"
   ]
  },
  {
   "cell_type": "code",
   "execution_count": 102,
   "metadata": {},
   "outputs": [
    {
     "name": "stdout",
     "output_type": "stream",
     "text": [
      "A_ichthiosmia_CECT4486 ['26530.1869'] ['26530.1867']\n",
      "A_veronii_AMC25 ['26537.3590'] ['26537.3588']\n",
      "A_veronii_AK247 ['31.2697'] ['31.2695']\n",
      "A_veronii_G3C1 ['32.2789'] ['32.2790']\n",
      "A_culicicola_CIP107763 ['36.1673'] ['36.1675']\n",
      "A_allosaccharophila_BVH88 ['50.3400'] ['50.3402']\n",
      "A_veronii_CECT7059 ['51.2150'] ['51.2149']\n",
      "A_veronii_AK241 ['57.923'] ['57.924']\n",
      "A_veronii_CECT4902 ['58.1275'] ['58.1274']\n",
      "A_veronii_BVH37 ['642.149.peg.382'] ['642.149.peg.380']\n",
      "A_veronii_BVH46 ['642.150.peg.2473'] ['642.150.peg.2475']\n",
      "A_veronii_BAQ116 ['68.2853'] ['68.2855']\n",
      "A_veronii_Hm21 ['99.3454'] ['99.3455']\n"
     ]
    }
   ],
   "source": [
    "for genome in downstream_names.keys():\n",
    "    if genome in candidate_chaperones:\n",
    "        print(genome, effectors[genome], candidate_chaperones[genome])"
   ]
  }
 ],
 "metadata": {
  "kernelspec": {
   "display_name": "Python 3",
   "language": "python",
   "name": "python3"
  },
  "language_info": {
   "codemirror_mode": {
    "name": "ipython",
    "version": 3
   },
   "file_extension": ".py",
   "mimetype": "text/x-python",
   "name": "python",
   "nbconvert_exporter": "python",
   "pygments_lexer": "ipython3",
   "version": "3.7.1"
  }
 },
 "nbformat": 4,
 "nbformat_minor": 2
}
