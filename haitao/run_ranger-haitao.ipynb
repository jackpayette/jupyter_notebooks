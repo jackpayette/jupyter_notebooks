{
 "cells": [
  {
   "cell_type": "code",
   "execution_count": 69,
   "metadata": {},
   "outputs": [
    {
     "name": "stdout",
     "output_type": "stream",
     "text": [
      "/Users/thiberio/Downloads/haitao\n"
     ]
    }
   ],
   "source": [
    "import ete3\n",
    "import re\n",
    "import os\n",
    "import subprocess\n",
    "\n",
    "%cd ~/Downloads/haitao/"
   ]
  },
  {
   "cell_type": "code",
   "execution_count": 55,
   "metadata": {},
   "outputs": [],
   "source": [
    "species_tree = ete3.Tree(\n",
    "    'Species Tree/2019_05_23_2nd_Version_Aligned_Full_Name_All_Ribosomal_Proteins.fasta.treefile',\n",
    "    format=1\n",
    ")\n",
    "gene_tree = ete3.Tree(\n",
    "    'Gene Tree/2019_05_23_Aligned_BVMonooxygenase_Species-on-SpeciesTree.fasta.treefile',\n",
    "    format=1\n",
    ")"
   ]
  },
  {
   "cell_type": "code",
   "execution_count": 56,
   "metadata": {},
   "outputs": [],
   "source": [
    "genomes = set()\n",
    "for leaf in species_tree.get_leaves():\n",
    "    leaf.name = re.sub('[._-]', '', leaf.name)\n",
    "    if leaf.name.startswith('SAR202'):\n",
    "        genomes.add(leaf.name)\n",
    "species_tree.prune(genomes)"
   ]
  },
  {
   "cell_type": "code",
   "execution_count": 57,
   "metadata": {},
   "outputs": [
    {
     "name": "stdout",
     "output_type": "stream",
     "text": [
      "\n",
      "                  /-SAR202clusterbacteriumIo17ChloroG9\n",
      "               /-|\n",
      "            /-|   \\-SAR202clusterbacteriumIo17ChloroG2\n",
      "           |  |\n",
      "         /-|   \\-SAR202clusterbacteriumMPSIndSRR3963457G2\n",
      "        |  |\n",
      "        |  |   /-SAR202clusterbacteriumIo17ChloroG4\n",
      "        |   \\-|\n",
      "        |      \\-SAR202clusterbacteriumIo17ChloroG7\n",
      "        |\n",
      "      /-|      /-SAR202clusterbacteriumCaspChloroG2\n",
      "     |  |     |\n",
      "     |  |     |      /-SAR202clusterbacteriumIo17ChloroG8\n",
      "     |  |   /-|     |\n",
      "     |  |  |  |   /-|      /-SAR202clusterbacteriumMPNPacSRR3961935G1\n",
      "     |  |  |  |  |  |   /-|\n",
      "     |  |  |  |  |   \\-|   \\-SAR202clusterbacteriumMPSIndSRR3963457G1\n",
      "   /-|   \\-|   \\-|     |\n",
      "  |  |     |     |      \\-SAR202clusterbacteriumMPSAtlSRR3965592G1\n",
      "  |  |     |     |\n",
      "  |  |     |      \\-SAR202clusterbacteriumIo17ChloroG5\n",
      "  |  |     |\n",
      "  |  |      \\-SAR202clusterbacteriumIo17ChloroG6\n",
      "--|  |\n",
      "  |   \\-SAR202clusterbacteriumCaspChloroG3\n",
      "  |\n",
      "  |      /-SAR202clusterbacteriumIo17ChloroG3\n",
      "  |   /-|\n",
      "  |  |   \\-SAR202clusterbacteriumAe2ChloroG2\n",
      "   \\-|\n",
      "     |   /-SAR202clusterbacteriumCaspChloroG4\n",
      "      \\-|\n",
      "         \\-SAR202clusterbacteriumIo17ChloroG1\n"
     ]
    }
   ],
   "source": [
    "print(species_tree)"
   ]
  },
  {
   "cell_type": "code",
   "execution_count": 58,
   "metadata": {},
   "outputs": [],
   "source": [
    "gene_taxa = set()\n",
    "for leaf in gene_tree.get_leaves():\n",
    "    species = re.search('__(\\S+)$', leaf.name.strip('_'), re.M).group(1)\n",
    "    species = re.sub('[._-]', '', species)\n",
    "    gene_id = re.search('^([^_]+)', leaf.name.strip('_'), re.M).group(1)\n",
    "    gene_id = re.sub('\\.\\d+$', '', gene_id, re.M)\n",
    "    leaf.name = '%s_%s' % (species, gene_id)\n",
    "    if species.startswith('SAR202'):\n",
    "        gene_taxa.add(leaf.name)\n",
    "gene_tree.prune(gene_taxa)"
   ]
  },
  {
   "cell_type": "code",
   "execution_count": 64,
   "metadata": {},
   "outputs": [],
   "source": [
    "# outgroup as predicted by MAD\n",
    "outgroup_taxa = ['SAR202clusterbacteriumCaspChloroG4_PKB60949',\n",
    "                 'SAR202clusterbacteriumIo17ChloroG3_PKB65232', \n",
    "                 'SAR202clusterbacteriumCaspChloroG4_PKB60949']\n",
    "outgroup = gene_tree.get_common_ancestor(outgroup_taxa)\n",
    "gene_tree.set_outgroup(outgroup)"
   ]
  },
  {
   "cell_type": "code",
   "execution_count": 65,
   "metadata": {},
   "outputs": [
    {
     "name": "stdout",
     "output_type": "stream",
     "text": [
      "\n",
      "      /-SAR202clusterbacteriumCaspChloroG4_PKB60949\n",
      "   /-|\n",
      "  |  |   /-SAR202clusterbacteriumIo17ChloroG3_PKB65232\n",
      "  |   \\-|\n",
      "  |      \\-SAR202clusterbacteriumIo17ChloroG1_PKB63094\n",
      "  |\n",
      "  |               /-SAR202clusterbacteriumIo17ChloroG6_PKB71851\n",
      "  |              |\n",
      "  |            /-|      /-SAR202clusterbacteriumCaspChloroG2_PKB58950\n",
      "  |           |  |   /-|\n",
      "  |           |   \\-|   \\-SAR202clusterbacteriumMPSIndSRR3963457G1_PKB80840\n",
      "  |         /-|     |\n",
      "  |        |  |      \\-SAR202clusterbacteriumIo17ChloroG8_PKB74429\n",
      "  |        |  |\n",
      "--|        |  |   /-SAR202clusterbacteriumIo17ChloroG9_PKB82162\n",
      "  |      /-|   \\-|\n",
      "  |     |  |     |   /-SAR202clusterbacteriumIo17ChloroG9_PKB82764\n",
      "  |     |  |      \\-|\n",
      "  |     |  |         \\-SAR202clusterbacteriumIo17ChloroG2_PKB63926\n",
      "  |     |  |\n",
      "  |   /-|   \\-SAR202clusterbacteriumAe2ChloroG2_PKB60442\n",
      "  |  |  |\n",
      "  |  |  |   /-SAR202clusterbacteriumIo17ChloroG7_PKB73514\n",
      "  |  |  |  |\n",
      "  |  |  |  |         /-SAR202clusterbacteriumIo17ChloroG5_PKB70198\n",
      "  |  |   \\-|      /-|\n",
      "  |  |     |   /-|   \\-SAR202clusterbacteriumMPSIndSRR3963457G1_PKB82414\n",
      "  |  |     |  |  |\n",
      "   \\-|      \\-|   \\-SAR202clusterbacteriumIo17ChloroG6_PKB72092\n",
      "     |        |\n",
      "     |         \\-SAR202clusterbacteriumCaspChloroG2_PKB58245\n",
      "     |\n",
      "     |      /-SAR202clusterbacteriumCaspChloroG3_PKB57469\n",
      "     |   /-|\n",
      "     |  |  |   /-SAR202clusterbacteriumCaspChloroG2_PKB58122\n",
      "     |  |   \\-|\n",
      "     |  |      \\-SAR202clusterbacteriumIo17ChloroG6_PKB72181\n",
      "      \\-|\n",
      "        |   /-SAR202clusterbacteriumMPSIndSRR3963457G2_PKB77679\n",
      "        |  |\n",
      "        |  |         /-SAR202clusterbacteriumIo17ChloroG2_PKB63915\n",
      "        |  |      /-|\n",
      "         \\-|   /-|   \\-SAR202clusterbacteriumIo17ChloroG9_PKB83064\n",
      "           |  |  |\n",
      "           |  |   \\-SAR202clusterbacteriumIo17ChloroG9_PKB79601\n",
      "           |  |\n",
      "           |  |      /-SAR202clusterbacteriumIo17ChloroG9_PKB80062\n",
      "            \\-|     |\n",
      "              |   /-|   /-SAR202clusterbacteriumIo17ChloroG8_PKB74161\n",
      "              |  |  |  |\n",
      "              |  |   \\-|      /-SAR202clusterbacteriumIo17ChloroG6_PKB71152\n",
      "              |  |     |   /-|\n",
      "              |  |     |  |   \\-SAR202clusterbacteriumCaspChloroG2_PKB59303\n",
      "               \\-|      \\-|\n",
      "                 |        |   /-SAR202clusterbacteriumMPSIndSRR3963457G1_PKB81989\n",
      "                 |         \\-|\n",
      "                 |            \\-SAR202clusterbacteriumIo17ChloroG5_PKB69495\n",
      "                 |\n",
      "                 |   /-SAR202clusterbacteriumIo17ChloroG4_PKB68843\n",
      "                  \\-|\n",
      "                     \\-SAR202clusterbacteriumIo17ChloroG7_PKB73406\n"
     ]
    }
   ],
   "source": [
    "print(gene_tree)"
   ]
  },
  {
   "cell_type": "code",
   "execution_count": 66,
   "metadata": {},
   "outputs": [],
   "source": [
    "species_tree.write(outfile='species.tre', format=5, dist_formatter='%.20f')\n",
    "gene_tree.write(   outfile='gene.tre',    format=5, dist_formatter='%.20f')"
   ]
  },
  {
   "cell_type": "code",
   "execution_count": 75,
   "metadata": {},
   "outputs": [],
   "source": [
    "ranger_input = open('ranger.input', 'w')\n",
    "ranger_input.write('%s\\n%s' % (\n",
    "    species_tree.write(format=5, dist_formatter='%.20f'),\n",
    "    gene_tree.write(   format=5, dist_formatter='%.20f'))\n",
    "                  )\n",
    "ranger_input.close()"
   ]
  },
  {
   "cell_type": "code",
   "execution_count": 89,
   "metadata": {},
   "outputs": [],
   "source": [
    "#os.mkdir('reconciliations/')\n",
    "for loop in range(500):\n",
    "    subprocess.call(['/work/ranger/CorePrograms/Ranger-DTL.mac',\n",
    "                     '-i',\n",
    "                     'ranger.input',\n",
    "                     '-o',\n",
    "                     'reconciliations/ranger.output.%i' % (loop+1), \n",
    "                     '--seed',\n",
    "                     str(loop+1)\n",
    "                    ])\n",
    "aggregate = subprocess.getoutput('/work/ranger/CorePrograms/AggregateRanger.mac reconciliations/ranger.output.')\n",
    "out = open('aggregated.ranger', 'w')\n",
    "out.write(aggregate)\n",
    "out.close()"
   ]
  },
  {
   "cell_type": "code",
   "execution_count": 82,
   "metadata": {},
   "outputs": [],
   "source": [
    "subprocess.call?"
   ]
  }
 ],
 "metadata": {
  "kernelspec": {
   "display_name": "Python 3",
   "language": "python",
   "name": "python3"
  },
  "language_info": {
   "codemirror_mode": {
    "name": "ipython",
    "version": 3
   },
   "file_extension": ".py",
   "mimetype": "text/x-python",
   "name": "python",
   "nbconvert_exporter": "python",
   "pygments_lexer": "ipython3",
   "version": "3.7.1"
  }
 },
 "nbformat": 4,
 "nbformat_minor": 2
}
