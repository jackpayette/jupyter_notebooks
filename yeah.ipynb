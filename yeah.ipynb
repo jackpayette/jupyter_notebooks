{
 "cells": [
  {
   "cell_type": "code",
   "execution_count": 1,
   "metadata": {},
   "outputs": [],
   "source": [
    "import numpy as np"
   ]
  },
  {
   "cell_type": "code",
   "execution_count": 4,
   "metadata": {},
   "outputs": [],
   "source": [
    "src = np.asarray([0.1672, 0.5194, 1.0218, 2.2915])\n",
    "src_site_proportions = 1/len(src)"
   ]
  },
  {
   "cell_type": "code",
   "execution_count": 20,
   "metadata": {},
   "outputs": [
    {
     "data": {
      "text/plain": [
       "0.25"
      ]
     },
     "execution_count": 20,
     "metadata": {},
     "output_type": "execute_result"
    }
   ],
   "source": [
    "src_site_proportions"
   ]
  },
  {
   "cell_type": "code",
   "execution_count": 5,
   "metadata": {},
   "outputs": [],
   "source": [
    "avg_branch_length = 0.05\n",
    "alignment_length  = 2596\n",
    "num_substitutions = avg_branch_length*alignment_length"
   ]
  },
  {
   "cell_type": "code",
   "execution_count": 10,
   "metadata": {},
   "outputs": [
    {
     "name": "stdout",
     "output_type": "stream",
     "text": [
      "0.0418 5.4256400000000005\n",
      "0.12985 16.85453\n",
      "0.25545 33.157410000000006\n",
      "0.572875 74.35917500000001\n"
     ]
    }
   ],
   "source": [
    "src_substition_proportions = []\n",
    "for count, substitution_rate in enumerate(src, 1):\n",
    "    prop = ((avg_branch_length*substitution_rate)*src_site_proportions)/avg_branch_length\n",
    "    src_substition_proportions.append(prop)\n",
    "    print(prop, prop*num_substitutions)"
   ]
  },
  {
   "cell_type": "code",
   "execution_count": 11,
   "metadata": {},
   "outputs": [
    {
     "data": {
      "text/plain": [
       "([0.0418, 0.12985, 0.25545, 0.572875], 0.9999750000000001)"
      ]
     },
     "execution_count": 11,
     "metadata": {},
     "output_type": "execute_result"
    }
   ],
   "source": [
    "src_substition_proportions, sum(src_substition_proportions)"
   ]
  },
  {
   "cell_type": "code",
   "execution_count": 12,
   "metadata": {},
   "outputs": [
    {
     "data": {
      "text/plain": [
       "array([0.0418  , 0.12985 , 0.25545 , 0.572875])"
      ]
     },
     "execution_count": 12,
     "metadata": {},
     "output_type": "execute_result"
    }
   ],
   "source": [
    "src*src_site_proportions"
   ]
  },
  {
   "cell_type": "code",
   "execution_count": 13,
   "metadata": {},
   "outputs": [],
   "source": [
    "import ete3"
   ]
  },
  {
   "cell_type": "code",
   "execution_count": 14,
   "metadata": {},
   "outputs": [],
   "source": [
    "ncbi = ete3.NCBITaxa()"
   ]
  },
  {
   "cell_type": "code",
   "execution_count": 18,
   "metadata": {},
   "outputs": [
    {
     "data": {
      "text/plain": [
       "{1: 'no rank',\n",
       " 2: 'superkingdom',\n",
       " 121567: 'species',\n",
       " 200795: 'phylum',\n",
       " 292625: 'class',\n",
       " 1783272: 'no rank'}"
      ]
     },
     "execution_count": 18,
     "metadata": {},
     "output_type": "execute_result"
    }
   ],
   "source": [
    "ncbi.get_rank([1,121567, 2, 1783272, 200795, 292625])"
   ]
  },
  {
   "cell_type": "code",
   "execution_count": null,
   "metadata": {},
   "outputs": [],
   "source": [
    "df.lineage = df.lineage.apply(lambda x: ncbi.get_rank(x))"
   ]
  },
  {
   "cell_type": "code",
   "execution_count": null,
   "metadata": {},
   "outputs": [],
   "source": [
    "def yeah(x):\n",
    "    return (ncbi.get_rank(x))\n",
    "df.lineage = df.lineage.apply(yeah)"
   ]
  },
  {
   "cell_type": "code",
   "execution_count": null,
   "metadata": {},
   "outputs": [],
   "source": [
    "def yeah(x):\n",
    "    return (ncbi.get_rank(x))\n",
    "df['yeah'] = df.lineage.apply(yeah)"
   ]
  }
 ],
 "metadata": {
  "kernelspec": {
   "display_name": "Python 3",
   "language": "python",
   "name": "python3"
  },
  "language_info": {
   "codemirror_mode": {
    "name": "ipython",
    "version": 3
   },
   "file_extension": ".py",
   "mimetype": "text/x-python",
   "name": "python",
   "nbconvert_exporter": "python",
   "pygments_lexer": "ipython3",
   "version": "3.7.1"
  }
 },
 "nbformat": 4,
 "nbformat_minor": 2
}
