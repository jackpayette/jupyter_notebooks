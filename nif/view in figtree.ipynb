{
 "cells": [
  {
   "cell_type": "code",
   "execution_count": 1,
   "metadata": {},
   "outputs": [],
   "source": [
    "import pandas as pd\n",
    "import ete3\n",
    "import re\n",
    "import os, sys"
   ]
  },
  {
   "cell_type": "code",
   "execution_count": 3,
   "metadata": {},
   "outputs": [],
   "source": [
    "proteo = pd.read_table('/work/nif/proteo_info.tab', index_col=0)\n",
    "ncbi= ete3.NCBITaxa()"
   ]
  },
  {
   "cell_type": "code",
   "execution_count": 9,
   "metadata": {},
   "outputs": [],
   "source": [
    "tree_file   = '/work/nif/nifHDKENB_concat/concatenated_partitions.treefile'\n",
    "tree        = ete3.Tree('%s' % tree_file, format=1)\n",
    "out         = open('%s.figTree' % tree_file, 'wb')\n",
    "out.write(\"#NEXUS\\nbegin taxa;\\n\\tdimensions ntax=%i;\\n\\ttaxlabels\\n\" %len(tree))\n",
    "branch_names = {}\n",
    "for node in tree.traverse():\n",
    "    if node.is_leaf():\n",
    "        taxid = proteo.loc[node.name, 'taxid']\n",
    "        lineage = {j: i for i, j in ncbi.get_rank(ncbi.get_lineage(taxid)).items()}\n",
    "        lineage_names = ncbi.get_taxid_translator(lineage.values())\n",
    "\n",
    "        out.write('\\t%s ' % (node.name))\n",
    "        comment = []\n",
    "        for rank in ['class', 'order', 'family', 'species']:\n",
    "            if rank in lineage:\n",
    "                comment.append('tax_%s=\"%s\"' % (rank, lineage_names[lineage[rank]]))\n",
    "        out.write('[&%s]\\n' %' '.join(comment))\n",
    "\n",
    "    else:\n",
    "        if node.name:\n",
    "            aLRT, UFBoot = node.name.split('/')\n",
    "            node.name = '[&UFBoot=%.2f,aLRT=%.2f]' %(float(UFBoot), float(aLRT))\n",
    "\n",
    "newick_text = tree.write(format=1)\n",
    "newick_text = re.sub('_&UFBoot_(\\d+\\.\\d\\d)_aLRT_(\\d+\\.\\d\\d)_', '[&UFBoot=\\\\1,aLRT=\\\\2]', newick_text)\n",
    "out.write(';\\nend;\\n')\n",
    "out.write('begin trees;\\n\\ttree tree_1 = [&R] %s\\nend;' %newick_text)\n",
    "out.close()"
   ]
  },
  {
   "cell_type": "code",
   "execution_count": 27,
   "metadata": {},
   "outputs": [],
   "source": [
    "tree_file   = '/work/nif/ramulu_gene_families/RAxML_fastTreeSH_Support.all_ref_genes_concat-support2'\n",
    "sp_tree     = ete3.Tree('%s' % tree_file, format=1)\n",
    "sp_tree.prune(tree.get_leaf_names(), preserve_branch_length=True)\n",
    "\n",
    "out         = open('%s.figTree' % tree_file, 'wb')\n",
    "out.write(\"#NEXUS\\nbegin taxa;\\n\\tdimensions ntax=%i;\\n\\ttaxlabels\\n\" %len(sp_tree))\n",
    "branch_names = {}\n",
    "for node in sp_tree.traverse():\n",
    "    if node.is_leaf():\n",
    "        taxid = proteo.loc[node.name, 'taxid']\n",
    "        lineage = {j: i for i, j in ncbi.get_rank(ncbi.get_lineage(taxid)).items()}\n",
    "        lineage_names = ncbi.get_taxid_translator(lineage.values())\n",
    "\n",
    "        out.write('\\t%s ' % (node.name))\n",
    "        comment = []\n",
    "        for rank in ['class', 'order', 'family', 'species']:\n",
    "            if rank in lineage:\n",
    "                comment.append('tax_%s=\"%s\"' % (rank, lineage_names[lineage[rank]]))\n",
    "        out.write('[&%s]\\n' %' '.join(comment))\n",
    "\n",
    "    else:\n",
    "        if node.name:\n",
    "            node.name = '[&bootstrap=%s]' % node.name\n",
    "\n",
    "newick_text = sp_tree.write(format=1)\n",
    "newick_text = re.sub('_&bootstrap_(\\d+)_', '[&bootstrap=\\\\1]', newick_text)\n",
    "out.write(';\\nend;\\n')\n",
    "out.write('begin trees;\\n\\ttree tree_1 = [&R] %s\\nend;' %newick_text)\n",
    "out.close()"
   ]
  },
  {
   "cell_type": "code",
   "execution_count": 26,
   "metadata": {},
   "outputs": [
    {
     "data": {
      "text/plain": [
       "1.0"
      ]
     },
     "execution_count": 26,
     "metadata": {},
     "output_type": "execute_result"
    }
   ],
   "source": [
    "sp_tree.children[1].support"
   ]
  }
 ],
 "metadata": {
  "kernelspec": {
   "display_name": "Python 2",
   "language": "python",
   "name": "python2"
  },
  "language_info": {
   "codemirror_mode": {
    "name": "ipython",
    "version": 2
   },
   "file_extension": ".py",
   "mimetype": "text/x-python",
   "name": "python",
   "nbconvert_exporter": "python",
   "pygments_lexer": "ipython2",
   "version": "2.7.15"
  }
 },
 "nbformat": 4,
 "nbformat_minor": 2
}
