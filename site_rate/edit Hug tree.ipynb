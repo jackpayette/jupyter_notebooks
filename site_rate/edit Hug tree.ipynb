{
 "cells": [
  {
   "cell_type": "code",
   "execution_count": 2,
   "metadata": {},
   "outputs": [],
   "source": [
    "from Bio import Phylo as phy\n",
    "import ete3\n",
    "import os\n",
    "from datasketch import MinHash, MinHashLSH\n",
    "import re\n",
    "import subprocess\n",
    "from matplotlib import pyplot as plt\n",
    "import seaborn as sns\n",
    "import numpy as np\n",
    "%matplotlib inline\n",
    "os.chdir('/work/site_rate/hug_et_al/')"
   ]
  },
  {
   "cell_type": "code",
   "execution_count": 2,
   "metadata": {},
   "outputs": [],
   "source": [
    "tree           = phy.read('ribosomal_concat_ml_tree.tre', 'newick')\n",
    "tree_taxa      = [leaf.name for leaf in tree.get_terminals()]\n",
    "alignment_taxa = re.findall('^>(.*)$', open('ribosomal_concat.fasta').read(), re.M)"
   ]
  },
  {
   "cell_type": "code",
   "execution_count": 3,
   "metadata": {},
   "outputs": [],
   "source": [
    "missing_tree = {}\n",
    "missing_aln  = {}\n",
    "\n",
    "for element in set(tree_taxa).difference(alignment_taxa):\n",
    "    missing_tree[element] = MinHash(num_perm=1024)\n",
    "    for word in element.split('_'):\n",
    "        missing_tree[element].update(word.encode('utf8'))\n",
    "\n",
    "for element in set(alignment_taxa).difference(tree_taxa):\n",
    "    missing_aln[element] = MinHash(num_perm=1024)\n",
    "    for word in element.split('_'):\n",
    "        missing_aln[element].update(word.encode('utf8'))"
   ]
  },
  {
   "cell_type": "code",
   "execution_count": 4,
   "metadata": {},
   "outputs": [],
   "source": [
    "lsh_tree = MinHashLSH(threshold=0.75, num_perm=1024)\n",
    "[lsh_tree.insert(key, value) for key, value in missing_tree.items()]\n",
    "\n",
    "lsh_aln = MinHashLSH(threshold=0.75, num_perm=1024)\n",
    "[lsh_aln.insert(key, value) for key, value in missing_aln.items()]\n",
    "\n",
    "tree_matches = set()\n",
    "for tree_name, value in missing_tree.items():\n",
    "    aln_values = lsh_aln.query(value)\n",
    "    if not aln_values:\n",
    "        continue\n",
    "    tree_matches.add((tree_name, aln_values[0]))\n",
    "    \n",
    "aln_matches = set()\n",
    "for aln_name, value in missing_aln.items():\n",
    "    tree_values = lsh_tree.query(value)\n",
    "    if not tree_values:\n",
    "        continue\n",
    "    aln_matches.add((tree_values[0], aln_name))"
   ]
  },
  {
   "cell_type": "code",
   "execution_count": 5,
   "metadata": {},
   "outputs": [
    {
     "name": "stdout",
     "output_type": "stream",
     "text": [
      "8\n",
      "8\n"
     ]
    }
   ],
   "source": [
    "reciprocal_matches = tree_matches.intersection(aln_matches)\n",
    "for tree_match, aln_match in reciprocal_matches:\n",
    "    if tree_match in missing_tree:\n",
    "        missing_tree.pop(tree_match)\n",
    "    if aln_match in missing_aln:\n",
    "        missing_aln.pop(aln_match)\n",
    "print len(missing_aln)\n",
    "print len(missing_tree)"
   ]
  },
  {
   "cell_type": "code",
   "execution_count": 7,
   "metadata": {},
   "outputs": [],
   "source": [
    "lsh_tree = MinHashLSH(threshold=0.5, num_perm=1024)\n",
    "[lsh_tree.insert(key, value) for key, value in missing_tree.items()]\n",
    "\n",
    "lsh_aln = MinHashLSH(threshold=0.5, num_perm=1024)\n",
    "[lsh_aln.insert(key, value) for key, value in missing_aln.items()]\n",
    "\n",
    "tree_matches = set()\n",
    "for tree_name, value in missing_tree.items():\n",
    "    aln_values = lsh_aln.query(value)\n",
    "    if not aln_values:\n",
    "        continue\n",
    "    tree_matches.add((tree_name, aln_values[0]))\n",
    "    \n",
    "aln_matches = set()\n",
    "for aln_name, value in missing_aln.items():\n",
    "    tree_values = lsh_tree.query(value)\n",
    "    if not tree_values:\n",
    "        continue\n",
    "    aln_matches.add((tree_values[0], aln_name))"
   ]
  },
  {
   "cell_type": "code",
   "execution_count": 9,
   "metadata": {},
   "outputs": [
    {
     "name": "stdout",
     "output_type": "stream",
     "text": [
      "3\n",
      "3\n"
     ]
    }
   ],
   "source": [
    "reciprocal_matches.update(tree_matches.intersection(aln_matches))\n",
    "for tree_match, aln_match in reciprocal_matches:\n",
    "    if tree_match in missing_tree:\n",
    "        missing_tree.pop(tree_match)\n",
    "    if aln_match in missing_aln:\n",
    "        missing_aln.pop(aln_match)\n",
    "print len(missing_aln)\n",
    "print len(missing_tree)"
   ]
  },
  {
   "cell_type": "code",
   "execution_count": 12,
   "metadata": {},
   "outputs": [],
   "source": [
    "reciprocal_matches.add(('Bacteria_Omnitrophica_WOR-2_uncultured_SMTZ_29',\n",
    "                        'Bacteria_WOR_2_uncultured_SMTZ_29'))\n",
    "reciprocal_matches.add(('Bacteria_CPR_Peregrinibacteria_CG_PER_02',\n",
    "                        'Bacteria_Peregrinibacteria_CG2_30_FULL_Peregrinibacteria_PER_44_17'))\n",
    "reciprocal_matches.add(('Bacteria_Fibrobacteres_Acidobacteria_Fibrobacteres_Fibrobacteria_Fibrobacterales_CG_Fibrob_01',\n",
    "                        'Bacteria_Fibrobacteres_Acidobacteria_Fibrobacteres_Fibrobacteria_Fibrobacterales_CG2_30_FULL_Fibrobacteres_45_31'))"
   ]
  },
  {
   "cell_type": "code",
   "execution_count": 20,
   "metadata": {},
   "outputs": [],
   "source": [
    "for tree_name, aln_name in reciprocal_matches:\n",
    "    leaf      = next(tree.find_elements(name=tree_name, terminal=True))\n",
    "    leaf.name = aln_name"
   ]
  },
  {
   "cell_type": "code",
   "execution_count": 23,
   "metadata": {},
   "outputs": [],
   "source": [
    "bacteria     = []\n",
    "archaea      = []\n",
    "eukarya      = []\n",
    "for leaf in tree.get_terminals():\n",
    "    if leaf.name.startswith('Bacteria'):\n",
    "        bacteria.append(leaf.name)\n",
    "    elif leaf.name.startswith('Archaea'):\n",
    "        archaea.append(leaf.name)\n",
    "    elif leaf.name.startswith('Eukaryota'):\n",
    "        eukarya.append(leaf.name)\n",
    "\n",
    "for node in tree.get_nonterminals():\n",
    "    if node.comment:\n",
    "        node.confidence = float(node.comment)\n",
    "        node.comment = ''\n",
    "    else:\n",
    "        node.support = 0.0"
   ]
  },
  {
   "cell_type": "code",
   "execution_count": 25,
   "metadata": {},
   "outputs": [
    {
     "data": {
      "text/plain": [
       "1"
      ]
     },
     "execution_count": 25,
     "metadata": {},
     "output_type": "execute_result"
    }
   ],
   "source": [
    "outgroup = tree.common_ancestor(bacteria)\n",
    "tree.root_with_outgroup(outgroup)\n",
    "phy.write(tree, 'ribosomal_concat_ml_tree-regular_support.tre', 'newick')"
   ]
  },
  {
   "cell_type": "code",
   "execution_count": 28,
   "metadata": {},
   "outputs": [
    {
     "data": {
      "text/plain": [
       "0"
      ]
     },
     "execution_count": 28,
     "metadata": {},
     "output_type": "execute_result"
    }
   ],
   "source": [
    "subprocess.call('iqtree -s ribosomal_concat.fasta -te ribosomal_concat_ml_tree-regular_support.tre -nt 20 -alrt 1000 -safe -m LG+G+F -redo'.split())"
   ]
  },
  {
   "cell_type": "code",
   "execution_count": 5,
   "metadata": {},
   "outputs": [],
   "source": [
    "supported_tree = phy.read('ribosomal_concat.fasta.treefile', 'newick')\n",
    "\n",
    "original_support = []\n",
    "alrt_support     = []\n",
    "branch_length    = []\n",
    "for node in supported_tree.get_nonterminals():\n",
    "    if not node.name:\n",
    "        continue\n",
    "    tmp_supports = node.name.split('/')\n",
    "    original_support.append(float(tmp_supports[0]))\n",
    "    alrt_support.append(float(tmp_supports[1]))\n",
    "    branch_length.append(node.branch_length)\n",
    "original_support = np.asarray(original_support)\n",
    "alrt_support     = np.asarray(alrt_support)"
   ]
  },
  {
   "cell_type": "code",
   "execution_count": 4,
   "metadata": {},
   "outputs": [
    {
     "data": {
      "text/plain": [
       "0.033911323"
      ]
     },
     "execution_count": 4,
     "metadata": {},
     "output_type": "execute_result"
    }
   ],
   "source": [
    "node.branch_length"
   ]
  },
  {
   "cell_type": "code",
   "execution_count": 55,
   "metadata": {},
   "outputs": [
    {
     "name": "stdout",
     "output_type": "stream",
     "text": [
      "(2172,)\n"
     ]
    },
    {
     "data": {
      "text/plain": [
       "<seaborn.axisgrid.JointGrid at 0x1a26a039d0>"
      ]
     },
     "execution_count": 55,
     "metadata": {},
     "output_type": "execute_result"
    },
    {
     "data": {
      "image/png": "[encoded data removed]",
      "text/plain": [
       "<Figure size 432x432 with 3 Axes>"
      ]
     },
     "metadata": {
      "needs_background": "light"
     },
     "output_type": "display_data"
    }
   ],
   "source": [
    "print alrt_support[original_support>70].shape\n",
    "#sns.jointplot(original_support[original_support>70], alrt_support[original_support>70])\n",
    "sns.jointplot(original_support, alrt_support)"
   ]
  },
  {
   "cell_type": "code",
   "execution_count": 9,
   "metadata": {},
   "outputs": [
    {
     "data": {
      "text/plain": [
       "(<seaborn.axisgrid.JointGrid at 0x1a1ad266d0>,\n",
       " <seaborn.axisgrid.JointGrid at 0x1a1afd1ad0>)"
      ]
     },
     "execution_count": 9,
     "metadata": {},
     "output_type": "execute_result"
    },
    {
     "data": {
      "image/png": "[encoded data removed]",
      "text/plain": [
       "<Figure size 432x432 with 3 Axes>"
      ]
     },
     "metadata": {
      "needs_background": "light"
     },
     "output_type": "display_data"
    },
    {
     "data": {
      "image/png": "[encoded data removed]",
      "text/plain": [
       "<Figure size 432x432 with 3 Axes>"
      ]
     },
     "metadata": {
      "needs_background": "light"
     },
     "output_type": "display_data"
    }
   ],
   "source": [
    "sns.jointplot(branch_length, original_support), sns.jointplot(branch_length, alrt_support)"
   ]
  }
 ],
 "metadata": {
  "kernelspec": {
   "display_name": "Python 2",
   "language": "python",
   "name": "python2"
  },
  "language_info": {
   "codemirror_mode": {
    "name": "ipython",
    "version": 2
   },
   "file_extension": ".py",
   "mimetype": "text/x-python",
   "name": "python",
   "nbconvert_exporter": "python",
   "pygments_lexer": "ipython2",
   "version": "2.7.15"
  }
 },
 "nbformat": 4,
 "nbformat_minor": 2
}
