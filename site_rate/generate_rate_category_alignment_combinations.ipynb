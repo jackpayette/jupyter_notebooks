{
 "cells": [
  {
   "cell_type": "code",
   "execution_count": 1,
   "metadata": {},
   "outputs": [],
   "source": [
    "import ete3\n",
    "import os\n",
    "from matplotlib import pyplot as plt\n",
    "import seaborn as sns\n",
    "import pandas as pd\n",
    "import matplotlib.colors as colors\n",
    "import matplotlib.cm as cmx\n",
    "import numpy as np\n",
    "import subprocess\n",
    "from scipy.stats import spearmanr, linregress\n",
    "import itertools\n",
    "from Bio import SeqIO, SearchIO, AlignIO, Align, Alphabet\n",
    "import re\n",
    "import multiprocessing\n",
    "from copy import deepcopy\n",
    "\n",
    "class cd:\n",
    "    \"\"\"\n",
    "    Context manager for changing the current working directory\n",
    "    \"\"\"\n",
    "    def __init__(self, newPath):\n",
    "        self.newPath = os.path.expanduser(newPath)\n",
    "\n",
    "    def __enter__(self):\n",
    "        self.savedPath = os.getcwd()\n",
    "        os.chdir(self.newPath)\n",
    "\n",
    "    def __exit__(self, etype, value, traceback):\n",
    "        os.chdir(self.savedPath)"
   ]
  },
  {
   "cell_type": "code",
   "execution_count": null,
   "metadata": {},
   "outputs": [],
   "source": [
    "os.chdir('/work/site_rate/abg')\n",
    "\n",
    "alignment           = AlignIO.read('euk_ribosomal_concat.aln', 'fasta')\n",
    "rates               = pd.read_table('rate_binning.rate', comment='#')\n",
    "full_sequences      = {}\n",
    "assessed_categories = [3,4,5,6,7,8,9,10]\n",
    "\n",
    "selected_categories = rates[rates.Cat.isin(assessed_categories)]\n",
    "out = open('../tree_cloud/selected_categories/missing-1_2_11_12.aln',        'wb')\n",
    "for sequence in alignment:\n",
    "    out.write('>{header}\\n{sequence}\\n'.format(\n",
    "        header=sequence.name,\n",
    "        sequence=''.join([sequence[position] for position in selected_categories.index])\n",
    "    ))\n",
    "out.close()\n",
    "\n",
    "out           = open('../tree_cloud/selected_categories/missing-1_2_11_12.partitions', 'wb')\n",
    "initial_value = 1\n",
    "yeah = []\n",
    "for partition_number in selected_categories.Part.unique():\n",
    "    partition        = selected_categories[selected_categories.Part == partition_number]\n",
    "    partition_length = partition.shape[0]\n",
    "    out.write('LG+F+G4, partition_%i = %i-%i\\n' % \n",
    "              (partition_number, initial_value, initial_value+partition_length-1))\n",
    "    yeah.append(partition_length)\n",
    "    initial_value += partition_length\n",
    "out.close()"
   ]
  },
  {
   "cell_type": "code",
   "execution_count": 4,
   "metadata": {},
   "outputs": [],
   "source": [
    "os.chdir('/work/site_rate/hug_et_al')\n",
    "\n",
    "alignment           = AlignIO.read('ribosomal_concat.fasta', 'fasta')\n",
    "rates               = pd.read_table('rate_binning.rate', comment='#')\n",
    "full_sequences      = {}\n",
    "assessed_categories = [1,2,3,4,5,6,7,8,9]\n",
    "\n",
    "selected_categories = rates[rates.Cat.isin(assessed_categories)]\n",
    "out = open('selected_categories/no_fast_evolving_sites.aln', 'wb')\n",
    "for sequence in alignment:\n",
    "    out.write('>{header}\\n{sequence}\\n'.format(\n",
    "        header=sequence.name,\n",
    "        sequence=''.join([sequence[position] for position in selected_categories.index])\n",
    "    ))\n",
    "out.close()"
   ]
  },
  {
   "cell_type": "code",
   "execution_count": 3,
   "metadata": {},
   "outputs": [],
   "source": [
    "os.chdir('/work/site_rate/hemimastigophora')\n",
    "\n",
    "alignment           = AlignIO.read('6_concatenated alignments/CAT_61tax_h0.42_g1.bmge.fas', 'fasta')\n",
    "rates               = pd.read_table('rate_binning.rate', comment='#')\n",
    "full_sequences      = {}\n",
    "assessed_categories = [3,4,5,6,7,8,9,10,12]\n",
    "\n",
    "selected_categories = rates[rates.Cat.isin(assessed_categories)]\n",
    "out = open('selected_categories/new/missing-1_2_11.aln', 'wb')\n",
    "for sequence in alignment:\n",
    "    out.write('>{header}\\n{sequence}\\n'.format(\n",
    "        header=sequence.name,\n",
    "        sequence=''.join([sequence[position] for position in selected_categories.index])\n",
    "    ))\n",
    "out.close()"
   ]
  },
  {
   "cell_type": "code",
   "execution_count": null,
   "metadata": {},
   "outputs": [],
   "source": [
    "%pwd"
   ]
  }
 ],
 "metadata": {
  "kernelspec": {
   "display_name": "Python 3",
   "language": "python",
   "name": "python3"
  },
  "language_info": {
   "codemirror_mode": {
    "name": "ipython",
    "version": 3
   },
   "file_extension": ".py",
   "mimetype": "text/x-python",
   "name": "python",
   "nbconvert_exporter": "python",
   "pygments_lexer": "ipython3",
   "version": "3.7.1"
  }
 },
 "nbformat": 4,
 "nbformat_minor": 2
}
