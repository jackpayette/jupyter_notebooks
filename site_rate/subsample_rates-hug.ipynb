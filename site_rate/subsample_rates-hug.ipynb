{
 "cells": [
  {
   "cell_type": "code",
   "execution_count": 1,
   "metadata": {},
   "outputs": [],
   "source": [
    "import ete3\n",
    "import os\n",
    "import pandas as pd\n",
    "from Bio import Phylo as phy\n",
    "from Bio import SeqIO, SearchIO, AlignIO, Align, Alphabet\n",
    "import subprocess\n",
    "import numpy as np\n",
    "from scipy.spatial.distance import squareform\n",
    "from matplotlib import pyplot as plt\n",
    "import seaborn as sns\n",
    "import multiprocessing\n",
    "\n",
    "os.chdir('/work/site_rate/hug_et_al')\n",
    "ncbi = ete3.NCBITaxa()\n",
    "%matplotlib inline"
   ]
  },
  {
   "cell_type": "code",
   "execution_count": 2,
   "metadata": {},
   "outputs": [],
   "source": [
    "class cd:\n",
    "    \"\"\"\n",
    "    Context manager for changing the current working directory\n",
    "    \"\"\"\n",
    "    def __init__(self, newPath):\n",
    "        self.newPath = os.path.expanduser(newPath)\n",
    "\n",
    "    def __enter__(self):\n",
    "        self.savedPath = os.getcwd()\n",
    "        os.chdir(self.newPath)\n",
    "\n",
    "    def __exit__(self, etype, value, traceback):\n",
    "        os.chdir(self.savedPath)"
   ]
  },
  {
   "cell_type": "code",
   "execution_count": 3,
   "metadata": {},
   "outputs": [],
   "source": [
    "tree = ete3.Tree('ribosomal_concat.fasta.treefile', format=1)\n",
    "bacteria     = []\n",
    "archaea      = []\n",
    "eukarya      = []\n",
    "for leaf in tree.get_leaf_names():\n",
    "    if leaf.startswith('Bacteria'):\n",
    "        bacteria.append(leaf)\n",
    "    elif leaf.startswith('Archaea'):\n",
    "        archaea.append(leaf)\n",
    "    elif leaf.startswith('Eukaryota'):\n",
    "        eukarya.append(leaf)\n",
    "\n",
    "tree.set_outgroup(eukarya[0])\n",
    "bacteria_ancestor = tree.get_common_ancestor(bacteria)\n",
    "tree.set_outgroup(bacteria_ancestor)\n",
    "tree.write(outfile='species.tre', dist_formatter='%.20f', format=5)"
   ]
  },
  {
   "cell_type": "code",
   "execution_count": null,
   "metadata": {},
   "outputs": [],
   "source": [
    "num_categories = 12\n",
    "alignment      = AlignIO.read('ribosomal_concat.fasta', 'fasta')\n",
    "subprocess.call(['iqtree', '-s', 'ribosomal_concat.fasta', '-keep-ident',\n",
    "                 '-nt', '15', '-redo', '-m', 'LG+F+G%i' %num_categories,\n",
    "                 '-safe', '-wsr', '-te', 'species.tre', '-pre', 'rate_binning'])"
   ]
  },
  {
   "cell_type": "code",
   "execution_count": 5,
   "metadata": {},
   "outputs": [],
   "source": [
    "rates = pd.read_table('rate_binning.rate', comment='#')\n",
    "for category in rates.Cat.unique():\n",
    "    site_df        = rates[rates.Cat == category]\n",
    "    category_aln   = {sequence.name:'' for sequence in alignment}\n",
    "    for sequence in alignment:\n",
    "        category_aln[sequence.name] = ''.join([sequence[position] for position in site_df.index])\n",
    "\n",
    "    out = open('categories/%i.aln' % category, 'w')\n",
    "    for header, sequence in category_aln.items():\n",
    "        full_sequence = ''\n",
    "        while len(full_sequence) <= 2596:\n",
    "            full_sequence += sequence\n",
    "        out.write('>%s\\n%s\\n' % (header, full_sequence[:2596]))\n",
    "    out.close()"
   ]
  },
  {
   "cell_type": "code",
   "execution_count": 5,
   "metadata": {},
   "outputs": [],
   "source": [
    "def run_bootstrap(category):\n",
    "    subprocess.call(['iqtree', '-s', '%i.aln' % category, '-m', 'LG+G1', '-redo',\n",
    "                     '-safe', '-nt', '1', '-pre', '%i' % category,\n",
    "                     '-alrt', '1000', '-keep-ident', '-quiet', '-te', '../species.tre'])\n",
    "\n",
    "\n",
    "with cd('categories'):\n",
    "    pool = multiprocessing.Pool(processes=12)\n",
    "    pool.map(run_bootstrap, range(1, 13))"
   ]
  },
  {
   "cell_type": "code",
   "execution_count": null,
   "metadata": {},
   "outputs": [],
   "source": [
    "sorted_taxa = []\n",
    "for sequence in alignment:\n",
    "    sorted_taxa.append(sequence.name)"
   ]
  },
  {
   "cell_type": "code",
   "execution_count": null,
   "metadata": {},
   "outputs": [],
   "source": [
    "subprocess.call(['iqtree', '-s', 'ribosomal_concat.fasta', '-keep-ident',\n",
    "                  '-nt', '15', '-redo', '-m', 'LG+F+G12',\n",
    "                 '-safe', '-te', 'BIONJ', '-pre', 'mldistances'])"
   ]
  },
  {
   "cell_type": "code",
   "execution_count": null,
   "metadata": {},
   "outputs": [],
   "source": [
    "ml_distances = pd.read_table('mldistances.mldist', index_col=0, header=None, skiprows=1, sep=r'\\s*')\n",
    "ml_distances.columns = ml_distances.index\n",
    "\n",
    "fig, ax = plt.subplots()\n",
    "with cd('categories'):\n",
    "    for category in range(1, 13):\n",
    "#        subprocess.call(['distmat', '-sequence', '%i.aln' % category,\n",
    "#                         '-protmethod', '0', '-outfile', '%i.distmat' % category])\n",
    "        uncorrected_distances = pd.read_table('%i.distmat' % category, skiprows=7, header=None, index_col=-1)\n",
    "        uncorrected_distances.drop([0, 3084], axis='columns', inplace=True)\n",
    "        uncorrected_distances.columns = uncorrected_distances.index = sorted_taxa\n",
    "\n",
    "        lower_triangle_indexes = np.tril_indices(uncorrected_distances.shape[0], -1)\n",
    "        uncorrected_distances.values[lower_triangle_indexes] = uncorrected_distances.T.values[lower_triangle_indexes]\n",
    "\n",
    "        uncorrected_distances = uncorrected_distances.reindex(index=ml_distances.index,\n",
    "                                                              columns=ml_distances.columns,\n",
    "                                                              tolerance=0)\n",
    "\n",
    "        plot = sns.scatterplot(squareform(ml_distances.values),\n",
    "                        squareform(uncorrected_distances.values, checks=False),\n",
    "                        ax=ax, label='category %i' % category, alpha=0.7, s=5\n",
    "                        )\n",
    "\n",
    "ax.set_xlabel('ML pairwise distances from original alignment')\n",
    "ax.set_ylabel('Uncorrected distances from rate-category sites')\n",
    "\n",
    "fig.set_size_inches(15,15)\n",
    "fig.tight_layout()\n",
    "fig.savefig('saturation_test-combined.png', dpi=300)\n",
    "plt.close()"
   ]
  },
  {
   "cell_type": "code",
   "execution_count": null,
   "metadata": {},
   "outputs": [],
   "source": [
    "colors = '#29bece #bcbc35 #7f7f7f #e17ac1 #8b564c #936abb #d42a2f #339f34 #fd7f28 #2678b2 #29bece #bcbc35 '.split()\n",
    "colors.reverse()\n",
    "fig, axs = plt.subplots(nrows=3, ncols=4, sharex=True, sharey=True)\n",
    "with cd('categories'):\n",
    "    row = col = 0\n",
    "    for category in range(1, 13):\n",
    "        if category  in [1,2,3,4]:\n",
    "            row = 0\n",
    "        elif category in [5,6,7,8]:\n",
    "            row = 1\n",
    "        else:\n",
    "            row = 2\n",
    "\n",
    "        if category in [1,5,9]:\n",
    "            col = 0\n",
    "        elif category in [2,6,10]:\n",
    "            col = 1\n",
    "        elif category in [3,7,11]:\n",
    "            col = 2\n",
    "        else:\n",
    "            col = 3\n",
    "\n",
    "        #subprocess.call(['distmat', '-sequence', '%i.aln' % category, '-protmethod', '0', '-outfile', '%i.distmat' % category])\n",
    "        uncorrected_distances = pd.read_table('%i.distmat' % category, skiprows=7, header=None, index_col=-1)\n",
    "        uncorrected_distances.drop([0, 132], axis='columns', inplace=True)\n",
    "        uncorrected_distances.columns = uncorrected_distances.index = sorted_taxa\n",
    "\n",
    "        lower_triangle_indexes = np.tril_indices(uncorrected_distances.shape[0], -1)\n",
    "        uncorrected_distances.values[lower_triangle_indexes] = uncorrected_distances.T.values[lower_triangle_indexes]\n",
    "\n",
    "        uncorrected_distances = uncorrected_distances.reindex(index=ml_distances.index,\n",
    "                                                              columns=ml_distances.columns,\n",
    "                                                              tolerance=0)\n",
    "\n",
    "        plot = sns.scatterplot(squareform(ml_distances.values),\n",
    "                               squareform(uncorrected_distances.values, checks=False),\n",
    "                               ax=axs[row, col], label='category %i' % category, alpha=0.5,\n",
    "                               color=colors[category-1]\n",
    "                               )\n",
    "\n",
    "commom_area = fig.add_subplot(111, frameon=False)\n",
    "commom_area.tick_params(labelcolor='none', top=False, bottom=False, left=False, right=False)\n",
    "commom_area.set_xlabel('ML pairwise distances from original alignment')\n",
    "commom_area.set_ylabel('Uncorrected distances from rate-category sites')\n",
    "\n",
    "fig.set_size_inches(18,14)\n",
    "fig.tight_layout()\n",
    "fig.savefig('saturation_test.png', dpi=300)\n",
    "plt.close()"
   ]
  }
 ],
 "metadata": {
  "kernelspec": {
   "display_name": "Python 2",
   "language": "python",
   "name": "python2"
  },
  "language_info": {
   "codemirror_mode": {
    "name": "ipython",
    "version": 2
   },
   "file_extension": ".py",
   "mimetype": "text/x-python",
   "name": "python",
   "nbconvert_exporter": "python",
   "pygments_lexer": "ipython2",
   "version": "2.7.15"
  }
 },
 "nbformat": 4,
 "nbformat_minor": 2
}
