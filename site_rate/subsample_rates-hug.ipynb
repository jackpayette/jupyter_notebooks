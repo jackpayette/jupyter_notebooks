{
 "cells": [
  {
   "cell_type": "code",
   "execution_count": 4,
   "metadata": {},
   "outputs": [],
   "source": [
    "import ete3\n",
    "import os\n",
    "import pandas as pd\n",
    "from Bio import Phylo as phy\n",
    "from Bio import SeqIO, SearchIO, AlignIO, Align, Alphabet\n",
    "import subprocess\n",
    "import numpy as np\n",
    "from scipy.spatial.distance import squareform\n",
    "from matplotlib import pyplot as plt\n",
    "import seaborn as sns\n",
    "import multiprocessing\n",
    "\n",
    "os.chdir('/work/site_rate/hug_et_al')\n",
    "ncbi = ete3.NCBITaxa()\n",
    "%matplotlib inline"
   ]
  },
  {
   "cell_type": "code",
   "execution_count": 5,
   "metadata": {},
   "outputs": [],
   "source": [
    "class cd:\n",
    "    \"\"\"\n",
    "    Context manager for changing the current working directory\n",
    "    \"\"\"\n",
    "    def __init__(self, newPath):\n",
    "        self.newPath = os.path.expanduser(newPath)\n",
    "\n",
    "    def __enter__(self):\n",
    "        self.savedPath = os.getcwd()\n",
    "        os.chdir(self.newPath)\n",
    "\n",
    "    def __exit__(self, etype, value, traceback):\n",
    "        os.chdir(self.savedPath)"
   ]
  },
  {
   "cell_type": "code",
   "execution_count": 6,
   "metadata": {},
   "outputs": [],
   "source": [
    "tree = ete3.Tree('ribosomal_concat.fasta.treefile', format=1)\n",
    "bacteria     = []\n",
    "archaea      = []\n",
    "eukarya      = []\n",
    "for leaf in tree.get_leaf_names():\n",
    "    if leaf.startswith('Bacteria'):\n",
    "        bacteria.append(leaf)\n",
    "    elif leaf.startswith('Archaea'):\n",
    "        archaea.append(leaf)\n",
    "    elif leaf.startswith('Eukaryota'):\n",
    "        eukarya.append(leaf)\n",
    "\n",
    "tree.set_outgroup(eukarya[0])\n",
    "bacteria_ancestor = tree.get_common_ancestor(bacteria)\n",
    "tree.set_outgroup(bacteria_ancestor)"
   ]
  },
  {
   "cell_type": "code",
   "execution_count": 13,
   "metadata": {},
   "outputs": [],
   "source": [
    "branch_length = np.asarray([node.dist for node in tree.traverse() if not node.is_leaf() and not node.is_root()])"
   ]
  },
  {
   "cell_type": "code",
   "execution_count": 14,
   "metadata": {},
   "outputs": [
    {
     "data": {
      "text/plain": [
       "0.0495251131"
      ]
     },
     "execution_count": 14,
     "metadata": {},
     "output_type": "execute_result"
    }
   ],
   "source": [
    "np.median(branch_length)"
   ]
  },
  {
   "cell_type": "code",
   "execution_count": 27,
   "metadata": {},
   "outputs": [
    {
     "name": "stdout",
     "output_type": "stream",
     "text": [
      "\n",
      "         /-a\n",
      "      /-|\n",
      "   /-|   \\-b\n",
      "  |  |\n",
      "--|   \\-c\n",
      "  |\n",
      "   \\-d\n",
      "\n",
      "         /-c\n",
      "      /-|\n",
      "   /-|   \\-b\n",
      "  |  |\n",
      "--|   \\-a\n",
      "  |\n",
      "   \\-d\n",
      "2\n",
      "4\n",
      "set(['a', 'c', 'b', 'd'])\n",
      "set([('a',), ('c',), ('b',), ('d',), ('a', 'b'), ('a', 'b', 'c', 'd'), ('a', 'b', 'c')])\n",
      "set([('b', 'c'), ('a',), ('c',), ('b',), ('d',), ('a', 'b', 'c'), ('a', 'b', 'c', 'd')])\n",
      "set([])\n",
      "set([])\n"
     ]
    }
   ],
   "source": [
    "a = ete3.Tree('(((a,b),c),d);')\n",
    "b = ete3.Tree('(((c,b),a),d);')\n",
    "print a\n",
    "print b\n",
    "for n in a.robinson_foulds(b):\n",
    "    print n"
   ]
  },
  {
   "cell_type": "code",
   "execution_count": null,
   "metadata": {},
   "outputs": [],
   "source": [
    "tree.write(outfile='species.tre', dist_formatter='%.20f', format=5)"
   ]
  },
  {
   "cell_type": "code",
   "execution_count": null,
   "metadata": {},
   "outputs": [],
   "source": [
    "num_categories = 12\n",
    "alignment      = AlignIO.read('ribosomal_concat.fasta', 'fasta')\n",
    "subprocess.call(['iqtree', '-s', 'ribosomal_concat.fasta', '-keep-ident',\n",
    "                 '-nt', '15', '-redo', '-m', 'LG+F+G%i' %num_categories,\n",
    "                 '-safe', '-wsr', '-te', 'species.tre', '-pre', 'rate_binning'])"
   ]
  },
  {
   "cell_type": "code",
   "execution_count": 16,
   "metadata": {},
   "outputs": [
    {
     "data": {
      "text/html": [
       "<div>\n",
       "<style scoped>\n",
       "    .dataframe tbody tr th:only-of-type {\n",
       "        vertical-align: middle;\n",
       "    }\n",
       "\n",
       "    .dataframe tbody tr th {\n",
       "        vertical-align: top;\n",
       "    }\n",
       "\n",
       "    .dataframe thead th {\n",
       "        text-align: right;\n",
       "    }\n",
       "</style>\n",
       "<table border=\"1\" class=\"dataframe\">\n",
       "  <thead>\n",
       "    <tr style=\"text-align: right;\">\n",
       "      <th></th>\n",
       "      <th>Site</th>\n",
       "      <th>Rate</th>\n",
       "      <th>Cat</th>\n",
       "      <th>C_Rate</th>\n",
       "    </tr>\n",
       "  </thead>\n",
       "  <tbody>\n",
       "    <tr>\n",
       "      <th>0</th>\n",
       "      <td>1</td>\n",
       "      <td>0.08971</td>\n",
       "      <td>2</td>\n",
       "      <td>0.08971</td>\n",
       "    </tr>\n",
       "    <tr>\n",
       "      <th>1</th>\n",
       "      <td>2</td>\n",
       "      <td>1.19779</td>\n",
       "      <td>9</td>\n",
       "      <td>1.21474</td>\n",
       "    </tr>\n",
       "    <tr>\n",
       "      <th>2</th>\n",
       "      <td>3</td>\n",
       "      <td>0.54594</td>\n",
       "      <td>6</td>\n",
       "      <td>0.54580</td>\n",
       "    </tr>\n",
       "    <tr>\n",
       "      <th>7</th>\n",
       "      <td>8</td>\n",
       "      <td>0.40146</td>\n",
       "      <td>5</td>\n",
       "      <td>0.40042</td>\n",
       "    </tr>\n",
       "    <tr>\n",
       "      <th>10</th>\n",
       "      <td>11</td>\n",
       "      <td>0.93815</td>\n",
       "      <td>8</td>\n",
       "      <td>0.93721</td>\n",
       "    </tr>\n",
       "    <tr>\n",
       "      <th>11</th>\n",
       "      <td>12</td>\n",
       "      <td>0.72080</td>\n",
       "      <td>7</td>\n",
       "      <td>0.72100</td>\n",
       "    </tr>\n",
       "    <tr>\n",
       "      <th>28</th>\n",
       "      <td>29</td>\n",
       "      <td>1.54310</td>\n",
       "      <td>10</td>\n",
       "      <td>1.59572</td>\n",
       "    </tr>\n",
       "    <tr>\n",
       "      <th>29</th>\n",
       "      <td>30</td>\n",
       "      <td>2.19435</td>\n",
       "      <td>11</td>\n",
       "      <td>2.19435</td>\n",
       "    </tr>\n",
       "    <tr>\n",
       "      <th>34</th>\n",
       "      <td>35</td>\n",
       "      <td>0.27794</td>\n",
       "      <td>4</td>\n",
       "      <td>0.27821</td>\n",
       "    </tr>\n",
       "    <tr>\n",
       "      <th>47</th>\n",
       "      <td>48</td>\n",
       "      <td>0.17520</td>\n",
       "      <td>3</td>\n",
       "      <td>0.17524</td>\n",
       "    </tr>\n",
       "    <tr>\n",
       "      <th>90</th>\n",
       "      <td>91</td>\n",
       "      <td>0.03495</td>\n",
       "      <td>1</td>\n",
       "      <td>0.02332</td>\n",
       "    </tr>\n",
       "    <tr>\n",
       "      <th>127</th>\n",
       "      <td>128</td>\n",
       "      <td>3.82301</td>\n",
       "      <td>12</td>\n",
       "      <td>3.82427</td>\n",
       "    </tr>\n",
       "  </tbody>\n",
       "</table>\n",
       "</div>"
      ],
      "text/plain": [
       "     Site     Rate  Cat   C_Rate\n",
       "0       1  0.08971    2  0.08971\n",
       "1       2  1.19779    9  1.21474\n",
       "2       3  0.54594    6  0.54580\n",
       "7       8  0.40146    5  0.40042\n",
       "10     11  0.93815    8  0.93721\n",
       "11     12  0.72080    7  0.72100\n",
       "28     29  1.54310   10  1.59572\n",
       "29     30  2.19435   11  2.19435\n",
       "34     35  0.27794    4  0.27821\n",
       "47     48  0.17520    3  0.17524\n",
       "90     91  0.03495    1  0.02332\n",
       "127   128  3.82301   12  3.82427"
      ]
     },
     "execution_count": 16,
     "metadata": {},
     "output_type": "execute_result"
    }
   ],
   "source": [
    "rates = pd.read_table('rate_binning.rate', comment='#')\n",
    "rates.drop_duplicates('Cat')"
   ]
  },
  {
   "cell_type": "code",
   "execution_count": 34,
   "metadata": {},
   "outputs": [
    {
     "data": {
      "text/plain": [
       "343.0798"
      ]
     },
     "execution_count": 34,
     "metadata": {},
     "output_type": "execute_result"
    }
   ],
   "source": [
    "1.59572*215"
   ]
  },
  {
   "cell_type": "code",
   "execution_count": 30,
   "metadata": {},
   "outputs": [
    {
     "name": "stdout",
     "output_type": "stream",
     "text": [
      "1 93\n",
      "2 183\n",
      "3 188\n",
      "4 246\n",
      "5 285\n",
      "6 281\n",
      "7 294\n",
      "8 274\n",
      "9 286\n",
      "10 215\n",
      "11 194\n",
      "12 57\n"
     ]
    },
    {
     "data": {
      "image/png": "[encoded data removed]",
      "text/plain": [
       "<Figure size 1440x720 with 1 Axes>"
      ]
     },
     "metadata": {
      "needs_background": "light"
     },
     "output_type": "display_data"
    }
   ],
   "source": [
    "rates     = pd.read_table('rate_binning.rate', comment='#')\n",
    "category_frequencies = []\n",
    "for category in range(1,13):\n",
    "    category_length = sum(rates.Cat==category)\n",
    "    category_frequencies.append(category_length/2596.)\n",
    "    print category, category_length\n",
    "\n",
    "fig, ax = plt.subplots(dpi=180, figsize=(8,4))\n",
    "sns.barplot(x=range(1,13), y=category_frequencies)\n",
    "ax.set_xlabel('Substitution rate categories')\n",
    "ax.set_ylabel('Percentage of aligned sites')\n",
    "fig.tight_layout()"
   ]
  },
  {
   "cell_type": "code",
   "execution_count": 5,
   "metadata": {},
   "outputs": [
    {
     "data": {
      "text/plain": [
       "2596"
      ]
     },
     "execution_count": 5,
     "metadata": {},
     "output_type": "execute_result"
    }
   ],
   "source": [
    "alignment      = AlignIO.read('ribosomal_concat.fasta', 'fasta')\n",
    "alignment.get_alignment_length()"
   ]
  },
  {
   "cell_type": "code",
   "execution_count": null,
   "metadata": {},
   "outputs": [],
   "source": [
    "for category in rates.Cat.unique():\n",
    "    site_df        = rates[rates.Cat == category]\n",
    "    category_aln   = {sequence.name:'' for sequence in alignment}\n",
    "    for sequence in alignment:\n",
    "        category_aln[sequence.name] = ''.join([sequence[position] for position in site_df.index])\n",
    "\n",
    "    out = open('categories/%i.aln' % category, 'w')\n",
    "    for header, sequence in category_aln.items():\n",
    "        full_sequence = ''\n",
    "        while len(full_sequence) <= 2596:\n",
    "            full_sequence += sequence\n",
    "        out.write('>%s\\n%s\\n' % (header, full_sequence[:2596]))\n",
    "    out.close()"
   ]
  },
  {
   "cell_type": "code",
   "execution_count": null,
   "metadata": {},
   "outputs": [],
   "source": [
    "def run_bootstrap(category):\n",
    "    subprocess.call(['iqtree', '-s', '%i.aln' % category, '-m', 'LG+G1', '-redo',\n",
    "                     '-safe', '-nt', '1', '-pre', '%i' % category,\n",
    "                     '-alrt', '1000', '-keep-ident', '-quiet', '-te', '../species.tre'])\n",
    "\n",
    "\n",
    "with cd('categories'):\n",
    "    pool = multiprocessing.Pool(processes=12)\n",
    "    pool.map(run_bootstrap, range(1, 13))"
   ]
  },
  {
   "cell_type": "code",
   "execution_count": 6,
   "metadata": {},
   "outputs": [],
   "source": [
    "sorted_taxa = []\n",
    "for sequence in alignment:\n",
    "    sorted_taxa.append(sequence.name)"
   ]
  },
  {
   "cell_type": "code",
   "execution_count": null,
   "metadata": {},
   "outputs": [],
   "source": [
    "subprocess.call(['iqtree', '-s', 'ribosomal_concat.fasta', '-keep-ident',\n",
    "                  '-nt', '15', '-redo', '-m', 'LG+F+G12',\n",
    "                 '-safe', '-te', 'BIONJ', '-pre', 'mldistances'])"
   ]
  },
  {
   "cell_type": "code",
   "execution_count": 7,
   "metadata": {},
   "outputs": [
    {
     "name": "stderr",
     "output_type": "stream",
     "text": [
      "/Users/thiberio/anaconda2/lib/python2.7/site-packages/ipykernel_launcher.py:1: ParserWarning: Falling back to the 'python' engine because the 'c' engine does not support regex separators (separators > 1 char and different from '\\s+' are interpreted as regex); you can avoid this warning by specifying engine='python'.\n",
      "  \"\"\"Entry point for launching an IPython kernel.\n"
     ]
    }
   ],
   "source": [
    "ml_distances = pd.read_table('mldistances.mldist', index_col=0, header=None, skiprows=1, sep=r'\\s*')\n",
    "ml_distances.columns = ml_distances.index\n",
    "\n",
    "fig, ax = plt.subplots()\n",
    "with cd('categories'):\n",
    "    for category in range(1, 13):\n",
    "#        subprocess.call(['distmat', '-sequence', '%i.aln' % category,\n",
    "#                         '-protmethod', '0', '-outfile', '%i.distmat' % category])\n",
    "        uncorrected_distances = pd.read_table('%i.distmat' % category, skiprows=7, header=None, index_col=-1)\n",
    "        uncorrected_distances.drop([0, 3084], axis='columns', inplace=True)\n",
    "        uncorrected_distances.columns = uncorrected_distances.index = sorted_taxa\n",
    "\n",
    "        lower_triangle_indexes = np.tril_indices(uncorrected_distances.shape[0], -1)\n",
    "        uncorrected_distances.values[lower_triangle_indexes] = uncorrected_distances.T.values[lower_triangle_indexes]\n",
    "\n",
    "        uncorrected_distances = uncorrected_distances.reindex(index=ml_distances.index,\n",
    "                                                              columns=ml_distances.columns,\n",
    "                                                              tolerance=0)\n",
    "\n",
    "        plot = sns.scatterplot(squareform(ml_distances.values),\n",
    "                        squareform(uncorrected_distances.values, checks=False),\n",
    "                        ax=ax, label='category %i' % category, alpha=0.7, s=5\n",
    "                        )\n",
    "\n",
    "ax.set_xlabel('ML pairwise distances from original alignment')\n",
    "ax.set_ylabel('Uncorrected distances from rate-category sites')\n",
    "\n",
    "fig.set_size_inches(15,15)\n",
    "fig.tight_layout()\n",
    "fig.savefig('saturation_test-combined.png', dpi=300)\n",
    "plt.close()"
   ]
  },
  {
   "cell_type": "code",
   "execution_count": null,
   "metadata": {},
   "outputs": [],
   "source": [
    "colors = '#29bece #bcbc35 #7f7f7f #e17ac1 #8b564c #936abb #d42a2f #339f34 #fd7f28 #2678b2 #29bece #bcbc35 '.split()\n",
    "colors.reverse()\n",
    "fig, axs = plt.subplots(nrows=3, ncols=4, sharex=True, sharey=True)\n",
    "with cd('categories'):\n",
    "    row = col = 0\n",
    "    for category in range(1, 13):\n",
    "        if category  in [1,2,3,4]:\n",
    "            row = 0\n",
    "        elif category in [5,6,7,8]:\n",
    "            row = 1\n",
    "        else:\n",
    "            row = 2\n",
    "\n",
    "        if category in [1,5,9]:\n",
    "            col = 0\n",
    "        elif category in [2,6,10]:\n",
    "            col = 1\n",
    "        elif category in [3,7,11]:\n",
    "            col = 2\n",
    "        else:\n",
    "            col = 3\n",
    "\n",
    "        #subprocess.call(['distmat', '-sequence', '%i.aln' % category, '-protmethod', '0', '-outfile', '%i.distmat' % category])\n",
    "        uncorrected_distances = pd.read_table('%i.distmat' % category, skiprows=7, header=None, index_col=-1)\n",
    "        uncorrected_distances.drop([0, 132], axis='columns', inplace=True)\n",
    "        uncorrected_distances.columns = uncorrected_distances.index = sorted_taxa\n",
    "\n",
    "        lower_triangle_indexes = np.tril_indices(uncorrected_distances.shape[0], -1)\n",
    "        uncorrected_distances.values[lower_triangle_indexes] = uncorrected_distances.T.values[lower_triangle_indexes]\n",
    "\n",
    "        uncorrected_distances = uncorrected_distances.reindex(index=ml_distances.index,\n",
    "                                                              columns=ml_distances.columns,\n",
    "                                                              tolerance=0)\n",
    "\n",
    "        plot = sns.scatterplot(squareform(ml_distances.values),\n",
    "                               squareform(uncorrected_distances.values, checks=False),\n",
    "                               ax=axs[row, col], label='category %i' % category, alpha=0.5,\n",
    "                               color=colors[category-1]\n",
    "                               )\n",
    "\n",
    "commom_area = fig.add_subplot(111, frameon=False)\n",
    "commom_area.tick_params(labelcolor='none', top=False, bottom=False, left=False, right=False)\n",
    "commom_area.set_xlabel('ML pairwise distances from original alignment')\n",
    "commom_area.set_ylabel('Uncorrected distances from rate-category sites')\n",
    "\n",
    "fig.set_size_inches(18,14)\n",
    "fig.tight_layout()\n",
    "fig.savefig('saturation_test.png', dpi=300)\n",
    "plt.close()"
   ]
  }
 ],
 "metadata": {
  "kernelspec": {
   "display_name": "Python 2",
   "language": "python",
   "name": "python2"
  },
  "language_info": {
   "codemirror_mode": {
    "name": "ipython",
    "version": 2
   },
   "file_extension": ".py",
   "mimetype": "text/x-python",
   "name": "python",
   "nbconvert_exporter": "python",
   "pygments_lexer": "ipython2",
   "version": "2.7.15"
  }
 },
 "nbformat": 4,
 "nbformat_minor": 2
}
