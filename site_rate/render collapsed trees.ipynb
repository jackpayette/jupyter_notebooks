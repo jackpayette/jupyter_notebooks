{
 "cells": [
  {
   "cell_type": "code",
   "execution_count": 1,
   "metadata": {},
   "outputs": [
    {
     "name": "stdout",
     "output_type": "stream",
     "text": [
      "/work/site_rate/hug_et_al\n"
     ]
    }
   ],
   "source": [
    "import ete3\n",
    "import os\n",
    "import re\n",
    "import random\n",
    "import numpy as np\n",
    "import pandas as pd\n",
    "import seaborn as sns\n",
    "from itertools import combinations, product\n",
    "from matplotlib import pyplot as plt\n",
    "import matplotlib\n",
    "\n",
    "%cd /work/site_rate/hug_et_al"
   ]
  },
  {
   "cell_type": "code",
   "execution_count": 2,
   "metadata": {},
   "outputs": [],
   "source": [
    "tree = ete3.Tree('/work/site_rate/hug_et_al/best_phylogenies/no_fast_evolving_sites.aln.treefile',\n",
    "                 format=0)\n",
    "#tree = ete3.Tree('/work/site_rate/hug_et_al/best_phylogenies/C60_just_mid_evolving_sites.aln.treefile',\n",
    "#                 format=0)\n",
    "bacteria     = []\n",
    "archaea      = []\n",
    "eukarya      = []\n",
    "for leaf in tree.get_leaf_names():\n",
    "    if leaf.startswith('Bacteria'):\n",
    "        bacteria.append(leaf)\n",
    "    elif leaf.startswith('Archaea'):\n",
    "        archaea.append(leaf)\n",
    "    elif leaf.startswith('Eukaryota'):\n",
    "        eukarya.append(leaf)\n",
    "\n",
    "tree.set_outgroup(eukarya[0])\n",
    "bacteria_ancestor = tree.get_common_ancestor(bacteria)\n",
    "tree.set_outgroup(bacteria_ancestor)"
   ]
  },
  {
   "cell_type": "code",
   "execution_count": 3,
   "metadata": {},
   "outputs": [],
   "source": [
    "cmap = plt.cm.rainbow\n",
    "norm = matplotlib.colors.Normalize(vmin=0, vmax=8)\n",
    "\n",
    "taxa = ['Euryarchaeota',   'DPANN',        'Thaumarchaeota',\n",
    "        'Asgardarchaeota', 'Aigarchaeota', 'Crenarchaeota',\n",
    "        'Korarchaeota',    'Eukaryota',    'Nanohaloarchaeota',]\n",
    "\n",
    "nameFaces = {}\n",
    "\n",
    "colors = '#6E9D34 #8E8CD9 #B4423C #3D7AB8 #3DB8B8 #6038BC #FFBC1F #BD008E'.split()\n",
    "for position, taxon in  enumerate(taxa):\n",
    "    if position >= len(colors):\n",
    "        position -= len(colors)\n",
    "    nameFaces[taxon] = ete3.AttrFace(\"taxon\",\n",
    "                                     fsize=10,\n",
    "                                     fgcolor=colors[position]\n",
    "                                    )\n",
    "#colors = ['#%02x%02x%02x' % cmap(norm(index), bytes=8)[:3]\n",
    "#          for index in range(0,13)]\n",
    "#for position, taxon in enumerate(taxa):\n",
    "#    nameFaces[taxon] = ete3.AttrFace(\"taxon\",\n",
    "#                                     fsize=10,\n",
    "#                                     fgcolor='#%02x%02x%02x' % cmap(norm(position), bytes=8)[:3]\n",
    "#                                    )\n",
    "nameFaces['Unknow']= ete3.AttrFace(\n",
    "    \"name\",\n",
    "    fsize=10,\n",
    "    fgcolor='#000000'\n",
    ")"
   ]
  },
  {
   "cell_type": "code",
   "execution_count": 4,
   "metadata": {},
   "outputs": [],
   "source": [
    "extra_taxonomic_members = {}\n",
    "extra_taxonomic_members['Euryarchaeota'] = 'Archaea_uncultured_halophilic_archaeon_J07ABHX64\\\n",
    "                                            Archaea_uncultured_halophilic_archaeon_J07ABHX67_version_2\\\n",
    "                                            Archaea_uncultured_archaeon_J07ABHN6_version_2\\\n",
    "                                            Archaea_Thaumarchaeota_unclassified_Thaumarchaeota_Marine_Group_I_Marine_Group_III_euryarchaeote_sp._SCGC_AAA288_E19\\\n",
    "                                            Archaea_Hadesarchaea_archaeon_YNP_45\\\n",
    "                                            Archaea_Hadesarchaea_archaeon_YNP_N21\\\n",
    "                                            Archaea_CP_Z7ME43_WOR_bin_SMTZ_36\\\n",
    "                                            Archaea_CP_Z7ME43_WOR_bin_DG_70'.split()\n"
   ]
  },
  {
   "cell_type": "code",
   "execution_count": 5,
   "metadata": {},
   "outputs": [],
   "source": [
    "subtree = tree.get_common_ancestor(archaea+eukarya).copy()\n",
    "for leaf in subtree.get_leaves():\n",
    "    leaf.name = leaf.name.replace(\"'\", '')\n",
    "    for taxon in taxa:\n",
    "        if taxon in leaf.name:\n",
    "            leaf.add_feature('taxon', taxon)\n",
    "    if 'taxon' not in leaf.features:\n",
    "        if 'Lokiarchaeota' in leaf.name or 'Lokiarchaeaota' in leaf.name  or 'Thorarchaeota' in leaf.name:\n",
    "            leaf.add_feature('taxon', 'Asgardarchaeota')\n",
    "        elif 'Nanoarchaeota' in leaf.name:\n",
    "            leaf.add_feature('taxon', 'DPANN')\n",
    "        else:\n",
    "            leaf.add_feature('taxon', 'Unknow')\n",
    "    \n",
    "    if leaf.name in extra_taxonomic_members['Euryarchaeota']:\n",
    "        leaf.taxon = 'Euryarchaeota'\n",
    "\n",
    "node_content = subtree.get_cached_content()"
   ]
  },
  {
   "cell_type": "code",
   "execution_count": 6,
   "metadata": {
    "scrolled": false
   },
   "outputs": [],
   "source": [
    "nodeStyle = ete3.NodeStyle()\n",
    "\n",
    "subtree.ladderize()\n",
    "for node, descendants in node_content.items():\n",
    "    node.img_style['size'] = 0\n",
    "    node.img_style[\"vt_line_width\"] = 1\n",
    "    node.img_style[\"hz_line_width\"] = 1\n",
    "        \n",
    "    if len(descendants) == 1:\n",
    "#        node.add_face(nameFaces[node.taxon], 1)\n",
    "        pass\n",
    "    else:\n",
    "        descendant_taxa = set([leaf.taxon for leaf in descendants])\n",
    "#        node.support = float(node.name.split('/')[1])\n",
    "        if node.support >= 95:\n",
    "            node.img_style['size']    = 3\n",
    "            node.img_style['fgcolor'] = '#B4423C'\n",
    "\n",
    "        if len(descendant_taxa) > 1:\n",
    "            continue\n",
    "        \n",
    "        taxon = descendant_taxa.pop()\n",
    "\n",
    "        if taxon == 'Unknow':\n",
    "            continue\n",
    "        \n",
    "        node.add_feature('taxon', taxon)\n",
    "        node.add_face(\n",
    "            ete3.AttrFace(\n",
    "                \"taxon\",\n",
    "                fsize=15+len(descendants)*0,\n",
    "                fgcolor=nameFaces[taxon].fgcolor\n",
    "            ),\n",
    "            1\n",
    "        )\n",
    "        node.img_style['draw_descendants'] = False\n",
    "\n",
    "treeStyle                   = ete3.TreeStyle()\n",
    "treeStyle.branch_vertical_margin = 1\n",
    "treeStyle.show_leaf_name    = False\n",
    "\n",
    "figure = subtree.render(\n",
    "    file_name='/Users/thiberio/Dropbox (MIT)/site_rates-paper/figures/no_fast-LG_FU.pdf',\n",
    "    tree_style=treeStyle,\n",
    "    w=2000,\n",
    "    dpi=600)"
   ]
  }
 ],
 "metadata": {
  "kernelspec": {
   "display_name": "Python 3",
   "language": "python",
   "name": "python3"
  },
  "language_info": {
   "codemirror_mode": {
    "name": "ipython",
    "version": 3
   },
   "file_extension": ".py",
   "mimetype": "text/x-python",
   "name": "python",
   "nbconvert_exporter": "python",
   "pygments_lexer": "ipython3",
   "version": "3.7.1"
  }
 },
 "nbformat": 4,
 "nbformat_minor": 2
}
