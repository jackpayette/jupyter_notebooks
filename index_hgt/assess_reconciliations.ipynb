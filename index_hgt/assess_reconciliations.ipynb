{
 "cells": [
  {
   "cell_type": "code",
   "execution_count": 1,
   "metadata": {},
   "outputs": [],
   "source": [
    "import multiprocessing\n",
    "import pickle as pkl\n",
    "import plotly\n",
    "import plotly.plotly as ptl\n",
    "from plotly import graph_objs as go\n",
    "import pyparsing as pp\n",
    "import subprocess\n",
    "import os\n",
    "import jdc\n",
    "\n",
    "plotly_accession = open('/Users/thiberio/plotly_accession').read().split()\n",
    "ptl.sign_in(plotly_accession[0], plotly_accession[1])\n",
    "\n",
    "%run base_functions.ipynb\n",
    "os.chdir('/work/Alphas_and_Cyanos')"
   ]
  },
  {
   "cell_type": "code",
   "execution_count": 2,
   "metadata": {},
   "outputs": [],
   "source": [
    "#os.chdir('/work/jupyter_notebooks/index_hgt')\n",
    "#%run base_functions.ipynb\n",
    "#os.chdir('/work/Alphas_and_Cyanos')"
   ]
  },
  {
   "cell_type": "code",
   "execution_count": 3,
   "metadata": {},
   "outputs": [],
   "source": [
    "parse_transfers = aggregate(\n",
    "    reference_tree='rooted_partitions-with_named_branches.treefile',\n",
    "    gene_tree_folder='/work/Alphas_and_Cyanos/ranger_input_trees-no_long_branches/',\n",
    "    aggregate_folder='/work/Alphas_and_Cyanos/aggregated/mad_roots-stricter_branch_lengths/',\n",
    "    reconciliation_folder='.')"
   ]
  },
  {
   "cell_type": "code",
   "execution_count": 4,
   "metadata": {},
   "outputs": [],
   "source": [
    "with cd('reconciliations/mad_roots-stricter_branch_lengths'):\n",
    "    pool    = multiprocessing.Pool(processes=15)\n",
    "    results = pool.map(parse_transfers.parse_aggregated, os.listdir('.'))\n",
    "    pool.close()\n",
    "    pool.join()\n",
    "\n",
    "    transfers = {}\n",
    "    for filtered in results:\n",
    "        if  list(filtered.values()) != [None] and list(filtered.values())[0][0] != []:\n",
    "            transfers.update(filtered)\n",
    "\n",
    "out = open('aggregated/mad_transfers-test.pkl', 'wb')\n",
    "pkl.dump(transfers, out)\n",
    "out.close()"
   ]
  },
  {
   "cell_type": "code",
   "execution_count": 5,
   "metadata": {},
   "outputs": [],
   "source": [
    "parse_transfers.species_tree.write?"
   ]
  },
  {
   "cell_type": "code",
   "execution_count": 6,
   "metadata": {},
   "outputs": [],
   "source": [
    "out = open('aggregated/maxtic.constrains-test', 'w')\n",
    "for group, (transfer_data, gene_tree) in transfers.items():\n",
    "    for transfer in transfer_data:\n",
    "        out.write('%s\\t%s\\n' % (transfer['donor'], transfer['recipient']))\n",
    "out.close()\n",
    "\n",
    "parse_transfers.species_tree.write(outfile='tmp_species.tre', format=1, dist_formatter='%.20f')\n",
    "\n",
    "subprocess.call(['python',\n",
    "                 '/work/ale/maxtic/MaxTiC.py',\n",
    "                 'tmp_species.tre',\n",
    "                 'aggregated/maxtic.constrains-test',\n",
    "                 'ls=180',\n",
    "                ])\n",
    "\n",
    "maxtic = pd.read_table('aggregated/maxtic.constrains-test_MT_output_partial_order',\n",
    "                       header=None,\n",
    "                       names=['donor', 'recipient', 'weight', 'no_idea'],\n",
    "                       sep=' ')"
   ]
  },
  {
   "cell_type": "code",
   "execution_count": 7,
   "metadata": {},
   "outputs": [],
   "source": [
    "maxtic_compatible_transfers = {}\n",
    "for group, (transfer_data, gene_tree) in transfers.items():\n",
    "    tmp_transfers = []\n",
    "    for transfer in transfer_data:\n",
    "        if maxtic[(maxtic.donor==transfer['donor']) & (maxtic.recipient==transfer['recipient'])].shape[0]:\n",
    "            tmp_transfers.append(transfer)\n",
    "    if tmp_transfers:\n",
    "        maxtic_compatible_transfers[group] = [tmp_transfers, gene_tree]"
   ]
  },
  {
   "cell_type": "code",
   "execution_count": 8,
   "metadata": {},
   "outputs": [],
   "source": [
    "pool = multiprocessing.Pool(processes=18)\n",
    "results = pool.map(parse_transfers.assess_dtl_dist,\n",
    "                   list(maxtic_compatible_transfers.items()))"
   ]
  },
  {
   "cell_type": "code",
   "execution_count": 9,
   "metadata": {},
   "outputs": [],
   "source": [
    "donor_dtl_distances = {}\n",
    "for element in results:\n",
    "    donor_dtl_distances.update(element)"
   ]
  },
  {
   "cell_type": "code",
   "execution_count": 10,
   "metadata": {},
   "outputs": [],
   "source": [
    "reference_tree         = ete3.Tree('rooted_partitions-with_named_branches.treefile', format=1)\n",
    "transfer_distances     = {}\n",
    "donor_distance_to_root = {}\n",
    "donor_complexity_ratio = {}\n",
    "for group, (transfer_data, gene_tree) in maxtic_compatible_transfers.items():\n",
    "    for transfer in transfer_data:\n",
    "        pair         = frozenset([transfer['donor'], transfer['recipient']])\n",
    "        donor_branch = reference_tree.search_nodes(name=transfer['donor']    )[0]\n",
    "        \n",
    "        if pair not in transfer_distances:\n",
    "            recipient_branch = reference_tree.search_nodes(name=transfer['recipient'])[0]\n",
    "            transfer_distances[pair] = donor_branch.get_distance(recipient_branch, topology_only=False)\n",
    "\n",
    "        if transfer['donor'] not in donor_distance_to_root:\n",
    "            tmp_dist = reference_tree.get_distance(\n",
    "                transfer['donor'],\n",
    "                topology_only=False\n",
    "            )\n",
    "            donor_distance_to_root[transfer['donor']] = tmp_dist\n",
    "            donor_subtree_complexity = sum([node.dist\n",
    "                                            for node in donor_branch.traverse()\n",
    "                                            if node.name != transfer['donor']])\n",
    "            tmp_dist = reference_tree.get_distance(\n",
    "                transfer['donor'],\n",
    "                topology_only=True\n",
    "            )            \n",
    "            donor_complexity_ratio[transfer['donor']] = tmp_dist/len(donor_branch)"
   ]
  },
  {
   "cell_type": "code",
   "execution_count": 11,
   "metadata": {},
   "outputs": [
    {
     "ename": "NameError",
     "evalue": "name 'position' is not defined",
     "output_type": "error",
     "traceback": [
      "\u001b[0;31m---------------------------------------------------------------------------\u001b[0m",
      "\u001b[0;31mNameError\u001b[0m                                 Traceback (most recent call last)",
      "\u001b[0;32m<ipython-input-11-981388cacdad>\u001b[0m in \u001b[0;36m<module>\u001b[0;34m\u001b[0m\n\u001b[1;32m      1\u001b[0m maxtic.loc[\n\u001b[0;32m----> 2\u001b[0;31m             \u001b[0;34m(\u001b[0m\u001b[0mmaxtic\u001b[0m\u001b[0;34m.\u001b[0m\u001b[0mdonor\u001b[0m\u001b[0;34m==\u001b[0m\u001b[0mmaxtic_compatible_transfers\u001b[0m\u001b[0;34m[\u001b[0m\u001b[0mgroup\u001b[0m\u001b[0;34m]\u001b[0m\u001b[0;34m[\u001b[0m\u001b[0;36m0\u001b[0m\u001b[0;34m]\u001b[0m\u001b[0;34m[\u001b[0m\u001b[0mposition\u001b[0m\u001b[0;34m]\u001b[0m\u001b[0;34m[\u001b[0m\u001b[0;34m'donor'\u001b[0m\u001b[0;34m]\u001b[0m\u001b[0;34m)\u001b[0m \u001b[0;34m&\u001b[0m\u001b[0;34m\u001b[0m\u001b[0;34m\u001b[0m\u001b[0m\n\u001b[0m\u001b[1;32m      3\u001b[0m             \u001b[0;34m(\u001b[0m\u001b[0mmaxtic\u001b[0m\u001b[0;34m.\u001b[0m\u001b[0mrecipient\u001b[0m\u001b[0;34m==\u001b[0m\u001b[0mmaxtic_compatible_transfers\u001b[0m\u001b[0;34m[\u001b[0m\u001b[0mgroup\u001b[0m\u001b[0;34m]\u001b[0m\u001b[0;34m[\u001b[0m\u001b[0;36m0\u001b[0m\u001b[0;34m]\u001b[0m\u001b[0;34m[\u001b[0m\u001b[0mposition\u001b[0m\u001b[0;34m]\u001b[0m\u001b[0;34m[\u001b[0m\u001b[0;34m'recipient'\u001b[0m\u001b[0;34m]\u001b[0m\u001b[0;34m)\u001b[0m\u001b[0;34m,\u001b[0m\u001b[0;34m\u001b[0m\u001b[0;34m\u001b[0m\u001b[0m\n\u001b[1;32m      4\u001b[0m ].shape[0]\n",
      "\u001b[0;31mNameError\u001b[0m: name 'position' is not defined"
     ]
    }
   ],
   "source": [
    "maxtic.loc[\n",
    "            (maxtic.donor==maxtic_compatible_transfers[group][0][position]['donor']) &\n",
    "            (maxtic.recipient==maxtic_compatible_transfers[group][0][position]['recipient']),\n",
    "].shape[0]"
   ]
  },
  {
   "cell_type": "code",
   "execution_count": null,
   "metadata": {},
   "outputs": [],
   "source": [
    "maxtic.head()"
   ]
  },
  {
   "cell_type": "code",
   "execution_count": null,
   "metadata": {},
   "outputs": [],
   "source": [
    "tracer = {'color':[], 'x':[], 'y':[], 'text':[], 'marker_size':[]}\n",
    "for group in donor_dtl_distances.keys():\n",
    "    for position in range(len(donor_dtl_distances[group])):\n",
    "        if not maxtic.loc[\n",
    "            (maxtic.donor==maxtic_compatible_transfers[group][0][position]['donor']) &\n",
    "            (maxtic.recipient==maxtic_compatible_transfers[group][0][position]['recipient']),\n",
    "            ].shape[0]:\n",
    "            continue\n",
    "\n",
    "        tracer['x'    ].append(\n",
    "            transfer_distances[frozenset(\n",
    "                [maxtic_compatible_transfers[group][0][position]['donor'],\n",
    "                 maxtic_compatible_transfers[group][0][position]['recipient']]\n",
    "            )]\n",
    "        )\n",
    "        tracer['y'    ].append(\n",
    "            donor_complexity_ratio[maxtic_compatible_transfers[group][0][position]['donor']]\n",
    "        )\n",
    "        tracer['text' ].append('%s-#%i' %(group, position))\n",
    "        tracer['color'].append(donor_dtl_distances[group][position])\n",
    "        \n",
    "        transfer_count = maxtic.loc[\n",
    "            (maxtic.donor==maxtic_compatible_transfers[group][0][position]['donor']) &\n",
    "            (maxtic.recipient==maxtic_compatible_transfers[group][0][position]['recipient']),\n",
    "            'weight'].squeeze()\n",
    "        tracer['marker_size'].append(10+transfer_count*0.7)\n",
    "\n",
    "\n",
    "color_range          = np.linspace(np.min(tracer['color']), np.max(tracer['color']), 100)\n",
    "tracer['color_bins'] = np.digitize(tracer['color'], color_range)\n",
    "tracer_df = pd.DataFrame.from_dict(tracer)\n",
    "\n",
    "binned_df = tracer_df.groupby(by='color_bins')\n",
    "\n",
    "bins        = []\n",
    "for bin in binned_df.groups.keys():\n",
    "    tmp_df = binned_df.get_group(bin)\n",
    "    bins.append(\n",
    "        go.Scatter(\n",
    "            x=tmp_df.x.values,\n",
    "            y=tmp_df.y.values,\n",
    "            mode='markers',\n",
    "            text=tmp_df.text.values,\n",
    "            name=str(round(color_range[bin-1], 4)),\n",
    "            hoverinfo='text',\n",
    "            showlegend=False,\n",
    "            marker=dict(\n",
    "                size=tmp_df.marker_size.values,\n",
    "                color=tmp_df.color.values,\n",
    "                colorscale='RdBu',\n",
    "                cmax=tracer_df.color.values.max(),\n",
    "                cmin=tracer_df.color.values.min(),\n",
    "                symbol='circle',\n",
    "                opacity=.7,\n",
    "            )\n",
    "        )\n",
    "    )\n",
    "\n",
    "#\n",
    "# source: https://plot.ly/python/sliders/\n",
    "steps = [dict(label='All',\n",
    "                method='restyle',\n",
    "                args=[\n",
    "                    'visible', [True] * (len(bins) + 1)\n",
    "                ])\n",
    "]\n",
    "for i in range(len(bins)):\n",
    "    step = dict(label=bins[i]['name'],\n",
    "                method='restyle',\n",
    "                args=[\n",
    "#                    'visible', [False] * i + [True] * (len(bins) - i)\n",
    "                    'visible', [False]  * (len(bins))\n",
    "                ])\n",
    "    step['args'][1].append(True)\n",
    "    step['args'][1][i] = True\n",
    "    steps.append(step)\n",
    "slider = dict(steps=steps, currentvalue={'prefix':'Donor subtree DTL: '}, pad={'t':50})\n",
    "bins.append(\n",
    "    go.Scatter(\n",
    "        x=[np.min(tracer['x']), np.max(tracer['x'])],\n",
    "        y=[np.min(tracer['y']), np.max(tracer['y'])],\n",
    "        showlegend=False,\n",
    "        mode='markers',\n",
    "        marker=dict(\n",
    "            size=10, \n",
    "            color=[0.5], \n",
    "            colorscale='RdBu', \n",
    "            cmax=np.max(tracer['color']), \n",
    "            cmin=np.min(tracer['color']), \n",
    "            symbol='circle', \n",
    "            opacity=0,\n",
    "            colorbar=dict(title='Donor subtree DTL cost')\n",
    "        )\n",
    "    )\n",
    ")\n",
    "\n",
    "layout    = go.Layout(\n",
    "    title='Donor/Recipient subtree reconciliation costs',\n",
    "    hovermode='closest',\n",
    "    width=1200, height=1000,\n",
    "    xaxis=dict(title='Donor-Recipient distance'),\n",
    "    yaxis=dict(title='Donor branch distance to root and donor subtree ratio'),\n",
    "    sliders=[slider])\n",
    "fig       = go.Figure(data=bins, layout=layout)\n",
    "plot      = plotly.offline.plot(fig, filename='./yeah.html', auto_open=False)"
   ]
  }
 ],
 "metadata": {
  "kernelspec": {
   "display_name": "Python 3",
   "language": "python",
   "name": "python3"
  },
  "language_info": {
   "codemirror_mode": {
    "name": "ipython",
    "version": 3
   },
   "file_extension": ".py",
   "mimetype": "text/x-python",
   "name": "python",
   "nbconvert_exporter": "python",
   "pygments_lexer": "ipython3",
   "version": "3.7.1"
  }
 },
 "nbformat": 4,
 "nbformat_minor": 2
}
