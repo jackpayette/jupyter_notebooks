{
 "cells": [
  {
   "cell_type": "code",
   "execution_count": 1,
   "metadata": {},
   "outputs": [],
   "source": [
    "import jdc\n",
    "import pandas as pd\n",
    "import ftplib as ftp\n",
    "from ete3 import NCBITaxa\n",
    "ncbi = NCBITaxa()"
   ]
  },
  {
   "cell_type": "code",
   "execution_count": 12,
   "metadata": {},
   "outputs": [],
   "source": [
    "class cd:\n",
    "    \"\"\"\n",
    "    Context manager for changing the current working directory\n",
    "    \"\"\"\n",
    "    def __init__(self, newPath):\n",
    "        self.newPath = os.path.expanduser(newPath)\n",
    "\n",
    "    def __enter__(self):\n",
    "        self.savedPath = os.getcwd()\n",
    "        os.chdir(self.newPath)\n",
    "\n",
    "    def __exit__(self, etype, value, traceback):\n",
    "        os.chdir(self.savedPath)"
   ]
  },
  {
   "cell_type": "code",
   "execution_count": 2,
   "metadata": {},
   "outputs": [],
   "source": [
    "class taxa_sample(object):\n",
    "    def __init__(self,\n",
    "                 assembly_summary='/work/ncbi_dbs/assembly_summary_refseq.txt'):\n",
    "        \n",
    "        header = 'assembly_accession bioproject biosample wgs_master refseq_category\\\n",
    "          taxid species_taxid organism_name infraspecific_name isolate version_status\\\n",
    "          assembly_level release_type genome_rep seq_rel_date asm_name submitter\\\n",
    "          gbrs_paired_asm paired_asm_comp ftp_path excluded_from_refseq relation_to_type_material'.split()\n",
    "        self.assembly_summary = pd.read_table(assembly_summary,\n",
    "                                         comment='#', header=None, names=header,\n",
    "                                         dtype={'taxid':str, 'infraspecific_name':str})\n",
    "        self.assembly_summary['refseq_category']  = self.assembly_summary['refseq_category'].str.lower()\n",
    "        self.assembly_summary['assembly_level']   = self.assembly_summary['assembly_level'].str.lower()\n",
    "        self.assembly_summary['genome_rep']       = self.assembly_summary['genome_rep'].str.lower()\n",
    "        self.assembly_summary.set_index('assembly_accession', inplace=True)\n",
    "        self.genome_taxids = None"
   ]
  },
  {
   "cell_type": "code",
   "execution_count": 37,
   "metadata": {},
   "outputs": [],
   "source": [
    "%%add_to taxa_sample\n",
    "def download_genome(self, accession_numbers, destination_folder='.'):\n",
    "    ncbi_ftp = ftp.FTP('ftp.ncbi.nlm.nih.gov')\n",
    "    ncbi_ftp.login()\n",
    "    succesful_download = []\n",
    "    for index, row in self.assembly_summary.loc[accession_numbers].iterrows():\n",
    "        ncbi_ftp.cwd('/')\n",
    "        path = row['ftp_path'].replace('ftp://ftp.ncbi.nlm.nih.gov/', '')\n",
    "        try:\n",
    "            ncbi_ftp.cwd(path)\n",
    "        except:\n",
    "            continue\n",
    "        assembly_files = ncbi_ftp.nlst()\n",
    "        for assembly_file in assembly_files:\n",
    "            if assembly_file.endswith('protein.faa.gz'):\n",
    "                handle = open('%s/%s.gz' % (destination_folder, index), 'wb')\n",
    "                ncbi_ftp.retrbinary(\"RETR %s\" % assembly_file, handle.write)\n",
    "                succesful_download.append(index)\n",
    "    ncbi_ftp.quit()\n",
    "    return succesful_download"
   ]
  },
  {
   "cell_type": "code",
   "execution_count": 4,
   "metadata": {},
   "outputs": [],
   "source": [
    "%%add_to taxa_sample\n",
    "def prune_taxa(self, accession_numbers, assembly_level='contig', genome_rep='partial'):\n",
    "    tmp_df = self.assembly_summary.loc[accession_numbers,\n",
    "                                       'assembly_level genome_rep'.split()].copy()\n",
    "    tmp_df = tmp_df[(tmp_df.assembly_level != assembly_level) &\n",
    "                    (tmp_df.genome_rep     != genome_rep)]\n",
    "\n",
    "    return tmp_df.index.tolist()"
   ]
  },
  {
   "cell_type": "code",
   "execution_count": 5,
   "metadata": {},
   "outputs": [],
   "source": [
    "%%add_to taxa_sample\n",
    "def genomes_from_taxon(self, target_taxon):\n",
    "    if not self.genome_taxids:\n",
    "        self.genome_taxids = ','.join(set(self.assembly_summary.taxid.tolist()))\n",
    "    query  = ncbi.db.execute(\"SELECT taxid FROM species WHERE taxid IN (%s) AND \\\n",
    "                             ',' || track || ',' like '%%,%s,%%';\" %\n",
    "                             (self.genome_taxids, target_taxon))\n",
    "    found_taxids = [str(x[0]) for x in query.fetchall()]\n",
    "    return self.assembly_summary.index[\n",
    "        self.assembly_summary.taxid.isin(found_taxids)\n",
    "    ].tolist()"
   ]
  },
  {
   "cell_type": "code",
   "execution_count": 40,
   "metadata": {},
   "outputs": [
    {
     "name": "stdout",
     "output_type": "stream",
     "text": [
      "/work/index_hgt\n"
     ]
    },
    {
     "name": "stderr",
     "output_type": "stream",
     "text": [
      "/Users/thiberio/anaconda2/envs/py37/lib/python3.7/site-packages/IPython/core/interactiveshell.py:3185: DtypeWarning: Columns (20) have mixed types. Specify dtype option on import or set low_memory=False.\n",
      "  if (yield from self.run_code(code, result)):\n"
     ]
    }
   ],
   "source": [
    "import os\n",
    "import shutil\n",
    "import subprocess\n",
    "import re\n",
    "\n",
    "genome_sample = taxa_sample()\n",
    "%cd /work/index_hgt"
   ]
  },
  {
   "cell_type": "code",
   "execution_count": 11,
   "metadata": {},
   "outputs": [],
   "source": [
    "os.mkdir('taxa')\n",
    "taxa = dict(thermoplasmatales='2301', methanomassiliicocales='1235850',\n",
    "            sulfolobales     ='2281', desulforococales      ='114380',\n",
    "            thermoproteales  ='2266')"
   ]
  },
  {
   "cell_type": "code",
   "execution_count": 64,
   "metadata": {},
   "outputs": [],
   "source": [
    "with cd('taxa'):\n",
    "    for taxon_name, taxid in taxa.items():\n",
    "        os.mkdir(taxon_name)\n",
    "        \n",
    "        genome_accessions  = genome_sample.genomes_from_taxon(taxid)\n",
    "        pruned_genomes     = genome_sample.prune_taxa(genome_accessions)\n",
    "        downloaded_genomes = genome_sample.download_genome(pruned_genomes, destination_folder=taxon_name)\n",
    "        for genome in downloaded_genomes:\n",
    "            subprocess.call(['gunzip', '%s/%s.gz' % (taxon_name, genome)])\n",
    "        \n",
    "            \n",
    "            fasta = open('%s/%s' % (taxon_name, genome)).readlines()\n",
    "            out   = open('../genomes/%s.faa' % genome, 'w')\n",
    "            for line in fasta:\n",
    "                if line.startswith('>'):\n",
    "                    sequence_acc = re.search('^>(\\S+)', line, re.M).group(1)\n",
    "                    organism     = genome_sample.assembly_summary.loc[genome,\n",
    "                                                                      'organism_name']\n",
    "                    strain = ''\n",
    "                    if pd.notnull(genome_sample.assembly_summary.loc[genome,\n",
    "                                                                     'infraspecific_name']):\n",
    "                        strain  = genome_sample.assembly_summary.loc[genome,\n",
    "                                                                     'infraspecific_name'].replace('strain=',\n",
    "                                                                                                   '')\n",
    "                    if not organism.endswith(strain):\n",
    "                        organism = '%s %s' % (organism, strain)\n",
    "                    new_header   = '>%s|%s [%s]\\n' % (sequence_acc, genome, organism)\n",
    "                    \n",
    "                    out.write(new_header)\n",
    "                else:\n",
    "                    out.write(line)\n",
    "            out.close()"
   ]
  }
 ],
 "metadata": {
  "kernelspec": {
   "display_name": "Python 3",
   "language": "python",
   "name": "python3"
  },
  "language_info": {
   "codemirror_mode": {
    "name": "ipython",
    "version": 3
   },
   "file_extension": ".py",
   "mimetype": "text/x-python",
   "name": "python",
   "nbconvert_exporter": "python",
   "pygments_lexer": "ipython3",
   "version": "3.7.1"
  }
 },
 "nbformat": 4,
 "nbformat_minor": 2
}
