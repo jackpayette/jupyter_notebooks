{
 "cells": [
  {
   "cell_type": "code",
   "execution_count": 46,
   "metadata": {},
   "outputs": [
    {
     "name": "stdout",
     "output_type": "stream",
     "text": [
      "/Sites/reconcile\n"
     ]
    }
   ],
   "source": [
    "import ete3\n",
    "import re\n",
    "import pickle as pkl\n",
    "import collections\n",
    "import subprocess\n",
    "\n",
    "%cd /Sites/reconcile/"
   ]
  },
  {
   "cell_type": "code",
   "execution_count": 2,
   "metadata": {},
   "outputs": [
    {
     "name": "stdout",
     "output_type": "stream",
     "text": [
      "\u001b[1m\u001b[36mexample\u001b[m\u001b[m/      ranger.input\r\n"
     ]
    }
   ],
   "source": [
    "%ls"
   ]
  },
  {
   "cell_type": "code",
   "execution_count": 22,
   "metadata": {},
   "outputs": [],
   "source": [
    "ranger  = open('example/ranger.output.1').readlines()\n",
    "species = ete3.Tree(ranger[4], format=1)\n",
    "gene    = ete3.Tree(ranger[7], format=1)\n",
    "gene_brLen = ete3.Tree('/Users/thiberio/Downloads/haitao/gene.tre')"
   ]
  },
  {
   "cell_type": "code",
   "execution_count": 18,
   "metadata": {},
   "outputs": [],
   "source": [
    "transfers    = re.findall('^.*: Transfer,.*$', '\\n'.join(ranger), re.M)\n",
    "duplications = re.findall('^.*: Duplication,.*$', '\\n'.join(ranger), re.M)"
   ]
  },
  {
   "cell_type": "code",
   "execution_count": 49,
   "metadata": {},
   "outputs": [],
   "source": [
    "pair = []\n",
    "for t in transfers:\n",
    "    donor, recipient = re.search('Transfer, Mapping --> (\\S+), Recipient --> (\\S+)', t).groups()\n",
    "    pair.append(frozenset([donor, recipient]))"
   ]
  },
  {
   "cell_type": "code",
   "execution_count": 50,
   "metadata": {},
   "outputs": [
    {
     "data": {
      "text/plain": [
       "Counter({frozenset({'SAR202clusterbacteriumIo17ChloroG1',\n",
       "                    'SAR202clusterbacteriumIo17ChloroG3'}): 1,\n",
       "         frozenset({'SAR202clusterbacteriumCaspChloroG2',\n",
       "                    'SAR202clusterbacteriumMPSIndSRR3963457G1'}): 1,\n",
       "         frozenset({'SAR202clusterbacteriumAe2ChloroG2', 'n3'}): 1,\n",
       "         frozenset({'SAR202clusterbacteriumIo17ChloroG6', 'n10'}): 1,\n",
       "         frozenset({'SAR202clusterbacteriumCaspChloroG3', 'n8'}): 1,\n",
       "         frozenset({'SAR202clusterbacteriumCaspChloroG2',\n",
       "                    'SAR202clusterbacteriumIo17ChloroG6'}): 1,\n",
       "         frozenset({'SAR202clusterbacteriumIo17ChloroG5',\n",
       "                    'SAR202clusterbacteriumMPSIndSRR3963457G1'}): 1,\n",
       "         frozenset({'SAR202clusterbacteriumCaspChloroG2',\n",
       "                    'SAR202clusterbacteriumIo17ChloroG5'}): 1,\n",
       "         frozenset({'SAR202clusterbacteriumIo17ChloroG9', 'n10'}): 1,\n",
       "         frozenset({'n6', 'n7'}): 1,\n",
       "         frozenset({'SAR202clusterbacteriumCaspChloroG3', 'n5'}): 1})"
      ]
     },
     "execution_count": 50,
     "metadata": {},
     "output_type": "execute_result"
    }
   ],
   "source": [
    "collections.Counter(pair)"
   ]
  },
  {
   "cell_type": "code",
   "execution_count": 28,
   "metadata": {},
   "outputs": [],
   "source": [
    "for t in transfers:\n",
    "    node_name, descendant1, descendant2 = re.search('^(\\S+) = LCA\\[(\\S+), (\\S+)\\]', t, re.M).groups()\n",
    "    equivalent_node = gene_brLen.get_common_ancestor(descendant1, descendant2)\n",
    "    equivalent_node.add_feature('rangerID', node_name)"
   ]
  },
  {
   "cell_type": "code",
   "execution_count": 37,
   "metadata": {},
   "outputs": [],
   "source": [
    "out = open('yeah.pkl', 'wb')\n",
    "pkl.dump(gene_brLen, out)\n",
    "out.close()"
   ]
  },
  {
   "cell_type": "code",
   "execution_count": 38,
   "metadata": {},
   "outputs": [
    {
     "data": {
      "text/plain": [
       "Tree node '' (-0x7fffffffee373ed9)"
      ]
     },
     "execution_count": 38,
     "metadata": {},
     "output_type": "execute_result"
    }
   ],
   "source": [
    "for loop in range(10):\n",
    "    subprocess.call(['/work/ranger/CorePrograms/Ranger-DTL.mac',\n",
    "                     '-i',\n",
    "                     'ranger.input',\n",
    "                     '-o',\n",
    "                     'reconciliations/ranger.output.%i' % (loop+1), \n",
    "                     '--seed',\n",
    "                     str(loop+1)\n",
    "                    ])\n",
    "aggregate = subprocess.getoutput('/work/ranger/CorePrograms/AggregateRanger.mac reconciliations/ranger.output.')\n",
    "out = open('aggregated.ranger', 'w')\n",
    "out.write(aggregate)\n",
    "out.close()"
   ]
  }
 ],
 "metadata": {
  "kernelspec": {
   "display_name": "Python 3",
   "language": "python",
   "name": "python3"
  },
  "language_info": {
   "codemirror_mode": {
    "name": "ipython",
    "version": 3
   },
   "file_extension": ".py",
   "mimetype": "text/x-python",
   "name": "python",
   "nbconvert_exporter": "python",
   "pygments_lexer": "ipython3",
   "version": "3.7.1"
  }
 },
 "nbformat": 4,
 "nbformat_minor": 2
}
