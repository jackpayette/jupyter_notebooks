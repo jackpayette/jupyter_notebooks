{
 "cells": [
  {
   "cell_type": "code",
   "execution_count": 4,
   "metadata": {},
   "outputs": [],
   "source": [
    "import subprocess\n",
    "import re\n",
    "import ete3"
   ]
  },
  {
   "cell_type": "code",
   "execution_count": 2,
   "metadata": {},
   "outputs": [
    {
     "name": "stdout",
     "output_type": "stream",
     "text": [
      "/Users/thiberio/yeah/yeah4\n"
     ]
    }
   ],
   "source": [
    "\n",
    "#%cd ~/yeah/yeah4/"
   ]
  },
  {
   "cell_type": "code",
   "execution_count": 34,
   "metadata": {},
   "outputs": [],
   "source": [
    "with open('std.out', 'w') as std_out:\n",
    "    subprocess.call(\n",
    "        ['python',\n",
    "        '/work/mad.py',\n",
    "        '-tsg',\n",
    "        '57016_ABW30927.1-GCA_000018105.1.treefile'], \n",
    "        stdout=std_out\n",
    "    )"
   ]
  },
  {
   "cell_type": "code",
   "execution_count": 30,
   "metadata": {},
   "outputs": [],
   "source": [
    "newick = open('57016_ABW30927.1-GCA_000018105.1.treefile.rooted').read()"
   ]
  },
  {
   "cell_type": "code",
   "execution_count": 31,
   "metadata": {},
   "outputs": [
    {
     "name": "stdout",
     "output_type": "stream",
     "text": [
      "((PSB32981.1_GCA_003003885.1:0.507798026,((ACZ39882.1_GCA_000024985.1:0.604841127,CCF83402.1_GCA_000297255.1:0.384052338):0.282424699,ACB27450.1_GCA_000019725.1:1.45610661):0.581803410):0.149472961,((((AFY76547.1_GCA_000317025.1:0.234772520,((((AFY87118.1_GCA_000317125.1:1.00310000e-06,PSM46710.1_GCA_003015105.1:1.00310000e-06):1.00310000e-06,PSB42647.1_GCA_003004015.1:1.00310000e-06):0.121432339,(PSB57534.1_GCA_003003845.1:0.367775676,(AFY29640.1_GCA_000316515.1:0.0454825854,PSB39409.1_GCA_003003925.1:2.16600000e-06):1.27580062):0.244477294):0.0711194479,(PSB00580.1_GCA_003003775.1:0.145941781,PSB25585.1_GCA_003003795.1:0.243458776):0.0795190600):0.448196435):0.117744378,((PSB08391.1_GCA_003003615.1:1.00310000e-06,PSB60355.1_GCA_003003915.1:1.00310000e-06):0.0904718960,EKU99987.1_GCA_000316115.1:0.675574605):0.198765188):0.0944480532,(BAI90761.1_GCA_000210375.1:2.70430000e-06,AMW28718.1_GCA_001611905.1:2.10830000e-06):0.419962577):0.107526705,(ABW30927.1_GCA_000018105.1:0.895921159,EDX72638.1_GCA_000155555.1:0.188134373):0.0758633839):0.411762232)[MAD=0.433_AI=0.992_CCV=42.4%_N=1/1];\n",
      "\n",
      "\n"
     ]
    }
   ],
   "source": [
    "print(newick)"
   ]
  },
  {
   "cell_type": "code",
   "execution_count": 2,
   "metadata": {},
   "outputs": [],
   "source": [
    "newick=\"((PSB32981.1_GCA_003003885.1:0.507798026,((ACZ39882.1_GCA_000024985.1:0.604841127,CCF83402.1_GCA_000297255.1:0.384052338):0.282424699,ACB27450.1_GCA_000019725.1:1.45610661):0.581803410):0.149472961,((((AFY76547.1_GCA_000317025.1:0.234772520,((((AFY87118.1_GCA_000317125.1:1.00310000e-06,PSM46710.1_GCA_003015105.1:1.00310000e-06):1.00310000e-06,PSB42647.1_GCA_003004015.1:1.00310000e-06):0.121432339,(PSB57534.1_GCA_003003845.1:0.367775676,(AFY29640.1_GCA_000316515.1:0.0454825854,PSB39409.1_GCA_003003925.1:2.16600000e-06):1.27580062):0.244477294):0.0711194479,(PSB00580.1_GCA_003003775.1:0.145941781,PSB25585.1_GCA_003003795.1:0.243458776):0.0795190600):0.448196435):0.117744378,((PSB08391.1_GCA_003003615.1:1.00310000e-06,PSB60355.1_GCA_003003915.1:1.00310000e-06):0.0904718960,EKU99987.1_GCA_000316115.1:0.675574605):0.198765188):0.0944480532,(BAI90761.1_GCA_000210375.1:2.70430000e-06,AMW28718.1_GCA_001611905.1:2.10830000e-06):0.419962577):0.107526705,(ABW30927.1_GCA_000018105.1:0.895921159,EDX72638.1_GCA_000155555.1:0.188134373):0.0758633839):0.411762232)[MAD=0.433_AI=0.992_CCV=42.4%_N=1/1];\""
   ]
  },
  {
   "cell_type": "code",
   "execution_count": 5,
   "metadata": {},
   "outputs": [],
   "source": [
    "tree = ete3.Tree(newick, format=1)"
   ]
  },
  {
   "cell_type": "code",
   "execution_count": 60,
   "metadata": {},
   "outputs": [],
   "source": [
    "%cp /work/kelsey/hgt/species_tree-renamed ranger.input\n",
    "\n",
    "edited_newick = tree.write(dist_formatter='%f')\n",
    "handle = open('ranger.input', 'a')\n",
    "handle.write(edited_newick)\n",
    "handle.close()"
   ]
  },
  {
   "cell_type": "code",
   "execution_count": 61,
   "metadata": {},
   "outputs": [
    {
     "data": {
      "text/plain": [
       "1"
      ]
     },
     "execution_count": 61,
     "metadata": {},
     "output_type": "execute_result"
    }
   ],
   "source": [
    "subprocess.call(\n",
    "[\n",
    "    '/work/ranger/CorePrograms/Ranger-DTL.mac',\n",
    "    '-i', 'ranger.input',\n",
    "    '-o', 'ranger.output'\n",
    "])"
   ]
  }
 ],
 "metadata": {
  "kernelspec": {
   "display_name": "Python 3",
   "language": "python",
   "name": "python3"
  },
  "language_info": {
   "codemirror_mode": {
    "name": "ipython",
    "version": 3
   },
   "file_extension": ".py",
   "mimetype": "text/x-python",
   "name": "python",
   "nbconvert_exporter": "python",
   "pygments_lexer": "ipython3",
   "version": "3.5.6"
  }
 },
 "nbformat": 4,
 "nbformat_minor": 2
}
