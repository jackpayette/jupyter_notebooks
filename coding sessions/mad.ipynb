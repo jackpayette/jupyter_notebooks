{
 "cells": [
  {
   "cell_type": "code",
   "execution_count": 2,
   "metadata": {},
   "outputs": [],
   "source": [
    "import subprocess\n",
    "import re\n",
    "import ete3"
   ]
  },
  {
   "cell_type": "code",
   "execution_count": 3,
   "metadata": {},
   "outputs": [
    {
     "name": "stdout",
     "output_type": "stream",
     "text": [
      "/Users/thiberio/yeah/yeah4\n"
     ]
    }
   ],
   "source": [
    "%cd ~/yeah/yeah4/"
   ]
  },
  {
   "cell_type": "code",
   "execution_count": 34,
   "metadata": {},
   "outputs": [],
   "source": [
    "#mad's url: https://www.mikrobio.uni-kiel.de/de/ag-dagan/ressourcen\n",
    "with open('std.out', 'w') as std_out:\n",
    "    subprocess.call(\n",
    "        ['python',\n",
    "        '/work/mad.py',\n",
    "        '-tsg',\n",
    "        '57016_ABW30927.1-GCA_000018105.1.treefile'], \n",
    "        stdout=std_out\n",
    "    )"
   ]
  },
  {
   "cell_type": "code",
   "execution_count": 11,
   "metadata": {},
   "outputs": [],
   "source": [
    "newick = open(\n",
    "    '57016_ABW30927.1-GCA_000018105.1.treefile.rooted'\n",
    ").read()"
   ]
  },
  {
   "cell_type": "code",
   "execution_count": 12,
   "metadata": {},
   "outputs": [
    {
     "name": "stdout",
     "output_type": "stream",
     "text": [
      "((PSB32981.1_GCA_003003885.1:0.507798026,((ACZ39882.1_GCA_000024985.1:0.604841127,CCF83402.1_GCA_000297255.1:0.384052338):0.282424699,ACB27450.1_GCA_000019725.1:1.45610661):0.581803410):0.149472961,((((AFY76547.1_GCA_000317025.1:0.234772520,((((AFY87118.1_GCA_000317125.1:1.00310000e-06,PSM46710.1_GCA_003015105.1:1.00310000e-06):1.00310000e-06,PSB42647.1_GCA_003004015.1:1.00310000e-06):0.121432339,(PSB57534.1_GCA_003003845.1:0.367775676,(AFY29640.1_GCA_000316515.1:0.0454825854,PSB39409.1_GCA_003003925.1:2.16600000e-06):1.27580062):0.244477294):0.0711194479,(PSB00580.1_GCA_003003775.1:0.145941781,PSB25585.1_GCA_003003795.1:0.243458776):0.0795190600):0.448196435):0.117744378,((PSB08391.1_GCA_003003615.1:1.00310000e-06,PSB60355.1_GCA_003003915.1:1.00310000e-06):0.0904718960,EKU99987.1_GCA_000316115.1:0.675574605):0.198765188):0.0944480532,(BAI90761.1_GCA_000210375.1:2.70430000e-06,AMW28718.1_GCA_001611905.1:2.10830000e-06):0.419962577):0.107526705,(ABW30927.1_GCA_000018105.1:0.895921159,EDX72638.1_GCA_000155555.1:0.188134373):0.0758633839):0.411762232);\n",
      "\n",
      "\n"
     ]
    }
   ],
   "source": [
    "print(newick)"
   ]
  },
  {
   "cell_type": "code",
   "execution_count": 34,
   "metadata": {},
   "outputs": [],
   "source": [
    "tree = ete3.Tree(newick, format=0)"
   ]
  },
  {
   "cell_type": "code",
   "execution_count": 14,
   "metadata": {},
   "outputs": [],
   "source": [
    "someone = ['chris', 'jack']\n",
    "degree_of_suckness = [6, 1]"
   ]
  },
  {
   "cell_type": "code",
   "execution_count": 16,
   "metadata": {},
   "outputs": [
    {
     "name": "stdout",
     "output_type": "stream",
     "text": [
      "1\n",
      "4\n",
      "9\n",
      "16\n",
      "4\n"
     ]
    }
   ],
   "source": [
    "a = [1,2,3,4]\n",
    "for element in a:\n",
    "    print(element**2)\n",
    "print(element)"
   ]
  },
  {
   "cell_type": "code",
   "execution_count": 18,
   "metadata": {},
   "outputs": [
    {
     "data": {
      "text/plain": [
       "'yeahhell'"
      ]
     },
     "execution_count": 18,
     "metadata": {},
     "output_type": "execute_result"
    }
   ],
   "source": [
    " 'yeah'+'hell'"
   ]
  },
  {
   "cell_type": "code",
   "execution_count": 19,
   "metadata": {},
   "outputs": [
    {
     "ename": "TypeError",
     "evalue": "can only concatenate str (not \"int\") to str",
     "output_type": "error",
     "traceback": [
      "\u001b[0;31m---------------------------------------------------------------------------\u001b[0m",
      "\u001b[0;31mTypeError\u001b[0m                                 Traceback (most recent call last)",
      "\u001b[0;32m<ipython-input-19-6bcffd1ace48>\u001b[0m in \u001b[0;36m<module>\u001b[0;34m\u001b[0m\n\u001b[0;32m----> 1\u001b[0;31m \u001b[0;34m'yeah'\u001b[0m\u001b[0;34m+\u001b[0m\u001b[0;36m2\u001b[0m\u001b[0;34m\u001b[0m\u001b[0;34m\u001b[0m\u001b[0m\n\u001b[0m",
      "\u001b[0;31mTypeError\u001b[0m: can only concatenate str (not \"int\") to str"
     ]
    }
   ],
   "source": [
    " 'yeah'+2"
   ]
  },
  {
   "cell_type": "code",
   "execution_count": 17,
   "metadata": {},
   "outputs": [
    {
     "name": "stdout",
     "output_type": "stream",
     "text": [
      "chris suck just a little (6)\n",
      "jack suck just a little (1)\n"
     ]
    }
   ],
   "source": [
    "for yeah, si in zip(someone, degree_of_suckness):\n",
    "    print(yeah+' suck just a little ('+str(si)+')')"
   ]
  },
  {
   "cell_type": "code",
   "execution_count": 52,
   "metadata": {},
   "outputs": [
    {
     "name": "stdout",
     "output_type": "stream",
     "text": [
      "chris suck just a little (6)\n",
      "jack suck just a little (1)\n"
     ]
    }
   ],
   "source": [
    "for yeah, si in zip(someone, degree_of_suckness):\n",
    "    print('%s suck just a little (%i)' % (yeah, si))"
   ]
  },
  {
   "cell_type": "code",
   "execution_count": 54,
   "metadata": {},
   "outputs": [
    {
     "name": "stdout",
     "output_type": "stream",
     "text": [
      "chris suck just a little (6)\n",
      "jack suck just a little (1)\n"
     ]
    }
   ],
   "source": [
    "for yeah, si in zip(someone, degree_of_suckness):\n",
    "    print('{pink} suck just a little ({elephant})'.format(\n",
    "        pink=yeah, elephant=si)\n",
    "         )"
   ]
  },
  {
   "cell_type": "code",
   "execution_count": 20,
   "metadata": {},
   "outputs": [
    {
     "data": {
      "text/plain": [
       "'((PSB32981.1_GCA_003003885.1:0.507798,((ACZ39882.1_GCA_000024985.1:0.604841,CCF83402.1_GCA_000297255.1:0.384052)1:0.282425,ACB27450.1_GCA_000019725.1:1.45611)1:0.581803)1:0.149473,((((AFY76547.1_GCA_000317025.1:0.234773,((((AFY87118.1_GCA_000317125.1:1.0031e-06,PSM46710.1_GCA_003015105.1:1.0031e-06)1:1.0031e-06,PSB42647.1_GCA_003004015.1:1.0031e-06)1:0.121432,(PSB57534.1_GCA_003003845.1:0.367776,(AFY29640.1_GCA_000316515.1:0.0454826,PSB39409.1_GCA_003003925.1:2.166e-06)1:1.2758)1:0.244477)1:0.0711194,(PSB00580.1_GCA_003003775.1:0.145942,PSB25585.1_GCA_003003795.1:0.243459)1:0.0795191)1:0.448196)1:0.117744,((PSB08391.1_GCA_003003615.1:1.0031e-06,PSB60355.1_GCA_003003915.1:1.0031e-06)1:0.0904719,EKU99987.1_GCA_000316115.1:0.675575)1:0.198765)1:0.0944481,(BAI90761.1_GCA_000210375.1:2.7043e-06,AMW28718.1_GCA_001611905.1:2.1083e-06)1:0.419963)1:0.107527,(ABW30927.1_GCA_000018105.1:0.895921,EDX72638.1_GCA_000155555.1:0.188134)1:0.0758634)1:0.411762);'"
      ]
     },
     "execution_count": 20,
     "metadata": {},
     "output_type": "execute_result"
    }
   ],
   "source": [
    "tree.write()"
   ]
  },
  {
   "cell_type": "code",
   "execution_count": 22,
   "metadata": {},
   "outputs": [
    {
     "data": {
      "text/plain": [
       "'((PSB32981.1_GCA_003003885.1:0.5077980260,((ACZ39882.1_GCA_000024985.1:0.6048411270,CCF83402.1_GCA_000297255.1:0.3840523380)1:0.2824246990,ACB27450.1_GCA_000019725.1:1.4561066100)1:0.5818034100)1:0.1494729610,((((AFY76547.1_GCA_000317025.1:0.2347725200,((((AFY87118.1_GCA_000317125.1:0.0000010031,PSM46710.1_GCA_003015105.1:0.0000010031)1:0.0000010031,PSB42647.1_GCA_003004015.1:0.0000010031)1:0.1214323390,(PSB57534.1_GCA_003003845.1:0.3677756760,(AFY29640.1_GCA_000316515.1:0.0454825854,PSB39409.1_GCA_003003925.1:0.0000021660)1:1.2758006200)1:0.2444772940)1:0.0711194479,(PSB00580.1_GCA_003003775.1:0.1459417810,PSB25585.1_GCA_003003795.1:0.2434587760)1:0.0795190600)1:0.4481964350)1:0.1177443780,((PSB08391.1_GCA_003003615.1:0.0000010031,PSB60355.1_GCA_003003915.1:0.0000010031)1:0.0904718960,EKU99987.1_GCA_000316115.1:0.6755746050)1:0.1987651880)1:0.0944480532,(BAI90761.1_GCA_000210375.1:0.0000027043,AMW28718.1_GCA_001611905.1:0.0000021083)1:0.4199625770)1:0.1075267050,(ABW30927.1_GCA_000018105.1:0.8959211590,EDX72638.1_GCA_000155555.1:0.1881343730)1:0.0758633839)1:0.4117622320);'"
      ]
     },
     "execution_count": 22,
     "metadata": {},
     "output_type": "execute_result"
    }
   ],
   "source": [
    "tree.write(dist_formatter='%.10f')"
   ]
  },
  {
   "cell_type": "code",
   "execution_count": 35,
   "metadata": {
    "scrolled": false
   },
   "outputs": [
    {
     "name": "stdout",
     "output_type": "stream",
     "text": [
      "GCA003003885_PSB32981 PSB32981 GCA003003885\n",
      "GCA000024985_ACZ39882 ACZ39882 GCA000024985\n",
      "GCA000297255_CCF83402 CCF83402 GCA000297255\n",
      "GCA000019725_ACB27450 ACB27450 GCA000019725\n",
      "GCA000317025_AFY76547 AFY76547 GCA000317025\n",
      "GCA000317125_AFY87118 AFY87118 GCA000317125\n",
      "GCA003015105_PSM46710 PSM46710 GCA003015105\n",
      "GCA003004015_PSB42647 PSB42647 GCA003004015\n",
      "GCA003003845_PSB57534 PSB57534 GCA003003845\n",
      "GCA000316515_AFY29640 AFY29640 GCA000316515\n",
      "GCA003003925_PSB39409 PSB39409 GCA003003925\n",
      "GCA003003775_PSB00580 PSB00580 GCA003003775\n",
      "GCA003003795_PSB25585 PSB25585 GCA003003795\n",
      "GCA003003615_PSB08391 PSB08391 GCA003003615\n",
      "GCA003003915_PSB60355 PSB60355 GCA003003915\n",
      "GCA000316115_EKU99987 EKU99987 GCA000316115\n",
      "GCA000210375_BAI90761 BAI90761 GCA000210375\n",
      "GCA001611905_AMW28718 AMW28718 GCA001611905\n",
      "GCA000018105_ABW30927 ABW30927 GCA000018105\n",
      "GCA000155555_EDX72638 EDX72638 GCA000155555\n"
     ]
    }
   ],
   "source": [
    "for leaf in tree.get_leaves():\n",
    "    gene, genome = re.search('^(.*)_(GCA_.*)$', \n",
    "                             leaf.name,\n",
    "                             re.M).groups()\n",
    "    gene   = gene.split('.')[0]\n",
    "    genome = genome.split('.')[0]\n",
    "    genome = genome.replace('_', '')\n",
    "    leaf.name = '%s_%s' % (genome, gene)\n",
    "    print(leaf.name, gene, genome)"
   ]
  },
  {
   "cell_type": "code",
   "execution_count": 42,
   "metadata": {},
   "outputs": [],
   "source": [
    "%cp /work/kelsey/hgt/species_tree-renamed ranger.input\n",
    "\n",
    "edited_newick = tree.write(dist_formatter='%.10f',\n",
    "                           format=5)\n",
    "handle = open('ranger.input', 'a')\n",
    "handle.write(edited_newick)\n",
    "handle.close()"
   ]
  },
  {
   "cell_type": "code",
   "execution_count": 52,
   "metadata": {
    "scrolled": true
   },
   "outputs": [
    {
     "name": "stdout",
     "output_type": "stream",
     "text": [
      "0\n",
      "0\n",
      "0\n",
      "0\n",
      "0\n",
      "0\n",
      "0\n",
      "0\n",
      "0\n",
      "0\n",
      "0\n",
      "0\n",
      "0\n",
      "0\n",
      "0\n",
      "0\n",
      "0\n",
      "0\n",
      "0\n",
      "0\n",
      "0\n",
      "0\n",
      "0\n",
      "0\n",
      "0\n",
      "0\n",
      "0\n",
      "0\n",
      "0\n",
      "0\n",
      "0\n",
      "0\n",
      "0\n",
      "0\n",
      "0\n",
      "0\n",
      "0\n",
      "0\n",
      "0\n",
      "0\n",
      "0\n",
      "0\n",
      "0\n",
      "0\n",
      "0\n",
      "0\n",
      "0\n",
      "0\n",
      "0\n",
      "0\n",
      "0\n",
      "0\n",
      "0\n",
      "0\n",
      "0\n",
      "0\n",
      "0\n",
      "0\n",
      "0\n",
      "0\n",
      "0\n",
      "0\n",
      "0\n",
      "0\n",
      "0\n",
      "0\n",
      "0\n",
      "0\n",
      "0\n",
      "0\n",
      "0\n",
      "0\n",
      "0\n",
      "0\n",
      "0\n",
      "0\n",
      "0\n",
      "0\n",
      "0\n",
      "0\n",
      "0\n",
      "0\n",
      "0\n",
      "0\n",
      "0\n",
      "0\n",
      "0\n",
      "0\n",
      "0\n",
      "0\n",
      "0\n",
      "0\n",
      "0\n",
      "0\n",
      "0\n",
      "0\n",
      "0\n",
      "0\n",
      "0\n",
      "0\n"
     ]
    }
   ],
   "source": [
    "for _ in range(100):\n",
    "    print(\n",
    "        subprocess.call(\n",
    "        [\n",
    "            '/work/ranger/CorePrograms/Ranger-DTL.mac',\n",
    "            '-i', 'ranger.input',\n",
    "            '-o', 'ranger.output%i' % _,\n",
    "            '--seed', str(_),\n",
    "        ]\n",
    "    )\n",
    "    )"
   ]
  },
  {
   "cell_type": "code",
   "execution_count": 54,
   "metadata": {},
   "outputs": [],
   "source": [
    "with open('ranger.aggregate', 'w') as stdout:\n",
    "    subprocess.call(\n",
    "    [\n",
    "        '/work/ranger/CorePrograms/AggregateRanger.mac',\n",
    "        'ranger.output'],\n",
    "    stdout=stdout)"
   ]
  }
 ],
 "metadata": {
  "kernelspec": {
   "display_name": "Python 3",
   "language": "python",
   "name": "python3"
  },
  "language_info": {
   "codemirror_mode": {
    "name": "ipython",
    "version": 3
   },
   "file_extension": ".py",
   "mimetype": "text/x-python",
   "name": "python",
   "nbconvert_exporter": "python",
   "pygments_lexer": "ipython3",
   "version": "3.7.1"
  }
 },
 "nbformat": 4,
 "nbformat_minor": 2
}
