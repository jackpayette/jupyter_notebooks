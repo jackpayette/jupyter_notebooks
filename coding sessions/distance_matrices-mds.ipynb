{
 "cells": [
  {
   "cell_type": "code",
   "execution_count": 77,
   "metadata": {},
   "outputs": [
    {
     "name": "stdout",
     "output_type": "stream",
     "text": [
      "/Users/thiberio/yeah2\n"
     ]
    }
   ],
   "source": [
    "import community\n",
    "import pandas as pd\n",
    "import subprocess\n",
    "import networkx\n",
    "import numpy as np\n",
    "from sklearn import manifold\n",
    "from matplotlib import pyplot as plt\n",
    "import seaborn as sns\n",
    "%cd ~/yeah2/"
   ]
  },
  {
   "cell_type": "code",
   "execution_count": 7,
   "metadata": {},
   "outputs": [
    {
     "name": "stdout",
     "output_type": "stream",
     "text": [
      "2689.aln           2689.aln.ckp.gz    2689.aln.log       2689.aln.treefile\r\n",
      "2689.aln.bionj     2689.aln.iqtree    2689.aln.mldist\r\n"
     ]
    }
   ],
   "source": [
    "subprocess.call([\n",
    "    'iqtree',\n",
    "    '-s', '2689.aln',\n",
    "    '-te', 'BIONJ',\n",
    "    '-m', 'LG+G',\n",
    "    '-safe',\n",
    "    '-keep-ident',\n",
    "    '-redo'\n",
    "])\n",
    "%ls"
   ]
  },
  {
   "cell_type": "code",
   "execution_count": 14,
   "metadata": {},
   "outputs": [],
   "source": [
    "indexes = []\n",
    "values  = []\n",
    "for line in open('2689.aln.mldist').readlines()[1:]:\n",
    "    line = line.split()\n",
    "    indexes.append(line[0])\n",
    "    values.append(line[1:])"
   ]
  },
  {
   "cell_type": "code",
   "execution_count": 68,
   "metadata": {
    "scrolled": true
   },
   "outputs": [
    {
     "data": {
      "text/html": [
       "<div>\n",
       "<style scoped>\n",
       "    .dataframe tbody tr th:only-of-type {\n",
       "        vertical-align: middle;\n",
       "    }\n",
       "\n",
       "    .dataframe tbody tr th {\n",
       "        vertical-align: top;\n",
       "    }\n",
       "\n",
       "    .dataframe thead th {\n",
       "        text-align: right;\n",
       "    }\n",
       "</style>\n",
       "<table border=\"1\" class=\"dataframe\">\n",
       "  <thead>\n",
       "    <tr style=\"text-align: right;\">\n",
       "      <th></th>\n",
       "      <th>AAP99480.1_GCA_000007925.1</th>\n",
       "      <th>AII47128.1_GCA_000737575.1</th>\n",
       "      <th>AIQ96614.1_GCA_000757865.1</th>\n",
       "      <th>AFY30282.1_GCA_000316515.1</th>\n",
       "      <th>PSB38289.1_GCA_003003925.1</th>\n",
       "      <th>BAB77820.1_GCA_000009705.1</th>\n",
       "      <th>AFZ57098.1_GCA_000317695.1</th>\n",
       "      <th>BAU05571.1_GCA_001548455.1</th>\n",
       "      <th>OBQ01871.1_GCA_001672225.1</th>\n",
       "      <th>AFY53708.1_GCA_000316665.1</th>\n",
       "      <th>...</th>\n",
       "      <th>PSB67037.1_GCA_003003915.1</th>\n",
       "      <th>BAD80020.1_GCA_000010065.1</th>\n",
       "      <th>EKV01840.1_GCA_000316115.1</th>\n",
       "      <th>APB34923.1_GCA_001870225.1</th>\n",
       "      <th>ABD03247.1_GCA_000013225.1</th>\n",
       "      <th>EFJ47259.1_GCA_000143455.1</th>\n",
       "      <th>XP_006844190.1_GCF_000471905.2</th>\n",
       "      <th>XP_020522797.1_GCF_000471905.2</th>\n",
       "      <th>XP_020522798.1_GCF_000471905.2</th>\n",
       "      <th>XP_011623282.1_GCF_000471905.2</th>\n",
       "    </tr>\n",
       "  </thead>\n",
       "  <tbody>\n",
       "    <tr>\n",
       "      <th>AAP99480.1_GCA_000007925.1</th>\n",
       "      <td>0.000000</td>\n",
       "      <td>6.011405</td>\n",
       "      <td>5.991475</td>\n",
       "      <td>5.649684</td>\n",
       "      <td>5.663832</td>\n",
       "      <td>4.046559</td>\n",
       "      <td>4.223467</td>\n",
       "      <td>4.080109</td>\n",
       "      <td>4.134615</td>\n",
       "      <td>4.033707</td>\n",
       "      <td>...</td>\n",
       "      <td>3.727787</td>\n",
       "      <td>4.029547</td>\n",
       "      <td>3.205959</td>\n",
       "      <td>4.065983</td>\n",
       "      <td>4.162098</td>\n",
       "      <td>1.450611</td>\n",
       "      <td>1.828092</td>\n",
       "      <td>2.149446</td>\n",
       "      <td>2.149446</td>\n",
       "      <td>1.435621</td>\n",
       "    </tr>\n",
       "    <tr>\n",
       "      <th>AII47128.1_GCA_000737575.1</th>\n",
       "      <td>6.011405</td>\n",
       "      <td>0.000000</td>\n",
       "      <td>6.073829</td>\n",
       "      <td>5.895936</td>\n",
       "      <td>5.881996</td>\n",
       "      <td>4.401680</td>\n",
       "      <td>4.288344</td>\n",
       "      <td>4.445104</td>\n",
       "      <td>4.559332</td>\n",
       "      <td>4.259787</td>\n",
       "      <td>...</td>\n",
       "      <td>4.414867</td>\n",
       "      <td>4.806253</td>\n",
       "      <td>3.771224</td>\n",
       "      <td>4.448671</td>\n",
       "      <td>4.336065</td>\n",
       "      <td>2.564920</td>\n",
       "      <td>2.773505</td>\n",
       "      <td>3.174003</td>\n",
       "      <td>3.174003</td>\n",
       "      <td>2.615690</td>\n",
       "    </tr>\n",
       "    <tr>\n",
       "      <th>AIQ96614.1_GCA_000757865.1</th>\n",
       "      <td>5.991475</td>\n",
       "      <td>6.073829</td>\n",
       "      <td>0.000000</td>\n",
       "      <td>5.703170</td>\n",
       "      <td>5.716814</td>\n",
       "      <td>3.765817</td>\n",
       "      <td>3.903521</td>\n",
       "      <td>3.822337</td>\n",
       "      <td>4.010673</td>\n",
       "      <td>3.955778</td>\n",
       "      <td>...</td>\n",
       "      <td>3.805176</td>\n",
       "      <td>4.058191</td>\n",
       "      <td>3.293591</td>\n",
       "      <td>4.143118</td>\n",
       "      <td>4.080767</td>\n",
       "      <td>1.001860</td>\n",
       "      <td>2.297713</td>\n",
       "      <td>2.664869</td>\n",
       "      <td>2.664869</td>\n",
       "      <td>2.140496</td>\n",
       "    </tr>\n",
       "    <tr>\n",
       "      <th>AFY30282.1_GCA_000316515.1</th>\n",
       "      <td>5.649684</td>\n",
       "      <td>5.895936</td>\n",
       "      <td>5.703170</td>\n",
       "      <td>0.000000</td>\n",
       "      <td>6.646603</td>\n",
       "      <td>4.196409</td>\n",
       "      <td>4.155660</td>\n",
       "      <td>4.165326</td>\n",
       "      <td>4.025646</td>\n",
       "      <td>4.052057</td>\n",
       "      <td>...</td>\n",
       "      <td>4.283671</td>\n",
       "      <td>4.708159</td>\n",
       "      <td>3.904302</td>\n",
       "      <td>4.258833</td>\n",
       "      <td>3.894508</td>\n",
       "      <td>2.537858</td>\n",
       "      <td>2.067922</td>\n",
       "      <td>2.461351</td>\n",
       "      <td>2.461351</td>\n",
       "      <td>1.778575</td>\n",
       "    </tr>\n",
       "    <tr>\n",
       "      <th>PSB38289.1_GCA_003003925.1</th>\n",
       "      <td>5.663832</td>\n",
       "      <td>5.881996</td>\n",
       "      <td>5.716814</td>\n",
       "      <td>6.646603</td>\n",
       "      <td>0.000000</td>\n",
       "      <td>4.182650</td>\n",
       "      <td>4.141953</td>\n",
       "      <td>4.151358</td>\n",
       "      <td>4.011282</td>\n",
       "      <td>4.037542</td>\n",
       "      <td>...</td>\n",
       "      <td>4.270268</td>\n",
       "      <td>4.696538</td>\n",
       "      <td>3.889132</td>\n",
       "      <td>4.267234</td>\n",
       "      <td>3.915085</td>\n",
       "      <td>2.515639</td>\n",
       "      <td>2.066556</td>\n",
       "      <td>2.458732</td>\n",
       "      <td>2.458732</td>\n",
       "      <td>1.777413</td>\n",
       "    </tr>\n",
       "  </tbody>\n",
       "</table>\n",
       "<p>5 rows × 51 columns</p>\n",
       "</div>"
      ],
      "text/plain": [
       "                            AAP99480.1_GCA_000007925.1  \\\n",
       "AAP99480.1_GCA_000007925.1                    0.000000   \n",
       "AII47128.1_GCA_000737575.1                    6.011405   \n",
       "AIQ96614.1_GCA_000757865.1                    5.991475   \n",
       "AFY30282.1_GCA_000316515.1                    5.649684   \n",
       "PSB38289.1_GCA_003003925.1                    5.663832   \n",
       "\n",
       "                            AII47128.1_GCA_000737575.1  \\\n",
       "AAP99480.1_GCA_000007925.1                    6.011405   \n",
       "AII47128.1_GCA_000737575.1                    0.000000   \n",
       "AIQ96614.1_GCA_000757865.1                    6.073829   \n",
       "AFY30282.1_GCA_000316515.1                    5.895936   \n",
       "PSB38289.1_GCA_003003925.1                    5.881996   \n",
       "\n",
       "                            AIQ96614.1_GCA_000757865.1  \\\n",
       "AAP99480.1_GCA_000007925.1                    5.991475   \n",
       "AII47128.1_GCA_000737575.1                    6.073829   \n",
       "AIQ96614.1_GCA_000757865.1                    0.000000   \n",
       "AFY30282.1_GCA_000316515.1                    5.703170   \n",
       "PSB38289.1_GCA_003003925.1                    5.716814   \n",
       "\n",
       "                            AFY30282.1_GCA_000316515.1  \\\n",
       "AAP99480.1_GCA_000007925.1                    5.649684   \n",
       "AII47128.1_GCA_000737575.1                    5.895936   \n",
       "AIQ96614.1_GCA_000757865.1                    5.703170   \n",
       "AFY30282.1_GCA_000316515.1                    0.000000   \n",
       "PSB38289.1_GCA_003003925.1                    6.646603   \n",
       "\n",
       "                            PSB38289.1_GCA_003003925.1  \\\n",
       "AAP99480.1_GCA_000007925.1                    5.663832   \n",
       "AII47128.1_GCA_000737575.1                    5.881996   \n",
       "AIQ96614.1_GCA_000757865.1                    5.716814   \n",
       "AFY30282.1_GCA_000316515.1                    6.646603   \n",
       "PSB38289.1_GCA_003003925.1                    0.000000   \n",
       "\n",
       "                            BAB77820.1_GCA_000009705.1  \\\n",
       "AAP99480.1_GCA_000007925.1                    4.046559   \n",
       "AII47128.1_GCA_000737575.1                    4.401680   \n",
       "AIQ96614.1_GCA_000757865.1                    3.765817   \n",
       "AFY30282.1_GCA_000316515.1                    4.196409   \n",
       "PSB38289.1_GCA_003003925.1                    4.182650   \n",
       "\n",
       "                            AFZ57098.1_GCA_000317695.1  \\\n",
       "AAP99480.1_GCA_000007925.1                    4.223467   \n",
       "AII47128.1_GCA_000737575.1                    4.288344   \n",
       "AIQ96614.1_GCA_000757865.1                    3.903521   \n",
       "AFY30282.1_GCA_000316515.1                    4.155660   \n",
       "PSB38289.1_GCA_003003925.1                    4.141953   \n",
       "\n",
       "                            BAU05571.1_GCA_001548455.1  \\\n",
       "AAP99480.1_GCA_000007925.1                    4.080109   \n",
       "AII47128.1_GCA_000737575.1                    4.445104   \n",
       "AIQ96614.1_GCA_000757865.1                    3.822337   \n",
       "AFY30282.1_GCA_000316515.1                    4.165326   \n",
       "PSB38289.1_GCA_003003925.1                    4.151358   \n",
       "\n",
       "                            OBQ01871.1_GCA_001672225.1  \\\n",
       "AAP99480.1_GCA_000007925.1                    4.134615   \n",
       "AII47128.1_GCA_000737575.1                    4.559332   \n",
       "AIQ96614.1_GCA_000757865.1                    4.010673   \n",
       "AFY30282.1_GCA_000316515.1                    4.025646   \n",
       "PSB38289.1_GCA_003003925.1                    4.011282   \n",
       "\n",
       "                            AFY53708.1_GCA_000316665.1  ...  \\\n",
       "AAP99480.1_GCA_000007925.1                    4.033707  ...   \n",
       "AII47128.1_GCA_000737575.1                    4.259787  ...   \n",
       "AIQ96614.1_GCA_000757865.1                    3.955778  ...   \n",
       "AFY30282.1_GCA_000316515.1                    4.052057  ...   \n",
       "PSB38289.1_GCA_003003925.1                    4.037542  ...   \n",
       "\n",
       "                            PSB67037.1_GCA_003003915.1  \\\n",
       "AAP99480.1_GCA_000007925.1                    3.727787   \n",
       "AII47128.1_GCA_000737575.1                    4.414867   \n",
       "AIQ96614.1_GCA_000757865.1                    3.805176   \n",
       "AFY30282.1_GCA_000316515.1                    4.283671   \n",
       "PSB38289.1_GCA_003003925.1                    4.270268   \n",
       "\n",
       "                            BAD80020.1_GCA_000010065.1  \\\n",
       "AAP99480.1_GCA_000007925.1                    4.029547   \n",
       "AII47128.1_GCA_000737575.1                    4.806253   \n",
       "AIQ96614.1_GCA_000757865.1                    4.058191   \n",
       "AFY30282.1_GCA_000316515.1                    4.708159   \n",
       "PSB38289.1_GCA_003003925.1                    4.696538   \n",
       "\n",
       "                            EKV01840.1_GCA_000316115.1  \\\n",
       "AAP99480.1_GCA_000007925.1                    3.205959   \n",
       "AII47128.1_GCA_000737575.1                    3.771224   \n",
       "AIQ96614.1_GCA_000757865.1                    3.293591   \n",
       "AFY30282.1_GCA_000316515.1                    3.904302   \n",
       "PSB38289.1_GCA_003003925.1                    3.889132   \n",
       "\n",
       "                            APB34923.1_GCA_001870225.1  \\\n",
       "AAP99480.1_GCA_000007925.1                    4.065983   \n",
       "AII47128.1_GCA_000737575.1                    4.448671   \n",
       "AIQ96614.1_GCA_000757865.1                    4.143118   \n",
       "AFY30282.1_GCA_000316515.1                    4.258833   \n",
       "PSB38289.1_GCA_003003925.1                    4.267234   \n",
       "\n",
       "                            ABD03247.1_GCA_000013225.1  \\\n",
       "AAP99480.1_GCA_000007925.1                    4.162098   \n",
       "AII47128.1_GCA_000737575.1                    4.336065   \n",
       "AIQ96614.1_GCA_000757865.1                    4.080767   \n",
       "AFY30282.1_GCA_000316515.1                    3.894508   \n",
       "PSB38289.1_GCA_003003925.1                    3.915085   \n",
       "\n",
       "                            EFJ47259.1_GCA_000143455.1  \\\n",
       "AAP99480.1_GCA_000007925.1                    1.450611   \n",
       "AII47128.1_GCA_000737575.1                    2.564920   \n",
       "AIQ96614.1_GCA_000757865.1                    1.001860   \n",
       "AFY30282.1_GCA_000316515.1                    2.537858   \n",
       "PSB38289.1_GCA_003003925.1                    2.515639   \n",
       "\n",
       "                            XP_006844190.1_GCF_000471905.2  \\\n",
       "AAP99480.1_GCA_000007925.1                        1.828092   \n",
       "AII47128.1_GCA_000737575.1                        2.773505   \n",
       "AIQ96614.1_GCA_000757865.1                        2.297713   \n",
       "AFY30282.1_GCA_000316515.1                        2.067922   \n",
       "PSB38289.1_GCA_003003925.1                        2.066556   \n",
       "\n",
       "                            XP_020522797.1_GCF_000471905.2  \\\n",
       "AAP99480.1_GCA_000007925.1                        2.149446   \n",
       "AII47128.1_GCA_000737575.1                        3.174003   \n",
       "AIQ96614.1_GCA_000757865.1                        2.664869   \n",
       "AFY30282.1_GCA_000316515.1                        2.461351   \n",
       "PSB38289.1_GCA_003003925.1                        2.458732   \n",
       "\n",
       "                            XP_020522798.1_GCF_000471905.2  \\\n",
       "AAP99480.1_GCA_000007925.1                        2.149446   \n",
       "AII47128.1_GCA_000737575.1                        3.174003   \n",
       "AIQ96614.1_GCA_000757865.1                        2.664869   \n",
       "AFY30282.1_GCA_000316515.1                        2.461351   \n",
       "PSB38289.1_GCA_003003925.1                        2.458732   \n",
       "\n",
       "                            XP_011623282.1_GCF_000471905.2  \n",
       "AAP99480.1_GCA_000007925.1                        1.435621  \n",
       "AII47128.1_GCA_000737575.1                        2.615690  \n",
       "AIQ96614.1_GCA_000757865.1                        2.140496  \n",
       "AFY30282.1_GCA_000316515.1                        1.778575  \n",
       "PSB38289.1_GCA_003003925.1                        1.777413  \n",
       "\n",
       "[5 rows x 51 columns]"
      ]
     },
     "execution_count": 68,
     "metadata": {},
     "output_type": "execute_result"
    }
   ],
   "source": [
    "df = pd.DataFrame(index=indexes,\n",
    "                  columns=indexes, \n",
    "                  data=values, \n",
    "                  dtype=float)\n",
    "sim_df = df.max().max() - df\n",
    "np.fill_diagonal(sim_df.values, 0)\n",
    "sim_df.head()"
   ]
  },
  {
   "cell_type": "code",
   "execution_count": 31,
   "metadata": {},
   "outputs": [],
   "source": [
    "g = networkx.Graph()"
   ]
  },
  {
   "cell_type": "code",
   "execution_count": 33,
   "metadata": {},
   "outputs": [
    {
     "name": "stdout",
     "output_type": "stream",
     "text": [
      "[]\n"
     ]
    }
   ],
   "source": [
    "print(g.nodes())"
   ]
  },
  {
   "cell_type": "code",
   "execution_count": 43,
   "metadata": {},
   "outputs": [
    {
     "data": {
      "text/plain": [
       "NodeView(('a', 'b'))"
      ]
     },
     "execution_count": 43,
     "metadata": {},
     "output_type": "execute_result"
    }
   ],
   "source": [
    "g.add_edge('a', 'b', weight=9999999999)\n",
    "g.nodes()"
   ]
  },
  {
   "cell_type": "code",
   "execution_count": 41,
   "metadata": {},
   "outputs": [
    {
     "data": {
      "text/plain": [
       "AtlasView({'b': {'weight': 9999999999}})"
      ]
     },
     "execution_count": 41,
     "metadata": {},
     "output_type": "execute_result"
    }
   ],
   "source": [
    "g['a']"
   ]
  },
  {
   "cell_type": "code",
   "execution_count": 69,
   "metadata": {
    "scrolled": true
   },
   "outputs": [
    {
     "data": {
      "text/plain": [
       "AtlasView({'AII47128.1_GCA_000737575.1': {'weight': 6.011405}, 'AIQ96614.1_GCA_000757865.1': {'weight': 5.9914755}, 'AFY30282.1_GCA_000316515.1': {'weight': 5.6496844}, 'PSB38289.1_GCA_003003925.1': {'weight': 5.663832}, 'BAB77820.1_GCA_000009705.1': {'weight': 4.046559}, 'AFZ57098.1_GCA_000317695.1': {'weight': 4.2234666}, 'BAU05571.1_GCA_001548455.1': {'weight': 4.080108600000001}, 'OBQ01871.1_GCA_001672225.1': {'weight': 4.1346151}, 'AFY53708.1_GCA_000316665.1': {'weight': 4.0337069}, 'PSB28630.1_GCA_003003885.1': {'weight': 3.8538157}, 'ABG50836.1_GCA_000014265.1': {'weight': 4.0798972000000004}, 'AOX03174.1_GCA_001767235.1': {'weight': 4.1495291000000005}, 'EDX74569.1_GCA_000155555.1': {'weight': 3.8638012}, 'AFY96223.1_GCA_000317145.1': {'weight': 4.2330875}, 'PSB58467.1_GCA_003003845.1': {'weight': 3.5066667000000002}, 'PSF35307.1_GCA_003007785.1': {'weight': 4.0423635}, 'AFZ34241.1_GCA_000317575.1': {'weight': 4.0360531}, 'AFY79427.1_GCA_000317025.1': {'weight': 3.9798577}, 'AFY88431.1_GCA_000317125.1': {'weight': 3.8832623}, 'PSB62979.1_GCA_003003835.1': {'weight': 3.8832623}, 'PSB49049.1_GCA_003004015.1': {'weight': 3.8832623}, 'PSM48670.1_GCA_003015105.1': {'weight': 3.8832623}, 'ADN15591.1_GCA_000147335.1': {'weight': 3.7812632}, 'PSB28906.1_GCA_003003715.1': {'weight': 4.165781300000001}, 'PSB41195.1_GCA_003003725.1': {'weight': 4.165781300000001}, 'PSB25865.1_GCA_003003795.1': {'weight': 3.8611315000000004}, 'BAI89510.1_GCA_000210375.1': {'weight': 4.044012800000001}, 'AMW27832.1_GCA_001611905.1': {'weight': 4.044012800000001}, 'BAY56124.1_GCA_002368255.1': {'weight': 3.8781273000000005}, 'PSB19701.1_GCA_003003695.1': {'weight': 3.3668065000000005}, 'PSB12869.1_GCA_003003995.1': {'weight': 3.8873614000000005}, 'PSB00843.1_GCA_003003775.1': {'weight': 3.6748319000000005}, 'PSN17574.1_GCA_003017785.1': {'weight': 3.7769118}, 'PSN75750.1_GCA_003018975.1': {'weight': 3.6335176000000002}, 'PSR13182.1_GCA_003022385.1': {'weight': 3.7236163}, 'BAC08954.1_GCA_000011345.1': {'weight': 3.5854517000000006}, 'ACL42733.1_GCA_000022045.1': {'weight': 3.7415789000000004}, 'ABW30101.1_GCA_000018105.1': {'weight': 3.9652256000000006}, 'AFY71163.1_GCA_000317065.1': {'weight': 3.8288348000000005}, 'PSB08001.1_GCA_003003615.1': {'weight': 3.7277868000000005}, 'PSB67037.1_GCA_003003915.1': {'weight': 3.7277868000000005}, 'BAD80020.1_GCA_000010065.1': {'weight': 4.0295466}, 'EKV01840.1_GCA_000316115.1': {'weight': 3.2059591000000003}, 'APB34923.1_GCA_001870225.1': {'weight': 4.0659829}, 'ABD03247.1_GCA_000013225.1': {'weight': 4.1620984000000005}, 'EFJ47259.1_GCA_000143455.1': {'weight': 1.4506115}, 'XP_006844190.1_GCF_000471905.2': {'weight': 1.8280916000000005}, 'XP_020522797.1_GCF_000471905.2': {'weight': 2.1494462000000008}, 'XP_020522798.1_GCF_000471905.2': {'weight': 2.1494462000000008}, 'XP_011623282.1_GCF_000471905.2': {'weight': 1.4356207000000003}})"
      ]
     },
     "execution_count": 69,
     "metadata": {},
     "output_type": "execute_result"
    }
   ],
   "source": [
    "graph = networkx.convert_matrix.from_pandas_adjacency(sim_df)\n",
    "graph['AAP99480.1_GCA_000007925.1']"
   ]
  },
  {
   "cell_type": "code",
   "execution_count": 104,
   "metadata": {
    "scrolled": true
   },
   "outputs": [
    {
     "data": {
      "text/plain": [
       "{'AAP99480.1_GCA_000007925.1': 0,\n",
       " 'AII47128.1_GCA_000737575.1': 0,\n",
       " 'AIQ96614.1_GCA_000757865.1': 0,\n",
       " 'AFY30282.1_GCA_000316515.1': 0,\n",
       " 'PSB38289.1_GCA_003003925.1': 0,\n",
       " 'BAB77820.1_GCA_000009705.1': 1,\n",
       " 'AFZ57098.1_GCA_000317695.1': 1,\n",
       " 'BAU05571.1_GCA_001548455.1': 1,\n",
       " 'OBQ01871.1_GCA_001672225.1': 1,\n",
       " 'AFY53708.1_GCA_000316665.1': 1,\n",
       " 'PSB28630.1_GCA_003003885.1': 1,\n",
       " 'ABG50836.1_GCA_000014265.1': 1,\n",
       " 'AOX03174.1_GCA_001767235.1': 1,\n",
       " 'EDX74569.1_GCA_000155555.1': 1,\n",
       " 'AFY96223.1_GCA_000317145.1': 2,\n",
       " 'PSB58467.1_GCA_003003845.1': 1,\n",
       " 'PSF35307.1_GCA_003007785.1': 1,\n",
       " 'AFZ34241.1_GCA_000317575.1': 1,\n",
       " 'AFY79427.1_GCA_000317025.1': 1,\n",
       " 'AFY88431.1_GCA_000317125.1': 1,\n",
       " 'PSB62979.1_GCA_003003835.1': 1,\n",
       " 'PSB49049.1_GCA_003004015.1': 1,\n",
       " 'PSM48670.1_GCA_003015105.1': 1,\n",
       " 'ADN15591.1_GCA_000147335.1': 1,\n",
       " 'PSB28906.1_GCA_003003715.1': 1,\n",
       " 'PSB41195.1_GCA_003003725.1': 1,\n",
       " 'PSB25865.1_GCA_003003795.1': 1,\n",
       " 'BAI89510.1_GCA_000210375.1': 1,\n",
       " 'AMW27832.1_GCA_001611905.1': 1,\n",
       " 'BAY56124.1_GCA_002368255.1': 1,\n",
       " 'PSB19701.1_GCA_003003695.1': 1,\n",
       " 'PSB12869.1_GCA_003003995.1': 1,\n",
       " 'PSB00843.1_GCA_003003775.1': 1,\n",
       " 'PSN17574.1_GCA_003017785.1': 1,\n",
       " 'PSN75750.1_GCA_003018975.1': 1,\n",
       " 'PSR13182.1_GCA_003022385.1': 1,\n",
       " 'BAC08954.1_GCA_000011345.1': 1,\n",
       " 'ACL42733.1_GCA_000022045.1': 1,\n",
       " 'ABW30101.1_GCA_000018105.1': 1,\n",
       " 'AFY71163.1_GCA_000317065.1': 2,\n",
       " 'PSB08001.1_GCA_003003615.1': 1,\n",
       " 'PSB67037.1_GCA_003003915.1': 1,\n",
       " 'BAD80020.1_GCA_000010065.1': 1,\n",
       " 'EKV01840.1_GCA_000316115.1': 1,\n",
       " 'APB34923.1_GCA_001870225.1': 2,\n",
       " 'ABD03247.1_GCA_000013225.1': 2,\n",
       " 'EFJ47259.1_GCA_000143455.1': 2,\n",
       " 'XP_006844190.1_GCF_000471905.2': 2,\n",
       " 'XP_020522797.1_GCF_000471905.2': 2,\n",
       " 'XP_020522798.1_GCF_000471905.2': 2,\n",
       " 'XP_011623282.1_GCF_000471905.2': 2}"
      ]
     },
     "execution_count": 104,
     "metadata": {},
     "output_type": "execute_result"
    }
   ],
   "source": [
    "clusters = community.best_partition(graph, resolution=0.99)\n",
    "clusters"
   ]
  },
  {
   "cell_type": "code",
   "execution_count": 93,
   "metadata": {
    "scrolled": true
   },
   "outputs": [
    {
     "data": {
      "text/plain": [
       "array([[-2.31788954,  0.79686324],\n",
       "       [-1.3565381 ,  1.07440184],\n",
       "       [-2.06256056,  1.21182524],\n",
       "       [-1.74953539,  0.90684841],\n",
       "       [-1.79878319,  0.85814882],\n",
       "       [ 0.01158404, -0.97310771],\n",
       "       [-0.06580917, -0.95576369],\n",
       "       [-0.02858507, -0.69481596],\n",
       "       [-0.08483151, -0.71738143],\n",
       "       [ 0.1629662 , -0.91782208],\n",
       "       [-0.1088103 , -0.87983509],\n",
       "       [ 0.04848727, -0.3698321 ],\n",
       "       [-0.56334884, -0.97771787],\n",
       "       [-0.39715421, -0.81751437],\n",
       "       [ 0.11940507, -0.07766776],\n",
       "       [ 0.22772436,  0.13120537],\n",
       "       [ 0.06872382, -0.15097319],\n",
       "       [-0.41664125, -0.54403422],\n",
       "       [-0.53292481, -0.45829069],\n",
       "       [ 0.22794308, -0.68917147],\n",
       "       [ 0.22794321, -0.68917138],\n",
       "       [ 0.22794301, -0.68917129],\n",
       "       [ 0.22794314, -0.68917119],\n",
       "       [-0.44284952, -1.01764611],\n",
       "       [-0.21870593, -0.09240138],\n",
       "       [-0.22068871, -0.09213222],\n",
       "       [-0.65375242, -0.73281839],\n",
       "       [-0.14489059, -0.34137565],\n",
       "       [-0.14489117, -0.3413757 ],\n",
       "       [-0.54946946, -1.30680262],\n",
       "       [-0.34526057, -1.43849998],\n",
       "       [-0.54795993, -0.06135962],\n",
       "       [-0.7921478 , -0.65016727],\n",
       "       [ 0.79924067, -0.69703743],\n",
       "       [ 0.88832393, -0.71794441],\n",
       "       [ 0.82725188, -0.51173416],\n",
       "       [ 0.40583784,  0.34191708],\n",
       "       [ 0.68781799, -0.09157656],\n",
       "       [ 0.80706518, -0.23995806],\n",
       "       [ 0.61846543,  0.25444906],\n",
       "       [ 0.68417875, -1.13112513],\n",
       "       [ 0.68417889, -1.13112501],\n",
       "       [-1.35973997, -0.64691308],\n",
       "       [ 0.30086328, -1.83892126],\n",
       "       [-0.27435994,  0.83291924],\n",
       "       [ 0.82774373,  0.65045383],\n",
       "       [ 0.41747837,  3.87466252],\n",
       "       [ 1.93905071,  3.3045151 ],\n",
       "       [ 1.80690538,  3.22736462],\n",
       "       [ 1.80690479,  3.22736494],\n",
       "       [ 2.12615792,  3.67941621]])"
      ]
     },
     "execution_count": 93,
     "metadata": {},
     "output_type": "execute_result"
    }
   ],
   "source": [
    "mds        = manifold.MDS(n_components=2,\n",
    "                          dissimilarity=\"precomputed\",\n",
    "                          random_state=6)\n",
    "mds_result = mds.fit( df )\n",
    "coords     = mds_result.embedding_\n",
    "x, y       = coords[:, 0], coords[:, 1]\n",
    "coords"
   ]
  },
  {
   "cell_type": "code",
   "execution_count": 105,
   "metadata": {},
   "outputs": [],
   "source": [
    "cluster_colors = {}\n",
    "for node, x_val, y_val in zip(indexes, x, y):\n",
    "    node_cluster = clusters[node]\n",
    "    if not node_cluster in cluster_colors:\n",
    "        cluster_colors[node_cluster] = {'x':[], 'y':[]}\n",
    "    cluster_colors[node_cluster]['x'].append(x_val)\n",
    "    cluster_colors[node_cluster]['y'].append(y_val)"
   ]
  },
  {
   "cell_type": "code",
   "execution_count": 106,
   "metadata": {
    "scrolled": false
   },
   "outputs": [
    {
     "data": {
      "image/png": "[encoded data removed]",
      "text/plain": [
       "<Figure size 3000x3000 with 1 Axes>"
      ]
     },
     "metadata": {
      "needs_background": "light"
     },
     "output_type": "display_data"
    }
   ],
   "source": [
    "fig, ax = plt.subplots(figsize=(10,10), dpi=300)\n",
    "for cluster_num, xy in cluster_colors.items():\n",
    "    ax.scatter(xy['x'], xy['y'])"
   ]
  }
 ],
 "metadata": {
  "kernelspec": {
   "display_name": "Python 3",
   "language": "python",
   "name": "python3"
  },
  "language_info": {
   "codemirror_mode": {
    "name": "ipython",
    "version": 3
   },
   "file_extension": ".py",
   "mimetype": "text/x-python",
   "name": "python",
   "nbconvert_exporter": "python",
   "pygments_lexer": "ipython3",
   "version": "3.7.1"
  }
 },
 "nbformat": 4,
 "nbformat_minor": 2
}
