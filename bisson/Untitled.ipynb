{
 "cells": [
  {
   "cell_type": "code",
   "execution_count": 98,
   "metadata": {},
   "outputs": [
    {
     "name": "stdout",
     "output_type": "stream",
     "text": [
      "/work/bisson/searches\n"
     ]
    }
   ],
   "source": [
    "import pandas as pd\n",
    "import os\n",
    "from itertools import product\n",
    "import numpy as np\n",
    "import ete3\n",
    "import re\n",
    "\n",
    "ncbi     = ete3.NCBITaxa()\n",
    "%cd /work/bisson/searches"
   ]
  },
  {
   "cell_type": "code",
   "execution_count": 4,
   "metadata": {},
   "outputs": [],
   "source": [
    "genomes  = set()\n",
    "proteins = set()\n",
    "for filename in os.listdir('.'):\n",
    "    if filename.startswith('.'):\n",
    "        continue\n",
    "    genome, protein = filename.split('-')\n",
    "    genomes.add(genome)\n",
    "    proteins.add(protein)"
   ]
  },
  {
   "cell_type": "code",
   "execution_count": 46,
   "metadata": {},
   "outputs": [],
   "source": [
    "df = pd.DataFrame(columns='genome protein target_name e-value score bias description'.split())\n",
    "for genome, protein in product(genomes, proteins):\n",
    "    filename = '%s-%s' % (genome, protein)\n",
    "    lines    = [line.strip() for line in open(filename).readlines() if not line.startswith('#')]\n",
    "    tmp_data = []\n",
    "    for line in lines:\n",
    "        line = line.split()\n",
    "        tmp_data.append([genome, protein, line[0]])\n",
    "        tmp_data[-1].extend(line[4:7])\n",
    "        tmp_data[-1].append(' '.join(line[18:]))\n",
    "    df = df.append(pd.DataFrame(data=tmp_data, columns=df.columns), ignore_index=True)\n",
    "df['e-value'] = df['e-value'].astype(np.float64)\n",
    "df['score']   = df['score'].astype(np.float64)\n",
    "df['bias']    = df['bias'].astype(np.float64)"
   ]
  },
  {
   "cell_type": "code",
   "execution_count": 68,
   "metadata": {},
   "outputs": [],
   "source": [
    "assigned_proteins = pd.DataFrame(columns=df.columns)\n",
    "for genome in genomes:\n",
    "    tmp_df  = df[df.genome == genome]\n",
    "    indexes = []\n",
    "    for protein in tmp_df.protein.unique():\n",
    "        indexes.append(tmp_df[tmp_df.protein==protein]['e-value'].idxmin())\n",
    "    \n",
    "    tmp_df  = tmp_df.reindex(index=indexes)\n",
    "    indexes = []\n",
    "    for target in tmp_df.target_name.unique():\n",
    "        indexes.append(tmp_df[tmp_df.target_name==target]['e-value'].idxmin())\n",
    "    tmp_df  = tmp_df.reindex(index=indexes)\n",
    "    assigned_proteins = assigned_proteins.append(tmp_df, ignore_index=True)"
   ]
  },
  {
   "cell_type": "code",
   "execution_count": 88,
   "metadata": {},
   "outputs": [
    {
     "data": {
      "text/html": [
       "<div>\n",
       "<style scoped>\n",
       "    .dataframe tbody tr th:only-of-type {\n",
       "        vertical-align: middle;\n",
       "    }\n",
       "\n",
       "    .dataframe tbody tr th {\n",
       "        vertical-align: top;\n",
       "    }\n",
       "\n",
       "    .dataframe thead th {\n",
       "        text-align: right;\n",
       "    }\n",
       "</style>\n",
       "<table border=\"1\" class=\"dataframe\">\n",
       "  <thead>\n",
       "    <tr style=\"text-align: right;\">\n",
       "      <th></th>\n",
       "      <th>genome</th>\n",
       "      <th>protein</th>\n",
       "      <th>target_name</th>\n",
       "      <th>e-value</th>\n",
       "      <th>score</th>\n",
       "      <th>bias</th>\n",
       "      <th>description</th>\n",
       "    </tr>\n",
       "  </thead>\n",
       "  <tbody>\n",
       "    <tr>\n",
       "      <th>0</th>\n",
       "      <td>GCA_003662775.1</td>\n",
       "      <td>FtsZ1</td>\n",
       "      <td>RLI57951.1</td>\n",
       "      <td>2.800000e-138</td>\n",
       "      <td>458.9</td>\n",
       "      <td>5.4</td>\n",
       "      <td>cell division protein FtsZ [Candidatus Thorarc...</td>\n",
       "    </tr>\n",
       "    <tr>\n",
       "      <th>1</th>\n",
       "      <td>GCA_003662775.1</td>\n",
       "      <td>FtsZ2</td>\n",
       "      <td>RLI53936.1</td>\n",
       "      <td>1.900000e-154</td>\n",
       "      <td>512.2</td>\n",
       "      <td>8.4</td>\n",
       "      <td>cell division protein FtsZ [Candidatus Thorarc...</td>\n",
       "    </tr>\n",
       "    <tr>\n",
       "      <th>2</th>\n",
       "      <td>GCA_001940705.1</td>\n",
       "      <td>FtsZ1</td>\n",
       "      <td>OLS26346.1</td>\n",
       "      <td>6.500000e-138</td>\n",
       "      <td>457.1</td>\n",
       "      <td>7.3</td>\n",
       "      <td>Cell division protein FtsZ 1 [Candidatus Thora...</td>\n",
       "    </tr>\n",
       "    <tr>\n",
       "      <th>3</th>\n",
       "      <td>GCA_001940705.1</td>\n",
       "      <td>FtsZ2</td>\n",
       "      <td>OLS23328.1</td>\n",
       "      <td>1.600000e-154</td>\n",
       "      <td>511.9</td>\n",
       "      <td>6.5</td>\n",
       "      <td>Cell division protein FtsZ 1 [Candidatus Thora...</td>\n",
       "    </tr>\n",
       "    <tr>\n",
       "      <th>4</th>\n",
       "      <td>GCA_001940645.1</td>\n",
       "      <td>FtsZ1</td>\n",
       "      <td>OLS21975.1</td>\n",
       "      <td>3.000000e-132</td>\n",
       "      <td>439.4</td>\n",
       "      <td>9.6</td>\n",
       "      <td>Cell division protein FtsZ 1 [Candidatus Heimd...</td>\n",
       "    </tr>\n",
       "  </tbody>\n",
       "</table>\n",
       "</div>"
      ],
      "text/plain": [
       "            genome protein target_name        e-value  score  bias  \\\n",
       "0  GCA_003662775.1   FtsZ1  RLI57951.1  2.800000e-138  458.9   5.4   \n",
       "1  GCA_003662775.1   FtsZ2  RLI53936.1  1.900000e-154  512.2   8.4   \n",
       "2  GCA_001940705.1   FtsZ1  OLS26346.1  6.500000e-138  457.1   7.3   \n",
       "3  GCA_001940705.1   FtsZ2  OLS23328.1  1.600000e-154  511.9   6.5   \n",
       "4  GCA_001940645.1   FtsZ1  OLS21975.1  3.000000e-132  439.4   9.6   \n",
       "\n",
       "                                         description  \n",
       "0  cell division protein FtsZ [Candidatus Thorarc...  \n",
       "1  cell division protein FtsZ [Candidatus Thorarc...  \n",
       "2  Cell division protein FtsZ 1 [Candidatus Thora...  \n",
       "3  Cell division protein FtsZ 1 [Candidatus Thora...  \n",
       "4  Cell division protein FtsZ 1 [Candidatus Heimd...  "
      ]
     },
     "execution_count": 88,
     "metadata": {},
     "output_type": "execute_result"
    }
   ],
   "source": [
    "assigned_proteins.head()"
   ]
  },
  {
   "cell_type": "code",
   "execution_count": 129,
   "metadata": {},
   "outputs": [
    {
     "name": "stdout",
     "output_type": "stream",
     "text": [
      "             genome protein target_name       e-value  score  bias  \\\n",
      "35  GCA_001940725.1   CetZ2  OLS29073.1  3.300000e-14   50.6   0.1   \n",
      "\n",
      "                                          description  \n",
      "35  Tubulin-like protein CetZ [Candidatus Heimdall...  \n",
      "             genome protein target_name        e-value  score  bias  \\\n",
      "12  GCA_001940665.1   FtsZ2  OLS17704.1  2.300000e-154  510.5  10.0   \n",
      "\n",
      "                                          description  \n",
      "12  Cell division protein FtsZ 1 [Candidatus Odina...  \n"
     ]
    }
   ],
   "source": [
    "print assigned_proteins.loc[(assigned_proteins.genome=='GCA_001940725.1')]\n",
    "print assigned_proteins.loc[(assigned_proteins.target_name=='OLS17704.1')]\n"
   ]
  },
  {
   "cell_type": "code",
   "execution_count": 86,
   "metadata": {},
   "outputs": [
    {
     "name": "stdout",
     "output_type": "stream",
     "text": [
      "/work/bisson\n"
     ]
    }
   ],
   "source": [
    "%cd /work/bisson/\n",
    "gene_names = {'ENOG410KRFR': 'FtsZ2',\n",
    "              'ENOG410KRFT': 'FtsZ1',\n",
    "              'ENOG410KS48': 'CetZ2',\n",
    "              'ENOG410KRU8': 'CetZ1'}\n",
    "out = open('extended_groups/FtsZ_homologues.faa', 'a')\n",
    "for genome in assigned_proteins.genome.unique():\n",
    "    faa = open('asgard_genomes/%s.faa' % genome).read().split('>')\n",
    "    faa.pop(0)\n",
    "    homologues = assigned_proteins.target_name[assigned_proteins.genome == genome].tolist()\n",
    "    for block in faa:\n",
    "        header = block.split()[0]\n",
    "        if header in homologues:\n",
    "            sequence = ''.join(block.split('\\n')[1:])\n",
    "            out.write('>%s|%s\\n%s\\n'  %(genome, header, sequence))\n",
    "out.close()"
   ]
  },
  {
   "cell_type": "code",
   "execution_count": 131,
   "metadata": {},
   "outputs": [],
   "source": [
    "tree_txt = open('../extended_groups/FtsZ_homologues.aln.treefile').read()\n",
    "for index, row in assigned_proteins.iterrows():\n",
    "    tree_txt = tree_txt.replace('%s_%s' % (row.genome, row.target_name), '%s|%s' % (row.genome, row.target_name))\n",
    "\n",
    "tree     = ete3.Tree(tree_txt, format=1)\n",
    "id_table = {}\n",
    "for fastaname, gene_name in gene_names.items():\n",
    "    ids = re.findall('^>(\\S+)',\n",
    "                     open('../eggnog4/candidate_ftsz/eurNOG.%s.meta_raw.fa' % fastaname).read(),\n",
    "                    re.M)\n",
    "    id_table.update({gene_id:gene_name for gene_id in ids})"
   ]
  },
  {
   "cell_type": "code",
   "execution_count": 132,
   "metadata": {},
   "outputs": [
    {
     "name": "stdout",
     "output_type": "stream",
     "text": [
      "GCA_001940665.1 OLS17704.1\n",
      "GCA_003662865.1 RLI65521.1\n",
      "GCA_000986845.1 KKK42581.1\n",
      "GCA_003662935.1 RLI69574.1\n",
      "GCA_003662885.1 RLI68895.1\n",
      "GCA_003662835.1 RLI63391.1\n",
      "GCA_003662835.1 RLI64272.1\n",
      "GCA_001940725.1 OLS29073.1\n",
      "GCA_003662815.1 RLI57875.1\n",
      "GCA_001940705.1 OLS23328.1\n",
      "GCA_003345555.1 RDE15852.1\n",
      "GCA_003345595.1 RDE17459.1\n",
      "GCA_003662805.1 RLI61079.1\n",
      "GCA_003662765.1 RLI51259.1\n",
      "GCA_001940665.1 OLS17546.1\n",
      "GCA_003662775.1 RLI53936.1\n",
      "GCA_003345545.1 RDE10823.1\n",
      "GCA_001940645.1 OLS21975.1\n",
      "GCA_003144275.1 PWI49717.1\n",
      "GCA_002728275.1 MBS85472.1\n",
      "GCA_001940755.1 OLS31474.1\n",
      "GCA_001940655.1 OLS14163.1\n",
      "GCA_001563325.1 KXH77811.1\n",
      "GCA_003662935.1 RLI70985.1\n",
      "GCA_003345555.1 RDE16533.1\n",
      "GCA_003345595.1 RDE12356.1\n",
      "GCA_003662805.1 RLI61572.1\n",
      "GCA_003662765.1 RLI50938.1\n",
      "GCA_003662875.1 RLI68069.1\n",
      "GCA_003662885.1 RLI73395.1\n",
      "GCA_003345545.1 RDE15114.1\n",
      "GCA_001940705.1 OLS26346.1\n",
      "GCA_003662775.1 RLI57951.1\n",
      "GCA_003662815.1 RLI58918.1\n",
      "GCA_001563465.1 KXH75745.1\n",
      "GCA_001563335.1 KXH74114.1\n"
     ]
    }
   ],
   "source": [
    "out  = open('../extended_groups/FtsZ_homologues.figTree', 'wb')\n",
    "out.write(\"#NEXUS\\nbegin taxa;\\n\\tdimensions ntax=%i;\\n\\ttaxlabels\\n\" %len(tree))\n",
    "branch_names = {}\n",
    "for node in tree.traverse():\n",
    "    if node.is_leaf():\n",
    "        if node.name.startswith('GCA_'):\n",
    "            taxid = 1935183\n",
    "            genome, gene = node.name.split('|')\n",
    "            print genome, gene\n",
    "            gene_type = assigned_proteins.loc[(assigned_proteins.genome==genome) &\n",
    "                                              (assigned_proteins.target_name==gene),\n",
    "                                              'protein'].squeeze()\n",
    "        else:\n",
    "            taxid, gene = node.name.split('.')\n",
    "            gene_type = id_table[node.name]\n",
    "\n",
    "        lineage = {j: i for i, j in ncbi.get_rank(ncbi.get_lineage(int(taxid))).items()}\n",
    "        lineage_names = ncbi.get_taxid_translator(lineage.values())\n",
    "\n",
    "        out.write('\\t%s ' % (node.name))\n",
    "        comment = ['gene_type=\"%s\"' % gene_type]\n",
    "        for rank in ['class', 'phylum', 'order', 'family', 'species']:\n",
    "            if rank in lineage:\n",
    "                comment.append('tax_%s=\"%s\"' % (rank, lineage_names[lineage[rank]]))\n",
    "        out.write('[&%s]\\n' %' '.join(comment))\n",
    "\n",
    "    else:\n",
    "        if node.name:\n",
    "            aLRT, UFBoot = node.name.split('/')\n",
    "            node.name = '[&UFBoot=%.2f,aLRT=%.2f]' %(float(UFBoot), float(aLRT))\n",
    "\n",
    "newick_text = tree.write(format=1)\n",
    "newick_text = re.sub('_&UFBoot_(\\d+\\.\\d\\d)_aLRT_(\\d+\\.\\d\\d)_', '[&UFBoot=\\\\1,aLRT=\\\\2]', newick_text)\n",
    "out.write(';\\nend;\\n')\n",
    "out.write('begin trees;\\n\\ttree tree_1 = [&R] %s\\nend;' %newick_text)\n",
    "out.close()"
   ]
  },
  {
   "cell_type": "code",
   "execution_count": 101,
   "metadata": {},
   "outputs": [
    {
     "data": {
      "text/plain": [
       "'[&UFBoot=44.00,aLRT=55.10]'"
      ]
     },
     "execution_count": 101,
     "metadata": {},
     "output_type": "execute_result"
    }
   ],
   "source": [
    "node.name"
   ]
  }
 ],
 "metadata": {
  "kernelspec": {
   "display_name": "Python 2",
   "language": "python",
   "name": "python2"
  },
  "language_info": {
   "codemirror_mode": {
    "name": "ipython",
    "version": 2
   },
   "file_extension": ".py",
   "mimetype": "text/x-python",
   "name": "python",
   "nbconvert_exporter": "python",
   "pygments_lexer": "ipython2",
   "version": "2.7.15"
  }
 },
 "nbformat": 4,
 "nbformat_minor": 2
}
