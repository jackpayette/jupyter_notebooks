{
 "cells": [
  {
   "cell_type": "code",
   "execution_count": 33,
   "metadata": {},
   "outputs": [
    {
     "name": "stdout",
     "output_type": "stream",
     "text": [
      "/work/bisson\n"
     ]
    }
   ],
   "source": [
    "import ete3\n",
    "import pandas as pd\n",
    "import os\n",
    "\n",
    "%cd /work/bisson/"
   ]
  },
  {
   "cell_type": "code",
   "execution_count": 25,
   "metadata": {},
   "outputs": [],
   "source": [
    "taxids = {'Hvol':'309800', 'Hmed':'523841'}\n",
    "\n",
    "annotations = pd.read_table('eggnog4/eurNOG.annotations.tsv', header=None,\n",
    "                            names='type id num_seqs num_taxa code description'.split())\n",
    "annotations.set_index('id', inplace=True)\n",
    "\n",
    "groups = pd.read_table('eggnog4/eurNOG.members.tsv', header=None,\n",
    "                       names='type id num_seqs num_taxa code members'.split())\n",
    "groups.set_index('id', inplace=True)"
   ]
  },
  {
   "cell_type": "code",
   "execution_count": 34,
   "metadata": {},
   "outputs": [],
   "source": [
    "ftsz_related = annotations[annotations.description.str.contains('ftsz', case=False, na=False)].copy()\n",
    "ftsz_groups  = groups[(groups.members.str.contains(taxids['Hvol'])) & (groups.index.isin(ftsz_related.index))]\n",
    "\n",
    "for group in ftsz_groups.index:\n",
    "    os.system('cp eggnog4/eurNOG_raw_algs/eurNOG.%s.meta_raw.fa eggnog4/candidate_ftsz/' % group)"
   ]
  },
  {
   "cell_type": "code",
   "execution_count": 42,
   "metadata": {},
   "outputs": [
    {
     "name": "stdout",
     "output_type": "stream",
     "text": [
      "\tENOG410KRFR: Essential cell division protein that forms a contractile ring structure (Z ring) at the future cell division site. The regulation of the ring assembly controls the timing and the location of cell division. One of the functions of the FtsZ ring is to recruit other cell division proteins to the septum to produce a new cell wall between the dividing cells. Binds GTP and shows GTPase activity (By similarity)\n",
      "\tENOG410KRFT: Essential cell division protein that forms a contractile ring structure (Z ring) at the future cell division site. The regulation of the ring assembly controls the timing and the location of cell division. One of the functions of the FtsZ ring is to recruit other cell division proteins to the septum to produce a new cell wall between the dividing cells. Binds GTP and shows GTPase activity (By similarity)\n",
      "\tENOG410KS48: cell division protein FtsZ\n",
      "\tENOG410KRU8: Essential cell division protein that forms a contractile ring structure (Z ring) at the future cell division site. The regulation of the ring assembly controls the timing and the location of cell division. One of the functions of the FtsZ ring is to recruit other cell division proteins to the septum to produce a new cell wall between the dividing cells. Binds GTP and shows GTPase activity (By similarity)\n"
     ]
    }
   ],
   "source": [
    "for i, j in zip(ftsz_groups.index, annotations.loc[ftsz_groups.index, 'description'].values):\n",
    "    print('\\t%s: %s' % (i,j))"
   ]
  }
 ],
 "metadata": {
  "kernelspec": {
   "display_name": "Python 3",
   "language": "python",
   "name": "python3"
  },
  "language_info": {
   "codemirror_mode": {
    "name": "ipython",
    "version": 3
   },
   "file_extension": ".py",
   "mimetype": "text/x-python",
   "name": "python",
   "nbconvert_exporter": "python",
   "pygments_lexer": "ipython3",
   "version": "3.7.1"
  }
 },
 "nbformat": 4,
 "nbformat_minor": 2
}
