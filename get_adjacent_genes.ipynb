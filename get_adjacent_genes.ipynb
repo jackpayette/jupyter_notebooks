{
 "cells": [
  {
   "cell_type": "code",
   "execution_count": 1,
   "metadata": {},
   "outputs": [
    {
     "name": "stdout",
     "output_type": "stream",
     "text": [
      "/Users/thiberio/t3ss_effectors\n"
     ]
    }
   ],
   "source": [
    "import pandas as pd\n",
    "import os\n",
    "from Bio import Seq\n",
    "import re\n",
    "\n",
    "%cd /Users/thiberio/t3ss_effectors/"
   ]
  },
  {
   "cell_type": "code",
   "execution_count": 29,
   "metadata": {},
   "outputs": [],
   "source": [
    "for filename in os.listdir('.'):\n",
    "    if filename.startswith('.') or not filename.endswith('.faa'):\n",
    "        continue\n",
    "    \n",
    "    faa       = open(filename).read()\n",
    "    effectors = {}\n",
    "    adjacent_genes = []\n",
    "    for seq_id, genome in re.findall('^>(\\S+?)\\|(\\S+)$', open(filename).read(), re.M):\n",
    "        if 'contig' in genome  or '[' in genome:\n",
    "            continue\n",
    "        \n",
    "        if genome not in effectors:\n",
    "            effectors[genome] = []\n",
    "        effectors[genome].append(seq_id)\n",
    "    \n",
    "    for genome in effectors:\n",
    "        genome_file = open('genomes_4_clustering/%s.faa' % genome).read()\n",
    "        genome_file = genome_file.split('>')\n",
    "        genome_file.pop(0)\n",
    "        \n",
    "        for position, gene in enumerate(genome_file):\n",
    "            gene_name = gene.split()[0]\n",
    "            if gene_name in effectors[genome]:\n",
    "                adjacent_genes.append(\n",
    "                    '>downstream_to_%s|%s\\n%s' % (gene_name,\n",
    "                                                  genome,\n",
    "                                                  '\\n'.join(genome_file[position-1].split('\\n')[1:]))\n",
    "                )\n",
    "                adjacent_genes.append(\n",
    "                    '>upstream_to_%s|%s\\n%s' % (gene_name,\n",
    "                                                  genome,\n",
    "                                                  '\\n'.join(genome_file[position+1].split('\\n')[1:]))\n",
    "                )\n",
    "\n",
    "\n",
    "    out = open('adjacent_to_effectors/%s' % filename, 'w')\n",
    "    out.write(''.join(adjacent_genes))\n",
    "    out.close()"
   ]
  },
  {
   "cell_type": "code",
   "execution_count": 75,
   "metadata": {},
   "outputs": [],
   "source": [
    "target_domains = {\n",
    "    'general chaperone': 'IPR008978 IPR031107 IPR037913 IPR002068 IPR008978 IPR031107 IPR037913'.split(),\n",
    "    't3ss chaperone'   : 'IPR010261 IPR005415 IPR005416 IPR010261'.split(),\n",
    "    'histone'          : 'IPR000182'.split(), \n",
    "    'transporter'      : 'IPR000412 IPR000620 IPR002178 IPR006143 IPR036709'.split(),\n",
    "    't3ss'             : 'IPR001712 IPR003537 IPR006135 IPR006302 IPR006307 IPR012842 IPR014773\\\n",
    "                          IPR016379 IPR018035 IPR029025 IPR037168'.split(),\n",
    "    't4ss'             : 'IPR014128 IPR019476'.split(),\n",
    "    'related to pathogenesis' : 'IPR003540 IPR035093'.split()\n",
    "}"
   ]
  },
  {
   "cell_type": "code",
   "execution_count": 97,
   "metadata": {},
   "outputs": [
    {
     "name": "stdout",
     "output_type": "stream",
     "text": [
      "/Users/thiberio/t3ss_effectors/adjacent_to_effectors\n"
     ]
    }
   ],
   "source": [
    "%cd /Users/thiberio/t3ss_effectors/adjacent_to_effectors\n",
    "adjacent_to_histone = {}\n",
    "adjacent_to_t3ss    = {}\n",
    "for filename in os.listdir('.'):\n",
    "    if filename.startswith('.') or not filename.endswith('.gff3'):\n",
    "        continue\n",
    "    \n",
    "    gff = re.split('^##', open(filename).read(), flags=re.M)[4:-1]\n",
    "    adjacent_to = {}\n",
    "    for block in gff:\n",
    "        gene = re.match('sequence-region (?:down|up)stream_to_(\\S+)', block).group(1)\n",
    "        if gene not in adjacent_to:\n",
    "            adjacent_to[gene] = set()\n",
    "        adjacent_to[gene].update(re.findall('InterPro:(IPR\\d+)', block))\n",
    "    \n",
    "    for gene, iprs in adjacent_to.items():\n",
    "        if iprs.intersection(target_domains['t3ss']):\n",
    "            if filename not in adjacent_to_t3ss:\n",
    "                adjacent_to_t3ss[filename] = []\n",
    "            adjacent_to_t3ss[filename].append(gene)\n",
    "        if iprs.intersection(target_domains['t3ss chaperone']):\n",
    "            if filename not in adjacent_to_histone:\n",
    "                adjacent_to_histone[filename] = []\n",
    "            adjacent_to_histone[filename].append(gene)\n"
   ]
  },
  {
   "cell_type": "code",
   "execution_count": 99,
   "metadata": {},
   "outputs": [
    {
     "name": "stdout",
     "output_type": "stream",
     "text": [
      "13\n",
      "AopS.faa.gff3 2\n",
      "PteB.faa.gff3 30\n",
      "PteC.faa.gff3 5\n",
      "PteD.faa.gff3 4\n",
      "PteK.faa.gff3 10\n",
      "AopO.faa.gff3 4\n",
      "PteA.faa.gff3 3\n",
      "PteD.1.faa.gff3 1\n",
      "PteL.faa.gff3 2\n",
      "AopH.faa.gff3 2\n",
      "PteF.faa.gff3 2\n",
      "AexT.faa.gff3 17\n",
      "AexU.faa.gff3 28\n"
     ]
    }
   ],
   "source": [
    "print(len(adjacent_to_histone))\n",
    "for filename, genes in adjacent_to_histone.items():\n",
    "    print(filename, len(set(genes)))"
   ]
  },
  {
   "cell_type": "code",
   "execution_count": 88,
   "metadata": {},
   "outputs": [
    {
     "name": "stdout",
     "output_type": "stream",
     "text": [
      "6\n",
      "AopX.faa.gff3 33\n",
      "PteC.faa.gff3 5\n",
      "PteD.faa.gff3 4\n",
      "PteG.faa.gff3 7\n",
      "AexT.faa.gff3 5\n",
      "AexU.faa.gff3 5\n"
     ]
    }
   ],
   "source": [
    "print(len(adjacent_to_t3ss))\n",
    "for filename, genes in adjacent_to_t3ss.items():\n",
    "    print(filename, len(genes))"
   ]
  }
 ],
 "metadata": {
  "kernelspec": {
   "display_name": "Python 3",
   "language": "python",
   "name": "python3"
  },
  "language_info": {
   "codemirror_mode": {
    "name": "ipython",
    "version": 3
   },
   "file_extension": ".py",
   "mimetype": "text/x-python",
   "name": "python",
   "nbconvert_exporter": "python",
   "pygments_lexer": "ipython3",
   "version": "3.7.1"
  }
 },
 "nbformat": 4,
 "nbformat_minor": 2
}
