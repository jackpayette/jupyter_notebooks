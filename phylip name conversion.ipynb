{
 "cells": [
  {
   "cell_type": "code",
   "execution_count": 21,
   "metadata": {},
   "outputs": [
    {
     "name": "stdout",
     "output_type": "stream",
     "text": [
      "/work/tmp\n"
     ]
    }
   ],
   "source": [
    "import re\n",
    "import ete3\n",
    "import os\n",
    "\n",
    "%cd ../tmp"
   ]
  },
  {
   "cell_type": "code",
   "execution_count": 7,
   "metadata": {},
   "outputs": [],
   "source": [
    "full_names      = re.findall('^>(\\S+)', open('euk_ribosomal_concat_num.fasta').read(), re.M)\n",
    "shortened_names = re.findall('^(\\S+)', open('euk_ribosomal_concat_num.phy').read(), re.M)"
   ]
  },
  {
   "cell_type": "code",
   "execution_count": 19,
   "metadata": {},
   "outputs": [],
   "source": [
    "conversion = {}\n",
    "for tmp1, tmp2 in zip(full_names, shortened_names):\n",
    "    if tmp1[:10] != tmp2:\n",
    "        print(tmp1, tmp2)\n",
    "    else:\n",
    "        conversion[tmp2] = re.sub('^\\d+_', '', tmp1, flags=re.M)"
   ]
  },
  {
   "cell_type": "code",
   "execution_count": 22,
   "metadata": {},
   "outputs": [
    {
     "data": {
      "text/plain": [
       "260"
      ]
     },
     "execution_count": 22,
     "metadata": {},
     "output_type": "execute_result"
    }
   ],
   "source": [
    "len(conversion)"
   ]
  },
  {
   "cell_type": "code",
   "execution_count": 34,
   "metadata": {},
   "outputs": [
    {
     "name": "stdout",
     "output_type": "stream",
     "text": [
      "gammas_c60.2.treelist_sample.con.tre\n",
      "gammas_c60.1.treelist_sample.con.tre\n",
      "gammas_c20.2.treelist_sample.con.tre\n",
      "gammas_c20.1.treelist_sample.con.tre\n"
     ]
    }
   ],
   "source": [
    "for treefile in os.listdir('.'):\n",
    "    if not treefile.endswith('.con.tre'):\n",
    "        continue\n",
    "    print(treefile)\n",
    "    tree = ete3.Tree(treefile)\n",
    "    for leaf in tree.get_leaves():\n",
    "        leaf.name = conversion[leaf.name]\n",
    "    \n",
    "    tree.write(outfile='%s-fixed_names' % treefile, dist_formatter='%.20f')"
   ]
  }
 ],
 "metadata": {
  "kernelspec": {
   "display_name": "Python 3",
   "language": "python",
   "name": "python3"
  },
  "language_info": {
   "codemirror_mode": {
    "name": "ipython",
    "version": 3
   },
   "file_extension": ".py",
   "mimetype": "text/x-python",
   "name": "python",
   "nbconvert_exporter": "python",
   "pygments_lexer": "ipython3",
   "version": "3.7.1"
  }
 },
 "nbformat": 4,
 "nbformat_minor": 2
}
