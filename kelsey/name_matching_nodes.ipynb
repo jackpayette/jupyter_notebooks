{
 "cells": [
  {
   "cell_type": "code",
   "execution_count": 1,
   "metadata": {},
   "outputs": [],
   "source": [
    "import ete3"
   ]
  },
  {
   "cell_type": "code",
   "execution_count": 35,
   "metadata": {},
   "outputs": [],
   "source": [
    "ca = ete3.Tree('/Users/thiberio/Downloads/Cyano_modelCA_ugam_bd')\n",
    "dd = ete3.Tree('/Users/thiberio/Downloads/Cyano_modelDD_cir_bd')\n",
    "regular = ete3.Tree('/work/kelsey/hgt/original_names-named_internal_nodes.tre',\n",
    "                    format=1)"
   ]
  },
  {
   "cell_type": "code",
   "execution_count": 4,
   "metadata": {},
   "outputs": [
    {
     "data": {
      "text/plain": [
       "(166, 134, 170)"
      ]
     },
     "execution_count": 4,
     "metadata": {},
     "output_type": "execute_result"
    }
   ],
   "source": [
    "len(ca), len(dd), len(regular)"
   ]
  },
  {
   "cell_type": "code",
   "execution_count": 42,
   "metadata": {
    "scrolled": true
   },
   "outputs": [
    {
     "name": "stdout",
     "output_type": "stream",
     "text": [
      "\n",
      "      /-Pe_bermude\n",
      "   /-|\n",
      "--|   \\-Pa_bermude\n",
      "  |\n",
      "   \\-C_segnis\n"
     ]
    }
   ],
   "source": [
    "#\n",
    "# regular VS CA\n",
    "#\n",
    "regular.prune(ca.get_leaf_names())\n",
    "\n",
    "for node in ca.traverse():\n",
    "    if node.is_leaf():\n",
    "        continue\n",
    "    \n",
    "    is_monophyletic, clade_type, fucking_up = regular.check_monophyly(node.get_leaf_names(), 'name')\n",
    "    if not is_monophyletic:\n",
    "        print(node)\n",
    "        continue\n",
    "    else:\n",
    "        equivalent = regular.get_common_ancestor(node.get_leaf_names())\n",
    "        node.name = equivalent.name"
   ]
  },
  {
   "cell_type": "code",
   "execution_count": 43,
   "metadata": {
    "scrolled": true
   },
   "outputs": [
    {
     "name": "stdout",
     "output_type": "stream",
     "text": [
      "\n",
      "      /-Pe_bermude\n",
      "   /-|\n",
      "--|   \\-Pa_bermude\n",
      "  |\n",
      "   \\-C_segnis\n"
     ]
    }
   ],
   "source": [
    "#\n",
    "# regular VS DD\n",
    "#\n",
    "regular.prune(dd.get_leaf_names())\n",
    "\n",
    "for node in dd.traverse():\n",
    "    if node.is_leaf():\n",
    "        continue\n",
    "    \n",
    "    is_monophyletic, clade_type, fucking_up = regular.check_monophyly(node.get_leaf_names(), 'name')\n",
    "    if not is_monophyletic:\n",
    "        print(node)\n",
    "        continue\n",
    "    else:\n",
    "        equivalent = regular.get_common_ancestor(node.get_leaf_names())\n",
    "        node.name = equivalent.name"
   ]
  },
  {
   "cell_type": "code",
   "execution_count": 48,
   "metadata": {},
   "outputs": [],
   "source": [
    "ca.write(outfile='/work/kelsey/hgt/mol_clock_models/Cyano_modelCA_ugam_bd-named_internal_nodes',\n",
    "         format=1)\n",
    "ca.write(outfile='/work/kelsey/hgt/mol_clock_models/Cyano_modelDD_cir_bd-named_internal_nodes',\n",
    "         format=1)"
   ]
  }
 ],
 "metadata": {
  "kernelspec": {
   "display_name": "Python 3",
   "language": "python",
   "name": "python3"
  },
  "language_info": {
   "codemirror_mode": {
    "name": "ipython",
    "version": 3
   },
   "file_extension": ".py",
   "mimetype": "text/x-python",
   "name": "python",
   "nbconvert_exporter": "python",
   "pygments_lexer": "ipython3",
   "version": "3.7.1"
  }
 },
 "nbformat": 4,
 "nbformat_minor": 2
}
