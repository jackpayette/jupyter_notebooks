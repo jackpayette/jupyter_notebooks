{
 "cells": [
  {
   "cell_type": "code",
   "execution_count": 18,
   "metadata": {},
   "outputs": [
    {
     "name": "stdout",
     "output_type": "stream",
     "text": [
      "/work/kelsey/hgt\n"
     ]
    }
   ],
   "source": [
    "import ete3\n",
    "import pandas as pd\n",
    "import re\n",
    "\n",
    "%cd /work/kelsey/hgt/"
   ]
  },
  {
   "cell_type": "code",
   "execution_count": 66,
   "metadata": {},
   "outputs": [
    {
     "name": "stdout",
     "output_type": "stream",
     "text": [
      "<class 'pandas.core.frame.DataFrame'>\n",
      "Index: 140 entries, GCA_000006985.1 to 134\n",
      "Data columns (total 24 columns):\n",
      "bioproject                   112 non-null object\n",
      "biosample                    112 non-null object\n",
      "wgs_master                   44 non-null object\n",
      "refseq_category              112 non-null object\n",
      "taxid                        112 non-null float64\n",
      "species_taxid                112 non-null float64\n",
      "organism_name                112 non-null object\n",
      "infraspecific_name           104 non-null object\n",
      "isolate                      5 non-null object\n",
      "version_status               112 non-null object\n",
      "assembly_level               112 non-null object\n",
      "release_type                 112 non-null object\n",
      "genome_rep                   112 non-null object\n",
      "seq_rel_date                 112 non-null object\n",
      "asm_name                     112 non-null object\n",
      "submitter                    112 non-null object\n",
      "gbrs_paired_asm              112 non-null object\n",
      "paired_asm_comp              112 non-null object\n",
      "ftp_path                     112 non-null object\n",
      "excluded_from_refseq         6 non-null object\n",
      "relation_to_type_material    47 non-null object\n",
      "Organism                     140 non-null object\n",
      "abbreviation                 140 non-null object\n",
      "accession                    140 non-null object\n",
      "dtypes: float64(2), object(22)\n",
      "memory usage: 27.3+ KB\n"
     ]
    }
   ],
   "source": [
    "genomes = pd.read_table('../genomes.tab', sep='\\t', index_col=0)\n",
    "genomes.Organism = genomes.Organism.replace('\\s+\\(.+\\)$', '', regex=True)\n",
    "genomes.info()"
   ]
  },
  {
   "cell_type": "code",
   "execution_count": 67,
   "metadata": {},
   "outputs": [],
   "source": [
    "tree = ete3.Tree('species_tree')"
   ]
  },
  {
   "cell_type": "code",
   "execution_count": 68,
   "metadata": {},
   "outputs": [],
   "source": [
    "name_conversion = {}\n",
    "for index, row in genomes.iterrows():\n",
    "    if index.startswith('GC'):\n",
    "        name_conversion[row.abbreviation] = re.sub('\\.\\d+$', '', index, flags=re.M).replace('_', '')\n",
    "    else:\n",
    "        name_conversion[row.abbreviation] = row.accession.replace('_', '')"
   ]
  },
  {
   "cell_type": "code",
   "execution_count": 69,
   "metadata": {
    "scrolled": true
   },
   "outputs": [
    {
     "name": "stdout",
     "output_type": "stream",
     "text": [
      "p252353351\n",
      "Mp19866\n",
      "bin17\n",
      "94042\n",
      "bin41\n",
      "bin112\n",
      "SPA24623\n",
      "SPA14622\n",
      "bin9\n",
      "bin15\n",
      "bin55\n",
      "bin6\n",
      "bin10\n",
      "XAN1\n",
      "XAN14\n",
      "XAN12\n",
      "CCMP1991\n",
      "Spirulina\n",
      "BPC14624\n",
      "BPC24625\n",
      "BPSBNB246\n",
      "bin5\n",
      "94055\n",
      "bin16\n",
      "CCMP2136\n",
      "Cf1\n",
      "Vcartmito\n",
      "Creinhmit\n",
      "Cmerolaem\n",
      "Gsulphmit\n",
      "Chl377431\n"
     ]
    }
   ],
   "source": [
    "no_accession = []\n",
    "for leaf in tree.get_leaves():\n",
    "    if leaf.name in name_conversion:\n",
    "        leaf.name = name_conversion[leaf.name]\n",
    "    else:\n",
    "        leaf.name = leaf.name.replace('_', '')\n",
    "        print(leaf.name)\n",
    "        no_accession.append(leaf.name)"
   ]
  },
  {
   "cell_type": "code",
   "execution_count": 70,
   "metadata": {},
   "outputs": [],
   "source": [
    "tree.write(outfile='species_tree-renamed', format=5, dist_formatter='%.20f')"
   ]
  },
  {
   "cell_type": "markdown",
   "metadata": {},
   "source": [
    "#######################################################"
   ]
  },
  {
   "cell_type": "code",
   "execution_count": null,
   "metadata": {},
   "outputs": [],
   "source": [
    "tree    = ete3.Tree('species_tree-iqtree', format=1)\n",
    "genomes = pd.read_table('../genomes.tab', sep='\\t', index_col=0)\n",
    "genomes.Organism = genomes.Organism.replace('\\s+\\(.+\\)$', '', regex=True)\n",
    "genomes.info()"
   ]
  },
  {
   "cell_type": "code",
   "execution_count": null,
   "metadata": {},
   "outputs": [],
   "source": [
    "name_conversion = {}\n",
    "for index, row in genomes.iterrows():\n",
    "    if index.startswith('GC'):\n",
    "        name_conversion[row.Organism] = index\n",
    "    else:\n",
    "        name_conversion[row.Organism] = row.accession"
   ]
  },
  {
   "cell_type": "code",
   "execution_count": null,
   "metadata": {
    "scrolled": true
   },
   "outputs": [],
   "source": [
    "for leaf in tree.get_leaves():\n",
    "    if leaf.name in name_conversion:\n",
    "        leaf.name = name_conversion[leaf.name]\n",
    "    else:\n",
    "        print(leaf.name)"
   ]
  },
  {
   "cell_type": "code",
   "execution_count": null,
   "metadata": {},
   "outputs": [],
   "source": [
    "tree.write(outfile='species_tree-iqtree-renamed', format=9)"
   ]
  },
  {
   "cell_type": "code",
   "execution_count": null,
   "metadata": {},
   "outputs": [],
   "source": [
    "intersection_nodes = set(tree.get_leaf_names()).intersection(tmp.get_leaf_names())\n",
    "tree.prune(intersection_nodes)\n",
    "tmp.prune(intersection_nodes)"
   ]
  },
  {
   "cell_type": "code",
   "execution_count": null,
   "metadata": {},
   "outputs": [],
   "source": [
    "print(len(tmp.children[1]))\n",
    "\n",
    "outgroup = tree.get_common_ancestor(tmp.children[1].get_leaf_names())\n",
    "tree.set_outgroup(outgroup)\n",
    "print(len(tree.children[0]))"
   ]
  },
  {
   "cell_type": "code",
   "execution_count": null,
   "metadata": {
    "scrolled": false
   },
   "outputs": [],
   "source": [
    "print(tmp.children[1])\n",
    "print(tree.children[0])"
   ]
  }
 ],
 "metadata": {
  "kernelspec": {
   "display_name": "Python 3",
   "language": "python",
   "name": "python3"
  },
  "language_info": {
   "codemirror_mode": {
    "name": "ipython",
    "version": 3
   },
   "file_extension": ".py",
   "mimetype": "text/x-python",
   "name": "python",
   "nbconvert_exporter": "python",
   "pygments_lexer": "ipython3",
   "version": "3.7.1"
  }
 },
 "nbformat": 4,
 "nbformat_minor": 2
}
