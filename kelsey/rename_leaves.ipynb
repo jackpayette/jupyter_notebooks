{
 "cells": [
  {
   "cell_type": "code",
   "execution_count": 1,
   "metadata": {},
   "outputs": [
    {
     "name": "stdout",
     "output_type": "stream",
     "text": [
      "/work/kelsey/hgt\n"
     ]
    }
   ],
   "source": [
    "import ete3\n",
    "import pandas as pd\n",
    "import re\n",
    "\n",
    "%cd /work/kelsey/hgt/"
   ]
  },
  {
   "cell_type": "code",
   "execution_count": 4,
   "metadata": {},
   "outputs": [
    {
     "name": "stdout",
     "output_type": "stream",
     "text": [
      "<class 'pandas.core.frame.DataFrame'>\n",
      "Index: 141 entries, GCA_000006985.1 to 133\n",
      "Data columns (total 24 columns):\n",
      "bioproject                   110 non-null object\n",
      "biosample                    110 non-null object\n",
      "wgs_master                   44 non-null object\n",
      "refseq_category              110 non-null object\n",
      "taxid                        110 non-null float64\n",
      "species_taxid                110 non-null float64\n",
      "organism_name                110 non-null object\n",
      "infraspecific_name           102 non-null object\n",
      "isolate                      5 non-null object\n",
      "version_status               110 non-null object\n",
      "assembly_level               110 non-null object\n",
      "release_type                 110 non-null object\n",
      "genome_rep                   110 non-null object\n",
      "seq_rel_date                 110 non-null object\n",
      "asm_name                     110 non-null object\n",
      "submitter                    110 non-null object\n",
      "gbrs_paired_asm              110 non-null object\n",
      "paired_asm_comp              110 non-null object\n",
      "ftp_path                     110 non-null object\n",
      "excluded_from_refseq         6 non-null object\n",
      "relation_to_type_material    45 non-null object\n",
      "Organism                     141 non-null object\n",
      "abbreviation                 141 non-null object\n",
      "accession                    141 non-null object\n",
      "dtypes: float64(2), object(22)\n",
      "memory usage: 27.5+ KB\n"
     ]
    }
   ],
   "source": [
    "genomes = pd.read_table('../genomes.tab', sep='\\t', index_col=0)\n",
    "genomes.Organism = genomes.Organism.replace('\\s+\\(.+\\)$', '', regex=True)\n",
    "genomes.info()"
   ]
  },
  {
   "cell_type": "code",
   "execution_count": 2,
   "metadata": {},
   "outputs": [],
   "source": [
    "tree = ete3.Tree('species_tree')"
   ]
  },
  {
   "cell_type": "code",
   "execution_count": 5,
   "metadata": {},
   "outputs": [],
   "source": [
    "name_conversion = {}\n",
    "for index, row in genomes.iterrows():\n",
    "    if index.startswith('GC'):\n",
    "        name_conversion[row.abbreviation] = index\n",
    "    else:\n",
    "        name_conversion[row.abbreviation] = row.accession"
   ]
  },
  {
   "cell_type": "code",
   "execution_count": null,
   "metadata": {
    "scrolled": true
   },
   "outputs": [],
   "source": [
    "for leaf in tmp.get_leaves():\n",
    "    if leaf.name in name_conversion:\n",
    "        leaf.name = name_conversion[leaf.name]\n",
    "    else:\n",
    "        print(leaf.name)"
   ]
  },
  {
   "cell_type": "code",
   "execution_count": null,
   "metadata": {},
   "outputs": [],
   "source": [
    "tree    = ete3.Tree('species_tree-iqtree', format=1)\n",
    "genomes = pd.read_table('../genomes.tab', sep='\\t', index_col=0)\n",
    "genomes.Organism = genomes.Organism.replace('\\s+\\(.+\\)$', '', regex=True)\n",
    "genomes.info()"
   ]
  },
  {
   "cell_type": "code",
   "execution_count": null,
   "metadata": {},
   "outputs": [],
   "source": [
    "name_conversion = {}\n",
    "for index, row in genomes.iterrows():\n",
    "    if index.startswith('GC'):\n",
    "        name_conversion[row.Organism] = index\n",
    "    else:\n",
    "        name_conversion[row.Organism] = row.accession"
   ]
  },
  {
   "cell_type": "code",
   "execution_count": null,
   "metadata": {
    "scrolled": true
   },
   "outputs": [],
   "source": [
    "for leaf in tree.get_leaves():\n",
    "    if leaf.name in name_conversion:\n",
    "        leaf.name = name_conversion[leaf.name]\n",
    "    else:\n",
    "        print(leaf.name)"
   ]
  },
  {
   "cell_type": "code",
   "execution_count": null,
   "metadata": {},
   "outputs": [],
   "source": [
    "tree.write(outfile='species_tree-iqtree-renamed', format=9)"
   ]
  },
  {
   "cell_type": "code",
   "execution_count": null,
   "metadata": {},
   "outputs": [],
   "source": [
    "intersection_nodes = set(tree.get_leaf_names()).intersection(tmp.get_leaf_names())\n",
    "tree.prune(intersection_nodes)\n",
    "tmp.prune(intersection_nodes)"
   ]
  },
  {
   "cell_type": "code",
   "execution_count": null,
   "metadata": {},
   "outputs": [],
   "source": [
    "print(len(tmp.children[1]))\n",
    "\n",
    "outgroup = tree.get_common_ancestor(tmp.children[1].get_leaf_names())\n",
    "tree.set_outgroup(outgroup)\n",
    "print(len(tree.children[0]))"
   ]
  },
  {
   "cell_type": "code",
   "execution_count": null,
   "metadata": {
    "scrolled": false
   },
   "outputs": [],
   "source": [
    "print(tmp.children[1])\n",
    "print(tree.children[0])"
   ]
  }
 ],
 "metadata": {
  "kernelspec": {
   "display_name": "Python 3",
   "language": "python",
   "name": "python3"
  },
  "language_info": {
   "codemirror_mode": {
    "name": "ipython",
    "version": 3
   },
   "file_extension": ".py",
   "mimetype": "text/x-python",
   "name": "python",
   "nbconvert_exporter": "python",
   "pygments_lexer": "ipython3",
   "version": "3.7.1"
  }
 },
 "nbformat": 4,
 "nbformat_minor": 2
}
