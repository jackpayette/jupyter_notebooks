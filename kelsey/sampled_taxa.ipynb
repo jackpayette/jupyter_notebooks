{
 "cells": [
  {
   "cell_type": "code",
   "execution_count": 2,
   "metadata": {},
   "outputs": [],
   "source": [
    "import jdc\n",
    "import pandas as pd\n",
    "import ftplib as ftp\n",
    "from ete3 import NCBITaxa\n",
    "ncbi = NCBITaxa()"
   ]
  },
  {
   "cell_type": "code",
   "execution_count": 3,
   "metadata": {},
   "outputs": [],
   "source": [
    "class cd:\n",
    "    \"\"\"\n",
    "    Context manager for changing the current working directory\n",
    "    \"\"\"\n",
    "    def __init__(self, newPath):\n",
    "        self.newPath = os.path.expanduser(newPath)\n",
    "\n",
    "    def __enter__(self):\n",
    "        self.savedPath = os.getcwd()\n",
    "        os.chdir(self.newPath)\n",
    "\n",
    "    def __exit__(self, etype, value, traceback):\n",
    "        os.chdir(self.savedPath)"
   ]
  },
  {
   "cell_type": "code",
   "execution_count": 4,
   "metadata": {},
   "outputs": [],
   "source": [
    "class taxa_sample(object):\n",
    "    def __init__(self,\n",
    "                 assembly_summary='/work/ncbi_dbs/assembly_summary_genbank.txt'):\n",
    "        \n",
    "        header = 'assembly_accession bioproject biosample wgs_master refseq_category\\\n",
    "          taxid species_taxid organism_name infraspecific_name isolate version_status\\\n",
    "          assembly_level release_type genome_rep seq_rel_date asm_name submitter\\\n",
    "          gbrs_paired_asm paired_asm_comp ftp_path excluded_from_refseq relation_to_type_material'.split()\n",
    "        self.assembly_summary = pd.read_table(assembly_summary,\n",
    "                                         comment='#', header=None, names=header,\n",
    "                                         dtype={'taxid':str, 'infraspecific_name':str})\n",
    "        self.assembly_summary['refseq_category']  = self.assembly_summary['refseq_category'].str.lower()\n",
    "        self.assembly_summary['assembly_level']   = self.assembly_summary['assembly_level'].str.lower()\n",
    "        self.assembly_summary['genome_rep']       = self.assembly_summary['genome_rep'].str.lower()\n",
    "        self.assembly_summary.set_index('assembly_accession', inplace=True)\n",
    "        \n",
    "        self.refseq_summary = pd.read_table('/work/ncbi_dbs/assembly_summary_refseq.txt',\n",
    "                                         comment='#', header=None, names=header,\n",
    "                                         dtype={'taxid':str, 'infraspecific_name':str})\n",
    "        self.refseq_summary['refseq_category']  = self.refseq_summary['refseq_category'].str.lower()\n",
    "        self.refseq_summary['assembly_level']   = self.refseq_summary['assembly_level'].str.lower()\n",
    "        self.refseq_summary['genome_rep']       = self.refseq_summary['genome_rep'].str.lower()\n",
    "        self.refseq_summary.set_index('assembly_accession', inplace=True)\n",
    "        self.genome_taxids = None"
   ]
  },
  {
   "cell_type": "code",
   "execution_count": 5,
   "metadata": {},
   "outputs": [],
   "source": [
    "%%add_to taxa_sample\n",
    "def download_genome(self, sub_table, destination_folder='.'):\n",
    "    ncbi_ftp = ftp.FTP('ftp.ncbi.nlm.nih.gov')\n",
    "    ncbi_ftp.login()\n",
    "    succesful_download = []\n",
    "    for index, row in sub_table.iterrows():\n",
    "        ncbi_ftp.cwd('/')\n",
    "        path = row['ftp_path'].replace('ftp://ftp.ncbi.nlm.nih.gov/', '')\n",
    "        try:\n",
    "            ncbi_ftp.cwd(path)\n",
    "        except:\n",
    "            continue\n",
    "        assembly_files = ncbi_ftp.nlst()\n",
    "        for assembly_file in assembly_files:\n",
    "            if assembly_file.endswith('protein.faa.gz'):\n",
    "                handle = open('%s/%s.gz' % (destination_folder, index), 'wb')\n",
    "                ncbi_ftp.retrbinary(\"RETR %s\" % assembly_file, handle.write)\n",
    "                succesful_download.append(index)\n",
    "    ncbi_ftp.quit()\n",
    "    return succesful_download"
   ]
  },
  {
   "cell_type": "code",
   "execution_count": 6,
   "metadata": {},
   "outputs": [],
   "source": [
    "%%add_to taxa_sample\n",
    "def prune_taxa(self, accession_numbers, assembly_level='contig', genome_rep='partial'):\n",
    "    tmp_df = self.assembly_summary.loc[accession_numbers,\n",
    "                                       'assembly_level genome_rep'.split()].copy()\n",
    "    tmp_df = tmp_df[(tmp_df.assembly_level != assembly_level) &\n",
    "                    (tmp_df.genome_rep     != genome_rep)]\n",
    "\n",
    "    return tmp_df.index.tolist()"
   ]
  },
  {
   "cell_type": "code",
   "execution_count": 7,
   "metadata": {},
   "outputs": [],
   "source": [
    "%%add_to taxa_sample\n",
    "def genomes_from_taxon(self, target_taxon):\n",
    "    if not self.genome_taxids:\n",
    "        self.genome_taxids = ','.join(set(self.assembly_summary.taxid.tolist()))\n",
    "    query  = ncbi.db.execute(\"SELECT taxid FROM species WHERE taxid IN (%s) AND \\\n",
    "                             ',' || track || ',' like '%%,%s,%%';\" %\n",
    "                             (self.genome_taxids, target_taxon))\n",
    "    found_taxids = [str(x[0]) for x in query.fetchall()]\n",
    "    return self.assembly_summary.index[\n",
    "        self.assembly_summary.taxid.isin(found_taxids)\n",
    "    ].tolist()"
   ]
  },
  {
   "cell_type": "code",
   "execution_count": 8,
   "metadata": {},
   "outputs": [
    {
     "name": "stdout",
     "output_type": "stream",
     "text": [
      "/work/kelsey\n"
     ]
    },
    {
     "name": "stderr",
     "output_type": "stream",
     "text": [
      "/Users/thiberio/anaconda2/envs/py37/lib/python3.7/site-packages/IPython/core/interactiveshell.py:3185: DtypeWarning: Columns (20) have mixed types. Specify dtype option on import or set low_memory=False.\n",
      "  if (yield from self.run_code(code, result)):\n"
     ]
    }
   ],
   "source": [
    "import os\n",
    "import shutil\n",
    "import subprocess\n",
    "import re\n",
    "import numpy as np\n",
    "import time\n",
    "from Bio import Entrez, SeqIO\n",
    "Entrez.email = \"lthiberiol@gmail.com\"\n",
    "\n",
    "genome_sample = taxa_sample()\n",
    "%cd /work/kelsey/"
   ]
  },
  {
   "cell_type": "code",
   "execution_count": 11,
   "metadata": {},
   "outputs": [],
   "source": [
    "genomes = pd.read_excel('/work/kelsey/Kelsey_CYPL_key_accessionNumbers_modified_4-2-19.xlsx',\n",
    "                        header=None,\n",
    "                        names='Organism abbreviation accession'.split())"
   ]
  },
  {
   "cell_type": "code",
   "execution_count": 12,
   "metadata": {},
   "outputs": [],
   "source": [
    "sample_accession   = genomes.query('accession==accession and accession.str.startswith(\"SAM\")').accession.tolist()\n",
    "project_accession  = genomes.query('accession==accession and accession.str.startswith(\"PRJ\")').accession.tolist()\n",
    "assembly_accession = genomes.query('accession==accession and accession.str.startswith(\"GC\")').accession.tolist()"
   ]
  },
  {
   "cell_type": "code",
   "execution_count": 53,
   "metadata": {},
   "outputs": [
    {
     "data": {
      "text/plain": [
       "140"
      ]
     },
     "execution_count": 53,
     "metadata": {},
     "output_type": "execute_result"
    }
   ],
   "source": [
    "len(sample_accession)+len(project_accession)+len(assembly_accession)"
   ]
  },
  {
   "cell_type": "code",
   "execution_count": 10,
   "metadata": {
    "scrolled": true
   },
   "outputs": [
    {
     "name": "stdout",
     "output_type": "stream",
     "text": [
      "PRJNA12230\n",
      "PRJNA325991\n",
      "PRJNA12239\n",
      "PRJNA238126\n",
      "PRJNA356572\n",
      "PRJNA19853\n",
      "PRJNA21061\n",
      "PRJNA15743\n",
      "PRJNA50277\n",
      "PRJNA41869\n",
      "PRJNA20387\n",
      "PRJNA66177\n",
      "PRJNA314878\n",
      "PRJNA13599\n",
      "PRJNA267422\n",
      "PRJNA50237\n",
      "PRJNA291892\n",
      "PRJDB3738\n",
      "PRJNA12234\n",
      "PRJNA218133\n",
      "PRJNA12229\n",
      "PRJNA45999\n",
      "PRJNA18283\n",
      "PRJNA28131\n",
      "PRJNA232187\n",
      "PRJNA287360\n",
      "PRJNA16670\n",
      "PRJNA344076\n",
      "PRJNA20561\n",
      "PRJNA81371\n",
      "PRJNA17049\n"
     ]
    }
   ],
   "source": [
    "missing_prj = [x for x in project_accession\n",
    "                  if x not in genome_sample.assembly_summary.bioproject.tolist()]\n",
    "for bioprj in missing_prj:\n",
    "    print(bioprj)\n",
    "    handle = Entrez.esearch(db=\"nucleotide\", term=bioprj)\n",
    "    record = Entrez.read(handle)\n",
    "    \n",
    "    gb     = Entrez.efetch(db='nucleotide',\n",
    "                           id=record['IdList'][0],\n",
    "                           rettype=\"gb\",\n",
    "                           retmode=\"text\").read()\n",
    "    out    = open('hgt/missing_bioprj/%s.gb' % bioprj, 'w')\n",
    "    out.write(gb)\n",
    "    out.close()\n",
    "    time.sleep(3)"
   ]
  },
  {
   "cell_type": "code",
   "execution_count": 13,
   "metadata": {},
   "outputs": [],
   "source": [
    "genbank_genomes = genome_sample.assembly_summary.query(\n",
    "    'biosample.isin(@sample_accession) or \\\n",
    "     bioproject.isin(@project_accession) or \\\n",
    "     index.isin(@assembly_accession)')\n",
    "\n",
    "refseq_genomes = genome_sample.refseq_summary.query(\n",
    "    'biosample.isin(@sample_accession) or \\\n",
    "     bioproject.isin(@project_accession) or \\\n",
    "     index.isin(@assembly_accession)').copy()\n",
    "refseq_genomes.drop(genbank_genomes.gbrs_paired_asm,\n",
    "                    errors='ignore', inplace=True)"
   ]
  },
  {
   "cell_type": "code",
   "execution_count": 39,
   "metadata": {},
   "outputs": [],
   "source": [
    "ncbi_genomes = genbank_genomes.append(refseq_genomes)\n",
    "ncbi_genomes['assembly_accession'] = ncbi_genomes.index"
   ]
  },
  {
   "cell_type": "code",
   "execution_count": 42,
   "metadata": {
    "scrolled": true
   },
   "outputs": [],
   "source": [
    "tmp1 = ncbi_genomes.merge(genomes, left_on='biosample' , right_on='accession')\n",
    "tmp2 = ncbi_genomes.merge(genomes, left_on='bioproject', right_on='accession')\n",
    "tmp3 = ncbi_genomes.merge(genomes, left_index=True     , right_on='accession')"
   ]
  },
  {
   "cell_type": "code",
   "execution_count": 50,
   "metadata": {},
   "outputs": [
    {
     "data": {
      "text/html": [
       "<div>\n",
       "<style scoped>\n",
       "    .dataframe tbody tr th:only-of-type {\n",
       "        vertical-align: middle;\n",
       "    }\n",
       "\n",
       "    .dataframe tbody tr th {\n",
       "        vertical-align: top;\n",
       "    }\n",
       "\n",
       "    .dataframe thead th {\n",
       "        text-align: right;\n",
       "    }\n",
       "</style>\n",
       "<table border=\"1\" class=\"dataframe\">\n",
       "  <thead>\n",
       "    <tr style=\"text-align: right;\">\n",
       "      <th></th>\n",
       "      <th>bioproject</th>\n",
       "      <th>biosample</th>\n",
       "      <th>wgs_master</th>\n",
       "      <th>refseq_category</th>\n",
       "      <th>taxid</th>\n",
       "      <th>species_taxid</th>\n",
       "      <th>organism_name</th>\n",
       "      <th>infraspecific_name</th>\n",
       "      <th>isolate</th>\n",
       "      <th>version_status</th>\n",
       "      <th>...</th>\n",
       "      <th>asm_name</th>\n",
       "      <th>submitter</th>\n",
       "      <th>gbrs_paired_asm</th>\n",
       "      <th>paired_asm_comp</th>\n",
       "      <th>ftp_path</th>\n",
       "      <th>excluded_from_refseq</th>\n",
       "      <th>relation_to_type_material</th>\n",
       "      <th>Organism</th>\n",
       "      <th>abbreviation</th>\n",
       "      <th>accession</th>\n",
       "    </tr>\n",
       "    <tr>\n",
       "      <th>assembly_accession</th>\n",
       "      <th></th>\n",
       "      <th></th>\n",
       "      <th></th>\n",
       "      <th></th>\n",
       "      <th></th>\n",
       "      <th></th>\n",
       "      <th></th>\n",
       "      <th></th>\n",
       "      <th></th>\n",
       "      <th></th>\n",
       "      <th></th>\n",
       "      <th></th>\n",
       "      <th></th>\n",
       "      <th></th>\n",
       "      <th></th>\n",
       "      <th></th>\n",
       "      <th></th>\n",
       "      <th></th>\n",
       "      <th></th>\n",
       "      <th></th>\n",
       "      <th></th>\n",
       "    </tr>\n",
       "  </thead>\n",
       "  <tbody>\n",
       "    <tr>\n",
       "      <th>GCA_000006985.1</th>\n",
       "      <td>PRJNA302</td>\n",
       "      <td>SAMN02604006</td>\n",
       "      <td>NaN</td>\n",
       "      <td>reference genome</td>\n",
       "      <td>194439</td>\n",
       "      <td>1097</td>\n",
       "      <td>Chlorobaculum tepidum TLS</td>\n",
       "      <td>strain=TLS</td>\n",
       "      <td>NaN</td>\n",
       "      <td>latest</td>\n",
       "      <td>...</td>\n",
       "      <td>ASM698v1</td>\n",
       "      <td>TIGR</td>\n",
       "      <td>GCF_000006985.1</td>\n",
       "      <td>identical</td>\n",
       "      <td>ftp://ftp.ncbi.nlm.nih.gov/genomes/all/GCA/000...</td>\n",
       "      <td>NaN</td>\n",
       "      <td>assembly from type material</td>\n",
       "      <td>Chl_194439.7 (Chlorobium_tepidum)</td>\n",
       "      <td>Chl0</td>\n",
       "      <td>SAMN02604006</td>\n",
       "    </tr>\n",
       "    <tr>\n",
       "      <th>GCA_000007925.1</th>\n",
       "      <td>PRJNA419</td>\n",
       "      <td>SAMN02603142</td>\n",
       "      <td>NaN</td>\n",
       "      <td>reference genome</td>\n",
       "      <td>167539</td>\n",
       "      <td>1219</td>\n",
       "      <td>Prochlorococcus marinus subsp. marinus str. CC...</td>\n",
       "      <td>strain=CCMP1375; SS120</td>\n",
       "      <td>NaN</td>\n",
       "      <td>latest</td>\n",
       "      <td>...</td>\n",
       "      <td>ASM792v1</td>\n",
       "      <td>CNRS</td>\n",
       "      <td>GCF_000007925.1</td>\n",
       "      <td>identical</td>\n",
       "      <td>ftp://ftp.ncbi.nlm.nih.gov/genomes/all/GCA/000...</td>\n",
       "      <td>NaN</td>\n",
       "      <td>assembly from type material</td>\n",
       "      <td>Prochlorococcus_marinus_str_CCMP1375</td>\n",
       "      <td>P_CCMP1375</td>\n",
       "      <td>SAMN02603142</td>\n",
       "    </tr>\n",
       "    <tr>\n",
       "      <th>GCA_000011385.1</th>\n",
       "      <td>PRJNA9606</td>\n",
       "      <td>SAMD00061120</td>\n",
       "      <td>NaN</td>\n",
       "      <td>reference genome</td>\n",
       "      <td>251221</td>\n",
       "      <td>33072</td>\n",
       "      <td>Gloeobacter violaceus PCC 7421</td>\n",
       "      <td>strain=PCC 7421</td>\n",
       "      <td>NaN</td>\n",
       "      <td>latest</td>\n",
       "      <td>...</td>\n",
       "      <td>ASM1138v1</td>\n",
       "      <td>Kazusa</td>\n",
       "      <td>GCF_000011385.1</td>\n",
       "      <td>identical</td>\n",
       "      <td>ftp://ftp.ncbi.nlm.nih.gov/genomes/all/GCA/000...</td>\n",
       "      <td>NaN</td>\n",
       "      <td>assembly from type material</td>\n",
       "      <td>Gloeobacter_violaceus_PCC_7421</td>\n",
       "      <td>G_violaceu</td>\n",
       "      <td>SAMD00061120</td>\n",
       "    </tr>\n",
       "    <tr>\n",
       "      <th>GCA_000011485.1</th>\n",
       "      <td>PRJNA220</td>\n",
       "      <td>SAMEA3138210</td>\n",
       "      <td>NaN</td>\n",
       "      <td>representative genome</td>\n",
       "      <td>74547</td>\n",
       "      <td>1219</td>\n",
       "      <td>Prochlorococcus marinus str. MIT 9313</td>\n",
       "      <td>strain=MIT9313</td>\n",
       "      <td>NaN</td>\n",
       "      <td>latest</td>\n",
       "      <td>...</td>\n",
       "      <td>ASM1148v1</td>\n",
       "      <td>DOE Joint Genome Institute</td>\n",
       "      <td>GCF_000011485.1</td>\n",
       "      <td>identical</td>\n",
       "      <td>ftp://ftp.ncbi.nlm.nih.gov/genomes/all/GCA/000...</td>\n",
       "      <td>NaN</td>\n",
       "      <td>NaN</td>\n",
       "      <td>Prochlorococcus_marinus_MIT_9313</td>\n",
       "      <td>P_marinus</td>\n",
       "      <td>SAMEA3138210</td>\n",
       "    </tr>\n",
       "    <tr>\n",
       "      <th>GCA_000012345.1</th>\n",
       "      <td>PRJNA13989</td>\n",
       "      <td>SAMN02603690</td>\n",
       "      <td>NaN</td>\n",
       "      <td>na</td>\n",
       "      <td>335992</td>\n",
       "      <td>198252</td>\n",
       "      <td>Candidatus Pelagibacter ubique HTCC1062</td>\n",
       "      <td>strain=HTCC1062</td>\n",
       "      <td>NaN</td>\n",
       "      <td>latest</td>\n",
       "      <td>...</td>\n",
       "      <td>ASM1234v1</td>\n",
       "      <td>Oregon State University</td>\n",
       "      <td>GCF_000012345.1</td>\n",
       "      <td>identical</td>\n",
       "      <td>ftp://ftp.ncbi.nlm.nih.gov/genomes/all/GCA/000...</td>\n",
       "      <td>NaN</td>\n",
       "      <td>assembly from type material</td>\n",
       "      <td>Candidatus_Pelagibacter</td>\n",
       "      <td>Cand_Pelag</td>\n",
       "      <td>SAMN02603690</td>\n",
       "    </tr>\n",
       "  </tbody>\n",
       "</table>\n",
       "<p>5 rows × 24 columns</p>\n",
       "</div>"
      ],
      "text/plain": [
       "                    bioproject     biosample wgs_master  \\\n",
       "assembly_accession                                        \n",
       "GCA_000006985.1       PRJNA302  SAMN02604006        NaN   \n",
       "GCA_000007925.1       PRJNA419  SAMN02603142        NaN   \n",
       "GCA_000011385.1      PRJNA9606  SAMD00061120        NaN   \n",
       "GCA_000011485.1       PRJNA220  SAMEA3138210        NaN   \n",
       "GCA_000012345.1     PRJNA13989  SAMN02603690        NaN   \n",
       "\n",
       "                          refseq_category   taxid  species_taxid  \\\n",
       "assembly_accession                                                 \n",
       "GCA_000006985.1          reference genome  194439           1097   \n",
       "GCA_000007925.1          reference genome  167539           1219   \n",
       "GCA_000011385.1          reference genome  251221          33072   \n",
       "GCA_000011485.1     representative genome   74547           1219   \n",
       "GCA_000012345.1                        na  335992         198252   \n",
       "\n",
       "                                                        organism_name  \\\n",
       "assembly_accession                                                      \n",
       "GCA_000006985.1                             Chlorobaculum tepidum TLS   \n",
       "GCA_000007925.1     Prochlorococcus marinus subsp. marinus str. CC...   \n",
       "GCA_000011385.1                        Gloeobacter violaceus PCC 7421   \n",
       "GCA_000011485.1                 Prochlorococcus marinus str. MIT 9313   \n",
       "GCA_000012345.1               Candidatus Pelagibacter ubique HTCC1062   \n",
       "\n",
       "                        infraspecific_name isolate version_status  \\\n",
       "assembly_accession                                                  \n",
       "GCA_000006985.1                 strain=TLS     NaN         latest   \n",
       "GCA_000007925.1     strain=CCMP1375; SS120     NaN         latest   \n",
       "GCA_000011385.1            strain=PCC 7421     NaN         latest   \n",
       "GCA_000011485.1             strain=MIT9313     NaN         latest   \n",
       "GCA_000012345.1            strain=HTCC1062     NaN         latest   \n",
       "\n",
       "                        ...        asm_name                   submitter  \\\n",
       "assembly_accession      ...                                               \n",
       "GCA_000006985.1         ...        ASM698v1                        TIGR   \n",
       "GCA_000007925.1         ...        ASM792v1                        CNRS   \n",
       "GCA_000011385.1         ...       ASM1138v1                      Kazusa   \n",
       "GCA_000011485.1         ...       ASM1148v1  DOE Joint Genome Institute   \n",
       "GCA_000012345.1         ...       ASM1234v1     Oregon State University   \n",
       "\n",
       "                    gbrs_paired_asm paired_asm_comp  \\\n",
       "assembly_accession                                    \n",
       "GCA_000006985.1     GCF_000006985.1       identical   \n",
       "GCA_000007925.1     GCF_000007925.1       identical   \n",
       "GCA_000011385.1     GCF_000011385.1       identical   \n",
       "GCA_000011485.1     GCF_000011485.1       identical   \n",
       "GCA_000012345.1     GCF_000012345.1       identical   \n",
       "\n",
       "                                                             ftp_path  \\\n",
       "assembly_accession                                                      \n",
       "GCA_000006985.1     ftp://ftp.ncbi.nlm.nih.gov/genomes/all/GCA/000...   \n",
       "GCA_000007925.1     ftp://ftp.ncbi.nlm.nih.gov/genomes/all/GCA/000...   \n",
       "GCA_000011385.1     ftp://ftp.ncbi.nlm.nih.gov/genomes/all/GCA/000...   \n",
       "GCA_000011485.1     ftp://ftp.ncbi.nlm.nih.gov/genomes/all/GCA/000...   \n",
       "GCA_000012345.1     ftp://ftp.ncbi.nlm.nih.gov/genomes/all/GCA/000...   \n",
       "\n",
       "                   excluded_from_refseq    relation_to_type_material  \\\n",
       "assembly_accession                                                     \n",
       "GCA_000006985.1                     NaN  assembly from type material   \n",
       "GCA_000007925.1                     NaN  assembly from type material   \n",
       "GCA_000011385.1                     NaN  assembly from type material   \n",
       "GCA_000011485.1                     NaN                          NaN   \n",
       "GCA_000012345.1                     NaN  assembly from type material   \n",
       "\n",
       "                                                Organism abbreviation  \\\n",
       "assembly_accession                                                      \n",
       "GCA_000006985.1        Chl_194439.7 (Chlorobium_tepidum)         Chl0   \n",
       "GCA_000007925.1     Prochlorococcus_marinus_str_CCMP1375   P_CCMP1375   \n",
       "GCA_000011385.1           Gloeobacter_violaceus_PCC_7421   G_violaceu   \n",
       "GCA_000011485.1         Prochlorococcus_marinus_MIT_9313    P_marinus   \n",
       "GCA_000012345.1                  Candidatus_Pelagibacter   Cand_Pelag   \n",
       "\n",
       "                       accession  \n",
       "assembly_accession                \n",
       "GCA_000006985.1     SAMN02604006  \n",
       "GCA_000007925.1     SAMN02603142  \n",
       "GCA_000011385.1     SAMD00061120  \n",
       "GCA_000011485.1     SAMEA3138210  \n",
       "GCA_000012345.1     SAMN02603690  \n",
       "\n",
       "[5 rows x 24 columns]"
      ]
     },
     "execution_count": 50,
     "metadata": {},
     "output_type": "execute_result"
    }
   ],
   "source": [
    "full_genome_df = tmp1.append(tmp2)\n",
    "full_genome_df = full_genome_df.append(tmp3)\n",
    "full_genome_df.set_index('assembly_accession', inplace=True)\n",
    "full_genome_df.head()"
   ]
  },
  {
   "cell_type": "code",
   "execution_count": 82,
   "metadata": {},
   "outputs": [],
   "source": [
    "missing_bioprj = [filename.replace('.gb', '') for filename in os.listdir('hgt/missing_bioprj/')]\n",
    "missing_bioprj = genomes[genomes.accession.isin(missing_bioprj)].copy()"
   ]
  },
  {
   "cell_type": "code",
   "execution_count": 89,
   "metadata": {},
   "outputs": [],
   "source": [
    "full_genome_df = full_genome_df.append(missing_bioprj, sort=False)"
   ]
  },
  {
   "cell_type": "code",
   "execution_count": 90,
   "metadata": {},
   "outputs": [],
   "source": [
    "full_genome_df.to_csv('genomes.tab', sep='\\t')"
   ]
  },
  {
   "cell_type": "code",
   "execution_count": 23,
   "metadata": {},
   "outputs": [
    {
     "data": {
      "text/plain": [
       "((107, 21), (3, 21), (110, 21))"
      ]
     },
     "execution_count": 23,
     "metadata": {},
     "output_type": "execute_result"
    }
   ],
   "source": [
    "genbank_genomes.shape, refseq_genomes.shape, ncbi_genomes.shape"
   ]
  },
  {
   "cell_type": "code",
   "execution_count": 14,
   "metadata": {},
   "outputs": [],
   "source": [
    "downloaded_genomes = []\n",
    "with cd('hgt/genomes/'):\n",
    "    downloaded_genomes.extend(genome_sample.download_genome(genbank_genomes, destination_folder='../sources/'))\n",
    "    downloaded_genomes.extend(genome_sample.download_genome(refseq_genomes, destination_folder='../sources/'))\n",
    "    for genome in downloaded_genomes:\n",
    "        subprocess.call(['gunzip', '../sources/%s.gz' % genome])\n",
    "\n",
    "\n",
    "        fasta = open('../sources/%s' % genome).readlines()\n",
    "        out   = open('%s.faa' % genome, 'w')\n",
    "        for line in fasta:\n",
    "            if line.startswith('>'):\n",
    "                sequence_acc = re.search('^>(\\S+)', line, re.M).group(1)\n",
    "                row = None\n",
    "                try:\n",
    "                    row = genome_sample.assembly_summary.loc[genome]\n",
    "                except KeyError:\n",
    "                    row = genome_sample.refseq_summary.loc[genome]\n",
    "\n",
    "                organism = row['organism_name']\n",
    "\n",
    "                strain = ''\n",
    "                if pd.notnull(row['infraspecific_name']):\n",
    "                    strain  = row['infraspecific_name'].replace('strain=', '')\n",
    "                if not organism.endswith(strain):\n",
    "                    organism = '%s %s' % (organism, strain)\n",
    "                new_header   = '>%s|%s [%s]\\n' % (sequence_acc, genome, organism)\n",
    "\n",
    "                out.write(new_header)\n",
    "            else:\n",
    "                out.write(line)\n",
    "        out.close()"
   ]
  },
  {
   "cell_type": "code",
   "execution_count": 15,
   "metadata": {},
   "outputs": [],
   "source": [
    "with cd('hgt/missing_bioprj/'):\n",
    "    for filename in os.listdir('.'):\n",
    "        gb    = SeqIO.read(filename, 'gb')\n",
    "        accession = filename.replace('.gb', '')\n",
    "        fasta = open('../genomes/%s.faa' % accession, 'w')\n",
    "        for feature in gb.features:\n",
    "            if feature.type != 'CDS':\n",
    "                continue\n",
    "            try:\n",
    "                seq_id = feature.qualifiers['locus_tag'][0]\n",
    "            except KeyError:\n",
    "                seq_id = feature.qualifiers['protein_id'][0]\n",
    "            \n",
    "            fasta.write('>%s|%s [%s]\\n%s\\n' % \n",
    "                       (seq_id,\n",
    "                        accession,\n",
    "                        gb.annotations['organism'],\n",
    "                        feature.qualifiers['translation'][0]))\n",
    "        fasta.close()"
   ]
  },
  {
   "cell_type": "code",
   "execution_count": 23,
   "metadata": {},
   "outputs": [
    {
     "data": {
      "text/plain": [
       "set()"
      ]
     },
     "execution_count": 23,
     "metadata": {},
     "output_type": "execute_result"
    }
   ],
   "source": [
    "set(os.listdir('hgt/genomes-old//')).difference(os.listdir('hgt/genomes/'))"
   ]
  }
 ],
 "metadata": {
  "kernelspec": {
   "display_name": "Python 3",
   "language": "python",
   "name": "python3"
  },
  "language_info": {
   "codemirror_mode": {
    "name": "ipython",
    "version": 3
   },
   "file_extension": ".py",
   "mimetype": "text/x-python",
   "name": "python",
   "nbconvert_exporter": "python",
   "pygments_lexer": "ipython3",
   "version": "3.7.1"
  }
 },
 "nbformat": 4,
 "nbformat_minor": 2
}
