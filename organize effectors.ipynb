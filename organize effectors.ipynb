{
 "cells": [
  {
   "cell_type": "code",
   "execution_count": 34,
   "metadata": {},
   "outputs": [
    {
     "name": "stdout",
     "output_type": "stream",
     "text": [
      "/Users/thiberio/t3ss_effectors\n"
     ]
    }
   ],
   "source": [
    "import pandas as pd\n",
    "from Bio import SeqIO\n",
    "import os\n",
    "\n",
    "%cd ~/t3ss_effectors/"
   ]
  },
  {
   "cell_type": "code",
   "execution_count": 45,
   "metadata": {},
   "outputs": [],
   "source": [
    "aeromonas_names = pd.read_table('ThiberioHG_21Feb17.translate', index_col=0)"
   ]
  },
  {
   "cell_type": "code",
   "execution_count": 52,
   "metadata": {},
   "outputs": [],
   "source": [
    "for faa in os.listdir('.'):\n",
    "    if not faa.endswith('.faa'):\n",
    "        continue\n",
    "\n",
    "    fasta = open(faa).read().split('>')\n",
    "    fasta.pop(0)\n",
    "    out = open('effector_sequences/%s'  % faa, 'w')\n",
    "    for block in fasta:\n",
    "        header   = block.split('\\n')[0]\n",
    "        if header.startswith('gi|'):\n",
    "            continue\n",
    "        sequence = ''.join(block.split('\\n')[1:])\n",
    "\n",
    "        if header.count('|') == 0:\n",
    "            genome = header.strip()\n",
    "            genome = aeromonas_names.loc[genome].squeeze()\n",
    "            out.write('>%s\\n%s\\n' % (genome, sequence))\n",
    "        elif header.count('|') == 1:\n",
    "            if 'contig' in header:\n",
    "                genome, seq_id = header.split('|')\n",
    "            else:\n",
    "                seq_id, genome = header.split('|')\n",
    "            genome = aeromonas_names.loc[genome].squeeze()\n",
    "            out.write('>%s [%s]\\n%s\\n' % (seq_id, genome, sequence))\n",
    "        else:\n",
    "            genome, contig, location = header.split('|')\n",
    "            genome = aeromonas_names.loc[genome].squeeze()\n",
    "            out.write('>%s [%s]\\n%s\\n' % (location, genome, sequence))\n",
    "    out.close()"
   ]
  },
  {
   "cell_type": "code",
   "execution_count": 53,
   "metadata": {},
   "outputs": [],
   "source": [
    "for faa in os.listdir('.'):\n",
    "    if not faa.endswith('.fna'):\n",
    "        continue\n",
    "\n",
    "    fasta = open(faa).read().split('>')\n",
    "    fasta.pop(0)\n",
    "    out = open('effector_sequences/%s'  % faa, 'w')\n",
    "    for block in fasta:\n",
    "        header   = block.split('\\n')[0]\n",
    "        if header.startswith('gi|'):\n",
    "            continue\n",
    "        sequence = ''.join(block.split('\\n')[1:])\n",
    "\n",
    "        if header.count('|') == 0:\n",
    "            genome = header.strip()\n",
    "            genome = aeromonas_names.loc[genome].squeeze()\n",
    "            out.write('>%s\\n%s\\n' % (genome, sequence))\n",
    "        elif header.count('|') == 1:\n",
    "            if 'contig' in header:\n",
    "                genome, seq_id = header.split('|')\n",
    "            else:\n",
    "                seq_id, genome = header.split('|')\n",
    "            genome = aeromonas_names.loc[genome].squeeze()\n",
    "            out.write('>%s [%s]\\n%s\\n' % (seq_id, genome, sequence))\n",
    "        else:\n",
    "            genome, contig, location = header.split('|')\n",
    "            genome = aeromonas_names.loc[genome].squeeze()\n",
    "            out.write('>%s [%s]\\n%s\\n' % (location, genome, sequence))\n",
    "    out.close()"
   ]
  },
  {
   "cell_type": "code",
   "execution_count": 51,
   "metadata": {},
   "outputs": [
    {
     "data": {
      "text/plain": [
       "'AopO.faa'"
      ]
     },
     "execution_count": 51,
     "metadata": {},
     "output_type": "execute_result"
    }
   ],
   "source": []
  }
 ],
 "metadata": {
  "kernelspec": {
   "display_name": "Python 3",
   "language": "python",
   "name": "python3"
  },
  "language_info": {
   "codemirror_mode": {
    "name": "ipython",
    "version": 3
   },
   "file_extension": ".py",
   "mimetype": "text/x-python",
   "name": "python",
   "nbconvert_exporter": "python",
   "pygments_lexer": "ipython3",
   "version": "3.7.1"
  }
 },
 "nbformat": 4,
 "nbformat_minor": 2
}
