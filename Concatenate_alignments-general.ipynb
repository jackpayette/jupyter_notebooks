{
 "cells": [
  {
   "cell_type": "code",
   "execution_count": null,
   "metadata": {},
   "outputs": [],
   "source": [
    "from Bio import AlignIO, SeqIO, Align, Alphabet\n",
    "import pandas as pd\n",
    "import os, re, sys\n",
    "from copy import deepcopy\n",
    "\n",
    "aln_extension = '.aln'\n",
    "%cd /base/alignment/folder/"
   ]
  },
  {
   "cell_type": "code",
   "execution_count": null,
   "metadata": {},
   "outputs": [],
   "source": [
    "aln_alphabet = Alphabet.Gapped(Alphabet.IUPAC.ambiguous_dna)\n",
    "\n",
    "genomes    = {}\n",
    "for aln in os.listdir('.'):\n",
    "    #\n",
    "    # check if files have the desired extension\n",
    "    if not aln.endswith(aln_extension):\n",
    "        continue\n",
    "    alignment    = AlignIO.read(aln, 'fasta')\n",
    "    genomes[aln] = set()\n",
    "    for entry in alignment:\n",
    "        genome = entry.name\n",
    "\n",
    "        if genome in genomes[aln]:\n",
    "            #print ('\\t**Error, duplicated genome in %s: %s' %(aln, genome))\n",
    "            sys.exit('\\t**Error, duplicated genome in %s: %s' %(aln, genome))\n",
    "            break\n",
    "        genomes[aln].add(genome)"
   ]
  },
  {
   "cell_type": "code",
   "execution_count": null,
   "metadata": {},
   "outputs": [],
   "source": [
    "genome_union  = set.union(*genomes.values())\n",
    "missing_genes = {} # just to keep track of the number of missing marker genes in each genome\n",
    "concatenation = {}\n",
    "for genome in genome_union:\n",
    "    missing_genes[genome]             = 0\n",
    "    concatenation[genome]             = Align.SeqRecord( Align.Seq('', aln_alphabet) )\n",
    "    concatenation[genome].name        = genome\n",
    "    concatenation[genome].id          = genome\n",
    "    concatenation[genome].description = genome"
   ]
  },
  {
   "cell_type": "code",
   "execution_count": null,
   "metadata": {},
   "outputs": [],
   "source": [
    "#\n",
    "# fill the handles with the marker sequences from each genome\n",
    "total_genes      = 0.0 # keep track of the number of genes added to the concatenation\n",
    "current_position = 1\n",
    "partitions       = open('concatenated_partitions', 'w')\n",
    "for aln in os.listdir('.'):\n",
    "    if not aln.endswith(aln_extension):\n",
    "        continue\n",
    "    \n",
    "    print(aln.replace(aln_extension, ''))\n",
    "    tmp_aln      = AlignIO.read(aln, 'fasta' )\n",
    "    aln_length   = tmp_aln.get_alignment_length() # get the expected size of the alignment so you can \n",
    "                                                  #   compare if all have the same size\n",
    "    total_genes += aln_length\n",
    "\n",
    "    for entry in tmp_aln:\n",
    "        # if this alignment has a different size from the rest, something is reaaaaaly wrong!\n",
    "        if len(entry) != aln_length:\n",
    "            sys.exit('\\t**Error, block \"%s\" has a different length than the rest of the MSA: %s' % \n",
    "                     (entry.name, aln))\n",
    "\n",
    "        genome = entry.name\n",
    "        concatenation[genome] += deepcopy(entry.seq)\n",
    "\n",
    "    partitions.write('LG, %s = %i-%i\\n' %\n",
    "                     (aln.replace(aln_extension, ''), current_position, current_position+aln_length-1) )\n",
    "    current_position += aln_length\n",
    "\n",
    "    #\n",
    "    # add gaps for those genomes missing this gene (same size as the expected alignment)\n",
    "    for genome in genome_union.difference(genomes[aln]):\n",
    "        concatenation[genome] += Align.Seq( '-' * aln_length, aln_alphabet )\n",
    "        missing_genes[genome] += aln_length\n",
    "partitions.close()"
   ]
  },
  {
   "cell_type": "code",
   "execution_count": null,
   "metadata": {
    "scrolled": true
   },
   "outputs": [],
   "source": [
    "#\n",
    "# remove genomes missing more than 20% of the marker genes\n",
    "counter = 0\n",
    "for genome, num_missing_genes in missing_genes.items():\n",
    "    if num_missing_genes/total_genes > 0.8:\n",
    "        print('\\t\\t**%s: missing %.2f%% from concatenated alignment!' %(genome, (num_missing_genes/total_genes)*100))\n",
    "        counter += 1\n",
    "\n",
    "print('%i genomes missing more than 10%%' %counter)"
   ]
  },
  {
   "cell_type": "code",
   "execution_count": null,
   "metadata": {},
   "outputs": [],
   "source": [
    "AlignIO.write(Align.MultipleSeqAlignment(concatenation.values() ), 'concatenated_alignment.aln', 'fasta')"
   ]
  }
 ],
 "metadata": {
  "kernelspec": {
   "display_name": "Python 3",
   "language": "python",
   "name": "python3"
  },
  "language_info": {
   "codemirror_mode": {
    "name": "ipython",
    "version": 3
   },
   "file_extension": ".py",
   "mimetype": "text/x-python",
   "name": "python",
   "nbconvert_exporter": "python",
   "pygments_lexer": "ipython3",
   "version": "3.7.1"
  }
 },
 "nbformat": 4,
 "nbformat_minor": 2
}
